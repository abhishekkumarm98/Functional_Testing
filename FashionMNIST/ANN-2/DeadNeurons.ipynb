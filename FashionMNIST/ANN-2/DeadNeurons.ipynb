{
  "cells": [
    {
      "cell_type": "code",
      "execution_count": null,
      "metadata": {
        "id": "Mj8Vf9hIs9I6"
      },
      "outputs": [],
      "source": [
        "from google.colab import drive\n",
        "drive.mount('/content/drive')"
      ]
    },
    {
      "cell_type": "code",
      "execution_count": null,
      "metadata": {
        "id": "znaoCWQ6s-C5"
      },
      "outputs": [],
      "source": [
        "cd drive/MyDrive/Research1_code/"
      ]
    },
    {
      "cell_type": "code",
      "source": [
        "cd FashionMNIST/ANN-2"
      ],
      "metadata": {
        "id": "syuHgaJJFuBA"
      },
      "execution_count": null,
      "outputs": []
    },
    {
      "cell_type": "code",
      "execution_count": 6,
      "metadata": {
        "id": "7GjZ6db0s6sS"
      },
      "outputs": [],
      "source": [
        "import numpy as np\n",
        "import sys, os, random\n",
        "import matplotlib.pyplot as plt\n",
        "import pickle, gzip\n",
        "from tqdm import tqdm,tqdm_notebook\n",
        "import torch\n",
        "import torchvision\n",
        "from torch import nn\n",
        "from torch.autograd import Variable\n",
        "import torch.optim as optim\n",
        "import torch.nn.functional as F\n",
        "from torchvision import datasets, transforms\n",
        "from torch.utils.data import Dataset, DataLoader\n",
        "from torch.utils.data.sampler import SubsetRandomSampler"
      ]
    },
    {
      "cell_type": "code",
      "execution_count": 7,
      "metadata": {
        "id": "nsdPOAoGs516"
      },
      "outputs": [],
      "source": [
        "batch_size = 128\n",
        "seed_num = 81\n",
        "\n",
        "# For reproducibility when you run the file with .py\n",
        "torch.cuda.is_available()\n",
        "torch.manual_seed(seed_num)\n",
        "torch.cuda.manual_seed(seed_num)\n",
        "np.random.seed(seed_num)\n",
        "random.seed(seed_num)\n",
        "torch.backends.cudnn.benchmark = True\n",
        "\n",
        "torch.backends.cudnn.deterministic =True"
      ]
    },
    {
      "cell_type": "code",
      "execution_count": 8,
      "metadata": {
        "id": "KRVeJN-Ys517"
      },
      "outputs": [],
      "source": [
        "# Data Augmentation \n",
        "train_transform = transforms.Compose([transforms.RandomRotation(30), transforms.RandomHorizontalFlip(),transforms.ToTensor(),transforms.Normalize([0.2860,],[0.3205,])])\n",
        "test_transform = transforms.Compose([transforms.ToTensor(),transforms.Normalize([0.2860,],[0.3205,])])\n",
        "\n",
        "# Splitting the training and test datasets\n",
        "train_data = datasets.FashionMNIST(os.getcwd(), train=True,\n",
        "                              download=True, transform=train_transform)\n",
        "test_data = datasets.FashionMNIST(os.getcwd(), train=False,\n",
        "                             download=True, transform=test_transform)"
      ]
    },
    {
      "cell_type": "code",
      "execution_count": 9,
      "metadata": {
        "id": "OU064Mmps517"
      },
      "outputs": [],
      "source": [
        "# Split the training set indices into training and validation set indices using 80:20 ratio\n",
        "np.random.seed(seed_num)\n",
        "len_trainset = len(train_data)\n",
        "index_list = list(range(len_trainset))\n",
        "np.random.shuffle(index_list)\n",
        "split_index = 50000\n",
        "train_indices, valid_indices =  index_list[:split_index], index_list[split_index:]\n",
        "\n",
        "# Creating Samplers for training and validation set using the indices\n",
        "np.random.seed(seed_num)\n",
        "train_sampler = SubsetRandomSampler(train_indices)\n",
        "valid_sampler = SubsetRandomSampler(valid_indices)\n",
        "\n",
        "torch.manual_seed(seed_num)\n",
        "\n",
        "train_iterator = DataLoader(train_data, batch_size=batch_size, sampler=train_sampler)\n",
        "val_iterator = DataLoader(train_data, batch_size=batch_size, sampler=valid_sampler)\n",
        "test_iterator = DataLoader(test_data, batch_size=batch_size, shuffle=True)"
      ]
    },
    {
      "cell_type": "code",
      "execution_count": 10,
      "metadata": {
        "id": "xIEh83xn8XKP"
      },
      "outputs": [],
      "source": [
        "# 2-Layers ANN model\n",
        "\n",
        "class MLP(nn.Module):\n",
        "    def __init__(self, units):\n",
        "        super(MLP, self).__init__()\n",
        "        self.flatten = nn.Flatten()\n",
        "        self.linear1 = nn.Linear(784,units, bias=True)\n",
        "        self.linear2 = nn.Linear(units,10,bias=True)\n",
        "    \n",
        "    def forward(self,X):\n",
        "        X = self.flatten(X)\n",
        "        X = F.relu(self.linear1(X))\n",
        "        X = self.linear2(X)\n",
        "        return X"
      ]
    },
    {
      "cell_type": "code",
      "execution_count": 11,
      "metadata": {
        "id": "N6KFhL7U8XKS",
        "colab": {
          "base_uri": "https://localhost:8080/"
        },
        "outputId": "afb55cee-ce0e-4980-da54-1370ee34cb7b"
      },
      "outputs": [
        {
          "output_type": "stream",
          "name": "stdout",
          "text": [
            "Model:\n",
            " MLP(\n",
            "  (flatten): Flatten(start_dim=1, end_dim=-1)\n",
            "  (linear1): Linear(in_features=784, out_features=128, bias=True)\n",
            "  (linear2): Linear(in_features=128, out_features=10, bias=True)\n",
            ")\n"
          ]
        }
      ],
      "source": [
        "torch.manual_seed(seed_num)\n",
        "unit=128\n",
        "\n",
        "# Summary\n",
        "model = MLP(unit).cuda()\n",
        "print(\"Model:\\n\",model)"
      ]
    },
    {
      "cell_type": "code",
      "source": [
        "# Layer names\n",
        "layer_name = [n for n, p in model.named_parameters()]\n",
        "layer_name"
      ],
      "metadata": {
        "colab": {
          "base_uri": "https://localhost:8080/"
        },
        "id": "W_SXinXBgxYY",
        "outputId": "37360380-5672-4470-eb3e-a0aa30632efa"
      },
      "execution_count": 12,
      "outputs": [
        {
          "output_type": "execute_result",
          "data": {
            "text/plain": [
              "['linear1.weight', 'linear1.bias', 'linear2.weight', 'linear2.bias']"
            ]
          },
          "metadata": {},
          "execution_count": 12
        }
      ]
    },
    {
      "cell_type": "code",
      "execution_count": 13,
      "metadata": {
        "id": "nyCQD4zl8XKT",
        "outputId": "174d8c78-5f6a-4ccd-a59e-6de66248ba97",
        "colab": {
          "base_uri": "https://localhost:8080/"
        }
      },
      "outputs": [
        {
          "output_type": "stream",
          "name": "stdout",
          "text": [
            "Loading weights done !\n",
            "linear1.weight tensor(1519, device='cuda:0')\n",
            "linear1.bias tensor(63, device='cuda:0')\n",
            "linear2.weight tensor(391, device='cuda:0')\n",
            "linear2.bias tensor(8, device='cuda:0')\n",
            "Total Parameters: tensor(1981, device='cuda:0') \n",
            "\n"
          ]
        }
      ],
      "source": [
        "# Loading the weights of ternary model \n",
        "model = torch.load('ANN_2_Quant.pt')\n",
        "model = model.cuda()\n",
        "\n",
        "print(\"Loading weights done !\")\n",
        "\n",
        "# Total number of ternary weights (+w, -w)\n",
        "totalParams = 0\n",
        "for i in layer_name:\n",
        "  print(i,(model.state_dict()[i] !=0).sum())\n",
        "  totalParams +=  (model.state_dict()[i] !=0).sum()\n",
        "    \n",
        "print(\"Total Parameters:\",totalParams, '\\n')"
      ]
    },
    {
      "cell_type": "code",
      "execution_count": 14,
      "metadata": {
        "id": "pdjq7VQj8XKV",
        "outputId": "ab506ab6-4a04-49b4-fa12-b56ab2c297b5",
        "colab": {
          "base_uri": "https://localhost:8080/"
        }
      },
      "outputs": [
        {
          "output_type": "stream",
          "name": "stdout",
          "text": [
            "Number Of Images Tested = 10000\n",
            "\n",
            "Model Test Accuracy = 0.7201\n"
          ]
        }
      ],
      "source": [
        "# Model's performance on test set\n",
        "\n",
        "correct_count, all_count = 0,0\n",
        "model.eval()\n",
        "for images,labels in test_iterator:\n",
        "  for image,label in zip(images,labels):\n",
        "    if torch.cuda.is_available():\n",
        "        img = image.cuda()\n",
        "        lab = label.cuda()\n",
        "    \n",
        "    with torch.no_grad():\n",
        "        output_ = model(img)\n",
        "\n",
        "    pred_label = output_.argmax()\n",
        "\n",
        "    if(pred_label.item()==lab.item()):\n",
        "      correct_count += 1\n",
        "    all_count += 1\n",
        "\n",
        "print(\"Number Of Images Tested =\", all_count)\n",
        "print(\"\\nModel Test Accuracy =\", (correct_count/all_count))"
      ]
    },
    {
      "cell_type": "code",
      "execution_count": 15,
      "metadata": {
        "id": "MLz8C9_j8XKW",
        "outputId": "262fb487-89a6-4e9a-c132-4ef579acf229",
        "colab": {
          "base_uri": "https://localhost:8080/"
        }
      },
      "outputs": [
        {
          "output_type": "stream",
          "name": "stdout",
          "text": [
            "linear1.weight hidden layer dimension torch.Size([128, 784])\n",
            "Unique values of weight in linear1.weight th hidden layer :  tensor([-1.,  0.,  1.], device='cuda:0')\n",
            "\n",
            "linear1.bias hidden layer dimension torch.Size([128])\n",
            "Unique values of weight in linear1.bias th hidden layer :  tensor([-1.,  0.,  1.], device='cuda:0')\n",
            "\n",
            "linear2.weight hidden layer dimension torch.Size([10, 128])\n",
            "Unique values of weight in linear2.weight th hidden layer :  tensor([-1.,  0.,  1.], device='cuda:0')\n",
            "\n",
            "linear2.bias hidden layer dimension torch.Size([10])\n",
            "Unique values of weight in linear2.bias th hidden layer :  tensor([-1.,  0.,  1.], device='cuda:0')\n",
            "\n"
          ]
        }
      ],
      "source": [
        "# For each layer, model's ternary weights\n",
        "state_dict = model.state_dict()\n",
        "\n",
        "layer_distinct_weights = {}\n",
        "\n",
        "for i in layer_name:\n",
        "  imd = torch.unique(model.state_dict()[i])\n",
        "  print(i+ ' hidden layer dimension', model.state_dict()[i].shape)\n",
        "  print(\"Unique values of weight in \"+ i+ \" th hidden layer : \", imd)\n",
        "  layer_distinct_weights[i] = imd.cpu().numpy().tolist()\n",
        "  print()"
      ]
    },
    {
      "cell_type": "code",
      "execution_count": 16,
      "metadata": {
        "id": "2b2AUdPD8XKX",
        "outputId": "e3f833c3-3925-4c88-ff4e-e1becdece466",
        "colab": {
          "base_uri": "https://localhost:8080/"
        }
      },
      "outputs": [
        {
          "output_type": "stream",
          "name": "stdout",
          "text": [
            "['linear1.bias', 'linear1.weight', 'linear2.bias', 'linear2.weight']\n"
          ]
        }
      ],
      "source": [
        "keys = list(state_dict.keys())\n",
        "print(keys)"
      ]
    },
    {
      "cell_type": "code",
      "source": [
        "# Duplicate architecture of the model\n",
        "\n",
        "class MLP1(nn.Module):\n",
        "    def __init__(self, units, dn_info):\n",
        "        super(MLP1, self).__init__()\n",
        "        self.dn_info = dn_info       # Dead Neuron info\n",
        "        self.flatten = nn.Flatten()\n",
        "        self.linear1 = nn.Linear(784,units, bias=True)\n",
        "        self.linear2 = nn.Linear(units,10,bias=True)\n",
        "    \n",
        "    def forward(self,X):\n",
        "\n",
        "        X = self.flatten(X)\n",
        "        X = F.relu(self.linear1(X))\n",
        "\n",
        "        ####################################\n",
        "        # Storing dead neurons indices\n",
        "        idx1 = torch.where(X.cpu() == 0.)[1]\n",
        "        \n",
        "        for j in idx1:\n",
        "            self.dn_info[str(j.item())] += 1\n",
        "            \n",
        "        #####################################\n",
        "\n",
        "        X = self.linear2(X)\n",
        "        return X"
      ],
      "metadata": {
        "id": "lxMYiCG3J2Zz"
      },
      "execution_count": 17,
      "outputs": []
    },
    {
      "cell_type": "code",
      "source": [
        "def getDeadN_info(dn_info, unit, state_dict, ds, nameOftheSet):\n",
        "\n",
        "  for i in range(unit):\n",
        "      dn_info[str(i)] = 0\n",
        "      \n",
        "\n",
        "  model1 = MLP1(unit, dn_info)\n",
        "  model1 = model1.cuda()\n",
        "\n",
        "  model1.load_state_dict(state_dict)\n",
        "\n",
        "  correct_count, all_count = 0, 0\n",
        "  model1.eval()\n",
        "\n",
        "  for images,labels in ds:\n",
        "        for image,label in zip(images,labels):\n",
        "\n",
        "          if torch.cuda.is_available():\n",
        "              img = image.cuda()\n",
        "              lab = label.cuda()\n",
        "              img = img[None,].type('torch.cuda.FloatTensor')\n",
        "\n",
        "          with torch.no_grad():\n",
        "              output_ = model1(img) \n",
        "\n",
        "          pred_label = output_.argmax()\n",
        "\n",
        "          if(pred_label.item()==lab.item()):\n",
        "            correct_count += 1\n",
        "          all_count += 1\n",
        "\n",
        "  print(\"Number Of Images =\", all_count)\n",
        "  print(f\"Model {nameOftheSet} Accuracy =\", (correct_count/(all_count)))"
      ],
      "metadata": {
        "id": "LZaOzYb3nnFj"
      },
      "execution_count": 18,
      "outputs": []
    },
    {
      "cell_type": "code",
      "execution_count": 19,
      "metadata": {
        "id": "RwBSskNQ8XKh",
        "outputId": "cfb9f224-5056-4fff-d212-71c9b1364895",
        "colab": {
          "base_uri": "https://localhost:8080/"
        }
      },
      "outputs": [
        {
          "output_type": "stream",
          "name": "stdout",
          "text": [
            "Number Of Images = 50000\n",
            "Model Training Accuracy = 0.73812\n",
            "Number Of Images = 10000\n",
            "Model Validation Accuracy = 0.7374\n",
            "Number Of Images = 10000\n",
            "Model Test Accuracy = 0.7201\n"
          ]
        }
      ],
      "source": [
        "dn_info_train = {}\n",
        "dn_info_val = {}\n",
        "dn_info_test = {}\n",
        "\n",
        "getDeadN_info(dn_info= dn_info_train, unit = unit, state_dict = state_dict, ds= train_iterator, nameOftheSet = \"Training\")\n",
        "getDeadN_info(dn_info= dn_info_val, unit = unit, state_dict = state_dict, ds= val_iterator, nameOftheSet = \"Validation\")\n",
        "getDeadN_info(dn_info= dn_info_test, unit = unit, state_dict = state_dict, ds= test_iterator, nameOftheSet = \"Test\")"
      ]
    },
    {
      "cell_type": "code",
      "execution_count": 20,
      "metadata": {
        "id": "bfjmgUpk8XKi",
        "outputId": "411f83e5-f5a5-4f52-b49e-1b4b59bc6685",
        "colab": {
          "base_uri": "https://localhost:8080/"
        }
      },
      "outputs": [
        {
          "output_type": "execute_result",
          "data": {
            "text/plain": [
              "(50000, 10000, 10000)"
            ]
          },
          "metadata": {},
          "execution_count": 20
        }
      ],
      "source": [
        "max_dn_val = max(dn_info_val.values())\n",
        "max_dn_test = max(dn_info_test.values())\n",
        "max_dn_train = max(dn_info_train.values())\n",
        "max_dn_train, max_dn_val, max_dn_test"
      ]
    },
    {
      "cell_type": "code",
      "execution_count": 21,
      "metadata": {
        "id": "JPwL725Y8XKj"
      },
      "outputs": [],
      "source": [
        "dead_n_idx = [] \n",
        "\n",
        "for i, j in dn_info_train.items():\n",
        "  if j == max_dn_train:\n",
        "    dead_n_idx.append(i)"
      ]
    },
    {
      "cell_type": "code",
      "execution_count": 22,
      "metadata": {
        "id": "qu3zF9uq8XKj",
        "outputId": "cdbf973b-f2e5-4576-e160-48dccf9d9a1d",
        "colab": {
          "base_uri": "https://localhost:8080/"
        }
      },
      "outputs": [
        {
          "output_type": "stream",
          "name": "stdout",
          "text": [
            "FC Layer : 8\n"
          ]
        }
      ],
      "source": [
        "print(\"FC Layer :\",len(dead_n_idx)) # Number of neurons that are dead"
      ]
    },
    {
      "cell_type": "code",
      "execution_count": 23,
      "metadata": {
        "id": "blZi36Ca8XKq",
        "outputId": "a8857d16-f075-4d2e-d0e9-236215d23411",
        "colab": {
          "base_uri": "https://localhost:8080/"
        }
      },
      "outputs": [
        {
          "output_type": "stream",
          "name": "stdout",
          "text": [
            "['59', '63', '69', '89', '96', '97', '102', '125']\n"
          ]
        }
      ],
      "source": [
        "print(dead_n_idx) # Indices of neuron that are dead"
      ]
    },
    {
      "cell_type": "code",
      "execution_count": 24,
      "metadata": {
        "id": "yb8LRo2Q8XKt"
      },
      "outputs": [],
      "source": [
        "state_dict1 = state_dict"
      ]
    },
    {
      "cell_type": "code",
      "source": [
        "layer_distinct_weights"
      ],
      "metadata": {
        "colab": {
          "base_uri": "https://localhost:8080/"
        },
        "id": "Se4SLLRRJhWT",
        "outputId": "47c5b443-6f3b-42ef-f7f6-c87079386bc5"
      },
      "execution_count": 25,
      "outputs": [
        {
          "output_type": "execute_result",
          "data": {
            "text/plain": [
              "{'linear1.bias': [-1.0, 0.0, 1.0],\n",
              " 'linear1.weight': [-1.0, 0.0, 1.0],\n",
              " 'linear2.bias': [-1.0, 0.0, 1.0],\n",
              " 'linear2.weight': [-1.0, 0.0, 1.0]}"
            ]
          },
          "metadata": {},
          "execution_count": 25
        }
      ]
    },
    {
      "cell_type": "code",
      "execution_count": 26,
      "metadata": {
        "id": "DNXNxCFs8XKx",
        "outputId": "4cc602b3-9009-44b9-9482-ce6719e7f8b8",
        "colab": {
          "base_uri": "https://localhost:8080/"
        }
      },
      "outputs": [
        {
          "output_type": "stream",
          "name": "stdout",
          "text": [
            "linear2.weight\n",
            "Total dead transitions for the output layer : 2\n"
          ]
        }
      ],
      "source": [
        "total_trans = 0\n",
        "layers_name = ['linear2.weight']\n",
        "\n",
        "for l in layers_name:\n",
        "  print(l)\n",
        "  z = state_dict1[l]\n",
        "\n",
        "  if len(layer_distinct_weights[l]) > 2 :\n",
        "    w_neg, w_0, w_pos =  layer_distinct_weights[l]\n",
        "  else:\n",
        "    w_neg, w_pos = layer_distinct_weights[l]\n",
        "\n",
        "  for idx in dead_n_idx:\n",
        "      imd = z[:,eval(idx)]\n",
        "      trans = torch.where(imd == w_neg)[0].nelement() + torch.where(imd == w_pos)[0].nelement()\n",
        "      total_trans += trans * 2\n",
        "    \n",
        "print(\"Total dead transitions for the output layer :\", total_trans)\n",
        "    \n",
        "    "
      ]
    },
    {
      "cell_type": "code",
      "execution_count": null,
      "metadata": {
        "id": "E64pYeIW8XK0"
      },
      "outputs": [],
      "source": [
        "# Fault coverage that we have obtained from main file : 3806 / 3962"
      ]
    },
    {
      "cell_type": "code",
      "execution_count": 27,
      "metadata": {
        "id": "xAK4Mddws52K",
        "colab": {
          "base_uri": "https://localhost:8080/"
        },
        "outputId": "87183f1c-aff8-48c3-8698-dd6290444d80"
      },
      "outputs": [
        {
          "output_type": "execute_result",
          "data": {
            "text/plain": [
              "0.9611307420494699"
            ]
          },
          "metadata": {},
          "execution_count": 27
        }
      ],
      "source": [
        "# Adding more 2 transitions to the numerator will make the net fault coverage\n",
        "(3806 + 2)/3962"
      ]
    },
    {
      "cell_type": "code",
      "source": [
        ""
      ],
      "metadata": {
        "id": "RtzUQuw3QPpl"
      },
      "execution_count": null,
      "outputs": []
    }
  ],
  "metadata": {
    "accelerator": "GPU",
    "colab": {
      "collapsed_sections": [],
      "name": "DeadNeurons.ipynb",
      "provenance": []
    },
    "kernelspec": {
      "display_name": "Python 3",
      "language": "python",
      "name": "python3"
    },
    "language_info": {
      "codemirror_mode": {
        "name": "ipython",
        "version": 3
      },
      "file_extension": ".py",
      "mimetype": "text/x-python",
      "name": "python",
      "nbconvert_exporter": "python",
      "pygments_lexer": "ipython3",
      "version": "3.8.5"
    }
  },
  "nbformat": 4,
  "nbformat_minor": 0
}