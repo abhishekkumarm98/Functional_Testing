{
  "cells": [
    {
      "cell_type": "code",
      "execution_count": null,
      "metadata": {
        "id": "Mj8Vf9hIs9I6"
      },
      "outputs": [],
      "source": [
        "from google.colab import drive\n",
        "drive.mount('/content/drive')"
      ]
    },
    {
      "cell_type": "code",
      "execution_count": null,
      "metadata": {
        "id": "znaoCWQ6s-C5"
      },
      "outputs": [],
      "source": [
        "cd drive/MyDrive/Research1_code/"
      ]
    },
    {
      "cell_type": "code",
      "source": [
        "cd FashionMNIST/ANN-3"
      ],
      "metadata": {
        "id": "syuHgaJJFuBA"
      },
      "execution_count": null,
      "outputs": []
    },
    {
      "cell_type": "code",
      "execution_count": 4,
      "metadata": {
        "id": "7GjZ6db0s6sS"
      },
      "outputs": [],
      "source": [
        "import numpy as np\n",
        "import sys, os, random\n",
        "import matplotlib.pyplot as plt\n",
        "import pickle, gzip\n",
        "from tqdm import tqdm,tqdm_notebook\n",
        "import torch\n",
        "import torchvision\n",
        "from torch import nn\n",
        "from torch.autograd import Variable\n",
        "import torch.optim as optim\n",
        "import torch.nn.functional as F\n",
        "from torchvision import datasets, transforms\n",
        "from torch.utils.data import Dataset, DataLoader\n",
        "from torch.utils.data.sampler import SubsetRandomSampler"
      ]
    },
    {
      "cell_type": "code",
      "execution_count": 5,
      "metadata": {
        "id": "nsdPOAoGs516"
      },
      "outputs": [],
      "source": [
        "batch_size = 128\n",
        "seed_num = 81\n",
        "\n",
        "# For reproducibility when you run the file with .py\n",
        "torch.cuda.is_available()\n",
        "torch.manual_seed(seed_num)\n",
        "torch.cuda.manual_seed(seed_num)\n",
        "np.random.seed(seed_num)\n",
        "random.seed(seed_num)\n",
        "torch.backends.cudnn.benchmark = True\n",
        "\n",
        "torch.backends.cudnn.deterministic =True"
      ]
    },
    {
      "cell_type": "code",
      "execution_count": 6,
      "metadata": {
        "id": "KRVeJN-Ys517"
      },
      "outputs": [],
      "source": [
        "# Data Augmentation \n",
        "train_transform = transforms.Compose([transforms.RandomRotation(30), transforms.RandomHorizontalFlip(),transforms.ToTensor(),transforms.Normalize([0.2860,],[0.3205,])])\n",
        "test_transform = transforms.Compose([transforms.ToTensor(),transforms.Normalize([0.2860,],[0.3205,])])\n",
        "\n",
        "# Splitting the training and test datasets\n",
        "train_data = datasets.FashionMNIST(os.getcwd(), train=True,\n",
        "                              download=True, transform=train_transform)\n",
        "test_data = datasets.FashionMNIST(os.getcwd(), train=False,\n",
        "                             download=True, transform=test_transform)"
      ]
    },
    {
      "cell_type": "code",
      "execution_count": 7,
      "metadata": {
        "id": "OU064Mmps517"
      },
      "outputs": [],
      "source": [
        "# Split the training set indices into training and validation set indices using 80:20 ratio\n",
        "np.random.seed(seed_num)\n",
        "len_trainset = len(train_data)\n",
        "index_list = list(range(len_trainset))\n",
        "np.random.shuffle(index_list)\n",
        "split_index = 50000\n",
        "train_indices, valid_indices =  index_list[:split_index], index_list[split_index:]\n",
        "\n",
        "# Creating Samplers for training and validation set using the indices\n",
        "np.random.seed(seed_num)\n",
        "train_sampler = SubsetRandomSampler(train_indices)\n",
        "valid_sampler = SubsetRandomSampler(valid_indices)\n",
        "\n",
        "torch.manual_seed(seed_num)\n",
        "\n",
        "train_iterator = DataLoader(train_data, batch_size=batch_size, sampler=train_sampler)\n",
        "val_iterator = DataLoader(train_data, batch_size=batch_size, sampler=valid_sampler)\n",
        "test_iterator = DataLoader(test_data, batch_size=batch_size, shuffle=True)"
      ]
    },
    {
      "cell_type": "code",
      "execution_count": 8,
      "metadata": {
        "id": "xIEh83xn8XKP"
      },
      "outputs": [],
      "source": [
        "# 3-Layers ANN model\n",
        "\n",
        "class MLP(nn.Module):\n",
        "    def __init__(self, units):\n",
        "        super(MLP, self).__init__()\n",
        "        self.flatten = nn.Flatten()\n",
        "        self.linear1 = nn.Linear(784,units, bias=True)\n",
        "        self.linear2 = nn.Linear(units,units, bias=True)\n",
        "        self.linear3 = nn.Linear(units,10,bias=True)\n",
        "    \n",
        "    def forward(self,X):\n",
        "        X = self.flatten(X)\n",
        "        X = F.relu(self.linear1(X))\n",
        "        X = F.relu(self.linear2(X))\n",
        "        X = self.linear3(X)\n",
        "        return X"
      ]
    },
    {
      "cell_type": "code",
      "execution_count": 9,
      "metadata": {
        "id": "N6KFhL7U8XKS",
        "colab": {
          "base_uri": "https://localhost:8080/"
        },
        "outputId": "6a33c7b5-da81-4209-bc30-fef8cf0ee581"
      },
      "outputs": [
        {
          "output_type": "stream",
          "name": "stdout",
          "text": [
            "Model:\n",
            " MLP(\n",
            "  (flatten): Flatten(start_dim=1, end_dim=-1)\n",
            "  (linear1): Linear(in_features=784, out_features=128, bias=True)\n",
            "  (linear2): Linear(in_features=128, out_features=128, bias=True)\n",
            "  (linear3): Linear(in_features=128, out_features=10, bias=True)\n",
            ")\n"
          ]
        }
      ],
      "source": [
        "torch.manual_seed(seed_num)\n",
        "unit=128\n",
        "\n",
        "# Summary\n",
        "model = MLP(unit).cuda()\n",
        "print(\"Model:\\n\",model)"
      ]
    },
    {
      "cell_type": "code",
      "source": [
        "# Layer names\n",
        "layer_name = [n for n, p in model.named_parameters()]\n",
        "layer_name"
      ],
      "metadata": {
        "colab": {
          "base_uri": "https://localhost:8080/"
        },
        "id": "W_SXinXBgxYY",
        "outputId": "f8371669-04b3-4dc1-b30e-83907f1ec2f3"
      },
      "execution_count": 10,
      "outputs": [
        {
          "output_type": "execute_result",
          "data": {
            "text/plain": [
              "['linear1.weight',\n",
              " 'linear1.bias',\n",
              " 'linear2.weight',\n",
              " 'linear2.bias',\n",
              " 'linear3.weight',\n",
              " 'linear3.bias']"
            ]
          },
          "metadata": {},
          "execution_count": 10
        }
      ]
    },
    {
      "cell_type": "code",
      "execution_count": 11,
      "metadata": {
        "id": "nyCQD4zl8XKT",
        "outputId": "2385550c-0f3c-4bde-c3c8-588339cffc1a",
        "colab": {
          "base_uri": "https://localhost:8080/"
        }
      },
      "outputs": [
        {
          "output_type": "stream",
          "name": "stdout",
          "text": [
            "Loading weights done !\n",
            "linear1.weight tensor(860, device='cuda:0')\n",
            "linear1.bias tensor(52, device='cuda:0')\n",
            "linear2.weight tensor(587, device='cuda:0')\n",
            "linear2.bias tensor(55, device='cuda:0')\n",
            "linear3.weight tensor(469, device='cuda:0')\n",
            "linear3.bias tensor(6, device='cuda:0')\n",
            "Total Parameters: tensor(2029, device='cuda:0') \n",
            "\n"
          ]
        }
      ],
      "source": [
        "# Loading the weights of ternary model \n",
        "model = torch.load('ANN_3_Quant.pt')\n",
        "model = model.cuda()\n",
        "print(\"Loading weights done !\")\n",
        "\n",
        "# Total number of ternary weights (+w, -w)\n",
        "totalParams = 0\n",
        "for i in layer_name:\n",
        "  print(i,(model.state_dict()[i] !=0).sum())\n",
        "  totalParams +=  (model.state_dict()[i] !=0).sum()\n",
        "    \n",
        "print(\"Total Parameters:\",totalParams, '\\n')"
      ]
    },
    {
      "cell_type": "code",
      "execution_count": 12,
      "metadata": {
        "id": "pdjq7VQj8XKV",
        "outputId": "3e27f05f-811f-48dd-8a54-427c9a4e848d",
        "colab": {
          "base_uri": "https://localhost:8080/"
        }
      },
      "outputs": [
        {
          "output_type": "stream",
          "name": "stdout",
          "text": [
            "Number Of Images Tested = 10000\n",
            "\n",
            "Model Test Accuracy = 0.6911\n"
          ]
        }
      ],
      "source": [
        "# Model's performance on test set\n",
        "\n",
        "correct_count, all_count = 0,0\n",
        "model.eval()\n",
        "for images,labels in test_iterator:\n",
        "  for image,label in zip(images,labels):\n",
        "    if torch.cuda.is_available():\n",
        "        img = image.cuda()\n",
        "        lab = label.cuda()\n",
        "    \n",
        "    with torch.no_grad():\n",
        "        output_ = model(img)\n",
        "\n",
        "    pred_label = output_.argmax()\n",
        "\n",
        "    if(pred_label.item()==lab.item()):\n",
        "      correct_count += 1\n",
        "    all_count += 1\n",
        "\n",
        "print(\"Number Of Images Tested =\", all_count)\n",
        "print(\"\\nModel Test Accuracy =\", (correct_count/all_count))"
      ]
    },
    {
      "cell_type": "code",
      "execution_count": 13,
      "metadata": {
        "id": "MLz8C9_j8XKW",
        "outputId": "36e64f47-c469-44b1-bf1b-99a64c8f1e6a",
        "colab": {
          "base_uri": "https://localhost:8080/"
        }
      },
      "outputs": [
        {
          "output_type": "stream",
          "name": "stdout",
          "text": [
            "linear1.weight hidden layer dimension torch.Size([128, 784])\n",
            "Unique values of weight in linear1.weight th hidden layer :  tensor([-1.,  0.,  1.], device='cuda:0')\n",
            "\n",
            "linear1.bias hidden layer dimension torch.Size([128])\n",
            "Unique values of weight in linear1.bias th hidden layer :  tensor([-1.,  0.,  1.], device='cuda:0')\n",
            "\n",
            "linear2.weight hidden layer dimension torch.Size([128, 128])\n",
            "Unique values of weight in linear2.weight th hidden layer :  tensor([-1.,  0.,  1.], device='cuda:0')\n",
            "\n",
            "linear2.bias hidden layer dimension torch.Size([128])\n",
            "Unique values of weight in linear2.bias th hidden layer :  tensor([-1.,  0.,  1.], device='cuda:0')\n",
            "\n",
            "linear3.weight hidden layer dimension torch.Size([10, 128])\n",
            "Unique values of weight in linear3.weight th hidden layer :  tensor([-1.,  0.,  1.], device='cuda:0')\n",
            "\n",
            "linear3.bias hidden layer dimension torch.Size([10])\n",
            "Unique values of weight in linear3.bias th hidden layer :  tensor([-1.,  0.,  1.], device='cuda:0')\n",
            "\n"
          ]
        }
      ],
      "source": [
        "# For each layer, model's ternary weights\n",
        "state_dict = model.state_dict()\n",
        "\n",
        "layer_distinct_weights = {}\n",
        "\n",
        "for i in layer_name:\n",
        "  imd = torch.unique(model.state_dict()[i])\n",
        "  print(i+ ' hidden layer dimension', model.state_dict()[i].shape)\n",
        "  print(\"Unique values of weight in \"+ i+ \" th hidden layer : \", imd)\n",
        "  layer_distinct_weights[i] = imd.cpu().numpy().tolist()\n",
        "  print()"
      ]
    },
    {
      "cell_type": "code",
      "execution_count": 14,
      "metadata": {
        "id": "2b2AUdPD8XKX",
        "outputId": "5de692ae-a5c8-4cb6-bd11-449f15f57c5b",
        "colab": {
          "base_uri": "https://localhost:8080/"
        }
      },
      "outputs": [
        {
          "output_type": "stream",
          "name": "stdout",
          "text": [
            "['linear1.bias', 'linear1.weight', 'linear2.bias', 'linear2.weight', 'linear3.bias', 'linear3.weight']\n"
          ]
        }
      ],
      "source": [
        "keys = list(state_dict.keys())\n",
        "print(keys)"
      ]
    },
    {
      "cell_type": "code",
      "source": [
        "# Duplicate architecture of the model\n",
        "\n",
        "class MLP1(nn.Module):\n",
        "    def __init__(self, units, dn_info, dn_info1):\n",
        "        super(MLP1, self).__init__()\n",
        "        self.dn_info = dn_info       # Dead Neuron info for first fc\n",
        "        self.dn_info1 = dn_info1       # Dead Neuron info for second fc\n",
        "        self.flatten = nn.Flatten()\n",
        "        self.linear1 = nn.Linear(784,units, bias=True)\n",
        "        self.linear2 = nn.Linear(units,units, bias=True)\n",
        "        self.linear3 = nn.Linear(units,10,bias=True)\n",
        "    \n",
        "    def forward(self,X):\n",
        "\n",
        "        X = self.flatten(X)\n",
        "        X = F.relu(self.linear1(X))\n",
        "\n",
        "        ####################################\n",
        "        # Storing dead neurons indices\n",
        "        idx1 = torch.where(X.cpu() == 0.)[1]\n",
        "        \n",
        "        for j in idx1:\n",
        "            self.dn_info[str(j.item())] += 1\n",
        "            \n",
        "        #####################################\n",
        "\n",
        "        X = F.relu(self.linear2(X))\n",
        "\n",
        "        ####################################\n",
        "        # Storing dead neurons indices\n",
        "        idx2 = torch.where(X.cpu() == 0.)[1]\n",
        "        \n",
        "        for j in idx2:\n",
        "            self.dn_info1[str(j.item())] += 1\n",
        "            \n",
        "        #####################################\n",
        "\n",
        "        X = self.linear3(X)\n",
        "\n",
        "        return X"
      ],
      "metadata": {
        "id": "lxMYiCG3J2Zz"
      },
      "execution_count": 15,
      "outputs": []
    },
    {
      "cell_type": "code",
      "source": [
        "def getDeadN_info(dn_info, dn_info1, unit, state_dict, ds, nameOftheSet):\n",
        "\n",
        "  for i in range(unit):\n",
        "      dn_info[str(i)] = 0\n",
        "      dn_info1[str(i)] = 0\n",
        "      \n",
        "\n",
        "  model1 = MLP1(unit, dn_info, dn_info1)\n",
        "  model1 = model1.cuda()\n",
        "\n",
        "  model1.load_state_dict(state_dict)\n",
        "\n",
        "  correct_count, all_count = 0, 0\n",
        "  model1.eval()\n",
        "\n",
        "  for images,labels in ds:\n",
        "        for image,label in zip(images,labels):\n",
        "\n",
        "          if torch.cuda.is_available():\n",
        "              img = image.cuda()\n",
        "              lab = label.cuda()\n",
        "              img = img[None,].type('torch.cuda.FloatTensor')\n",
        "\n",
        "          with torch.no_grad():\n",
        "              output_ = model1(img) \n",
        "\n",
        "          pred_label = output_.argmax()\n",
        "\n",
        "          if(pred_label.item()==lab.item()):\n",
        "            correct_count += 1\n",
        "          all_count += 1\n",
        "\n",
        "  print(\"Number Of Images =\", all_count)\n",
        "  print(f\"Model {nameOftheSet} Accuracy =\", (correct_count/(all_count)))"
      ],
      "metadata": {
        "id": "LZaOzYb3nnFj"
      },
      "execution_count": 16,
      "outputs": []
    },
    {
      "cell_type": "code",
      "execution_count": 17,
      "metadata": {
        "id": "RwBSskNQ8XKh",
        "outputId": "31785c18-2e8c-4ae7-cc18-851e912c8482",
        "colab": {
          "base_uri": "https://localhost:8080/"
        }
      },
      "outputs": [
        {
          "output_type": "stream",
          "name": "stdout",
          "text": [
            "Number Of Images = 50000\n",
            "Model Training Accuracy = 0.7012\n",
            "Number Of Images = 10000\n",
            "Model Validation Accuracy = 0.7082\n",
            "Number Of Images = 10000\n",
            "Model Test Accuracy = 0.6911\n"
          ]
        }
      ],
      "source": [
        "dn_info_train = {}\n",
        "dn_info_val = {}\n",
        "dn_info_test = {}\n",
        "\n",
        "dn_info_train1 = {}\n",
        "dn_info_val1 = {}\n",
        "dn_info_test1 = {}\n",
        "\n",
        "getDeadN_info(dn_info= dn_info_train, dn_info1= dn_info_train1, unit = unit, state_dict = state_dict, ds= train_iterator, nameOftheSet = \"Training\")\n",
        "getDeadN_info(dn_info= dn_info_val, dn_info1= dn_info_val1, unit = unit, state_dict = state_dict, ds= val_iterator, nameOftheSet = \"Validation\")\n",
        "getDeadN_info(dn_info= dn_info_test, dn_info1= dn_info_test1, unit = unit, state_dict = state_dict, ds= test_iterator, nameOftheSet = \"Test\")"
      ]
    },
    {
      "cell_type": "code",
      "execution_count": 18,
      "metadata": {
        "id": "bfjmgUpk8XKi",
        "outputId": "71b8d217-122e-445b-9bf1-c81443af5b20",
        "colab": {
          "base_uri": "https://localhost:8080/"
        }
      },
      "outputs": [
        {
          "output_type": "execute_result",
          "data": {
            "text/plain": [
              "(50000, 10000, 10000, 50000, 10000, 10000)"
            ]
          },
          "metadata": {},
          "execution_count": 18
        }
      ],
      "source": [
        "max_dn_val = max(dn_info_val.values())\n",
        "max_dn_test = max(dn_info_test.values())\n",
        "max_dn_train = max(dn_info_train.values())\n",
        "\n",
        "max_dn_val1 = max(dn_info_val1.values())\n",
        "max_dn_test1 = max(dn_info_test1.values())\n",
        "max_dn_train1 = max(dn_info_train1.values())\n",
        "\n",
        "max_dn_train, max_dn_val, max_dn_test, max_dn_train1, max_dn_val1, max_dn_test1"
      ]
    },
    {
      "cell_type": "code",
      "execution_count": 19,
      "metadata": {
        "id": "JPwL725Y8XKj"
      },
      "outputs": [],
      "source": [
        "dead_n_idx = [] \n",
        "\n",
        "for i, j in dn_info_train.items():\n",
        "  if j == max_dn_train:\n",
        "    dead_n_idx.append(i)\n",
        "\n",
        "dead_n_idx1 = [] \n",
        "\n",
        "for i, j in dn_info_train1.items():\n",
        "  if j == max_dn_train1:\n",
        "    dead_n_idx1.append(i)"
      ]
    },
    {
      "cell_type": "code",
      "execution_count": 20,
      "metadata": {
        "id": "qu3zF9uq8XKj",
        "outputId": "ed3211d7-1328-4aa6-925e-f6fbbf3e2f47",
        "colab": {
          "base_uri": "https://localhost:8080/"
        }
      },
      "outputs": [
        {
          "output_type": "stream",
          "name": "stdout",
          "text": [
            "FC1 Layer : 24\n",
            "\n",
            "FC2 Layer : 18\n"
          ]
        }
      ],
      "source": [
        "print(\"FC1 Layer :\",len(dead_n_idx)) # Number of neurons that are dead\n",
        "print()\n",
        "print(\"FC2 Layer :\",len(dead_n_idx1)) # Number of neurons that are dead"
      ]
    },
    {
      "cell_type": "code",
      "execution_count": 21,
      "metadata": {
        "id": "blZi36Ca8XKq",
        "outputId": "6f849f47-2009-43c0-ffad-ab2c49332fd3",
        "colab": {
          "base_uri": "https://localhost:8080/"
        }
      },
      "outputs": [
        {
          "output_type": "stream",
          "name": "stdout",
          "text": [
            "['9', '23', '32', '36', '44', '46', '52', '53', '63', '68', '71', '83', '88', '89', '93', '97', '101', '107', '110', '119', '123', '125', '126', '127']\n",
            "\n",
            "['2', '3', '18', '29', '42', '59', '60', '66', '80', '83', '90', '99', '105', '111', '113', '115', '117', '119']\n"
          ]
        }
      ],
      "source": [
        "print(dead_n_idx) # Indices of neuron that are dead\n",
        "print()\n",
        "print(dead_n_idx1) # Indices of neuron that are dead"
      ]
    },
    {
      "cell_type": "code",
      "execution_count": 22,
      "metadata": {
        "id": "yb8LRo2Q8XKt"
      },
      "outputs": [],
      "source": [
        "state_dict1 = state_dict"
      ]
    },
    {
      "cell_type": "code",
      "source": [
        "layer_distinct_weights"
      ],
      "metadata": {
        "colab": {
          "base_uri": "https://localhost:8080/"
        },
        "id": "Se4SLLRRJhWT",
        "outputId": "84ec57ed-4099-4686-eb28-20ca48dc8beb"
      },
      "execution_count": 23,
      "outputs": [
        {
          "output_type": "execute_result",
          "data": {
            "text/plain": [
              "{'linear1.bias': [-1.0, 0.0, 1.0],\n",
              " 'linear1.weight': [-1.0, 0.0, 1.0],\n",
              " 'linear2.bias': [-1.0, 0.0, 1.0],\n",
              " 'linear2.weight': [-1.0, 0.0, 1.0],\n",
              " 'linear3.bias': [-1.0, 0.0, 1.0],\n",
              " 'linear3.weight': [-1.0, 0.0, 1.0]}"
            ]
          },
          "metadata": {},
          "execution_count": 23
        }
      ]
    },
    {
      "cell_type": "code",
      "source": [
        "for i in layer_distinct_weights.keys():\n",
        "  print(i, state_dict[i].shape)"
      ],
      "metadata": {
        "colab": {
          "base_uri": "https://localhost:8080/"
        },
        "id": "dhPVtYa7XLFB",
        "outputId": "7d156191-bd09-46e1-e967-59f76a18b33a"
      },
      "execution_count": 24,
      "outputs": [
        {
          "output_type": "stream",
          "name": "stdout",
          "text": [
            "linear1.weight torch.Size([128, 784])\n",
            "linear1.bias torch.Size([128])\n",
            "linear2.weight torch.Size([128, 128])\n",
            "linear2.bias torch.Size([128])\n",
            "linear3.weight torch.Size([10, 128])\n",
            "linear3.bias torch.Size([10])\n"
          ]
        }
      ]
    },
    {
      "cell_type": "code",
      "execution_count": 25,
      "metadata": {
        "id": "DNXNxCFs8XKx",
        "outputId": "32eb22dc-8a8c-4154-eee5-7b62a4833ea4",
        "colab": {
          "base_uri": "https://localhost:8080/"
        }
      },
      "outputs": [
        {
          "output_type": "stream",
          "name": "stdout",
          "text": [
            "linear2.weight\n",
            "-1.0 0.0 1.0\n",
            "linear3.weight\n",
            "-1.0 0.0 1.0\n",
            "Total dead transitions for the layer : 40\n"
          ]
        }
      ],
      "source": [
        "total_trans = 0\n",
        "layers_name = ['linear2.weight', 'linear3.weight']\n",
        "\n",
        "n_idx = [dead_n_idx, dead_n_idx1]\n",
        "\n",
        "for ix,l in enumerate(layers_name):\n",
        "  print(l)\n",
        "  z = state_dict1[l]\n",
        "\n",
        "  if len(layer_distinct_weights[l]) > 2 :\n",
        "    w_neg, w_0, w_pos =  layer_distinct_weights[l]\n",
        "    print(w_neg, w_0, w_pos)\n",
        "  else:\n",
        "    w_neg, w_pos = layer_distinct_weights[l]\n",
        "    print(w_neg, w_pos)\n",
        "\n",
        "  for idx in n_idx[ix]:\n",
        "      if 'bias' in l:\n",
        "        imd = z[eval(idx)]\n",
        "      else:\n",
        "        imd = z[:,eval(idx)]\n",
        "\n",
        "      trans = torch.where(imd == w_neg)[0].nelement() + torch.where(imd == w_pos)[0].nelement()\n",
        "      total_trans += trans *2\n",
        "    \n",
        "print(\"Total dead transitions for the layer :\", total_trans)\n",
        "    \n",
        "    "
      ]
    },
    {
      "cell_type": "code",
      "execution_count": null,
      "metadata": {
        "id": "E64pYeIW8XK0"
      },
      "outputs": [],
      "source": [
        "# Fault coverage that we have obtained from main file : 3868 / 4058"
      ]
    },
    {
      "cell_type": "code",
      "execution_count": 26,
      "metadata": {
        "id": "xAK4Mddws52K",
        "colab": {
          "base_uri": "https://localhost:8080/"
        },
        "outputId": "23bbde30-7b73-456a-a4c2-304e477ac7d8"
      },
      "outputs": [
        {
          "output_type": "execute_result",
          "data": {
            "text/plain": [
              "0.9630359783144407"
            ]
          },
          "metadata": {},
          "execution_count": 26
        }
      ],
      "source": [
        "# Adding more 40 transitions to the numerator will make the net fault coverage\n",
        "(3868 + 40)/4058"
      ]
    },
    {
      "cell_type": "code",
      "source": [
        ""
      ],
      "metadata": {
        "id": "RtzUQuw3QPpl"
      },
      "execution_count": null,
      "outputs": []
    }
  ],
  "metadata": {
    "accelerator": "GPU",
    "colab": {
      "collapsed_sections": [],
      "name": "DeadNeurons.ipynb",
      "provenance": []
    },
    "kernelspec": {
      "display_name": "Python 3",
      "language": "python",
      "name": "python3"
    },
    "language_info": {
      "codemirror_mode": {
        "name": "ipython",
        "version": 3
      },
      "file_extension": ".py",
      "mimetype": "text/x-python",
      "name": "python",
      "nbconvert_exporter": "python",
      "pygments_lexer": "ipython3",
      "version": "3.8.5"
    }
  },
  "nbformat": 4,
  "nbformat_minor": 0
}