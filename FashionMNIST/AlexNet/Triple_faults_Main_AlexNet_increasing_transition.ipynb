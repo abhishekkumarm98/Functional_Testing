{
 "cells": [
  {
   "cell_type": "code",
   "execution_count": null,
   "metadata": {},
   "outputs": [],
   "source": [
    "cd FashionMNIST/AlexNet"
   ]
  },
  {
   "cell_type": "code",
   "execution_count": 4,
   "metadata": {
    "executionInfo": {
     "elapsed": 3231,
     "status": "ok",
     "timestamp": 1656516436940,
     "user": {
      "displayName": "Abhishek kumar Mishra",
      "userId": "13515131134791977528"
     },
     "user_tz": 240
    },
    "id": "KXMJB6isiRyk"
   },
   "outputs": [],
   "source": [
    "import numpy as np, joblib\n",
    "import sys, os, random\n",
    "import matplotlib.pyplot as plt\n",
    "import pickle, gzip\n",
    "from tqdm import tqdm,tqdm_notebook\n",
    "import torch\n",
    "import torchvision\n",
    "from torch import nn\n",
    "from torch.autograd import Variable\n",
    "import torch.optim as optim\n",
    "import torch.nn.functional as F\n",
    "from torchvision import datasets, transforms\n",
    "from torch.utils.data import Dataset, DataLoader\n",
    "from torch.utils.data.sampler import SubsetRandomSampler"
   ]
  },
  {
   "cell_type": "code",
   "execution_count": 5,
   "metadata": {
    "executionInfo": {
     "elapsed": 9,
     "status": "ok",
     "timestamp": 1656516437138,
     "user": {
      "displayName": "Abhishek kumar Mishra",
      "userId": "13515131134791977528"
     },
     "user_tz": 240
    },
    "id": "0ok6X5PjkKFX"
   },
   "outputs": [],
   "source": [
    "batch_size = 128\n",
    "seed_num = 1000\n",
    "\n",
    "# For reproducibility when you run the file with .py\n",
    "torch.cuda.is_available()\n",
    "torch.manual_seed(seed_num)\n",
    "torch.cuda.manual_seed(seed_num)\n",
    "np.random.seed(seed_num)\n",
    "random.seed(seed_num)\n",
    "torch.backends.cudnn.benchmark = True\n",
    "\n",
    "torch.backends.cudnn.deterministic =True"
   ]
  },
  {
   "cell_type": "code",
   "execution_count": 6,
   "metadata": {
    "executionInfo": {
     "elapsed": 2005,
     "status": "ok",
     "timestamp": 1656516439136,
     "user": {
      "displayName": "Abhishek kumar Mishra",
      "userId": "13515131134791977528"
     },
     "user_tz": 240
    },
    "id": "10agOYLDkidx"
   },
   "outputs": [],
   "source": [
    "# Data Augmentation \n",
    "train_transform = transforms.Compose([transforms.ToTensor(),transforms.Normalize([0.2860,],[0.3205,])])\n",
    "test_transform = transforms.Compose([transforms.ToTensor(),transforms.Normalize([0.2860,],[0.3205,])])\n",
    "\n",
    "# Splitting the training and test datasets\n",
    "train_data = datasets.FashionMNIST(os.getcwd(), train=True,\n",
    "                              download=True, transform=train_transform)\n",
    "test_data = datasets.FashionMNIST(os.getcwd(), train=False,\n",
    "                             download=True, transform=test_transform)"
   ]
  },
  {
   "cell_type": "code",
   "execution_count": 7,
   "metadata": {
    "executionInfo": {
     "elapsed": 21,
     "status": "ok",
     "timestamp": 1656516439138,
     "user": {
      "displayName": "Abhishek kumar Mishra",
      "userId": "13515131134791977528"
     },
     "user_tz": 240
    },
    "id": "5GnCuQ91lCty"
   },
   "outputs": [],
   "source": [
    "# Split the training set indices into training and validation set indices using 84:16 ratio\n",
    "np.random.seed(seed_num)\n",
    "len_trainset = len(train_data)\n",
    "index_list = list(range(len_trainset))\n",
    "np.random.shuffle(index_list)\n",
    "split_index = 50000\n",
    "train_indices, valid_indices =  index_list[:split_index], index_list[split_index:]\n",
    "\n",
    "# Creating Samplers for training and validation set using the indices\n",
    "np.random.seed(seed_num)\n",
    "train_sampler = SubsetRandomSampler(train_indices)\n",
    "valid_sampler = SubsetRandomSampler(valid_indices)\n",
    "\n",
    "torch.manual_seed(seed_num)\n",
    "\n",
    "train_iterator = DataLoader(train_data, batch_size=batch_size, sampler=train_sampler)\n",
    "val_iterator = DataLoader(train_data, batch_size=batch_size, sampler=valid_sampler)\n",
    "test_iterator = DataLoader(test_data, batch_size=batch_size, shuffle=True)\n"
   ]
  },
  {
   "cell_type": "code",
   "execution_count": 8,
   "metadata": {
    "executionInfo": {
     "elapsed": 20,
     "status": "ok",
     "timestamp": 1656516439139,
     "user": {
      "displayName": "Abhishek kumar Mishra",
      "userId": "13515131134791977528"
     },
     "user_tz": 240
    },
    "id": "4D-XvGNzlJn_"
   },
   "outputs": [],
   "source": [
    "# AlexNet Model\n",
    "\n",
    "class AlexNet(nn.Module):\n",
    "    def __init__(self, output_dim):\n",
    "        super().__init__()\n",
    "        \n",
    "        self.features = nn.Sequential(\n",
    "            nn.Conv2d(1, 32, 3, 1), #in_channels, out_channels, kernel_size, stride, padding\n",
    "            nn.BatchNorm2d(32),\n",
    "            nn.ReLU(inplace = True),\n",
    "            nn.Conv2d(32, 64, 3, padding = 1),\n",
    "            nn.MaxPool2d(kernel_size=2, stride=2),\n",
    "            nn.ReLU(inplace = True),\n",
    "\n",
    "            nn.Conv2d(64, 128, 3, padding = 1),\n",
    "            nn.BatchNorm2d(128),\n",
    "            nn.ReLU(inplace = True),\n",
    "            nn.Conv2d(128, 256, 3, padding = 1),\n",
    "            nn.ReLU(inplace = True),\n",
    "            nn.Conv2d(256, 256, 3, padding = 1),\n",
    "            nn.ReLU(inplace = True),\n",
    "            nn.MaxPool2d(kernel_size=2, stride=2),\n",
    "            \n",
    "        )\n",
    "        \n",
    "        self.classifier = nn.Sequential(\n",
    "            nn.Dropout(0.1),\n",
    "            nn.Linear(256 * 6 * 6, 256),\n",
    "            nn.ReLU(inplace = True),\n",
    "            nn.Linear(256,256),\n",
    "            nn.ReLU(inplace = True),\n",
    "            nn.Linear(256, output_dim),\n",
    "        )\n",
    "\n",
    "\n",
    "    def forward(self, x):\n",
    "        x = self.features(x)\n",
    "        h = x.view(x.size(0), -1)\n",
    "        x = self.classifier(h)\n",
    "        \n",
    "        return x"
   ]
  },
  {
   "cell_type": "code",
   "execution_count": 9,
   "metadata": {
    "colab": {
     "base_uri": "https://localhost:8080/"
    },
    "executionInfo": {
     "elapsed": 18,
     "status": "ok",
     "timestamp": 1656516439139,
     "user": {
      "displayName": "Abhishek kumar Mishra",
      "userId": "13515131134791977528"
     },
     "user_tz": 240
    },
    "id": "W-97MR9BlJrW",
    "outputId": "18592e03-669d-4b6a-e59d-8fb00bf8ef10"
   },
   "outputs": [
    {
     "name": "stdout",
     "output_type": "stream",
     "text": [
      "Model:\n",
      " AlexNet(\n",
      "  (features): Sequential(\n",
      "    (0): Conv2d(1, 32, kernel_size=(3, 3), stride=(1, 1))\n",
      "    (1): BatchNorm2d(32, eps=1e-05, momentum=0.1, affine=True, track_running_stats=True)\n",
      "    (2): ReLU(inplace=True)\n",
      "    (3): Conv2d(32, 64, kernel_size=(3, 3), stride=(1, 1), padding=(1, 1))\n",
      "    (4): MaxPool2d(kernel_size=2, stride=2, padding=0, dilation=1, ceil_mode=False)\n",
      "    (5): ReLU(inplace=True)\n",
      "    (6): Conv2d(64, 128, kernel_size=(3, 3), stride=(1, 1), padding=(1, 1))\n",
      "    (7): BatchNorm2d(128, eps=1e-05, momentum=0.1, affine=True, track_running_stats=True)\n",
      "    (8): ReLU(inplace=True)\n",
      "    (9): Conv2d(128, 256, kernel_size=(3, 3), stride=(1, 1), padding=(1, 1))\n",
      "    (10): ReLU(inplace=True)\n",
      "    (11): Conv2d(256, 256, kernel_size=(3, 3), stride=(1, 1), padding=(1, 1))\n",
      "    (12): ReLU(inplace=True)\n",
      "    (13): MaxPool2d(kernel_size=2, stride=2, padding=0, dilation=1, ceil_mode=False)\n",
      "  )\n",
      "  (classifier): Sequential(\n",
      "    (0): Dropout(p=0.1, inplace=False)\n",
      "    (1): Linear(in_features=9216, out_features=256, bias=True)\n",
      "    (2): ReLU(inplace=True)\n",
      "    (3): Linear(in_features=256, out_features=256, bias=True)\n",
      "    (4): ReLU(inplace=True)\n",
      "    (5): Linear(in_features=256, out_features=10, bias=True)\n",
      "  )\n",
      ")\n"
     ]
    }
   ],
   "source": [
    "torch.manual_seed(seed_num)\n",
    "unit=128\n",
    "\n",
    "# Summary\n",
    "model = AlexNet(10)\n",
    "print(\"Model:\\n\",model)"
   ]
  },
  {
   "cell_type": "code",
   "execution_count": 10,
   "metadata": {
    "colab": {
     "base_uri": "https://localhost:8080/"
    },
    "executionInfo": {
     "elapsed": 17,
     "status": "ok",
     "timestamp": 1656516439140,
     "user": {
      "displayName": "Abhishek kumar Mishra",
      "userId": "13515131134791977528"
     },
     "user_tz": 240
    },
    "id": "A8PBc3NYlJuX",
    "outputId": "f9d71de1-e606-41e4-e928-f3a208775de9"
   },
   "outputs": [
    {
     "name": "stdout",
     "output_type": "stream",
     "text": [
      "['features.0.weight', 'features.0.bias', 'features.1.weight', 'features.1.bias', 'features.3.weight', 'features.3.bias', 'features.6.weight', 'features.6.bias', 'features.7.weight', 'features.7.bias', 'features.9.weight', 'features.9.bias', 'features.11.weight', 'features.11.bias', 'classifier.1.weight', 'classifier.1.bias', 'classifier.3.weight', 'classifier.3.bias', 'classifier.5.weight', 'classifier.5.bias']\n"
     ]
    }
   ],
   "source": [
    "# Layer names\n",
    "layer_name = [n for n, p in model.named_parameters()]\n",
    "print(layer_name)"
   ]
  },
  {
   "cell_type": "code",
   "execution_count": 11,
   "metadata": {
    "colab": {
     "base_uri": "https://localhost:8080/"
    },
    "executionInfo": {
     "elapsed": 11079,
     "status": "ok",
     "timestamp": 1656516450208,
     "user": {
      "displayName": "Abhishek kumar Mishra",
      "userId": "13515131134791977528"
     },
     "user_tz": 240
    },
    "id": "7V_swsrplJxP",
    "outputId": "0bbc0c83-a7fe-42aa-e3f8-407f2e33123a"
   },
   "outputs": [
    {
     "name": "stdout",
     "output_type": "stream",
     "text": [
      "Loading weights done !\n",
      "features.0.weight tensor(129, device='cuda:0')\n",
      "features.0.bias tensor(23, device='cuda:0')\n",
      "features.1.weight tensor(24, device='cuda:0')\n",
      "features.1.bias tensor(9, device='cuda:0')\n",
      "features.3.weight tensor(316, device='cuda:0')\n",
      "features.3.bias tensor(32, device='cuda:0')\n",
      "features.6.weight tensor(205, device='cuda:0')\n",
      "features.6.bias tensor(74, device='cuda:0')\n",
      "features.7.weight tensor(96, device='cuda:0')\n",
      "features.7.bias tensor(67, device='cuda:0')\n",
      "features.9.weight tensor(644, device='cuda:0')\n",
      "features.9.bias tensor(30, device='cuda:0')\n",
      "features.11.weight tensor(745, device='cuda:0')\n",
      "features.11.bias tensor(49, device='cuda:0')\n",
      "classifier.1.weight tensor(1497, device='cuda:0')\n",
      "classifier.1.bias tensor(46, device='cuda:0')\n",
      "classifier.3.weight tensor(160, device='cuda:0')\n",
      "classifier.3.bias tensor(73, device='cuda:0')\n",
      "classifier.5.weight tensor(141, device='cuda:0')\n",
      "classifier.5.bias tensor(2, device='cuda:0')\n",
      "Total Parameters: tensor(4362, device='cuda:0') \n",
      "\n"
     ]
    }
   ],
   "source": [
    "# Loading the weights of ternary model \n",
    "model = torch.load('AlexNet_fashion_Quant.pt')\n",
    "model = model.cuda()\n",
    "print(\"Loading weights done !\")\n",
    "\n",
    "# Total number of ternary weights (+w, -w)\n",
    "totalParams = 0\n",
    "for i in layer_name:\n",
    "  print(i,(model.state_dict()[i] !=0).sum())\n",
    "  totalParams +=  (model.state_dict()[i] !=0).sum()\n",
    "    \n",
    "print(\"Total Parameters:\",totalParams, '\\n')"
   ]
  },
  {
   "cell_type": "code",
   "execution_count": 12,
   "metadata": {
    "colab": {
     "base_uri": "https://localhost:8080/"
    },
    "executionInfo": {
     "elapsed": 10515,
     "status": "ok",
     "timestamp": 1656516460709,
     "user": {
      "displayName": "Abhishek kumar Mishra",
      "userId": "13515131134791977528"
     },
     "user_tz": 240
    },
    "id": "0uPbBVUKlJ0X",
    "outputId": "334ebd36-d597-462d-915a-37df9680b525"
   },
   "outputs": [
    {
     "name": "stdout",
     "output_type": "stream",
     "text": [
      "Number Of Images Tested = 10000\n",
      "\n",
      "Model Test Accuracy = 0.6461\n"
     ]
    }
   ],
   "source": [
    "# Model's performance on test set\n",
    "\n",
    "correct_count, all_count = 0, 0\n",
    "model.eval()\n",
    "for images,labels in test_iterator:\n",
    "      for image,label in zip(images,labels):\n",
    "\n",
    "        if torch.cuda.is_available():\n",
    "            img = image.cuda()\n",
    "            lab = label.cuda()\n",
    "            img = img[None,].type('torch.cuda.FloatTensor')\n",
    "\n",
    "        with torch.no_grad():\n",
    "            output_ = model(img) \n",
    "\n",
    "        pred_label = output_.argmax()\n",
    "\n",
    "        if(pred_label.item()==lab.item()):\n",
    "          correct_count += 1\n",
    "        all_count += 1\n",
    "\n",
    "print(\"Number Of Images Tested =\", all_count)\n",
    "print(\"\\nModel Test Accuracy =\", (correct_count/(all_count)))\n"
   ]
  },
  {
   "cell_type": "code",
   "execution_count": 13,
   "metadata": {
    "colab": {
     "base_uri": "https://localhost:8080/"
    },
    "executionInfo": {
     "elapsed": 225,
     "status": "ok",
     "timestamp": 1656516460927,
     "user": {
      "displayName": "Abhishek kumar Mishra",
      "userId": "13515131134791977528"
     },
     "user_tz": 240
    },
    "id": "RvZCWE-QlJ6U",
    "outputId": "1c0accf7-5f34-4c4a-b439-63a2d2ae43be"
   },
   "outputs": [
    {
     "name": "stdout",
     "output_type": "stream",
     "text": [
      "features.0.weight hidden layer dimension torch.Size([32, 1, 3, 3])\n",
      "Unique values of weight in features.0.weight th hidden layer :  tensor([-1.0116,  0.0000,  1.0116], device='cuda:0')\n",
      "\n",
      "features.0.bias hidden layer dimension torch.Size([32])\n",
      "Unique values of weight in features.0.bias th hidden layer :  tensor([-0.9994,  0.0000,  1.0005], device='cuda:0')\n",
      "\n",
      "features.1.weight hidden layer dimension torch.Size([32])\n",
      "Unique values of weight in features.1.weight th hidden layer :  tensor([0.0000, 1.0149], device='cuda:0')\n",
      "\n",
      "features.1.bias hidden layer dimension torch.Size([32])\n",
      "Unique values of weight in features.1.bias th hidden layer :  tensor([-1.0293,  0.0000,  0.9977], device='cuda:0')\n",
      "\n",
      "features.3.weight hidden layer dimension torch.Size([64, 32, 3, 3])\n",
      "Unique values of weight in features.3.weight th hidden layer :  tensor([-0.9972,  0.0000,  0.9989], device='cuda:0')\n",
      "\n",
      "features.3.bias hidden layer dimension torch.Size([64])\n",
      "Unique values of weight in features.3.bias th hidden layer :  tensor([-1.0168,  0.0000,  1.0053], device='cuda:0')\n",
      "\n",
      "features.6.weight hidden layer dimension torch.Size([128, 64, 3, 3])\n",
      "Unique values of weight in features.6.weight th hidden layer :  tensor([-0.9973,  0.0000,  0.9973], device='cuda:0')\n",
      "\n",
      "features.6.bias hidden layer dimension torch.Size([128])\n",
      "Unique values of weight in features.6.bias th hidden layer :  tensor([-1.0035,  0.0000,  1.0035], device='cuda:0')\n",
      "\n",
      "features.7.weight hidden layer dimension torch.Size([128])\n",
      "Unique values of weight in features.7.weight th hidden layer :  tensor([0.0000, 0.9745], device='cuda:0')\n",
      "\n",
      "features.7.bias hidden layer dimension torch.Size([128])\n",
      "Unique values of weight in features.7.bias th hidden layer :  tensor([0.0000, 0.9646], device='cuda:0')\n",
      "\n",
      "features.9.weight hidden layer dimension torch.Size([256, 128, 3, 3])\n",
      "Unique values of weight in features.9.weight th hidden layer :  tensor([-0.9668,  0.0000,  0.9575], device='cuda:0')\n",
      "\n",
      "features.9.bias hidden layer dimension torch.Size([256])\n",
      "Unique values of weight in features.9.bias th hidden layer :  tensor([-0.9741,  0.0000,  0.9658], device='cuda:0')\n",
      "\n",
      "features.11.weight hidden layer dimension torch.Size([256, 256, 3, 3])\n",
      "Unique values of weight in features.11.weight th hidden layer :  tensor([-0.9773,  0.0000,  0.9582], device='cuda:0')\n",
      "\n",
      "features.11.bias hidden layer dimension torch.Size([256])\n",
      "Unique values of weight in features.11.bias th hidden layer :  tensor([-0.9872,  0.0000,  0.9881], device='cuda:0')\n",
      "\n",
      "classifier.1.weight hidden layer dimension torch.Size([256, 9216])\n",
      "Unique values of weight in classifier.1.weight th hidden layer :  tensor([-0.9924,  0.0000,  0.9592], device='cuda:0')\n",
      "\n",
      "classifier.1.bias hidden layer dimension torch.Size([256])\n",
      "Unique values of weight in classifier.1.bias th hidden layer :  tensor([0.0000, 0.9975], device='cuda:0')\n",
      "\n",
      "classifier.3.weight hidden layer dimension torch.Size([256, 256])\n",
      "Unique values of weight in classifier.3.weight th hidden layer :  tensor([-1.0025,  0.0000,  0.9604], device='cuda:0')\n",
      "\n",
      "classifier.3.bias hidden layer dimension torch.Size([256])\n",
      "Unique values of weight in classifier.3.bias th hidden layer :  tensor([-1.0010,  0.0000,  0.9977], device='cuda:0')\n",
      "\n",
      "classifier.5.weight hidden layer dimension torch.Size([10, 256])\n",
      "Unique values of weight in classifier.5.weight th hidden layer :  tensor([-1.0345,  0.0000,  0.9816], device='cuda:0')\n",
      "\n",
      "classifier.5.bias hidden layer dimension torch.Size([10])\n",
      "Unique values of weight in classifier.5.bias th hidden layer :  tensor([0.0000, 1.0148], device='cuda:0')\n",
      "\n"
     ]
    }
   ],
   "source": [
    "# For each layer, model's ternary weights\n",
    "state_dict = model.state_dict()\n",
    "\n",
    "layer_distinct_weights = {}\n",
    "\n",
    "for i in layer_name:\n",
    "  imd = torch.unique(model.state_dict()[i])\n",
    "  print(i+ ' hidden layer dimension', model.state_dict()[i].shape)\n",
    "  print(\"Unique values of weight in \"+ i+ \" th hidden layer : \", imd)\n",
    "  layer_distinct_weights[i] = imd.cpu().numpy().tolist()\n",
    "  print()\n"
   ]
  },
  {
   "cell_type": "code",
   "execution_count": 14,
   "metadata": {
    "colab": {
     "base_uri": "https://localhost:8080/"
    },
    "executionInfo": {
     "elapsed": 265,
     "status": "ok",
     "timestamp": 1656516461182,
     "user": {
      "displayName": "Abhishek kumar Mishra",
      "userId": "13515131134791977528"
     },
     "user_tz": 240
    },
    "id": "Sr2l07FwlJ9I",
    "outputId": "cf57d7bb-c393-4f8f-8f85-e90fa805db89"
   },
   "outputs": [
    {
     "data": {
      "text/plain": [
       "(4000, 1, 28, 28)"
      ]
     },
     "execution_count": 14,
     "metadata": {},
     "output_type": "execute_result"
    }
   ],
   "source": [
    "# Single seed normal distribution\n",
    "random.seed(seed_num)\n",
    "np.random.seed(seed_num)\n",
    "torch.manual_seed(seed_num)\n",
    "\n",
    "corr_images1 = []\n",
    "\n",
    "for i in range(4000): \n",
    "  corr_images1.append(np.random.randn(1,28,28))\n",
    "\n",
    "corr_images1 = np.array(corr_images1)\n",
    "corr_images1.shape"
   ]
  },
  {
   "cell_type": "code",
   "execution_count": 15,
   "metadata": {
    "executionInfo": {
     "elapsed": 10,
     "status": "ok",
     "timestamp": 1656516461184,
     "user": {
      "displayName": "Abhishek kumar Mishra",
      "userId": "13515131134791977528"
     },
     "user_tz": 240
    },
    "id": "4cZcFQ5ylKcX"
   },
   "outputs": [],
   "source": [
    "# Structured Patterns\n",
    "\n",
    "random.seed(seed_num)\n",
    "np.random.seed(seed_num)\n",
    "torch.manual_seed(seed_num)\n",
    "\n",
    "corr_images2 = []\n",
    "a = np.identity(28) * np.random.randn(28)\n",
    "corr_images2.append(a)\n",
    "b = np.fliplr(a.copy()) * np.random.randn(28)\n",
    "corr_images2.append(b)\n",
    "c = (a+b).copy() * np.random.randn(28)\n",
    "corr_images2.append(c)\n",
    "\n",
    "# To apply [1,1] , [0,1], [1,0]\n",
    "cp_file = [a,b,c]\n",
    "\n",
    "# To apply randn\n",
    "a1,b1,c1 = a.copy(), b.copy(), c.copy()\n",
    "cp_file1 = [a1, b1, c1]\n",
    "\n",
    "files = [cp_file, cp_file1]\n",
    "\n",
    "for i in range(700):\n",
    "    \n",
    "    np.random.seed(i)\n",
    "    choose = np.random.randint(0,2)\n",
    "\n",
    "    # Picking row and column indices randomly\n",
    "    r_idx = np.random.randint(0,28)\n",
    "    c_idx = np.random.randint(0,28)\n",
    "\n",
    "    if choose == 0:\n",
    "        \n",
    "        # Selecting file\n",
    "        file = files[0]\n",
    "        \n",
    "        imd_img = file[np.random.randint(0,3)].copy()\n",
    "        \n",
    "        imd_img1 = file[np.random.randint(0,3)]\n",
    "        \n",
    "        opt =[[1,1] , [0,1], [1,0]]\n",
    "        \n",
    "        if np.random.randint(0,2) == 0:\n",
    "        \n",
    "            imd_img[r_idx,:] = np.array(opt[np.random.randint(0,3)] *14) \n",
    "            corr_images2.append(imd_img)\n",
    "\n",
    "            imd_img[:,c_idx] = np.array(opt[np.random.randint(0,3)] *14) \n",
    "            corr_images2.append(imd_img)\n",
    "\n",
    "        else:\n",
    "            imd_img1[r_idx,:] = np.array(opt[np.random.randint(0,3)] *14) \n",
    "            corr_images2.append(imd_img1)\n",
    "\n",
    "            imd_img1[:,c_idx] = np.array(opt[np.random.randint(0,3)] *14) \n",
    "            corr_images2.append(imd_img1)\n",
    "            \n",
    "\n",
    "    else:\n",
    "        \n",
    "        # Selecting file\n",
    "        file = files[1]\n",
    "        \n",
    "        imd_img = file[np.random.randint(0,3)].copy()\n",
    "        \n",
    "        imd_img1 = file[np.random.randint(0,3)]\n",
    "        \n",
    "        opt =[[1,1] , [0,1], [1,0]]\n",
    "        \n",
    "        if np.random.randint(0,2) == 0:\n",
    "        \n",
    "            imd_img[r_idx,:] = np.array(opt[np.random.randint(0,3)] *14) * np.random.randn(28)\n",
    "            corr_images2.append(imd_img)\n",
    "\n",
    "            imd_img[:,c_idx] = np.array(opt[np.random.randint(0,3)] *14) * np.random.randn(28)\n",
    "            corr_images2.append(imd_img)\n",
    "\n",
    "        else:\n",
    "            imd_img1[r_idx,:] = np.array(opt[np.random.randint(0,3)] *14) * np.random.randn(28)\n",
    "            corr_images2.append(imd_img1)\n",
    "\n",
    "            imd_img1[:,c_idx] = np.array(opt[np.random.randint(0,3)] *14) * np.random.randn(28)\n",
    "            corr_images2.append(imd_img1)\n",
    "    \n",
    "corr_images2 = np.array(corr_images2).reshape(len(corr_images2),1,28,28)"
   ]
  },
  {
   "cell_type": "code",
   "execution_count": 16,
   "metadata": {
    "colab": {
     "base_uri": "https://localhost:8080/"
    },
    "executionInfo": {
     "elapsed": 267,
     "status": "ok",
     "timestamp": 1656516461445,
     "user": {
      "displayName": "Abhishek kumar Mishra",
      "userId": "13515131134791977528"
     },
     "user_tz": 240
    },
    "id": "xcmgnbR3lKu0",
    "outputId": "3fabbb13-99e1-4779-95e6-f4dbebc7a12b"
   },
   "outputs": [
    {
     "data": {
      "text/plain": [
       "362"
      ]
     },
     "execution_count": 16,
     "metadata": {},
     "output_type": "execute_result"
    }
   ],
   "source": [
    "corr_images2 = np.unique(corr_images2, axis=0)\n",
    "len(corr_images2)"
   ]
  },
  {
   "cell_type": "code",
   "execution_count": 17,
   "metadata": {
    "colab": {
     "base_uri": "https://localhost:8080/"
    },
    "executionInfo": {
     "elapsed": 33020,
     "status": "ok",
     "timestamp": 1656516494459,
     "user": {
      "displayName": "Abhishek kumar Mishra",
      "userId": "13515131134791977528"
     },
     "user_tz": 240
    },
    "id": "av1FzocMJN_2",
    "outputId": "6e34dee9-9f87-4104-9bcb-926b6182adbc"
   },
   "outputs": [
    {
     "data": {
      "text/plain": [
       "(3000, 1, 28, 28)"
      ]
     },
     "execution_count": 17,
     "metadata": {},
     "output_type": "execute_result"
    }
   ],
   "source": [
    "# Augmentation on structured images\n",
    "\n",
    "random.seed(seed_num)\n",
    "np.random.seed(seed_num)\n",
    "torch.manual_seed(seed_num)\n",
    "\n",
    "corr_images2_1 = []\n",
    "\n",
    "for img in corr_images2:\n",
    "\n",
    "    for angle in range(5,361,25):\n",
    "        transform_st = transforms.Compose([transforms.ToTensor(), transforms.RandomRotation(angle), \\\n",
    "                                             transforms.RandomHorizontalFlip(0.40), transforms.Normalize([0.2860,],[0.3205,])]) \n",
    "        corr_images2_1.append(transform_st(img).permute(1,0,2).numpy())\n",
    "        \n",
    "        transform_st1 = transforms.Compose([transforms.ToTensor(), transforms.RandomRotation(angle), transforms.Normalize([0.2860,],[0.3205,])]) \n",
    "        corr_images2_1.append(transform_st1(img).permute(1,0,2).numpy())\n",
    "        \n",
    "        transform_st2 = transforms.Compose([transforms.ToTensor(),transforms.RandomHorizontalFlip(0.35), transforms.Normalize([0.2860,],[0.3205,])]) \n",
    "        corr_images2_1.append(transform_st2(img).permute(1,0,2).numpy())\n",
    "\n",
    "        transform_st3 = transforms.Compose([transforms.ToTensor(),transforms.RandomRotation(angle), transforms.RandomVerticalFlip(0.70),\n",
    "                                    transforms.RandomAffine(angle),  transforms.Normalize([0.2860,],[0.3205,])]) \n",
    "        corr_images2_1.append(transform_st3(img).permute(1,0,2).numpy())\n",
    "\n",
    "        transform_st4 = transforms.Compose([transforms.ToTensor(), transforms.RandomVerticalFlip(0.25),\n",
    "                                        transforms.RandomAffine(angle), transforms.Normalize([0.2860,],[0.3205,])]) \n",
    "        corr_images2_1.append(transform_st4(img).permute(1,0,2).numpy())\n",
    "\n",
    "        transform_st5 = transforms.Compose([transforms.ToTensor(), transforms.RandomVerticalFlip(0.45),transforms.Normalize([0.2860,],[0.3205,])]) \n",
    "        corr_images2_1.append(transform_st5(img).permute(1,0,2).numpy())\n",
    "\n",
    "        transform_st6 = transforms.Compose([transforms.ToTensor(), transforms.RandomRotation(angle), \\\n",
    "                                              transforms.RandomVerticalFlip(0.35),transforms.Normalize([0.2860,],[0.3205,])]) \n",
    "        corr_images2_1.append(transform_st6(img).permute(1,0,2).numpy())\n",
    "\n",
    "        transform_st7 = transforms.Compose([transforms.ToTensor(),transforms.RandomHorizontalFlip(0.65), transforms.RandomAffine(angle),\\\n",
    "                                            transforms.Normalize([0.2860,],[0.3205,])]) \n",
    "        corr_images2_1.append(transform_st7(img).permute(1,0,2).numpy())\n",
    "\n",
    "        transform_st8 = transforms.Compose([transforms.ToTensor(),transforms.RandomRotation(angle), transforms.RandomAffine(angle),\\\n",
    "                                            transforms.Normalize([0.2860,],[0.3205,])]) \n",
    "        corr_images2_1.append(transform_st8(img).permute(1,0,2).numpy())\n",
    "\n",
    "\n",
    "        transform_st9 = transforms.Compose([transforms.ToTensor(),transforms.RandomRotation(angle), transforms.RandomHorizontalFlip(0.75),\n",
    "                                            transforms.RandomAffine(angle),transforms.Normalize([0.2860,],[0.3205,])]) \n",
    "        corr_images2_1.append(transform_st9(img).permute(1,2,0).numpy())\n",
    "            \n",
    "\n",
    "corr_images2_1 += corr_images2.tolist()\n",
    "corr_images2_1 = np.unique(corr_images2_1, axis=0)\n",
    "idx = np.random.permutation(len(corr_images2_1))[:3000]\n",
    "corr_images2 = corr_images2_1[idx]\n",
    "corr_images2.shape"
   ]
  },
  {
   "cell_type": "code",
   "execution_count": 18,
   "metadata": {
    "colab": {
     "base_uri": "https://localhost:8080/",
     "height": 1000
    },
    "executionInfo": {
     "elapsed": 3355,
     "status": "ok",
     "timestamp": 1656516497803,
     "user": {
      "displayName": "Abhishek kumar Mishra",
      "userId": "13515131134791977528"
     },
     "user_tz": 240
    },
    "id": "v8fnTNduo2JO",
    "outputId": "d37f3655-6bc6-4dbb-8827-ecbecf62520a"
   },
   "outputs": [
    {
     "data": {
      "image/png": "[encoded data removed]",
      "text/plain": [
       "<Figure size 432x288 with 1 Axes>"
      ]
     },
     "metadata": {
      "needs_background": "light"
     },
     "output_type": "display_data"
    },
    {
     "data": {
      "image/png": "[encoded data removed]",
      "text/plain": [
       "<Figure size 432x288 with 1 Axes>"
      ]
     },
     "metadata": {
      "needs_background": "light"
     },
     "output_type": "display_data"
    },
    {
     "data": {
      "image/png": "[encoded data removed]",
      "text/plain": [
       "<Figure size 432x288 with 1 Axes>"
      ]
     },
     "metadata": {
      "needs_background": "light"
     },
     "output_type": "display_data"
    },
    {
     "data": {
      "image/png": "[encoded data removed]",
      "text/plain": [
       "<Figure size 432x288 with 1 Axes>"
      ]
     },
     "metadata": {
      "needs_background": "light"
     },
     "output_type": "display_data"
    },
    {
     "data": {
      "image/png": "[encoded data removed]",
      "text/plain": [
       "<Figure size 432x288 with 1 Axes>"
      ]
     },
     "metadata": {
      "needs_background": "light"
     },
     "output_type": "display_data"
    },
    {
     "data": {
      "image/png": "[encoded data removed]",
      "text/plain": [
       "<Figure size 432x288 with 1 Axes>"
      ]
     },
     "metadata": {
      "needs_background": "light"
     },
     "output_type": "display_data"
    },
    {
     "data": {
      "image/png": "[encoded data removed]",
      "text/plain": [
       "<Figure size 432x288 with 1 Axes>"
      ]
     },
     "metadata": {
      "needs_background": "light"
     },
     "output_type": "display_data"
    },
    {
     "data": {
      "image/png": "[encoded data removed]",
      "text/plain": [
       "<Figure size 432x288 with 1 Axes>"
      ]
     },
     "metadata": {
      "needs_background": "light"
     },
     "output_type": "display_data"
    },
    {
     "data": {
      "image/png": "[encoded data removed]",
      "text/plain": [
       "<Figure size 432x288 with 1 Axes>"
      ]
     },
     "metadata": {
      "needs_background": "light"
     },
     "output_type": "display_data"
    },
    {
     "data": {
      "image/png": "[encoded data removed]",
      "text/plain": [
       "<Figure size 432x288 with 1 Axes>"
      ]
     },
     "metadata": {
      "needs_background": "light"
     },
     "output_type": "display_data"
    },
    {
     "data": {
      "image/png": "[encoded data removed]",
      "text/plain": [
       "<Figure size 432x288 with 1 Axes>"
      ]
     },
     "metadata": {
      "needs_background": "light"
     },
     "output_type": "display_data"
    },
    {
     "data": {
      "image/png": "[encoded data removed]",
      "text/plain": [
       "<Figure size 432x288 with 1 Axes>"
      ]
     },
     "metadata": {
      "needs_background": "light"
     },
     "output_type": "display_data"
    },
    {
     "data": {
      "image/png": "[encoded data removed]",
      "text/plain": [
       "<Figure size 432x288 with 1 Axes>"
      ]
     },
     "metadata": {
      "needs_background": "light"
     },
     "output_type": "display_data"
    },
    {
     "data": {
      "image/png": "[encoded data removed]",
      "text/plain": [
       "<Figure size 432x288 with 1 Axes>"
      ]
     },
     "metadata": {
      "needs_background": "light"
     },
     "output_type": "display_data"
    },
    {
     "data": {
      "image/png": "[encoded data removed]",
      "text/plain": [
       "<Figure size 432x288 with 1 Axes>"
      ]
     },
     "metadata": {
      "needs_background": "light"
     },
     "output_type": "display_data"
    },
    {
     "data": {
      "image/png": "[encoded data removed]",
      "text/plain": [
       "<Figure size 432x288 with 1 Axes>"
      ]
     },
     "metadata": {
      "needs_background": "light"
     },
     "output_type": "display_data"
    },
    {
     "data": {
      "image/png": "[encoded data removed]",
      "text/plain": [
       "<Figure size 432x288 with 1 Axes>"
      ]
     },
     "metadata": {
      "needs_background": "light"
     },
     "output_type": "display_data"
    },
    {
     "data": {
      "image/png": "[encoded data removed]",
      "text/plain": [
       "<Figure size 432x288 with 1 Axes>"
      ]
     },
     "metadata": {
      "needs_background": "light"
     },
     "output_type": "display_data"
    },
    {
     "data": {
      "image/png": "[encoded data removed]",
      "text/plain": [
       "<Figure size 432x288 with 1 Axes>"
      ]
     },
     "metadata": {
      "needs_background": "light"
     },
     "output_type": "display_data"
    },
    {
     "data": {
      "image/png": "[encoded data removed]",
      "text/plain": [
       "<Figure size 432x288 with 1 Axes>"
      ]
     },
     "metadata": {
      "needs_background": "light"
     },
     "output_type": "display_data"
    },
    {
     "data": {
      "image/png": "[encoded data removed]",
      "text/plain": [
       "<Figure size 432x288 with 1 Axes>"
      ]
     },
     "metadata": {
      "needs_background": "light"
     },
     "output_type": "display_data"
    },
    {
     "data": {
      "image/png": "[encoded data removed]",
      "text/plain": [
       "<Figure size 432x288 with 1 Axes>"
      ]
     },
     "metadata": {
      "needs_background": "light"
     },
     "output_type": "display_data"
    },
    {
     "data": {
      "image/png": "[encoded data removed]",
      "text/plain": [
       "<Figure size 432x288 with 1 Axes>"
      ]
     },
     "metadata": {
      "needs_background": "light"
     },
     "output_type": "display_data"
    },
    {
     "data": {
      "image/png": "[encoded data removed]",
      "text/plain": [
       "<Figure size 432x288 with 1 Axes>"
      ]
     },
     "metadata": {
      "needs_background": "light"
     },
     "output_type": "display_data"
    },
    {
     "data": {
      "image/png": "[encoded data removed]",
      "text/plain": [
       "<Figure size 432x288 with 1 Axes>"
      ]
     },
     "metadata": {
      "needs_background": "light"
     },
     "output_type": "display_data"
    },
    {
     "data": {
      "image/png": "[encoded data removed]",
      "text/plain": [
       "<Figure size 432x288 with 1 Axes>"
      ]
     },
     "metadata": {
      "needs_background": "light"
     },
     "output_type": "display_data"
    }
   ],
   "source": [
    "# Plotting some structured images\n",
    "for i in range(2,28):\n",
    "    plt.imshow(corr_images2[i].reshape((28,28)))\n",
    "    plt.show()"
   ]
  },
  {
   "cell_type": "code",
   "execution_count": 19,
   "metadata": {
    "executionInfo": {
     "elapsed": 36428,
     "status": "ok",
     "timestamp": 1656516534221,
     "user": {
      "displayName": "Abhishek kumar Mishra",
      "userId": "13515131134791977528"
     },
     "user_tz": 240
    },
    "id": "12j4Q826JkrJ"
   },
   "outputs": [],
   "source": [
    "#############\n",
    "# Pixel taking randomly from 8 bits (0-255) to generate images\n",
    "\n",
    "random.seed(seed_num)\n",
    "np.random.seed(seed_num)\n",
    "torch.manual_seed(seed_num)\n",
    "\n",
    "corr_images1_ = []\n",
    "\n",
    "for i in range(400):\n",
    "    img = np.random.randint(0, 256, (1,28,28)).astype('float')/255.\n",
    "    for angle in range(5,361,25):\n",
    "        transform_st = transforms.Compose([transforms.ToTensor(), transforms.RandomRotation(angle), \\\n",
    "                                             transforms.RandomHorizontalFlip(0.25), transforms.Normalize([0.2860,],[0.3205,])]) \n",
    "        corr_images1_.append(transform_st(img).permute(1,0,2).numpy())\n",
    "        \n",
    "        transform_st1 = transforms.Compose([transforms.ToTensor(), transforms.RandomRotation(angle), transforms.Normalize([0.2860,],[0.3205,])]) \n",
    "        corr_images1_.append(transform_st1(img).permute(1,0,2).numpy())\n",
    "        \n",
    "        transform_st2 = transforms.Compose([transforms.ToTensor(),transforms.RandomHorizontalFlip(0.35), transforms.Normalize([0.2860,],[0.3205,])]) \n",
    "        corr_images1_.append(transform_st2(img).permute(1,0,2).numpy())\n",
    "\n",
    "        transform_st3 = transforms.Compose([transforms.ToTensor(),transforms.RandomRotation(angle), transforms.RandomVerticalFlip(0.60),\n",
    "                                    transforms.RandomAffine(angle),  transforms.Normalize([0.2860,],[0.3205,])]) \n",
    "        corr_images1_.append(transform_st3(img).permute(1,0,2).numpy())\n",
    "\n",
    "\n",
    "        transform_st4 = transforms.Compose([transforms.ToTensor(), transforms.RandomVerticalFlip(0.25),\n",
    "                                        transforms.RandomAffine(angle), transforms.Normalize([0.2860,],[0.3205,])]) \n",
    "        corr_images1_.append(transform_st4(img).permute(1,0,2).numpy())\n",
    "\n",
    "        transform_st5 = transforms.Compose([transforms.ToTensor(), transforms.RandomVerticalFlip(0.45),transforms.Normalize([0.2860,],[0.3205,])]) \n",
    "        corr_images1_.append(transform_st5(img).permute(1,0,2).numpy())\n",
    "\n",
    "        transform_st6 = transforms.Compose([transforms.ToTensor(), transforms.RandomRotation(angle), \\\n",
    "                                              transforms.RandomVerticalFlip(0.75),transforms.Normalize([0.2860,],[0.3205,])]) \n",
    "        corr_images1_.append(transform_st6(img).permute(1,0,2).numpy())\n",
    "\n",
    "        transform_st7 = transforms.Compose([transforms.ToTensor(),transforms.RandomHorizontalFlip(0.13), transforms.RandomAffine(angle),\\\n",
    "                                            transforms.Normalize([0.2860,],[0.3205,])]) \n",
    "        corr_images1_.append(transform_st7(img).permute(1,0,2).numpy())\n",
    "\n",
    "        transform_st8 = transforms.Compose([transforms.ToTensor(),transforms.RandomRotation(angle), transforms.RandomAffine(angle),\\\n",
    "                                            transforms.Normalize([0.2860,],[0.3205,])]) \n",
    "        corr_images1_.append(transform_st8(img).permute(1,0,2).numpy())\n",
    "\n",
    "\n",
    "        transform_st9 = transforms.Compose([transforms.ToTensor(),transforms.RandomRotation(angle), transforms.RandomHorizontalFlip(0.60),\n",
    "                                            transforms.RandomAffine(angle),transforms.Normalize([0.2860,],[0.3205,])]) \n",
    "        corr_images1_.append(transform_st9(img).permute(1,2,0).numpy())\n",
    "\n",
    "\n",
    "\n",
    "        # transform_st6 = transforms.Compose([transforms.ToTensor(),transforms.RandomRotation(angle), transforms.RandomVerticalFlip(0.75),\n",
    "        #                                     transforms.RandomAffine(angle)]) \n",
    "        # corr_images2_1.append(transform_st6(img).permute(1,2,0).numpy())\n",
    "\n",
    "        # transform_st7 = transforms.Compose([transforms.ToTensor(), transforms.RandomVerticalFlip(0.75),\n",
    "        #                                     transforms.RandomAffine(angle)]) \n",
    "        # corr_images2_1.append(transform_st7(img).permute(1,2,0).numpy())\n",
    "\n",
    "        # transform_st8 = transforms.Compose([transforms.ToTensor(), transforms.RandomVerticalFlip(0.75),]) \n",
    "        # corr_images2_1.append(transform_st8(img).permute(1,2,0).numpy())\n",
    "\n",
    "        # transform_st9 = transforms.Compose([transforms.ToTensor(), transforms.RandomRotation(angle), \\\n",
    "        #                                       transforms.RandomVerticalFlip(0.25),]) \n",
    "        # corr_images2_1.append(transform_st9(img).permute(1,2,0).numpy())\n",
    "\n",
    "\n",
    "\n",
    "corr_images_ = np.unique(corr_images1_, axis=0)\n",
    "idx = np.random.permutation(len(corr_images_))[:3000]\n",
    "corr_images_ = corr_images_[idx]"
   ]
  },
  {
   "cell_type": "code",
   "execution_count": null,
   "metadata": {
    "colab": {
     "base_uri": "https://localhost:8080/",
     "height": 1000
    },
    "executionInfo": {
     "elapsed": 1832,
     "status": "ok",
     "timestamp": 1652113690476,
     "user": {
      "displayName": "Abhishek kumar Mishra",
      "userId": "13515131134791977528"
     },
     "user_tz": 240
    },
    "id": "hUlgkRzXo2Ol",
    "outputId": "8103738a-c045-443c-c2af-cad05725ae51"
   },
   "outputs": [
    {
     "data": {
      "image/png": "[encoded data removed]",
      "text/plain": [
       "<Figure size 432x288 with 1 Axes>"
      ]
     },
     "metadata": {
      "needs_background": "light"
     },
     "output_type": "display_data"
    },
    {
     "data": {
      "image/png": "[encoded data removed]",
      "text/plain": [
       "<Figure size 432x288 with 1 Axes>"
      ]
     },
     "metadata": {
      "needs_background": "light"
     },
     "output_type": "display_data"
    },
    {
     "data": {
      "image/png": "[encoded data removed]",
      "text/plain": [
       "<Figure size 432x288 with 1 Axes>"
      ]
     },
     "metadata": {
      "needs_background": "light"
     },
     "output_type": "display_data"
    },
    {
     "data": {
      "image/png": "[encoded data removed]",
      "text/plain": [
       "<Figure size 432x288 with 1 Axes>"
      ]
     },
     "metadata": {
      "needs_background": "light"
     },
     "output_type": "display_data"
    },
    {
     "data": {
      "image/png": "[encoded data removed]",
      "text/plain": [
       "<Figure size 432x288 with 1 Axes>"
      ]
     },
     "metadata": {
      "needs_background": "light"
     },
     "output_type": "display_data"
    },
    {
     "data": {
      "image/png": "[encoded data removed]",
      "text/plain": [
       "<Figure size 432x288 with 1 Axes>"
      ]
     },
     "metadata": {
      "needs_background": "light"
     },
     "output_type": "display_data"
    },
    {
     "data": {
      "image/png": "[encoded data removed]",
      "text/plain": [
       "<Figure size 432x288 with 1 Axes>"
      ]
     },
     "metadata": {
      "needs_background": "light"
     },
     "output_type": "display_data"
    },
    {
     "data": {
      "image/png": "[encoded data removed]",
      "text/plain": [
       "<Figure size 432x288 with 1 Axes>"
      ]
     },
     "metadata": {
      "needs_background": "light"
     },
     "output_type": "display_data"
    },
    {
     "data": {
      "image/png": "[encoded data removed]",
      "text/plain": [
       "<Figure size 432x288 with 1 Axes>"
      ]
     },
     "metadata": {
      "needs_background": "light"
     },
     "output_type": "display_data"
    },
    {
     "data": {
      "image/png": "[encoded data removed]",
      "text/plain": [
       "<Figure size 432x288 with 1 Axes>"
      ]
     },
     "metadata": {
      "needs_background": "light"
     },
     "output_type": "display_data"
    },
    {
     "data": {
      "image/png": "[encoded data removed]",
      "text/plain": [
       "<Figure size 432x288 with 1 Axes>"
      ]
     },
     "metadata": {
      "needs_background": "light"
     },
     "output_type": "display_data"
    },
    {
     "data": {
      "image/png": "[encoded data removed]",
      "text/plain": [
       "<Figure size 432x288 with 1 Axes>"
      ]
     },
     "metadata": {
      "needs_background": "light"
     },
     "output_type": "display_data"
    },
    {
     "data": {
      "image/png": "[encoded data removed]",
      "text/plain": [
       "<Figure size 432x288 with 1 Axes>"
      ]
     },
     "metadata": {
      "needs_background": "light"
     },
     "output_type": "display_data"
    }
   ],
   "source": [
    "for i in range(15,28):\n",
    "    plt.imshow(corr_images_[i].reshape((28,28)))\n",
    "    plt.show()"
   ]
  },
  {
   "cell_type": "code",
   "execution_count": 20,
   "metadata": {
    "executionInfo": {
     "elapsed": 20,
     "status": "ok",
     "timestamp": 1656516534223,
     "user": {
      "displayName": "Abhishek kumar Mishra",
      "userId": "13515131134791977528"
     },
     "user_tz": 240
    },
    "id": "2Hq9pt6Bo2Q0"
   },
   "outputs": [],
   "source": [
    "corr_images3 = np.array(corr_images_)"
   ]
  },
  {
   "cell_type": "code",
   "execution_count": 21,
   "metadata": {
    "colab": {
     "base_uri": "https://localhost:8080/"
    },
    "executionInfo": {
     "elapsed": 19,
     "status": "ok",
     "timestamp": 1656516534225,
     "user": {
      "displayName": "Abhishek kumar Mishra",
      "userId": "13515131134791977528"
     },
     "user_tz": 240
    },
    "id": "xlI4lYUUo2Th",
    "outputId": "74b75f41-a3cd-479d-bcb2-08b2e6ebb0d5"
   },
   "outputs": [
    {
     "data": {
      "text/plain": [
       "(10000, 1, 28, 28)"
      ]
     },
     "execution_count": 21,
     "metadata": {},
     "output_type": "execute_result"
    }
   ],
   "source": [
    "# Normal dist + Structured + Random Pixel\n",
    "corr_images = np.concatenate([corr_images1, corr_images2, corr_images3])\n",
    "corr_images.shape"
   ]
  },
  {
   "cell_type": "code",
   "execution_count": 22,
   "metadata": {
    "colab": {
     "base_uri": "https://localhost:8080/"
    },
    "executionInfo": {
     "elapsed": 8207,
     "status": "ok",
     "timestamp": 1656516542419,
     "user": {
      "displayName": "Abhishek kumar Mishra",
      "userId": "13515131134791977528"
     },
     "user_tz": 240
    },
    "id": "3zyNkvo5o2WB",
    "outputId": "316ff033-5150-4ff8-b0c6-35563d9ae8cd"
   },
   "outputs": [
    {
     "name": "stdout",
     "output_type": "stream",
     "text": [
      "\n",
      "Unique digits :  [0 1 2 3 4 5 6 7 8 9]\n",
      "\n",
      " counts :  [  81 1007  161  748    4 5397 2429    1  161   11]\n"
     ]
    }
   ],
   "source": [
    "corr_images = torch.tensor(corr_images).type(torch.FloatTensor).to('cuda')\n",
    "\n",
    "corr_label = []\n",
    "check_label = []\n",
    "\n",
    "model.eval()\n",
    "for img in corr_images:\n",
    "  img = img[None,].type('torch.cuda.FloatTensor')\n",
    "  with torch.no_grad():\n",
    "    pred = model(img).argmax()\n",
    "  corr_label.append(pred)\n",
    "  check_label.append(pred.item())\n",
    "\n",
    "digit,count = np.unique(check_label, return_counts=True)\n",
    "\n",
    "# Model's prediction on pseudorandom images\n",
    "print(\"\\nUnique digits : \",digit)\n",
    "\n",
    "print(\"\\n counts : \",count)"
   ]
  },
  {
   "cell_type": "code",
   "execution_count": 23,
   "metadata": {
    "executionInfo": {
     "elapsed": 25,
     "status": "ok",
     "timestamp": 1656516542421,
     "user": {
      "displayName": "Abhishek kumar Mishra",
      "userId": "13515131134791977528"
     },
     "user_tz": 240
    },
    "id": "uG1i7FSwo2Y5"
   },
   "outputs": [],
   "source": [
    "pos_neg_layerwise = {}\n",
    "\n",
    "for i in layer_name:\n",
    "  b = layer_distinct_weights[i]\n",
    "\n",
    "  if len(b) == 3:\n",
    "    neg, zero, pos = b\n",
    "    pos_neg_layerwise[i] = {}\n",
    "    pos_neg_layerwise[i]['pos'] = pos\n",
    "    pos_neg_layerwise[i]['neg'] = neg\n",
    "    \n",
    "  elif len(b) == 2:\n",
    "    un1, un2 = b\n",
    "\n",
    "    if un2 == 0:\n",
    "      neg, zero = b\n",
    "      pos_neg_layerwise[i] = {}\n",
    "      pos_neg_layerwise[i]['neg'] = neg\n",
    "      \n",
    "    elif un1 == 0:\n",
    "      zero, pos = b\n",
    "      pos_neg_layerwise[i] = {}\n",
    "      pos_neg_layerwise[i]['pos'] = pos\n",
    "\n",
    "    else:\n",
    "      neg, pos = b\n",
    "      pos_neg_layerwise[i] = {}\n",
    "      pos_neg_layerwise[i]['pos'] = pos\n",
    "      pos_neg_layerwise[i]['neg'] = neg\n",
    "\n",
    "  else:\n",
    "     un = b[0] \n",
    "\n",
    "     if un > 0:\n",
    "       pos_neg_layerwise[i] = {}\n",
    "       pos_neg_layerwise[i]['pos'] = un\n",
    "\n",
    "     elif un < 0:\n",
    "       pos_neg_layerwise[i] = {}\n",
    "       pos_neg_layerwise[i]['neg'] = un\n",
    "\n",
    "     else:\n",
    "       pos_neg_layerwise[i] = {}\n",
    "       pos_neg_layerwise[i]['zero'] = 0\n"
   ]
  },
  {
   "cell_type": "code",
   "execution_count": 24,
   "metadata": {
    "colab": {
     "base_uri": "https://localhost:8080/"
    },
    "executionInfo": {
     "elapsed": 21,
     "status": "ok",
     "timestamp": 1656516542422,
     "user": {
      "displayName": "Abhishek kumar Mishra",
      "userId": "13515131134791977528"
     },
     "user_tz": 240
    },
    "id": "JZ4zH-VAo2bH",
    "outputId": "c8a66115-233e-44a0-b1b4-600b72166978"
   },
   "outputs": [
    {
     "data": {
      "text/plain": [
       "{'classifier.1.bias': [0.0, 0.9974985122680664],\n",
       " 'classifier.1.weight': [-0.9924231767654419, 0.0, 0.9592171907424927],\n",
       " 'classifier.3.bias': [-1.0009965896606445, 0.0, 0.9976704716682434],\n",
       " 'classifier.3.weight': [-1.0025272369384766, 0.0, 0.9604441523551941],\n",
       " 'classifier.5.bias': [0.0, 1.0147584676742554],\n",
       " 'classifier.5.weight': [-1.0344655513763428, 0.0, 0.9815973043441772],\n",
       " 'features.0.bias': [-0.9993632435798645, 0.0, 1.0005184412002563],\n",
       " 'features.0.weight': [-1.011589765548706, 0.0, 1.011589765548706],\n",
       " 'features.1.bias': [-1.0293270349502563, 0.0, 0.9977136850357056],\n",
       " 'features.1.weight': [0.0, 1.014925479888916],\n",
       " 'features.11.bias': [-0.9871994256973267, 0.0, 0.9880890846252441],\n",
       " 'features.11.weight': [-0.9773134589195251, 0.0, 0.9582034945487976],\n",
       " 'features.3.bias': [-1.016790747642517, 0.0, 1.0052502155303955],\n",
       " 'features.3.weight': [-0.9971681833267212, 0.0, 0.9988570809364319],\n",
       " 'features.6.bias': [-1.0035313367843628, 0.0, 1.0034629106521606],\n",
       " 'features.6.weight': [-0.9973466992378235, 0.0, 0.9973443746566772],\n",
       " 'features.7.bias': [0.0, 0.9646170139312744],\n",
       " 'features.7.weight': [0.0, 0.9745362401008606],\n",
       " 'features.9.bias': [-0.9741238951683044, 0.0, 0.9657971858978271],\n",
       " 'features.9.weight': [-0.9668185114860535, 0.0, 0.9575168490409851]}"
      ]
     },
     "execution_count": 24,
     "metadata": {},
     "output_type": "execute_result"
    }
   ],
   "source": [
    "layer_distinct_weights"
   ]
  },
  {
   "cell_type": "code",
   "execution_count": 25,
   "metadata": {
    "executionInfo": {
     "elapsed": 17,
     "status": "ok",
     "timestamp": 1656516542424,
     "user": {
      "displayName": "Abhishek kumar Mishra",
      "userId": "13515131134791977528"
     },
     "user_tz": 240
    },
    "id": "cCfKOm8no2du"
   },
   "outputs": [],
   "source": [
    "class PseudoData(Dataset):\n",
    "    \n",
    "    def __init__(self, data, label):\n",
    "        \n",
    "        self.data = data\n",
    "        self.label = label\n",
    "\n",
    "    def __getitem__(self, index):\n",
    "        \n",
    "        return self.data[index], self.label[index]\n",
    "\n",
    "    def __len__(self):\n",
    "        return len(self.data)\n",
    "\n",
    "corr_label = torch.tensor(corr_label).type(torch.FloatTensor).to('cuda')\n",
    "pseudo_dataLoader = DataLoader(dataset = PseudoData(corr_images, corr_label), batch_size = 1000, shuffle=False) "
   ]
  },
  {
   "cell_type": "code",
   "execution_count": 26,
   "metadata": {
    "executionInfo": {
     "elapsed": 18,
     "status": "ok",
     "timestamp": 1656516542426,
     "user": {
      "displayName": "Abhishek kumar Mishra",
      "userId": "13515131134791977528"
     },
     "user_tz": 240
    },
    "id": "uAf424TSo2gc"
   },
   "outputs": [],
   "source": [
    "def getResult(test_example, test_label, model, st):\n",
    "    model.load_state_dict(st)\n",
    "    model.eval()\n",
    "    with torch.no_grad():\n",
    "        output_ = model(test_example.float()) \n",
    "        pred = output_.data.max(1, keepdim=True)[1]\n",
    "        z = pred.eq(test_label.data.view_as(pred)).flatten()\n",
    "        return torch.where(z == False)[0]"
   ]
  },
  {
   "cell_type": "code",
   "execution_count": 27,
   "metadata": {
    "executionInfo": {
     "elapsed": 17,
     "status": "ok",
     "timestamp": 1656516542426,
     "user": {
      "displayName": "Abhishek kumar Mishra",
      "userId": "13515131134791977528"
     },
     "user_tz": 240
    },
    "id": "qQkUUItGo2j2"
   },
   "outputs": [],
   "source": [
    "def populateResults(idx, batch_id, old_state, new_state, w_images, n_ic, n_oc, row, column, weight_name):\n",
    "  key = 'img_id'+str(idx)+'_batch_'+str(batch_id)\n",
    "  if key not in w_images:\n",
    "    w_images[key] = {}\n",
    "    w_images[key]['location'] = []\n",
    "    w_images[key]['location'].append((weight_name, n_ic, n_oc, row, column, old_state, new_state))\n",
    "    w_images[key]['weight_states'] = []\n",
    "    w_images[key]['weight_states'].append(weight_name + ' : ' + str(old_state) + ' --> ' + str(new_state))\n",
    "\n",
    "  else:\n",
    "    w_images[key]['location'].append((weight_name, n_ic, n_oc, row, column, old_state, new_state))\n",
    "    w_images[key]['weight_states'].append(weight_name + ' : ' + str(old_state) + ' --> ' + str(new_state))"
   ]
  },
  {
   "cell_type": "code",
   "execution_count": 28,
   "metadata": {
    "executionInfo": {
     "elapsed": 16,
     "status": "ok",
     "timestamp": 1656516542427,
     "user": {
      "displayName": "Abhishek kumar Mishra",
      "userId": "13515131134791977528"
     },
     "user_tz": 240
    },
    "id": "jCBF5EBvo2lz"
   },
   "outputs": [],
   "source": [
    "def populateResults1(idx, batch_id, old_state, new_state, w_images, row, column, weight_name):\n",
    "  key = 'img_id'+str(idx)+'_batch_'+str(batch_id)\n",
    "  if key not in w_images:\n",
    "    w_images[key] = {}\n",
    "    w_images[key]['location'] = []\n",
    "    w_images[key]['location'].append((weight_name, row, column, old_state, new_state))\n",
    "    w_images[key]['weight_states'] = []\n",
    "    w_images[key]['weight_states'].append(weight_name + ' : ' + str(old_state) + ' --> ' + str(new_state))\n",
    "\n",
    "  else:\n",
    "    w_images[key]['location'].append((weight_name, row, column, old_state, new_state))\n",
    "    w_images[key]['weight_states'].append(weight_name + ' : ' + str(old_state) + ' --> ' + str(new_state))"
   ]
  },
  {
   "cell_type": "code",
   "execution_count": 29,
   "metadata": {
    "executionInfo": {
     "elapsed": 206,
     "status": "ok",
     "timestamp": 1656516542617,
     "user": {
      "displayName": "Abhishek kumar Mishra",
      "userId": "13515131134791977528"
     },
     "user_tz": 240
    },
    "id": "Tb0jVhzUo2oX"
   },
   "outputs": [],
   "source": [
    "# For bias weight mutation\n",
    "\n",
    "def bias_mutation(st, superSet, w_images, img,label, batch_id, weight_name):\n",
    "\n",
    "  if ('pos' in pos_neg_layerwise[weight_name]) and ('neg' in pos_neg_layerwise[weight_name]):\n",
    "    un = pos_neg_layerwise[weight_name]['pos'], pos_neg_layerwise[weight_name]['neg']\n",
    "\n",
    "    var_neg1 = torch.where(st==un[1])[0]\n",
    "    var_1 = torch.where(st==un[0])[0]\n",
    "\n",
    "  else:\n",
    "    try:\n",
    "      un = pos_neg_layerwise[weight_name]['pos']\n",
    "\n",
    "      var_neg1 = torch.where(st==un*1000)[0]\n",
    "      var_1 = torch.where(st==un)[0]\n",
    "\n",
    "    except KeyError:\n",
    "      un = pos_neg_layerwise[weight_name]['neg']\n",
    "\n",
    "      var_neg1 = torch.where(st==un)[0]\n",
    "      var_1 = torch.where(st==un*1000)[0]\n",
    "\n",
    "\n",
    "  if (var_neg1.nelement() == 0.) and (var_1.nelement() == 0.):\n",
    "    pass\n",
    "  elif (var_neg1.nelement() > 0):\n",
    "    for column, column1, column2 in zip(var_neg1, torch.flip(var_neg1, dims=(0,)), torch.roll(var_neg1, 2)):\n",
    "      row = 0\n",
    "      column = column.item()\n",
    "      column1 = column1.item()\n",
    "      column2 = column2.item()\n",
    "\n",
    "      org_val_real = st[column].item() # For bias part\n",
    "\n",
    "      if type(un) == tuple:\n",
    "          pos, neg = un   # Positive, Negative \n",
    "          if (org_val_real < 0.) and (org_val_real == neg):\n",
    "            org_val = neg\n",
    "            old_state = neg\n",
    "\n",
    "            new_state = 0.\n",
    "            superSet.add((weight_name, row, column, -1, 0))\n",
    "\n",
    "            # Injecting multiple faults (three)\n",
    "            st[column] = new_state\n",
    "            st[column1] = new_state\n",
    "            st[column2] = new_state\n",
    "\n",
    "            \"\"\"getResult() will tell whether the passed test example is classified to other class\n",
    "            or not after mutation, if it is classified to other class, then it returns True else False and \n",
    "            populateResults() will maintain the record of test examples which has been misclassified\n",
    "            like location(row(which neuron), column(indices)), old_state(old_value of weight element), \n",
    "            new_state (mutated value of weight element), images\"\"\"\n",
    "\n",
    "            \n",
    "            [populateResults1(idx.item(), batch_id, -1, 0, w_images, row, column, weight_name) \\\n",
    "              for idx in getResult(img, label, model, state_dict)]\n",
    "          \n",
    "            new_state = pos\n",
    "            superSet.add((weight_name, row, column, -1, 1))\n",
    "\n",
    "            # Injecting multiple faults (three)\n",
    "            st[column] = new_state\n",
    "            st[column1] = new_state\n",
    "            st[column2] = new_state\n",
    "\n",
    "            [populateResults1(idx.item(), batch_id, -1, 1, w_images, row, column, weight_name) \\\n",
    "              for idx in getResult(img, label, model, state_dict)]\n",
    "            \n",
    "            st[column] = org_val\n",
    "            st[column1] = org_val\n",
    "            st[column2] = org_val\n",
    "\n",
    "\n",
    "      ############# Negative ################################\n",
    "      elif (un < 0) and (org_val_real == un):\n",
    "          org_val = un\n",
    "          old_state = un\n",
    "          new_state = 0.\n",
    "          superSet.add((weight_name, row, column, -1, 0))\n",
    "\n",
    "          # Injecting multiple faults (two)\n",
    "          st[column] = new_state\n",
    "          st[column1] = new_state\n",
    "          st[column2] = new_state\n",
    "            \n",
    "          [populateResults1(idx.item(), batch_id, -1, 0, w_images, row, column, weight_name) \\\n",
    "           for idx in getResult(img, label, model, state_dict)]\n",
    "          \n",
    "          st[column] = org_val\n",
    "          st[column1] = org_val\n",
    "          st[column2] = org_val\n",
    "\n",
    "      #################################################################################################################"
   ]
  },
  {
   "cell_type": "code",
   "execution_count": 30,
   "metadata": {
    "executionInfo": {
     "elapsed": 14,
     "status": "ok",
     "timestamp": 1656516542618,
     "user": {
      "displayName": "Abhishek kumar Mishra",
      "userId": "13515131134791977528"
     },
     "user_tz": 240
    },
    "id": "oaZX0ddzo2rG"
   },
   "outputs": [],
   "source": [
    "# Saving length of shape for each layer\n",
    "layers_shape = {}\n",
    "\n",
    "for i in layer_name:\n",
    "  layers_shape[i] = len(state_dict[i].shape)"
   ]
  },
  {
   "cell_type": "code",
   "execution_count": 31,
   "metadata": {
    "colab": {
     "base_uri": "https://localhost:8080/"
    },
    "executionInfo": {
     "elapsed": 12,
     "status": "ok",
     "timestamp": 1656516542619,
     "user": {
      "displayName": "Abhishek kumar Mishra",
      "userId": "13515131134791977528"
     },
     "user_tz": 240
    },
    "id": "PFbz-pOzo2tw",
    "outputId": "90761e50-437d-49fb-f6a4-35bc9833f6eb"
   },
   "outputs": [
    {
     "name": "stdout",
     "output_type": "stream",
     "text": [
      "{'features.0.weight': 4, 'features.0.bias': 1, 'features.1.weight': 1, 'features.1.bias': 1, 'features.3.weight': 4, 'features.3.bias': 1, 'features.6.weight': 4, 'features.6.bias': 1, 'features.7.weight': 1, 'features.7.bias': 1, 'features.9.weight': 4, 'features.9.bias': 1, 'features.11.weight': 4, 'features.11.bias': 1, 'classifier.1.weight': 2, 'classifier.1.bias': 1, 'classifier.3.weight': 2, 'classifier.3.bias': 1, 'classifier.5.weight': 2, 'classifier.5.bias': 1}\n"
     ]
    }
   ],
   "source": [
    "print(layers_shape)"
   ]
  },
  {
   "cell_type": "code",
   "execution_count": 32,
   "metadata": {
    "colab": {
     "base_uri": "https://localhost:8080/"
    },
    "executionInfo": {
     "elapsed": 1211004,
     "status": "ok",
     "timestamp": 1656517760157,
     "user": {
      "displayName": "Abhishek kumar Mishra",
      "userId": "13515131134791977528"
     },
     "user_tz": 240
    },
    "id": "NuNNlCH0o2wG",
    "outputId": "a9874d64-33e3-4042-cee0-f30d6e591734"
   },
   "outputs": [
    {
     "name": "stderr",
     "output_type": "stream",
     "text": [
      "\r",
      "  0%|          | 0/10 [00:00<?, ?it/s]"
     ]
    },
    {
     "name": "stdout",
     "output_type": "stream",
     "text": [
      "Total number of elements in superSet is : 2566. \n",
      "\n"
     ]
    },
    {
     "name": "stderr",
     "output_type": "stream",
     "text": [
      "\r",
      " 10%|█         | 1/10 [02:00<18:04, 120.46s/it]"
     ]
    },
    {
     "name": "stdout",
     "output_type": "stream",
     "text": [
      "There are 240 locations that did not match.\n",
      "\n",
      "Total number of locations 2326 are encompassed out of 2566.\n",
      "Total number of elements in a weight matrix is  2566\n",
      "Total number of images fetched  24 \n",
      "\n",
      "Output \n",
      "\n",
      "[(24, 2326, 2566)]\n",
      "Total number of elements in superSet is : 2566. \n",
      "\n"
     ]
    },
    {
     "name": "stderr",
     "output_type": "stream",
     "text": [
      "\r",
      " 20%|██        | 2/10 [04:00<16:03, 120.42s/it]"
     ]
    },
    {
     "name": "stdout",
     "output_type": "stream",
     "text": [
      "There are 112 locations that did not match.\n",
      "\n",
      "Total number of locations 2454 are encompassed out of 2566.\n",
      "Total number of elements in a weight matrix is  2566\n",
      "Total number of images fetched  33 \n",
      "\n",
      "Output \n",
      "\n",
      "[(24, 2326, 2566), (33, 2454, 2566)]\n",
      "Total number of elements in superSet is : 2566. \n",
      "\n"
     ]
    },
    {
     "name": "stderr",
     "output_type": "stream",
     "text": [
      "\r",
      " 30%|███       | 3/10 [06:01<14:03, 120.43s/it]"
     ]
    },
    {
     "name": "stdout",
     "output_type": "stream",
     "text": [
      "There are 106 locations that did not match.\n",
      "\n",
      "Total number of locations 2460 are encompassed out of 2566.\n",
      "Total number of elements in a weight matrix is  2566\n",
      "Total number of images fetched  36 \n",
      "\n",
      "Output \n",
      "\n",
      "[(24, 2326, 2566), (33, 2454, 2566), (36, 2460, 2566)]\n",
      "Total number of elements in superSet is : 2566. \n",
      "\n"
     ]
    },
    {
     "name": "stderr",
     "output_type": "stream",
     "text": [
      "\r",
      " 40%|████      | 4/10 [08:02<12:03, 120.54s/it]"
     ]
    },
    {
     "name": "stdout",
     "output_type": "stream",
     "text": [
      "There are 104 locations that did not match.\n",
      "\n",
      "Total number of locations 2462 are encompassed out of 2566.\n",
      "Total number of elements in a weight matrix is  2566\n",
      "Total number of images fetched  37 \n",
      "\n",
      "Output \n",
      "\n",
      "[(24, 2326, 2566), (33, 2454, 2566), (36, 2460, 2566), (37, 2462, 2566)]\n",
      "Total number of elements in superSet is : 2566. \n",
      "\n"
     ]
    },
    {
     "name": "stderr",
     "output_type": "stream",
     "text": [
      "\r",
      " 50%|█████     | 5/10 [10:02<10:02, 120.42s/it]"
     ]
    },
    {
     "name": "stdout",
     "output_type": "stream",
     "text": [
      "There are 81 locations that did not match.\n",
      "\n",
      "Total number of locations 2485 are encompassed out of 2566.\n",
      "Total number of elements in a weight matrix is  2566\n",
      "Total number of images fetched  47 \n",
      "\n",
      "Output \n",
      "\n",
      "[(24, 2326, 2566), (33, 2454, 2566), (36, 2460, 2566), (37, 2462, 2566), (47, 2485, 2566)]\n",
      "Total number of elements in superSet is : 2566. \n",
      "\n"
     ]
    },
    {
     "name": "stderr",
     "output_type": "stream",
     "text": [
      "\r",
      " 60%|██████    | 6/10 [12:02<08:01, 120.40s/it]"
     ]
    },
    {
     "name": "stdout",
     "output_type": "stream",
     "text": [
      "There are 78 locations that did not match.\n",
      "\n",
      "Total number of locations 2488 are encompassed out of 2566.\n",
      "Total number of elements in a weight matrix is  2566\n",
      "Total number of images fetched  42 \n",
      "\n",
      "Output \n",
      "\n",
      "[(24, 2326, 2566), (33, 2454, 2566), (36, 2460, 2566), (37, 2462, 2566), (47, 2485, 2566), (42, 2488, 2566)]\n",
      "Total number of elements in superSet is : 2566. \n",
      "\n"
     ]
    },
    {
     "name": "stderr",
     "output_type": "stream",
     "text": [
      "\r",
      " 70%|███████   | 7/10 [14:03<06:01, 120.50s/it]"
     ]
    },
    {
     "name": "stdout",
     "output_type": "stream",
     "text": [
      "There are 72 locations that did not match.\n",
      "\n",
      "Total number of locations 2494 are encompassed out of 2566.\n",
      "Total number of elements in a weight matrix is  2566\n",
      "Total number of images fetched  35 \n",
      "\n",
      "Output \n",
      "\n",
      "[(24, 2326, 2566), (33, 2454, 2566), (36, 2460, 2566), (37, 2462, 2566), (47, 2485, 2566), (42, 2488, 2566), (35, 2494, 2566)]\n",
      "Total number of elements in superSet is : 2566. \n",
      "\n"
     ]
    },
    {
     "name": "stderr",
     "output_type": "stream",
     "text": [
      "\r",
      " 80%|████████  | 8/10 [16:05<04:01, 120.92s/it]"
     ]
    },
    {
     "name": "stdout",
     "output_type": "stream",
     "text": [
      "There are 65 locations that did not match.\n",
      "\n",
      "Total number of locations 2501 are encompassed out of 2566.\n",
      "Total number of elements in a weight matrix is  2566\n",
      "Total number of images fetched  37 \n",
      "\n",
      "Output \n",
      "\n",
      "[(24, 2326, 2566), (33, 2454, 2566), (36, 2460, 2566), (37, 2462, 2566), (47, 2485, 2566), (42, 2488, 2566), (35, 2494, 2566), (37, 2501, 2566)]\n",
      "Total number of elements in superSet is : 2566. \n",
      "\n"
     ]
    },
    {
     "name": "stderr",
     "output_type": "stream",
     "text": [
      "\r",
      " 90%|█████████ | 9/10 [18:07<02:01, 121.44s/it]"
     ]
    },
    {
     "name": "stdout",
     "output_type": "stream",
     "text": [
      "There are 62 locations that did not match.\n",
      "\n",
      "Total number of locations 2504 are encompassed out of 2566.\n",
      "Total number of elements in a weight matrix is  2566\n",
      "Total number of images fetched  34 \n",
      "\n",
      "Output \n",
      "\n",
      "[(24, 2326, 2566), (33, 2454, 2566), (36, 2460, 2566), (37, 2462, 2566), (47, 2485, 2566), (42, 2488, 2566), (35, 2494, 2566), (37, 2501, 2566), (34, 2504, 2566)]\n",
      "Total number of elements in superSet is : 2566. \n",
      "\n"
     ]
    },
    {
     "name": "stderr",
     "output_type": "stream",
     "text": [
      "100%|██████████| 10/10 [20:10<00:00, 121.00s/it]"
     ]
    },
    {
     "name": "stdout",
     "output_type": "stream",
     "text": [
      "There are 61 locations that did not match.\n",
      "\n",
      "Total number of locations 2505 are encompassed out of 2566.\n",
      "Total number of elements in a weight matrix is  2566\n",
      "Total number of images fetched  37 \n",
      "\n",
      "Output \n",
      "\n",
      "[(24, 2326, 2566), (33, 2454, 2566), (36, 2460, 2566), (37, 2462, 2566), (47, 2485, 2566), (42, 2488, 2566), (35, 2494, 2566), (37, 2501, 2566), (34, 2504, 2566), (37, 2505, 2566)]\n"
     ]
    },
    {
     "name": "stderr",
     "output_type": "stream",
     "text": [
      "\n"
     ]
    }
   ],
   "source": [
    "# Injecting fault by mutating the ternary weight and check whether it is classified to other class than before by the model. \n",
    "\n",
    "fetchimg_totImg_coverage_totCov = []\n",
    "\n",
    "w_images = {}\n",
    "superSet = set()\n",
    "\n",
    "\n",
    "batch_id = 0\n",
    "for img,label  in tqdm(pseudo_dataLoader):\n",
    "\n",
    "    for weight_name in layer_name:\n",
    "\n",
    "        # Selecting hidden layer to iterate its weight elements\n",
    "        st = state_dict[weight_name]\n",
    "\n",
    "\n",
    "        if ('bias' in weight_name) or (layers_shape[weight_name] == 1):\n",
    "          bias_mutation(st, superSet, w_images, img,label, batch_id, weight_name)\n",
    "          continue\n",
    "\n",
    "        if ('conv' in weight_name) or (layers_shape[weight_name] == 4):\n",
    "\n",
    "          ic, oc, k,k1 = st.shape # ic = in_channel, oc= out_channel, k and k1 is the number of rows and columns of a kernel\n",
    "\n",
    "          for n_ic in range(ic):\n",
    "            for n_oc in range(oc):\n",
    "              kt =  st[n_ic][n_oc] # Fetching Kernel matrix or tensor\n",
    "\n",
    "              # Iterating number of neurons for the selected hidden layer\n",
    "              for row in range(k):\n",
    "\n",
    "                # Fetching indices for -w and w weight value for the selected kernel\n",
    "                \"\"\"Since each kernel has weight vector, so by fetching indices\n",
    "                we will come to know, which indices of the kernel contains weights -w or w weight\"\"\"\n",
    "\n",
    "                ###########################################################################################\n",
    "\n",
    "                if ('pos' in pos_neg_layerwise[weight_name]) and ('neg' in pos_neg_layerwise[weight_name]):\n",
    "                  un = pos_neg_layerwise[weight_name]['pos'], pos_neg_layerwise[weight_name]['neg']\n",
    "\n",
    "                  var_neg1 = torch.where(kt[row]==un[1])[0]\n",
    "                  var_1 = torch.where(kt[row]==un[0])[0]\n",
    "\n",
    "                else:\n",
    "                  try:\n",
    "                    un = pos_neg_layerwise[weight_name]['pos']\n",
    "\n",
    "                    var_neg1 = torch.where(kt[row]==un*1000)[0]\n",
    "                    var_1 = torch.where(kt[row]==un)[0]\n",
    "\n",
    "                  except KeyError:\n",
    "                    un = pos_neg_layerwise[weight_name]['neg']\n",
    "\n",
    "                    var_neg1 = torch.where(kt[row]==un)[0]\n",
    "                    var_1 = torch.where(kt[row]==un*1000)[0]\n",
    "\n",
    "                ##########################################################################################\n",
    "      \n",
    "\n",
    "                if (var_neg1.nelement() == 0.) and (var_1.nelement() == 0.):\n",
    "                  continue\n",
    "                elif (var_neg1.nelement() > 0):\n",
    "                  for column, column1, column2 in zip(var_neg1, torch.flip(var_neg1, dims=(0,)), torch.roll(var_neg1, 2)):\n",
    "\n",
    "                    column = column.item()\n",
    "                    column1 = column1.item()\n",
    "                    column2 = column2.item()\n",
    "\n",
    "                    org_val_real = kt[row][column].item()\n",
    "\n",
    "                    ##################################################################################################################\n",
    "\n",
    "                    if type(un) == tuple:\n",
    "                      pos, neg = un  # Positive, Negative\n",
    "\n",
    "                      if (org_val_real < 0.) and (org_val_real == neg):\n",
    "                        org_val = neg\n",
    "                        old_state = neg\n",
    "                        new_state = 0.\n",
    "                        superSet.add((weight_name, n_ic, n_oc, row, column, -1, 0))\n",
    "\n",
    "                        # Injecting multiple faults (three)\n",
    "                        st[n_ic][n_oc][row][column] = new_state\n",
    "                        st[n_ic][n_oc][row][column1] = new_state\n",
    "                        st[n_ic][n_oc][row][column2] = new_state\n",
    "                        \n",
    "                        \"\"\"getResult() will tell whether the passed test example is classified to other class\n",
    "                        or not after mutation, if it is classified to other class, then it returns True else False and \n",
    "                        populateResults() will maintain the record of test examples which has been misclassified\n",
    "                        like location(row(which neuron), column(indices)), old_state(old_value of weight element), \n",
    "                        new_state (mutated value of weight element), images\"\"\"\n",
    "\n",
    "                        \n",
    "                        [populateResults(idx.item(), batch_id, -1, 0, w_images, n_ic, n_oc, row, column, weight_name) \\\n",
    "                         for idx in getResult(img, label, model, state_dict)]\n",
    "                        \n",
    "                        new_state = pos\n",
    "                        superSet.add((weight_name, n_ic, n_oc, row, column, -1, 1))\n",
    "\n",
    "                        # Injecting multiple faults (three)\n",
    "                        st[n_ic][n_oc][row][column] = new_state\n",
    "                        st[n_ic][n_oc][row][column1] = new_state\n",
    "                        st[n_ic][n_oc][row][column2] = new_state\n",
    "\n",
    "                            \n",
    "                        [populateResults(idx.item(), batch_id, -1, 1, w_images, n_ic, n_oc, row, column, weight_name) \\\n",
    "                         for idx in getResult(img, label, model, state_dict)]\n",
    "                        st[n_ic][n_oc][row][column] = org_val # Setting back to original value\n",
    "                        st[n_ic][n_oc][row][column1] = org_val\n",
    "                        st[n_ic][n_oc][row][column2] = org_val\n",
    "                    \n",
    "\n",
    "\n",
    "\n",
    "                    elif (un < 0) and (org_val_real == un): ########################## Negative ###########################################\n",
    "                      org_val = un\n",
    "                      old_state = un\n",
    "                      new_state = 0.\n",
    "                      superSet.add((weight_name,  n_ic, n_oc, row, column, -1, 0))\n",
    "\n",
    "                      # Injecting multiple faults (three)\n",
    "                      st[n_ic][n_oc][row][column] = new_state\n",
    "                      st[n_ic][n_oc][row][column1] = new_state\n",
    "                      st[n_ic][n_oc][row][column2] = new_state\n",
    "                        \n",
    "                      [populateResults(idx.item(), batch_id, -1, 0, w_images, n_ic, n_oc, row, column, weight_name) \\\n",
    "                       for idx in getResult(img, label, model, state_dict)]\n",
    "                      \n",
    "                      st[n_ic][n_oc][row][column] = org_val\n",
    "                      st[n_ic][n_oc][row][column1] = org_val\n",
    "                      st[n_ic][n_oc][row][column2] = org_val\n",
    "\n",
    "\n",
    "    \n",
    "            \n",
    "        \n",
    "        # For fully connected layers\n",
    "        elif layers_shape[weight_name] == 2:\n",
    "          rows = state_dict[weight_name].shape[0]\n",
    "\n",
    "          # Iterating number of neurons for the selected hidden layer\n",
    "          for row in range(rows):\n",
    "\n",
    "            # Fetching indices for -w and w weight value for the selected neuron\n",
    "            \"\"\"Since each neuron has weight vector, so by fetching indices\n",
    "            we will come to know, which indices of the neuron contains weights -w or w weight\"\"\"\n",
    "\n",
    "            #########################################################################################\n",
    "\n",
    "            if ('pos' in pos_neg_layerwise[weight_name]) and ('neg' in pos_neg_layerwise[weight_name]):\n",
    "              un = pos_neg_layerwise[weight_name]['pos'], pos_neg_layerwise[weight_name]['neg']\n",
    "\n",
    "              var_neg1 = torch.where(st[row]==un[1])[0]\n",
    "              var_1 = torch.where(st[row]==un[0])[0]\n",
    "\n",
    "            else:\n",
    "              try:\n",
    "                un = pos_neg_layerwise[weight_name]['pos']\n",
    "\n",
    "                var_neg1 = torch.where(st[row]==un*1000)[0]\n",
    "                var_1 = torch.where(st[row]==un)[0]\n",
    "\n",
    "              except KeyError:\n",
    "                un = pos_neg_layerwise[weight_name]['neg']\n",
    "\n",
    "                var_neg1 = torch.where(st[row]==un)[0]\n",
    "                var_1 = torch.where(st[row]==un*1000)[0]\n",
    "\n",
    "\n",
    "            #########################################################################################\n",
    "\n",
    "\n",
    "            if (var_neg1.nelement() == 0.) and (var_1.nelement() == 0.):\n",
    "              continue\n",
    "            elif (var_neg1.nelement() > 0):\n",
    "              for column, column1, column2 in zip(var_neg1, torch.flip(var_neg1, dims=(0,)), torch.roll(var_neg1, 2)):\n",
    "\n",
    "                column = column.item()\n",
    "                column1 = column1.item()\n",
    "                column2 = column2.item()\n",
    "\n",
    "                org_val_v1 = st[row][column].item()\n",
    "\n",
    "\n",
    "                #########################################################################################\n",
    "\n",
    "                if type(un) == tuple:\n",
    "                  pos, neg = un  # Positive, Negative\n",
    "\n",
    "                  if (org_val_v1 < 0.) and (neg == org_val_v1):\n",
    "\n",
    "                    org_val = neg\n",
    "                    old_state = neg\n",
    "                    new_state = 0.\n",
    "                    superSet.add((weight_name, row, column, -1, 0))\n",
    "\n",
    "                    # Injecting multiple faults (three)\n",
    "                    st[row][column] = new_state\n",
    "                    st[row][column1] = new_state\n",
    "                    st[row][column2] = new_state\n",
    "                    \n",
    "                    [populateResults1(idx.item(), batch_id, -1, 0, w_images, row, column, weight_name) \\\n",
    "                     for idx in getResult(img, label, model, state_dict)]\n",
    "                    \n",
    "                    new_state = pos\n",
    "                    superSet.add((weight_name, row, column, -1, 1))\n",
    "\n",
    "                    # Injecting multiple faults (three)\n",
    "                    st[row][column] = new_state\n",
    "                    st[row][column1] = new_state\n",
    "                    st[row][column2] = new_state\n",
    "                        \n",
    "                    [populateResults1(idx.item(), batch_id, -1, 1, w_images, row, column, weight_name) \\\n",
    "                     for idx in getResult(img, label, model, state_dict)]\n",
    "                    st[row][column] = org_val\n",
    "                    st[row][column1] = org_val\n",
    "                    st[row][column2] = org_val\n",
    "\n",
    "\n",
    " \n",
    "                elif (un < 0) and (un == org_val_v1):  ################# Negative ###############################################################\n",
    "                  org_val = un  \n",
    "                  old_state = un\n",
    "                  new_state = 0.\n",
    "                  superSet.add((weight_name, row, column, -1, 0))\n",
    "\n",
    "                  # Injecting multiple faults (three)\n",
    "                  st[row][column] = new_state\n",
    "                  st[row][column1] = new_state\n",
    "                  st[row][column2] = new_state\n",
    "                    \n",
    "                  [populateResults1(idx.item(), batch_id, -1, 0, w_images, row, column, weight_name) \\\n",
    "                   for idx in getResult(img, label, model, state_dict)]\n",
    "\n",
    "                  st[row][column] = org_val\n",
    "                  st[row][column1] = org_val\n",
    "                  st[row][column2] = org_val\n",
    "\n",
    "\n",
    "\n",
    "    batch_id += 1\n",
    "\n",
    "\n",
    "    # Fetching locations and total number of images\n",
    "    ################################################\n",
    "\n",
    "    print(f\"Total number of elements in superSet is : {len(superSet)}.\",'\\n')\n",
    "\n",
    "    # joblib.dump(w_images, open('w_images_'+str(batch_id)+'.pkl','wb')) \n",
    "\n",
    "    image_locCounts = [] # (image_id,locationCounts)\n",
    "\n",
    "    for img in w_images.keys():\n",
    "        locCounts = len(w_images[img]['location'])\n",
    "        image_locCounts.append((locCounts,img))\n",
    "            \n",
    "    image_locCounts.sort(reverse=True)\n",
    "\n",
    "\n",
    "    netSetOfImages = []\n",
    "    progressingSet = []\n",
    "    max_locCounts_img = image_locCounts[0][1] # An image that has encompassed maximum locations.\n",
    "\n",
    "    netSetOfImages.append(max_locCounts_img)\n",
    "    progressingSet += set(w_images[max_locCounts_img]['location'])\n",
    "\n",
    "\n",
    "    for i in range(1,len(image_locCounts)):\n",
    "        img = image_locCounts[i][1]\n",
    "        locs = w_images[img]['location']\n",
    "\n",
    "        if set(locs).issubset(progressingSet):\n",
    "            pass\n",
    "        else:\n",
    "            progressingSet += list(set(locs) - set(progressingSet))\n",
    "            netSetOfImages.append(img)\n",
    "\n",
    "\n",
    "    if set(superSet).issubset(progressingSet):\n",
    "        print(\"All match done!\")\n",
    "    else:\n",
    "        print(\"There are {} locations that did not match.\".format(len(set(superSet) - set(progressingSet))))\n",
    "\n",
    "    print()\n",
    "    print(\"Total number of locations {} are encompassed out of {}.\".format(len(set(progressingSet)), len(superSet)))\n",
    "\n",
    "\n",
    "    print(\"Total number of elements in a weight matrix is \", len(superSet))\n",
    "\n",
    "    print(\"Total number of images fetched \",len(netSetOfImages),'\\n')\n",
    "\n",
    "    fetchimg_totImg_coverage_totCov.append(( len(netSetOfImages), len(set(progressingSet)), len(superSet) ))\n",
    "\n",
    "    # joblib.dump(fetchimg_totImg_coverage_totCov, open('res'+str(numImgs)+'.pkl','wb')) \n",
    "\n",
    "    # Superset \n",
    "    # joblib.dump(superSet, open('superSet.pkl','wb'))    \n",
    "\n",
    "                \n",
    "      \n",
    "    print(\"Output \\n\")\n",
    "    print(fetchimg_totImg_coverage_totCov)\n",
    "\n",
    "    #joblib.dump(fetchimg_totImg_coverage_totCov, open('op_128.pkl', 'wb'))\n"
   ]
  },
  {
   "cell_type": "code",
   "execution_count": 33,
   "metadata": {
    "colab": {
     "base_uri": "https://localhost:8080/"
    },
    "executionInfo": {
     "elapsed": 173,
     "status": "ok",
     "timestamp": 1656517778321,
     "user": {
      "displayName": "Abhishek kumar Mishra",
      "userId": "13515131134791977528"
     },
     "user_tz": 240
    },
    "id": "1YDR3arJE30x",
    "outputId": "91a2eca2-f5b0-4ccf-be2d-1230833f47c2"
   },
   "outputs": [
    {
     "data": {
      "text/plain": [
       "0.9762275915822292"
      ]
     },
     "execution_count": 33,
     "metadata": {},
     "output_type": "execute_result"
    }
   ],
   "source": [
    "# Fault coverage\n",
    "fetchimg_totImg_coverage_totCov[-1][1]/fetchimg_totImg_coverage_totCov[-1][2]"
   ]
  },
  {
   "cell_type": "code",
   "execution_count": null,
   "metadata": {
    "id": "jh7vB-6dtttm"
   },
   "outputs": [],
   "source": []
  }
 ],
 "metadata": {
  "accelerator": "GPU",
  "colab": {
   "authorship_tag": "ABX9TyOO5Hzx3syHo9N2WNSPlPi2",
   "collapsed_sections": [],
   "mount_file_id": "1grm5b8hZdyb7iq-ptiWyVMq32j19q4BW",
   "name": "3_Main_AlexNet_monotonic_increasing.ipynb",
   "provenance": []
  },
  "kernelspec": {
   "display_name": "Python 3",
   "language": "python",
   "name": "python3"
  },
  "language_info": {
   "codemirror_mode": {
    "name": "ipython",
    "version": 3
   },
   "file_extension": ".py",
   "mimetype": "text/x-python",
   "name": "python",
   "nbconvert_exporter": "python",
   "pygments_lexer": "ipython3",
   "version": "3.7.3"
  }
 },
 "nbformat": 4,
 "nbformat_minor": 1
}
