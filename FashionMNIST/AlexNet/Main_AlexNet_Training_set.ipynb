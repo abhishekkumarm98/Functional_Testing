{
 "cells": [
  {
   "cell_type": "code",
   "execution_count": null,
   "metadata": {},
   "outputs": [],
   "source": [
    "cd FashionMNIST/AlexNet"
   ]
  },
  {
   "cell_type": "code",
   "execution_count": null,
   "metadata": {
    "id": "KXMJB6isiRyk"
   },
   "outputs": [],
   "source": [
    "import numpy as np, joblib\n",
    "import sys, os, random\n",
    "import matplotlib.pyplot as plt\n",
    "import pickle, gzip\n",
    "from tqdm import tqdm,tqdm_notebook\n",
    "import torch\n",
    "import torchvision\n",
    "from torch import nn\n",
    "from torch.autograd import Variable\n",
    "import torch.optim as optim\n",
    "import torch.nn.functional as F\n",
    "from torchvision import datasets, transforms\n",
    "from torch.utils.data import Dataset, DataLoader\n",
    "from torch.utils.data.sampler import SubsetRandomSampler"
   ]
  },
  {
   "cell_type": "code",
   "execution_count": null,
   "metadata": {
    "id": "0ok6X5PjkKFX"
   },
   "outputs": [],
   "source": [
    "batch_size = 128\n",
    "seed_num = 1000\n",
    "\n",
    "# For reproducibility when you run the file with .py\n",
    "torch.cuda.is_available()\n",
    "torch.manual_seed(seed_num)\n",
    "torch.cuda.manual_seed(seed_num)\n",
    "np.random.seed(seed_num)\n",
    "random.seed(seed_num)\n",
    "torch.backends.cudnn.benchmark = True\n",
    "\n",
    "torch.backends.cudnn.deterministic =True"
   ]
  },
  {
   "cell_type": "code",
   "execution_count": null,
   "metadata": {
    "id": "10agOYLDkidx"
   },
   "outputs": [],
   "source": [
    "# Data Augmentation \n",
    "train_transform = transforms.Compose([transforms.ToTensor(),transforms.Normalize([0.2860,],[0.3205,])])\n",
    "test_transform = transforms.Compose([transforms.ToTensor(),transforms.Normalize([0.2860,],[0.3205,])])\n",
    "\n",
    "# Splitting the training and test datasets\n",
    "train_data = datasets.FashionMNIST(os.getcwd(), train=True,\n",
    "                              download=True, transform=train_transform)\n",
    "test_data = datasets.FashionMNIST(os.getcwd(), train=False,\n",
    "                             download=True, transform=test_transform)"
   ]
  },
  {
   "cell_type": "code",
   "execution_count": null,
   "metadata": {
    "id": "5GnCuQ91lCty"
   },
   "outputs": [],
   "source": [
    "# Split the training set indices into training and validation set indices using 84:16 ratio\n",
    "np.random.seed(seed_num)\n",
    "len_trainset = len(train_data)\n",
    "index_list = list(range(len_trainset))\n",
    "np.random.shuffle(index_list)\n",
    "split_index = 50000\n",
    "train_indices, valid_indices =  index_list[:split_index], index_list[split_index:]\n",
    "\n",
    "# Creating Samplers for training and validation set using the indices\n",
    "np.random.seed(seed_num)\n",
    "train_sampler = SubsetRandomSampler(train_indices)\n",
    "valid_sampler = SubsetRandomSampler(valid_indices)\n",
    "\n",
    "torch.manual_seed(seed_num)\n",
    "\n",
    "train_iterator = DataLoader(train_data, batch_size=batch_size, sampler=train_sampler)\n",
    "val_iterator = DataLoader(train_data, batch_size=batch_size, sampler=valid_sampler)\n",
    "test_iterator = DataLoader(test_data, batch_size=batch_size, shuffle=True)\n"
   ]
  },
  {
   "cell_type": "code",
   "execution_count": null,
   "metadata": {
    "id": "4D-XvGNzlJn_"
   },
   "outputs": [],
   "source": [
    "# AlexNet Model\n",
    "\n",
    "class AlexNet(nn.Module):\n",
    "    def __init__(self, output_dim):\n",
    "        super().__init__()\n",
    "        \n",
    "        self.features = nn.Sequential(\n",
    "            nn.Conv2d(1, 32, 3, 1), #in_channels, out_channels, kernel_size, stride, padding\n",
    "            nn.BatchNorm2d(32),\n",
    "            nn.ReLU(inplace = True),\n",
    "            nn.Conv2d(32, 64, 3, padding = 1),\n",
    "            nn.MaxPool2d(kernel_size=2, stride=2),\n",
    "            nn.ReLU(inplace = True),\n",
    "\n",
    "            nn.Conv2d(64, 128, 3, padding = 1),\n",
    "            nn.BatchNorm2d(128),\n",
    "            nn.ReLU(inplace = True),\n",
    "            nn.Conv2d(128, 256, 3, padding = 1),\n",
    "            nn.ReLU(inplace = True),\n",
    "            nn.Conv2d(256, 256, 3, padding = 1),\n",
    "            nn.ReLU(inplace = True),\n",
    "            nn.MaxPool2d(kernel_size=2, stride=2),\n",
    "            \n",
    "        )\n",
    "        \n",
    "        self.classifier = nn.Sequential(\n",
    "            nn.Dropout(0.1),\n",
    "            nn.Linear(256 * 6 * 6, 256),\n",
    "            nn.ReLU(inplace = True),\n",
    "            nn.Linear(256,256),\n",
    "            nn.ReLU(inplace = True),\n",
    "            nn.Linear(256, output_dim),\n",
    "        )\n",
    "\n",
    "\n",
    "    def forward(self, x):\n",
    "        x = self.features(x)\n",
    "        h = x.view(x.size(0), -1)\n",
    "        x = self.classifier(h)\n",
    "        \n",
    "        return x"
   ]
  },
  {
   "cell_type": "code",
   "execution_count": null,
   "metadata": {
    "colab": {
     "base_uri": "https://localhost:8080/"
    },
    "id": "W-97MR9BlJrW",
    "outputId": "d4073253-cc72-487d-80e0-1d0cbd8ac6fe"
   },
   "outputs": [
    {
     "name": "stdout",
     "output_type": "stream",
     "text": [
      "Model:\n",
      " AlexNet(\n",
      "  (features): Sequential(\n",
      "    (0): Conv2d(1, 32, kernel_size=(3, 3), stride=(1, 1))\n",
      "    (1): BatchNorm2d(32, eps=1e-05, momentum=0.1, affine=True, track_running_stats=True)\n",
      "    (2): ReLU(inplace=True)\n",
      "    (3): Conv2d(32, 64, kernel_size=(3, 3), stride=(1, 1), padding=(1, 1))\n",
      "    (4): MaxPool2d(kernel_size=2, stride=2, padding=0, dilation=1, ceil_mode=False)\n",
      "    (5): ReLU(inplace=True)\n",
      "    (6): Conv2d(64, 128, kernel_size=(3, 3), stride=(1, 1), padding=(1, 1))\n",
      "    (7): BatchNorm2d(128, eps=1e-05, momentum=0.1, affine=True, track_running_stats=True)\n",
      "    (8): ReLU(inplace=True)\n",
      "    (9): Conv2d(128, 256, kernel_size=(3, 3), stride=(1, 1), padding=(1, 1))\n",
      "    (10): ReLU(inplace=True)\n",
      "    (11): Conv2d(256, 256, kernel_size=(3, 3), stride=(1, 1), padding=(1, 1))\n",
      "    (12): ReLU(inplace=True)\n",
      "    (13): MaxPool2d(kernel_size=2, stride=2, padding=0, dilation=1, ceil_mode=False)\n",
      "  )\n",
      "  (classifier): Sequential(\n",
      "    (0): Dropout(p=0.1, inplace=False)\n",
      "    (1): Linear(in_features=9216, out_features=256, bias=True)\n",
      "    (2): ReLU(inplace=True)\n",
      "    (3): Linear(in_features=256, out_features=256, bias=True)\n",
      "    (4): ReLU(inplace=True)\n",
      "    (5): Linear(in_features=256, out_features=10, bias=True)\n",
      "  )\n",
      ")\n"
     ]
    }
   ],
   "source": [
    "torch.manual_seed(seed_num)\n",
    "unit=128\n",
    "\n",
    "# Summary\n",
    "model = AlexNet(10)\n",
    "print(\"Model:\\n\",model)"
   ]
  },
  {
   "cell_type": "code",
   "execution_count": null,
   "metadata": {
    "colab": {
     "base_uri": "https://localhost:8080/"
    },
    "id": "A8PBc3NYlJuX",
    "outputId": "6014db61-3e02-48c3-bc68-67096ef531e2"
   },
   "outputs": [
    {
     "name": "stdout",
     "output_type": "stream",
     "text": [
      "['features.0.weight', 'features.0.bias', 'features.1.weight', 'features.1.bias', 'features.3.weight', 'features.3.bias', 'features.6.weight', 'features.6.bias', 'features.7.weight', 'features.7.bias', 'features.9.weight', 'features.9.bias', 'features.11.weight', 'features.11.bias', 'classifier.1.weight', 'classifier.1.bias', 'classifier.3.weight', 'classifier.3.bias', 'classifier.5.weight', 'classifier.5.bias']\n"
     ]
    }
   ],
   "source": [
    "# Layer names\n",
    "layer_name = [n for n, p in model.named_parameters()]\n",
    "print(layer_name)"
   ]
  },
  {
   "cell_type": "code",
   "execution_count": null,
   "metadata": {
    "colab": {
     "base_uri": "https://localhost:8080/"
    },
    "id": "7V_swsrplJxP",
    "outputId": "ceca6edc-f0b8-460e-9c17-0ffb35e49464"
   },
   "outputs": [
    {
     "name": "stdout",
     "output_type": "stream",
     "text": [
      "Loading weights done !\n",
      "features.0.weight tensor(129, device='cuda:0')\n",
      "features.0.bias tensor(23, device='cuda:0')\n",
      "features.1.weight tensor(24, device='cuda:0')\n",
      "features.1.bias tensor(9, device='cuda:0')\n",
      "features.3.weight tensor(316, device='cuda:0')\n",
      "features.3.bias tensor(32, device='cuda:0')\n",
      "features.6.weight tensor(205, device='cuda:0')\n",
      "features.6.bias tensor(74, device='cuda:0')\n",
      "features.7.weight tensor(96, device='cuda:0')\n",
      "features.7.bias tensor(67, device='cuda:0')\n",
      "features.9.weight tensor(644, device='cuda:0')\n",
      "features.9.bias tensor(30, device='cuda:0')\n",
      "features.11.weight tensor(745, device='cuda:0')\n",
      "features.11.bias tensor(49, device='cuda:0')\n",
      "classifier.1.weight tensor(1497, device='cuda:0')\n",
      "classifier.1.bias tensor(46, device='cuda:0')\n",
      "classifier.3.weight tensor(160, device='cuda:0')\n",
      "classifier.3.bias tensor(73, device='cuda:0')\n",
      "classifier.5.weight tensor(141, device='cuda:0')\n",
      "classifier.5.bias tensor(2, device='cuda:0')\n",
      "Total Parameters: tensor(4362, device='cuda:0') \n",
      "\n"
     ]
    }
   ],
   "source": [
    "# Loading the weights of ternary model \n",
    "model = torch.load('AlexNet_fashion_Quant.pt')\n",
    "model = model.cuda()\n",
    "print(\"Loading weights done !\")\n",
    "\n",
    "# Total number of ternary weights (+w, -w)\n",
    "totalParams = 0\n",
    "for i in layer_name:\n",
    "  print(i,(model.state_dict()[i] !=0).sum())\n",
    "  totalParams +=  (model.state_dict()[i] !=0).sum()\n",
    "    \n",
    "print(\"Total Parameters:\",totalParams, '\\n')"
   ]
  },
  {
   "cell_type": "code",
   "execution_count": null,
   "metadata": {
    "colab": {
     "base_uri": "https://localhost:8080/"
    },
    "id": "0uPbBVUKlJ0X",
    "outputId": "f5d0725e-9560-44bf-99b7-fb13f0bced36"
   },
   "outputs": [
    {
     "name": "stdout",
     "output_type": "stream",
     "text": [
      "Number Of Images Tested = 10000\n",
      "\n",
      "Model Test Accuracy = 0.6461\n"
     ]
    }
   ],
   "source": [
    "# Model's performance on test set\n",
    "\n",
    "correct_count, all_count = 0, 0\n",
    "model.eval()\n",
    "for images,labels in test_iterator:\n",
    "      for image,label in zip(images,labels):\n",
    "        if torch.cuda.is_available():\n",
    "            img = image.cuda()\n",
    "            lab = label.cuda()\n",
    "            img = img[None,].type('torch.cuda.FloatTensor')\n",
    "\n",
    "        with torch.no_grad():\n",
    "            output_ = model(img) \n",
    "\n",
    "        pred_label = output_.argmax()\n",
    "\n",
    "        if(pred_label.item()==lab.item()):\n",
    "          correct_count += 1\n",
    "        all_count += 1\n",
    "\n",
    "print(\"Number Of Images Tested =\", all_count)\n",
    "print(\"\\nModel Test Accuracy =\", (correct_count/(all_count)))\n"
   ]
  },
  {
   "cell_type": "code",
   "execution_count": null,
   "metadata": {
    "colab": {
     "base_uri": "https://localhost:8080/"
    },
    "id": "RvZCWE-QlJ6U",
    "outputId": "7f22767e-3a89-4bce-a46f-254ebeae07b0"
   },
   "outputs": [
    {
     "name": "stdout",
     "output_type": "stream",
     "text": [
      "features.0.weight hidden layer dimension torch.Size([32, 1, 3, 3])\n",
      "Unique values of weight in features.0.weight th hidden layer :  tensor([-1.0116,  0.0000,  1.0116], device='cuda:0')\n",
      "\n",
      "features.0.bias hidden layer dimension torch.Size([32])\n",
      "Unique values of weight in features.0.bias th hidden layer :  tensor([-0.9994,  0.0000,  1.0005], device='cuda:0')\n",
      "\n",
      "features.1.weight hidden layer dimension torch.Size([32])\n",
      "Unique values of weight in features.1.weight th hidden layer :  tensor([0.0000, 1.0149], device='cuda:0')\n",
      "\n",
      "features.1.bias hidden layer dimension torch.Size([32])\n",
      "Unique values of weight in features.1.bias th hidden layer :  tensor([-1.0293,  0.0000,  0.9977], device='cuda:0')\n",
      "\n",
      "features.3.weight hidden layer dimension torch.Size([64, 32, 3, 3])\n",
      "Unique values of weight in features.3.weight th hidden layer :  tensor([-0.9972,  0.0000,  0.9989], device='cuda:0')\n",
      "\n",
      "features.3.bias hidden layer dimension torch.Size([64])\n",
      "Unique values of weight in features.3.bias th hidden layer :  tensor([-1.0168,  0.0000,  1.0053], device='cuda:0')\n",
      "\n",
      "features.6.weight hidden layer dimension torch.Size([128, 64, 3, 3])\n",
      "Unique values of weight in features.6.weight th hidden layer :  tensor([-0.9973,  0.0000,  0.9973], device='cuda:0')\n",
      "\n",
      "features.6.bias hidden layer dimension torch.Size([128])\n",
      "Unique values of weight in features.6.bias th hidden layer :  tensor([-1.0035,  0.0000,  1.0035], device='cuda:0')\n",
      "\n",
      "features.7.weight hidden layer dimension torch.Size([128])\n",
      "Unique values of weight in features.7.weight th hidden layer :  tensor([0.0000, 0.9745], device='cuda:0')\n",
      "\n",
      "features.7.bias hidden layer dimension torch.Size([128])\n",
      "Unique values of weight in features.7.bias th hidden layer :  tensor([0.0000, 0.9646], device='cuda:0')\n",
      "\n",
      "features.9.weight hidden layer dimension torch.Size([256, 128, 3, 3])\n",
      "Unique values of weight in features.9.weight th hidden layer :  tensor([-0.9668,  0.0000,  0.9575], device='cuda:0')\n",
      "\n",
      "features.9.bias hidden layer dimension torch.Size([256])\n",
      "Unique values of weight in features.9.bias th hidden layer :  tensor([-0.9741,  0.0000,  0.9658], device='cuda:0')\n",
      "\n",
      "features.11.weight hidden layer dimension torch.Size([256, 256, 3, 3])\n",
      "Unique values of weight in features.11.weight th hidden layer :  tensor([-0.9773,  0.0000,  0.9582], device='cuda:0')\n",
      "\n",
      "features.11.bias hidden layer dimension torch.Size([256])\n",
      "Unique values of weight in features.11.bias th hidden layer :  tensor([-0.9872,  0.0000,  0.9881], device='cuda:0')\n",
      "\n",
      "classifier.1.weight hidden layer dimension torch.Size([256, 9216])\n",
      "Unique values of weight in classifier.1.weight th hidden layer :  tensor([-0.9924,  0.0000,  0.9592], device='cuda:0')\n",
      "\n",
      "classifier.1.bias hidden layer dimension torch.Size([256])\n",
      "Unique values of weight in classifier.1.bias th hidden layer :  tensor([0.0000, 0.9975], device='cuda:0')\n",
      "\n",
      "classifier.3.weight hidden layer dimension torch.Size([256, 256])\n",
      "Unique values of weight in classifier.3.weight th hidden layer :  tensor([-1.0025,  0.0000,  0.9604], device='cuda:0')\n",
      "\n",
      "classifier.3.bias hidden layer dimension torch.Size([256])\n",
      "Unique values of weight in classifier.3.bias th hidden layer :  tensor([-1.0010,  0.0000,  0.9977], device='cuda:0')\n",
      "\n",
      "classifier.5.weight hidden layer dimension torch.Size([10, 256])\n",
      "Unique values of weight in classifier.5.weight th hidden layer :  tensor([-1.0345,  0.0000,  0.9816], device='cuda:0')\n",
      "\n",
      "classifier.5.bias hidden layer dimension torch.Size([10])\n",
      "Unique values of weight in classifier.5.bias th hidden layer :  tensor([0.0000, 1.0148], device='cuda:0')\n",
      "\n"
     ]
    }
   ],
   "source": [
    "# For each layer, model's ternary weights\n",
    "state_dict = model.state_dict()\n",
    "\n",
    "layer_distinct_weights = {}\n",
    "\n",
    "for i in layer_name:\n",
    "  imd = torch.unique(model.state_dict()[i])\n",
    "  print(i+ ' hidden layer dimension', model.state_dict()[i].shape)\n",
    "  print(\"Unique values of weight in \"+ i+ \" th hidden layer : \", imd)\n",
    "  layer_distinct_weights[i] = imd.cpu().numpy().tolist()\n",
    "  print()\n"
   ]
  },
  {
   "cell_type": "code",
   "execution_count": null,
   "metadata": {
    "id": "Sr2l07FwlJ9I"
   },
   "outputs": [],
   "source": [
    "img_0 = []; var_0 = 0\n",
    "img_1 = []; var_1 = 0\n",
    "img_2 = []; var_2 = 0\n",
    "img_3 = []; var_3 = 0\n",
    "img_4 = []; var_4 = 0\n",
    "img_5 = []; var_5 = 0\n",
    "img_6 = []; var_6 = 0\n",
    "img_7 = []; var_7 = 0\n",
    "img_8 = []; var_8 = 0\n",
    "img_9 = []; var_9 = 0"
   ]
  },
  {
   "cell_type": "code",
   "execution_count": null,
   "metadata": {
    "colab": {
     "base_uri": "https://localhost:8080/"
    },
    "id": "4cZcFQ5ylKcX",
    "outputId": "314e3e51-8265-48a8-8c7e-9d32652b159b"
   },
   "outputs": [
    {
     "name": "stdout",
     "output_type": "stream",
     "text": [
      "Number Of Images Tested = 10000\n",
      "\n",
      "Model Train Accuracy = 0.6458\n"
     ]
    }
   ],
   "source": [
    "correct_count, all_count = 0, 0\n",
    "np.random.seed(seed_num)\n",
    "\n",
    "num = 1000\n",
    "\n",
    "model.eval()\n",
    "for images,labels in train_iterator:\n",
    "      for image,label in zip(images,labels):\n",
    "\n",
    "        if label == 0:\n",
    "          if var_0 == num:\n",
    "            continue\n",
    "          img_0.append(image.numpy())\n",
    "          var_0 +=1\n",
    "\n",
    "        elif label == 1:\n",
    "          if var_1 == num:\n",
    "            continue\n",
    "          img_1.append(image.numpy())\n",
    "          var_1 +=1\n",
    "\n",
    "        elif label == 2:\n",
    "          if var_2 == num:\n",
    "            continue\n",
    "          img_2.append(image.numpy())\n",
    "          var_2 +=1\n",
    "\n",
    "        elif label == 3:\n",
    "          if var_3 == num:\n",
    "            continue\n",
    "          img_3.append(image.numpy())\n",
    "          var_3 +=1\n",
    "\n",
    "        elif label == 4:\n",
    "          if var_4 == num:\n",
    "            continue\n",
    "          img_4.append(image.numpy())\n",
    "          var_4 +=1\n",
    "\n",
    "        elif label == 5:\n",
    "          if var_5 == num:\n",
    "            continue\n",
    "          img_5.append(image.numpy())\n",
    "          var_5 +=1\n",
    "\n",
    "        elif label == 6:\n",
    "          if var_6 == num:\n",
    "            continue\n",
    "          img_6.append(image.numpy())\n",
    "          var_6 +=1\n",
    "\n",
    "        elif label == 7:\n",
    "          if var_7 == num:\n",
    "            continue\n",
    "          img_7.append(image.numpy())\n",
    "          var_7 +=1\n",
    "\n",
    "        elif label == 8:\n",
    "          if var_8 == num:\n",
    "            continue\n",
    "          img_8.append(image.numpy())\n",
    "          var_8 +=1\n",
    "\n",
    "        elif label == 9:\n",
    "          if var_9 == num:\n",
    "            continue\n",
    "          img_9.append(image.numpy())\n",
    "          var_9 +=1\n",
    "\n",
    "        if torch.cuda.is_available():\n",
    "            img = image.cuda()\n",
    "            lab = label.cuda()\n",
    "            img = img[None,].type('torch.cuda.FloatTensor')\n",
    "\n",
    "        with torch.no_grad():\n",
    "            output_ = model(img) \n",
    "\n",
    "        pred_label = output_.argmax()\n",
    "\n",
    "        if(pred_label.item()==lab.item()):\n",
    "          correct_count += 1\n",
    "        all_count += 1\n",
    "\n",
    "print(\"Number Of Images Tested =\", all_count)\n",
    "print(\"\\nModel Train Accuracy =\", (correct_count/(all_count)))"
   ]
  },
  {
   "cell_type": "code",
   "execution_count": null,
   "metadata": {
    "colab": {
     "base_uri": "https://localhost:8080/"
    },
    "id": "xcmgnbR3lKu0",
    "outputId": "dcdf7d09-c4c2-4ff7-cb2a-8daf54985b01"
   },
   "outputs": [
    {
     "data": {
      "text/plain": [
       "(10000, 1, 28, 28)"
      ]
     },
     "execution_count": 16,
     "metadata": {},
     "output_type": "execute_result"
    }
   ],
   "source": [
    "corr_images_ = [img_0, img_1, img_2, img_3, img_4, img_5, img_6, img_7, img_8, img_9]\n",
    "corr_images = np.vstack(corr_images_)\n",
    "corr_images.shape"
   ]
  },
  {
   "cell_type": "code",
   "execution_count": null,
   "metadata": {
    "colab": {
     "base_uri": "https://localhost:8080/"
    },
    "id": "3zyNkvo5o2WB",
    "outputId": "3227a9a8-531c-4c0c-a470-c9853064193d"
   },
   "outputs": [
    {
     "name": "stdout",
     "output_type": "stream",
     "text": [
      "\n",
      "Unique digits :  [0 1 2 3 4 5 6 7 8 9]\n",
      "\n",
      " counts :  [ 950 1061 1004 1222  189 1967 1643   43  897 1024]\n"
     ]
    }
   ],
   "source": [
    "corr_images = torch.tensor(corr_images).type(torch.FloatTensor).to('cuda')\n",
    "\n",
    "corr_label = []\n",
    "check_label = []\n",
    "\n",
    "model.eval()\n",
    "for img in corr_images:\n",
    "  img = img[None,].type('torch.cuda.FloatTensor')\n",
    "  with torch.no_grad():\n",
    "    pred = model(img).argmax()\n",
    "  corr_label.append(pred)\n",
    "  check_label.append(pred.item())\n",
    "\n",
    "digit,count = np.unique(check_label, return_counts=True)\n",
    "\n",
    "# Model's prediction on pseudorandom images\n",
    "print(\"\\nUnique digits : \",digit)\n",
    "\n",
    "print(\"\\n counts : \",count)"
   ]
  },
  {
   "cell_type": "code",
   "execution_count": null,
   "metadata": {
    "id": "uG1i7FSwo2Y5"
   },
   "outputs": [],
   "source": [
    "pos_neg_layerwise = {}\n",
    "\n",
    "for i in layer_name:\n",
    "  b = layer_distinct_weights[i]\n",
    "\n",
    "  if len(b) == 3:\n",
    "    neg, zero, pos = b\n",
    "    pos_neg_layerwise[i] = {}\n",
    "    pos_neg_layerwise[i]['pos'] = pos\n",
    "    pos_neg_layerwise[i]['neg'] = neg\n",
    "    \n",
    "  elif len(b) == 2:\n",
    "    un1, un2 = b\n",
    "\n",
    "    if un2 == 0:\n",
    "      neg, zero = b\n",
    "      pos_neg_layerwise[i] = {}\n",
    "      pos_neg_layerwise[i]['neg'] = neg\n",
    "      \n",
    "    elif un1 == 0:\n",
    "      zero, pos = b\n",
    "      pos_neg_layerwise[i] = {}\n",
    "      pos_neg_layerwise[i]['pos'] = pos\n",
    "\n",
    "    else:\n",
    "      neg, pos = b\n",
    "      pos_neg_layerwise[i] = {}\n",
    "      pos_neg_layerwise[i]['pos'] = pos\n",
    "      pos_neg_layerwise[i]['neg'] = neg\n",
    "\n",
    "  else:\n",
    "     un = b[0] \n",
    "\n",
    "     if un > 0:\n",
    "       pos_neg_layerwise[i] = {}\n",
    "       pos_neg_layerwise[i]['pos'] = un\n",
    "\n",
    "     elif un < 0:\n",
    "       pos_neg_layerwise[i] = {}\n",
    "       pos_neg_layerwise[i]['neg'] = un\n",
    "\n",
    "     else:\n",
    "       pos_neg_layerwise[i] = {}\n",
    "       pos_neg_layerwise[i]['zero'] = 0\n"
   ]
  },
  {
   "cell_type": "code",
   "execution_count": null,
   "metadata": {
    "colab": {
     "base_uri": "https://localhost:8080/"
    },
    "id": "JZ4zH-VAo2bH",
    "outputId": "30425d82-c6e2-46b9-e922-66d995d83dbf"
   },
   "outputs": [
    {
     "data": {
      "text/plain": [
       "{'classifier.1.bias': [0.0, 0.9974985122680664],\n",
       " 'classifier.1.weight': [-0.9924231767654419, 0.0, 0.9592171907424927],\n",
       " 'classifier.3.bias': [-1.0009965896606445, 0.0, 0.9976704716682434],\n",
       " 'classifier.3.weight': [-1.0025272369384766, 0.0, 0.9604441523551941],\n",
       " 'classifier.5.bias': [0.0, 1.0147584676742554],\n",
       " 'classifier.5.weight': [-1.0344655513763428, 0.0, 0.9815973043441772],\n",
       " 'features.0.bias': [-0.9993632435798645, 0.0, 1.0005184412002563],\n",
       " 'features.0.weight': [-1.011589765548706, 0.0, 1.011589765548706],\n",
       " 'features.1.bias': [-1.0293270349502563, 0.0, 0.9977136850357056],\n",
       " 'features.1.weight': [0.0, 1.014925479888916],\n",
       " 'features.11.bias': [-0.9871994256973267, 0.0, 0.9880890846252441],\n",
       " 'features.11.weight': [-0.9773134589195251, 0.0, 0.9582034945487976],\n",
       " 'features.3.bias': [-1.016790747642517, 0.0, 1.0052502155303955],\n",
       " 'features.3.weight': [-0.9971681833267212, 0.0, 0.9988570809364319],\n",
       " 'features.6.bias': [-1.0035313367843628, 0.0, 1.0034629106521606],\n",
       " 'features.6.weight': [-0.9973466992378235, 0.0, 0.9973443746566772],\n",
       " 'features.7.bias': [0.0, 0.9646170139312744],\n",
       " 'features.7.weight': [0.0, 0.9745362401008606],\n",
       " 'features.9.bias': [-0.9741238951683044, 0.0, 0.9657971858978271],\n",
       " 'features.9.weight': [-0.9668185114860535, 0.0, 0.9575168490409851]}"
      ]
     },
     "execution_count": 19,
     "metadata": {},
     "output_type": "execute_result"
    }
   ],
   "source": [
    "layer_distinct_weights"
   ]
  },
  {
   "cell_type": "code",
   "execution_count": null,
   "metadata": {
    "id": "cCfKOm8no2du"
   },
   "outputs": [],
   "source": [
    "class PseudoData(Dataset):\n",
    "    \n",
    "    def __init__(self, data, label):\n",
    "        \n",
    "        self.data = data\n",
    "        self.label = label\n",
    "\n",
    "    def __getitem__(self, index):\n",
    "        \n",
    "        return self.data[index], self.label[index]\n",
    "\n",
    "    def __len__(self):\n",
    "        return len(self.data)\n",
    "\n",
    "corr_label = torch.tensor(corr_label).type(torch.FloatTensor).to('cuda')\n",
    "pseudo_dataLoader = DataLoader(dataset = PseudoData(corr_images, corr_label), batch_size = 1000, shuffle=False) "
   ]
  },
  {
   "cell_type": "code",
   "execution_count": null,
   "metadata": {
    "id": "uAf424TSo2gc"
   },
   "outputs": [],
   "source": [
    "def getResult(test_example, test_label, model, st):\n",
    "    model.load_state_dict(st)\n",
    "    model.eval()\n",
    "    with torch.no_grad():\n",
    "        output_ = model(test_example.float()) \n",
    "        pred = output_.data.max(1, keepdim=True)[1]\n",
    "        z = pred.eq(test_label.data.view_as(pred)).flatten()\n",
    "        return torch.where(z == False)[0]"
   ]
  },
  {
   "cell_type": "code",
   "execution_count": null,
   "metadata": {
    "id": "qQkUUItGo2j2"
   },
   "outputs": [],
   "source": [
    "def populateResults(idx, batch_id, old_state, new_state, w_images, n_ic, n_oc, row, column, weight_name):\n",
    "  key = 'img_id'+str(idx)+'_batch_'+str(batch_id)\n",
    "  if key not in w_images:\n",
    "    w_images[key] = {}\n",
    "    w_images[key]['location'] = []\n",
    "    w_images[key]['location'].append((weight_name, n_ic, n_oc, row, column, old_state, new_state))\n",
    "    w_images[key]['weight_states'] = []\n",
    "    w_images[key]['weight_states'].append(weight_name + ' : ' + str(old_state) + ' --> ' + str(new_state))\n",
    "\n",
    "  else:\n",
    "    w_images[key]['location'].append((weight_name, n_ic, n_oc, row, column, old_state, new_state))\n",
    "    w_images[key]['weight_states'].append(weight_name + ' : ' + str(old_state) + ' --> ' + str(new_state))"
   ]
  },
  {
   "cell_type": "code",
   "execution_count": null,
   "metadata": {
    "id": "jCBF5EBvo2lz"
   },
   "outputs": [],
   "source": [
    "def populateResults1(idx, batch_id, old_state, new_state, w_images, row, column, weight_name):\n",
    "  key = 'img_id'+str(idx)+'_batch_'+str(batch_id)\n",
    "  if key not in w_images:\n",
    "    w_images[key] = {}\n",
    "    w_images[key]['location'] = []\n",
    "    w_images[key]['location'].append((weight_name, row, column, old_state, new_state))\n",
    "    w_images[key]['weight_states'] = []\n",
    "    w_images[key]['weight_states'].append(weight_name + ' : ' + str(old_state) + ' --> ' + str(new_state))\n",
    "\n",
    "  else:\n",
    "    w_images[key]['location'].append((weight_name, row, column, old_state, new_state))\n",
    "    w_images[key]['weight_states'].append(weight_name + ' : ' + str(old_state) + ' --> ' + str(new_state))"
   ]
  },
  {
   "cell_type": "code",
   "execution_count": null,
   "metadata": {
    "id": "Tb0jVhzUo2oX"
   },
   "outputs": [],
   "source": [
    "# For bias weight mutation\n",
    "\n",
    "def bias_mutation(st, superSet, w_images, img,label, batch_id, weight_name):\n",
    "\n",
    "  if ('pos' in pos_neg_layerwise[weight_name]) and ('neg' in pos_neg_layerwise[weight_name]):\n",
    "    un = pos_neg_layerwise[weight_name]['pos'], pos_neg_layerwise[weight_name]['neg']\n",
    "\n",
    "    var_neg1 = torch.where(st==un[1])[0]\n",
    "    var_1 = torch.where(st==un[0])[0]\n",
    "\n",
    "  else:\n",
    "    try:\n",
    "      un = pos_neg_layerwise[weight_name]['pos']\n",
    "\n",
    "      var_neg1 = torch.where(st==un*1000)[0]\n",
    "      var_1 = torch.where(st==un)[0]\n",
    "\n",
    "    except KeyError:\n",
    "      un = pos_neg_layerwise[weight_name]['neg']\n",
    "\n",
    "      var_neg1 = torch.where(st==un)[0]\n",
    "      var_1 = torch.where(st==un*1000)[0]\n",
    "\n",
    "\n",
    "  if (var_neg1.nelement() == 0.) and (var_1.nelement() == 0.):\n",
    "    pass\n",
    "  else:\n",
    "    for column in torch.cat((var_neg1, var_1), 0):\n",
    "      row = 0\n",
    "      column = column.item()\n",
    "\n",
    "      org_val_real = st[column].item() # For bias part\n",
    "\n",
    "      if type(un) == tuple:\n",
    "          pos, neg = un   # Positive, Negative \n",
    "          if (org_val_real < 0.) and (org_val_real == neg):\n",
    "            org_val = neg\n",
    "\n",
    "            old_state = neg\n",
    "            new_state = 0.\n",
    "            superSet.add((weight_name, row, column, -1, 0))\n",
    "\n",
    "            st[column] = new_state\n",
    "\n",
    "            \"\"\"getResult() will tell whether the passed test example is classified to other class\n",
    "            or not after mutation, if it is classified to other class, then it returns True else False and \n",
    "            populateResults() will maintain the record of test examples which has been misclassified\n",
    "            like location(row(which neuron), column(indices)), old_state(old_value of weight element), \n",
    "            new_state (mutated value of weight element), images\"\"\"\n",
    "\n",
    "            \n",
    "            [populateResults1(idx.item(), batch_id, -1, 0, w_images, row, column, weight_name) \\\n",
    "             for idx in getResult(img, label, model, state_dict)]\n",
    "          \n",
    "            new_state = pos\n",
    "            superSet.add((weight_name, row, column, -1, 1))\n",
    "\n",
    "            st[column] = new_state\n",
    "\n",
    "            [populateResults1(idx.item(), batch_id, -1, 1, w_images, row, column, weight_name) \\\n",
    "             for idx in getResult(img, label, model, state_dict)]\n",
    "            \n",
    "            st[column] = org_val\n",
    "\n",
    "          elif (org_val_real > 0.) and (org_val_real == pos):\n",
    "\n",
    "            org_val = pos\n",
    "            old_state = pos\n",
    "            new_state = 0.\n",
    "            superSet.add((weight_name, row, column, 1, 0))\n",
    "            st[column] = new_state\n",
    "\n",
    "            [populateResults1(idx.item(), batch_id, 1, 0, w_images, row, column, weight_name) \\\n",
    "             for idx in getResult(img, label, model, state_dict)]\n",
    "          \n",
    "            new_state = neg\n",
    "            superSet.add((weight_name, row, column, 1, -1))\n",
    "\n",
    "            st[column] = new_state\n",
    "            \n",
    "            [populateResults1(idx.item(), batch_id, 1, -1, w_images, row, column, weight_name) \\\n",
    "             for idx in getResult(img, label, model, state_dict)]\n",
    "            \n",
    "            st[column] = org_val\n",
    "\n",
    "\n",
    "      \n",
    "      ############# Negative ################################\n",
    "      elif (un < 0) and (org_val_real == un):\n",
    "          org_val = un\n",
    "          old_state = un\n",
    "          new_state = 0.\n",
    "          superSet.add((weight_name, row, column, -1, 0))\n",
    "          st[column] = new_state\n",
    "            \n",
    "          [populateResults1(idx.item(), batch_id, -1, 0, w_images, row, column, weight_name) \\\n",
    "           for idx in getResult(img, label, model, state_dict)]\n",
    "          \n",
    "          st[column] = org_val\n",
    "\n",
    "\n",
    "      elif (un > 0) and (org_val_real == un):  ############# Positive  ################################\n",
    "          org_val = un\n",
    "          old_state = un\n",
    "          new_state = 0.\n",
    "          superSet.add((weight_name, row, column, 1, 0))\n",
    "          st[column] = new_state\n",
    "          [populateResults1(idx.item(), batch_id, 1, 0, w_images, row, column, weight_name) \\\n",
    "           for idx in getResult(img, label, model, state_dict)]\n",
    "\n",
    "          st[column] = org_val\n",
    "\n",
    "\n",
    "      #################################################################################################################"
   ]
  },
  {
   "cell_type": "code",
   "execution_count": null,
   "metadata": {
    "id": "oaZX0ddzo2rG"
   },
   "outputs": [],
   "source": [
    "# Saving length of shape for each layer\n",
    "layers_shape = {}\n",
    "\n",
    "for i in layer_name:\n",
    "  layers_shape[i] = len(state_dict[i].shape)"
   ]
  },
  {
   "cell_type": "code",
   "execution_count": null,
   "metadata": {
    "colab": {
     "base_uri": "https://localhost:8080/"
    },
    "id": "PFbz-pOzo2tw",
    "outputId": "8efb6c69-1434-4a03-ef53-222be6a6fab0"
   },
   "outputs": [
    {
     "name": "stdout",
     "output_type": "stream",
     "text": [
      "{'features.0.weight': 4, 'features.0.bias': 1, 'features.1.weight': 1, 'features.1.bias': 1, 'features.3.weight': 4, 'features.3.bias': 1, 'features.6.weight': 4, 'features.6.bias': 1, 'features.7.weight': 1, 'features.7.bias': 1, 'features.9.weight': 4, 'features.9.bias': 1, 'features.11.weight': 4, 'features.11.bias': 1, 'classifier.1.weight': 2, 'classifier.1.bias': 1, 'classifier.3.weight': 2, 'classifier.3.bias': 1, 'classifier.5.weight': 2, 'classifier.5.bias': 1}\n"
     ]
    }
   ],
   "source": [
    "print(layers_shape)"
   ]
  },
  {
   "cell_type": "code",
   "execution_count": null,
   "metadata": {
    "colab": {
     "base_uri": "https://localhost:8080/"
    },
    "id": "NuNNlCH0o2wG",
    "outputId": "a6305dfe-6cab-4c5d-d78b-9717b531a41f"
   },
   "outputs": [
    {
     "name": "stderr",
     "output_type": "stream",
     "text": [
      "\r",
      "  0%|          | 0/10 [00:00<?, ?it/s]"
     ]
    },
    {
     "name": "stdout",
     "output_type": "stream",
     "text": [
      "Total number of elements in superSet is : 8489. \n",
      "\n"
     ]
    },
    {
     "name": "stderr",
     "output_type": "stream",
     "text": [
      "\r",
      " 10%|█         | 1/10 [05:14<47:10, 314.53s/it]"
     ]
    },
    {
     "name": "stdout",
     "output_type": "stream",
     "text": [
      "There are 1401 locations that did not match.\n",
      "\n",
      "Total number of locations 7088 are encompassed out of 8489.\n",
      "Total number of elements in a weight matrix is  8489\n",
      "Total number of images fetched  31 \n",
      "\n",
      "Output \n",
      "\n",
      "[(31, 7088, 8489)]\n",
      "Total number of elements in superSet is : 8489. \n",
      "\n"
     ]
    },
    {
     "name": "stderr",
     "output_type": "stream",
     "text": [
      "\r",
      " 20%|██        | 2/10 [10:27<41:46, 313.34s/it]"
     ]
    },
    {
     "name": "stdout",
     "output_type": "stream",
     "text": [
      "There are 1392 locations that did not match.\n",
      "\n",
      "Total number of locations 7097 are encompassed out of 8489.\n",
      "Total number of elements in a weight matrix is  8489\n",
      "Total number of images fetched  31 \n",
      "\n",
      "Output \n",
      "\n",
      "[(31, 7088, 8489), (31, 7097, 8489)]\n",
      "Total number of elements in superSet is : 8489. \n",
      "\n"
     ]
    },
    {
     "name": "stderr",
     "output_type": "stream",
     "text": [
      "\r",
      " 30%|███       | 3/10 [15:43<36:44, 314.93s/it]"
     ]
    },
    {
     "name": "stdout",
     "output_type": "stream",
     "text": [
      "There are 1147 locations that did not match.\n",
      "\n",
      "Total number of locations 7342 are encompassed out of 8489.\n",
      "Total number of elements in a weight matrix is  8489\n",
      "Total number of images fetched  49 \n",
      "\n",
      "Output \n",
      "\n",
      "[(31, 7088, 8489), (31, 7097, 8489), (49, 7342, 8489)]\n",
      "Total number of elements in superSet is : 8489. \n",
      "\n"
     ]
    },
    {
     "name": "stderr",
     "output_type": "stream",
     "text": [
      "\r",
      " 40%|████      | 4/10 [21:00<31:34, 315.70s/it]"
     ]
    },
    {
     "name": "stdout",
     "output_type": "stream",
     "text": [
      "There are 1018 locations that did not match.\n",
      "\n",
      "Total number of locations 7471 are encompassed out of 8489.\n",
      "Total number of elements in a weight matrix is  8489\n",
      "Total number of images fetched  48 \n",
      "\n",
      "Output \n",
      "\n",
      "[(31, 7088, 8489), (31, 7097, 8489), (49, 7342, 8489), (48, 7471, 8489)]\n",
      "Total number of elements in superSet is : 8489. \n",
      "\n"
     ]
    },
    {
     "name": "stderr",
     "output_type": "stream",
     "text": [
      "\r",
      " 50%|█████     | 5/10 [26:20<26:26, 317.22s/it]"
     ]
    },
    {
     "name": "stdout",
     "output_type": "stream",
     "text": [
      "There are 843 locations that did not match.\n",
      "\n",
      "Total number of locations 7646 are encompassed out of 8489.\n",
      "Total number of elements in a weight matrix is  8489\n",
      "Total number of images fetched  45 \n",
      "\n",
      "Output \n",
      "\n",
      "[(31, 7088, 8489), (31, 7097, 8489), (49, 7342, 8489), (48, 7471, 8489), (45, 7646, 8489)]\n",
      "Total number of elements in superSet is : 8489. \n",
      "\n"
     ]
    },
    {
     "name": "stderr",
     "output_type": "stream",
     "text": [
      "\r",
      " 60%|██████    | 6/10 [31:38<21:09, 317.34s/it]"
     ]
    },
    {
     "name": "stdout",
     "output_type": "stream",
     "text": [
      "There are 679 locations that did not match.\n",
      "\n",
      "Total number of locations 7810 are encompassed out of 8489.\n",
      "Total number of elements in a weight matrix is  8489\n",
      "Total number of images fetched  49 \n",
      "\n",
      "Output \n",
      "\n",
      "[(31, 7088, 8489), (31, 7097, 8489), (49, 7342, 8489), (48, 7471, 8489), (45, 7646, 8489), (49, 7810, 8489)]\n",
      "Total number of elements in superSet is : 8489. \n",
      "\n"
     ]
    },
    {
     "name": "stderr",
     "output_type": "stream",
     "text": [
      "\r",
      " 70%|███████   | 7/10 [37:01<15:57, 319.12s/it]"
     ]
    },
    {
     "name": "stdout",
     "output_type": "stream",
     "text": [
      "There are 664 locations that did not match.\n",
      "\n",
      "Total number of locations 7825 are encompassed out of 8489.\n",
      "Total number of elements in a weight matrix is  8489\n",
      "Total number of images fetched  48 \n",
      "\n",
      "Output \n",
      "\n",
      "[(31, 7088, 8489), (31, 7097, 8489), (49, 7342, 8489), (48, 7471, 8489), (45, 7646, 8489), (49, 7810, 8489), (48, 7825, 8489)]\n",
      "Total number of elements in superSet is : 8489. \n",
      "\n"
     ]
    },
    {
     "name": "stderr",
     "output_type": "stream",
     "text": [
      "\r",
      " 80%|████████  | 8/10 [42:23<10:40, 320.25s/it]"
     ]
    },
    {
     "name": "stdout",
     "output_type": "stream",
     "text": [
      "There are 547 locations that did not match.\n",
      "\n",
      "Total number of locations 7942 are encompassed out of 8489.\n",
      "Total number of elements in a weight matrix is  8489\n",
      "Total number of images fetched  44 \n",
      "\n",
      "Output \n",
      "\n",
      "[(31, 7088, 8489), (31, 7097, 8489), (49, 7342, 8489), (48, 7471, 8489), (45, 7646, 8489), (49, 7810, 8489), (48, 7825, 8489), (44, 7942, 8489)]\n",
      "Total number of elements in superSet is : 8489. \n",
      "\n"
     ]
    },
    {
     "name": "stderr",
     "output_type": "stream",
     "text": [
      "\r",
      " 90%|█████████ | 9/10 [47:46<05:21, 321.09s/it]"
     ]
    },
    {
     "name": "stdout",
     "output_type": "stream",
     "text": [
      "There are 510 locations that did not match.\n",
      "\n",
      "Total number of locations 7979 are encompassed out of 8489.\n",
      "Total number of elements in a weight matrix is  8489\n",
      "Total number of images fetched  48 \n",
      "\n",
      "Output \n",
      "\n",
      "[(31, 7088, 8489), (31, 7097, 8489), (49, 7342, 8489), (48, 7471, 8489), (45, 7646, 8489), (49, 7810, 8489), (48, 7825, 8489), (44, 7942, 8489), (48, 7979, 8489)]\n",
      "Total number of elements in superSet is : 8489. \n",
      "\n"
     ]
    },
    {
     "name": "stderr",
     "output_type": "stream",
     "text": [
      "100%|██████████| 10/10 [53:10<00:00, 319.07s/it]"
     ]
    },
    {
     "name": "stdout",
     "output_type": "stream",
     "text": [
      "There are 485 locations that did not match.\n",
      "\n",
      "Total number of locations 8004 are encompassed out of 8489.\n",
      "Total number of elements in a weight matrix is  8489\n",
      "Total number of images fetched  51 \n",
      "\n",
      "Output \n",
      "\n",
      "[(31, 7088, 8489), (31, 7097, 8489), (49, 7342, 8489), (48, 7471, 8489), (45, 7646, 8489), (49, 7810, 8489), (48, 7825, 8489), (44, 7942, 8489), (48, 7979, 8489), (51, 8004, 8489)]\n"
     ]
    },
    {
     "name": "stderr",
     "output_type": "stream",
     "text": [
      "\n"
     ]
    }
   ],
   "source": [
    "# Injecting fault by mutating the ternary weight and check whether it is classified to other class than before by the model. \n",
    "\n",
    "fetchimg_totImg_coverage_totCov = []\n",
    "\n",
    "w_images = {}\n",
    "superSet = set()\n",
    "\n",
    "\n",
    "batch_id = 0\n",
    "for img,label  in tqdm(pseudo_dataLoader):\n",
    "\n",
    "    for weight_name in layer_name:\n",
    "\n",
    "        # Selecting hidden layer to iterate its weight elements\n",
    "        st = state_dict[weight_name]\n",
    "\n",
    "\n",
    "        if ('bias' in weight_name) or (layers_shape[weight_name] == 1):\n",
    "          bias_mutation(st, superSet, w_images, img,label, batch_id, weight_name)\n",
    "          continue\n",
    "\n",
    "        if ('conv' in weight_name) or (layers_shape[weight_name] == 4):\n",
    "\n",
    "          ic, oc, k,k1 = st.shape # ic = in_channel, oc= out_channel, k and k1 is the number of rows and columns of a kernel\n",
    "\n",
    "          for n_ic in range(ic):\n",
    "            for n_oc in range(oc):\n",
    "              kt =  st[n_ic][n_oc] # Fetching Kernel matrix or tensor\n",
    "\n",
    "              # Iterating number of neurons for the selected hidden layer\n",
    "              for row in range(k):\n",
    "\n",
    "                # Fetching indices for -w and w weight value for the selected kernel\n",
    "                \"\"\"Since each kernel has weight vector, so by fetching indices\n",
    "                we will come to know, which indices of the kernel contains weights -w or w weight\"\"\"\n",
    "\n",
    "                ###########################################################################################\n",
    "\n",
    "                if ('pos' in pos_neg_layerwise[weight_name]) and ('neg' in pos_neg_layerwise[weight_name]):\n",
    "                  un = pos_neg_layerwise[weight_name]['pos'], pos_neg_layerwise[weight_name]['neg']\n",
    "\n",
    "                  var_neg1 = torch.where(kt[row]==un[1])[0]\n",
    "                  var_1 = torch.where(kt[row]==un[0])[0]\n",
    "\n",
    "                else:\n",
    "                  try:\n",
    "                    un = pos_neg_layerwise[weight_name]['pos']\n",
    "\n",
    "                    var_neg1 = torch.where(kt[row]==un*1000)[0]\n",
    "                    var_1 = torch.where(kt[row]==un)[0]\n",
    "\n",
    "                  except KeyError:\n",
    "                    un = pos_neg_layerwise[weight_name]['neg']\n",
    "\n",
    "                    var_neg1 = torch.where(kt[row]==un)[0]\n",
    "                    var_1 = torch.where(kt[row]==un*1000)[0]\n",
    "\n",
    "                ##########################################################################################\n",
    "\n",
    "                if (var_neg1.nelement() == 0.) and (var_1.nelement() == 0.):\n",
    "                  continue\n",
    "                else:\n",
    "                  for column in torch.cat((var_neg1, var_1), 0):\n",
    "\n",
    "                    column = column.item()\n",
    "\n",
    "                    org_val_real = kt[row][column].item()\n",
    "\n",
    "                    ##################################################################################################################\n",
    "\n",
    "                    if type(un) == tuple:\n",
    "                      pos, neg = un  # Positive, Negative\n",
    "\n",
    "                      if (org_val_real < 0.) and (org_val_real == neg):\n",
    "                        org_val = neg\n",
    "                        old_state = neg\n",
    "                        new_state = 0.\n",
    "                        superSet.add((weight_name, n_ic, n_oc, row, column, -1, 0))\n",
    "\n",
    "                        st[n_ic][n_oc][row][column] = new_state\n",
    "                        \n",
    "                        \"\"\"getResult() will tell whether the passed test example is classified to other class\n",
    "                        or not after mutation, if it is classified to other class, then it returns True else False and \n",
    "                        populateResults() will maintain the record of test examples which has been misclassified\n",
    "                        like location(row(which neuron), column(indices)), old_state(old_value of weight element), \n",
    "                        new_state (mutated value of weight element), images\"\"\"\n",
    "\n",
    "                        \n",
    "                        [populateResults(idx.item(), batch_id, -1, 0, w_images, n_ic, n_oc, row, column, weight_name) \\\n",
    "                         for idx in getResult(img, label, model, state_dict)]\n",
    "                        \n",
    "                        new_state = pos\n",
    "                        superSet.add((weight_name, n_ic, n_oc, row, column, -1, 1))\n",
    "                        st[n_ic][n_oc][row][column] = new_state\n",
    "\n",
    "                            \n",
    "                        [populateResults(idx.item(), batch_id, -1, 1, w_images, n_ic, n_oc, row, column, weight_name) \\\n",
    "                         for idx in getResult(img, label, model, state_dict)]\n",
    "                        st[n_ic][n_oc][row][column] = org_val # Setting back to original value\n",
    "\n",
    "                    \n",
    "                      elif (org_val_real > 0.) and (org_val_real == pos):\n",
    "                        org_val = pos\n",
    "                        old_state = pos\n",
    "                        new_state = 0.\n",
    "                        superSet.add((weight_name, n_ic, n_oc, row, column, 1, 0))\n",
    "\n",
    "                        st[n_ic][n_oc][row][column] = new_state\n",
    "                        \n",
    "                        [populateResults(idx.item(), batch_id, 1, 0, w_images, n_ic, n_oc, row, column, weight_name) \\\n",
    "                         for idx in getResult(img, label, model, state_dict)]\n",
    "                        \n",
    "                        new_state = neg\n",
    "                        superSet.add((weight_name, n_ic, n_oc, row, column, 1, -1))\n",
    "                        st[n_ic][n_oc][row][column] = new_state\n",
    "\n",
    "                            \n",
    "                        [populateResults(idx.item(), batch_id, 1, -1, w_images, n_ic, n_oc, row, column, weight_name) \\\n",
    "                         for idx in getResult(img, label, model, state_dict)]\n",
    "                        \n",
    "                        st[n_ic][n_oc][row][column] = org_val # Setting back to original value\n",
    "\n",
    "\n",
    "\n",
    "\n",
    "                    elif (un < 0) and (org_val_real == un): ########################## Negative ###########################################\n",
    "                      org_val = un\n",
    "                      old_state = un\n",
    "                      new_state = 0.\n",
    "                      superSet.add((weight_name,  n_ic, n_oc, row, column, -1, 0))\n",
    "                      st[n_ic][n_oc][row][column] = new_state\n",
    "                        \n",
    "                      [populateResults(idx.item(), batch_id, -1, 0, w_images, n_ic, n_oc, row, column, weight_name) \\\n",
    "                       for idx in getResult(img, label, model, state_dict)]\n",
    "                      \n",
    "                      st[n_ic][n_oc][row][column] = org_val\n",
    "\n",
    "\n",
    "                    elif (un > 0) and (org_val_real == un): ########################## Positive ###########################################\n",
    "                      org_val = un\n",
    "                      old_state = un\n",
    "                      new_state = 0.\n",
    "                      superSet.add((weight_name, n_ic, n_oc, row, column, 1, 0))\n",
    "                      st[n_ic][n_oc][row][column] = new_state\n",
    "                        \n",
    "                      [populateResults(idx.item(), batch_id, 1, 0, w_images, n_ic, n_oc, row, column, weight_name) \\\n",
    "                       for idx in getResult(img, label, model, state_dict)]\n",
    "                      st[n_ic][n_oc][row][column] = org_val\n",
    "\n",
    "\n",
    "    \n",
    "            \n",
    "        \n",
    "        # For fully connected layers\n",
    "        elif layers_shape[weight_name] == 2:\n",
    "          rows = state_dict[weight_name].shape[0]\n",
    "\n",
    "          # Iterating number of neurons for the selected hidden layer\n",
    "          for row in range(rows):\n",
    "\n",
    "            # Fetching indices for -w and w weight value for the selected neuron\n",
    "            \"\"\"Since each neuron has weight vector, so by fetching indices\n",
    "            we will come to know, which indices of the neuron contains weights -w or w weight\"\"\"\n",
    "\n",
    "            #########################################################################################\n",
    "\n",
    "            if ('pos' in pos_neg_layerwise[weight_name]) and ('neg' in pos_neg_layerwise[weight_name]):\n",
    "              un = pos_neg_layerwise[weight_name]['pos'], pos_neg_layerwise[weight_name]['neg']\n",
    "\n",
    "              var_neg1 = torch.where(st[row]==un[1])[0]\n",
    "              var_1 = torch.where(st[row]==un[0])[0]\n",
    "\n",
    "            else:\n",
    "              try:\n",
    "                un = pos_neg_layerwise[weight_name]['pos']\n",
    "\n",
    "                var_neg1 = torch.where(st[row]==un*1000)[0]\n",
    "                var_1 = torch.where(st[row]==un)[0]\n",
    "\n",
    "              except KeyError:\n",
    "                un = pos_neg_layerwise[weight_name]['neg']\n",
    "\n",
    "                var_neg1 = torch.where(st[row]==un)[0]\n",
    "                var_1 = torch.where(st[row]==un*1000)[0]\n",
    "\n",
    "\n",
    "            #########################################################################################\n",
    "\n",
    "\n",
    "            if (var_neg1.nelement() == 0.) and (var_1.nelement() == 0.):\n",
    "              continue\n",
    "            else:\n",
    "              for column in torch.cat((var_neg1, var_1), 0):\n",
    "\n",
    "                column = column.item()\n",
    "\n",
    "                org_val_v1 = st[row][column].item()\n",
    "\n",
    "\n",
    "                #########################################################################################\n",
    "\n",
    "                if type(un) == tuple:\n",
    "                  pos, neg = un  # Positive, Negative\n",
    "\n",
    "                  if (org_val_v1 < 0.) and (neg == org_val_v1):\n",
    "\n",
    "                    org_val = neg\n",
    "                    old_state = neg\n",
    "                    new_state = 0.\n",
    "                    superSet.add((weight_name, row, column, -1, 0))\n",
    "\n",
    "                    st[row][column] = new_state\n",
    "                    \n",
    "                    [populateResults1(idx.item(), batch_id, -1, 0, w_images, row, column, weight_name) \\\n",
    "                     for idx in getResult(img, label, model, state_dict)]\n",
    "                    \n",
    "                    new_state = pos\n",
    "                    superSet.add((weight_name, row, column, -1, 1))\n",
    "                    st[row][column] = new_state\n",
    "                        \n",
    "                    [populateResults1(idx.item(), batch_id, -1, 1, w_images, row, column, weight_name) \\\n",
    "                     for idx in getResult(img, label, model, state_dict)]\n",
    "                    st[row][column] = org_val\n",
    "\n",
    "\n",
    "                  elif (org_val_v1 > 0.) and (pos == org_val_v1):\n",
    "\n",
    "                    org_val = pos\n",
    "                    old_state = pos\n",
    "                    new_state = 0.\n",
    "                    superSet.add((weight_name, row, column, 1, 0))\n",
    "\n",
    "                    st[row][column] = new_state\n",
    "                    \n",
    "                    [populateResults1(idx.item(), batch_id, 1, 0, w_images, row, column, weight_name) \\\n",
    "                     for idx in getResult(img, label, model, state_dict)]\n",
    "                    \n",
    "                    new_state = neg\n",
    "                    superSet.add((weight_name, row, column, 1, -1))\n",
    "                    st[row][column] = new_state\n",
    "                        \n",
    "                    [populateResults1(idx.item(), batch_id, 1, -1, w_images, row, column, weight_name) \\\n",
    "                     for idx in getResult(img, label, model, state_dict)]\n",
    "                    st[row][column] = org_val\n",
    "\n",
    "\n",
    " \n",
    "                elif (un < 0) and (un == org_val_v1):  ################# Negative ###############################################################\n",
    "                  org_val = un  \n",
    "                  old_state = un\n",
    "                  new_state = 0.\n",
    "                  superSet.add((weight_name, row, column, -1, 0))\n",
    "                  st[row][column] = new_state\n",
    "                    \n",
    "                  [populateResults1(idx.item(), batch_id, -1, 0, w_images, row, column, weight_name) \\\n",
    "                   for idx in getResult(img, label, model, state_dict)]\n",
    "\n",
    "                  st[row][column] = org_val\n",
    "\n",
    "\n",
    "                elif (un > 0) and (un == org_val_v1):  ################# Positive ###############################################################\n",
    "                  org_val = un\n",
    "                  old_state = un\n",
    "                  new_state = 0.\n",
    "                  superSet.add((weight_name, row, column, 1, 0))\n",
    "                  st[row][column] = new_state\n",
    "                    \n",
    "                  [populateResults1(idx.item(), batch_id, 1, 0, w_images, row, column, weight_name) \\\n",
    "                   for idx in getResult(img, label, model, state_dict)]\n",
    "                  \n",
    "                  st[row][column] = org_val\n",
    "\n",
    "\n",
    "    batch_id += 1\n",
    "\n",
    "\n",
    "    # Fetching locations and total number of images\n",
    "    ################################################\n",
    "\n",
    "    print(f\"Total number of elements in superSet is : {len(superSet)}.\",'\\n')\n",
    "\n",
    "    # joblib.dump(w_images, open('w_images_'+str(batch_id)+'.pkl','wb')) \n",
    "\n",
    "    image_locCounts = [] # (image_id,locationCounts)\n",
    "\n",
    "    for img in w_images.keys():\n",
    "        locCounts = len(w_images[img]['location'])\n",
    "        image_locCounts.append((locCounts,img))\n",
    "            \n",
    "    image_locCounts.sort(reverse=True)\n",
    "\n",
    "\n",
    "    netSetOfImages = []\n",
    "    progressingSet = []\n",
    "    max_locCounts_img = image_locCounts[0][1] # An image that has encompassed maximum locations.\n",
    "\n",
    "    netSetOfImages.append(max_locCounts_img)\n",
    "    progressingSet += set(w_images[max_locCounts_img]['location'])\n",
    "\n",
    "\n",
    "    for i in range(1,len(image_locCounts)):\n",
    "        img = image_locCounts[i][1]\n",
    "        locs = w_images[img]['location']\n",
    "\n",
    "        if set(locs).issubset(progressingSet):\n",
    "            pass\n",
    "        else:\n",
    "            progressingSet += list(set(locs) - set(progressingSet))\n",
    "            netSetOfImages.append(img)\n",
    "\n",
    "\n",
    "    if set(superSet).issubset(progressingSet):\n",
    "        print(\"All match done!\")\n",
    "    else:\n",
    "        print(\"There are {} locations that did not match.\".format(len(set(superSet) - set(progressingSet))))\n",
    "\n",
    "    print()\n",
    "    print(\"Total number of locations {} are encompassed out of {}.\".format(len(set(progressingSet)), len(superSet)))\n",
    "\n",
    "\n",
    "    print(\"Total number of elements in a weight matrix is \", len(superSet))\n",
    "\n",
    "    print(\"Total number of images fetched \",len(netSetOfImages),'\\n')\n",
    "\n",
    "    fetchimg_totImg_coverage_totCov.append(( len(netSetOfImages), len(set(progressingSet)), len(superSet) ))\n",
    "\n",
    "    # joblib.dump(fetchimg_totImg_coverage_totCov, open('res'+str(numImgs)+'.pkl','wb')) \n",
    "\n",
    "    # Superset \n",
    "    # joblib.dump(superSet, open('superSet.pkl','wb'))    \n",
    "\n",
    "                \n",
    "      \n",
    "    print(\"Output \\n\")\n",
    "    print(fetchimg_totImg_coverage_totCov)\n",
    "\n",
    "    #joblib.dump(fetchimg_totImg_coverage_totCov, open('op_128.pkl', 'wb'))\n"
   ]
  },
  {
   "cell_type": "code",
   "execution_count": null,
   "metadata": {
    "colab": {
     "base_uri": "https://localhost:8080/"
    },
    "id": "8gVS777-o2yv",
    "outputId": "00e14db3-dc84-4b5e-c4ce-aee2877147d8"
   },
   "outputs": [
    {
     "data": {
      "text/plain": [
       "0.9428672399575921"
      ]
     },
     "execution_count": 28,
     "metadata": {},
     "output_type": "execute_result"
    }
   ],
   "source": [
    "# Fault coverage\n",
    "fetchimg_totImg_coverage_totCov[-1][1]/fetchimg_totImg_coverage_totCov[-1][2]"
   ]
  },
  {
   "cell_type": "code",
   "execution_count": 1,
   "metadata": {
    "id": "3LgeaiFWAXg2"
   },
   "outputs": [
    {
     "data": {
      "text/plain": [
       "0.9431028389680763"
      ]
     },
     "execution_count": 1,
     "metadata": {},
     "output_type": "execute_result"
    }
   ],
   "source": [
    "# Adding dead neurons transitions also\n",
    "(8004+2)/8489"
   ]
  },
  {
   "cell_type": "code",
   "execution_count": null,
   "metadata": {},
   "outputs": [],
   "source": []
  }
 ],
 "metadata": {
  "accelerator": "GPU",
  "colab": {
   "collapsed_sections": [],
   "name": "Main_AlexNet_Training_set.ipynb",
   "provenance": []
  },
  "kernelspec": {
   "display_name": "Python 3",
   "language": "python",
   "name": "python3"
  },
  "language_info": {
   "codemirror_mode": {
    "name": "ipython",
    "version": 3
   },
   "file_extension": ".py",
   "mimetype": "text/x-python",
   "name": "python",
   "nbconvert_exporter": "python",
   "pygments_lexer": "ipython3",
   "version": "3.7.3"
  }
 },
 "nbformat": 4,
 "nbformat_minor": 1
}
