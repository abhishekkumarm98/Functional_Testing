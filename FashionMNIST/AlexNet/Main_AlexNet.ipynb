{
  "nbformat": 4,
  "nbformat_minor": 0,
  "metadata": {
    "colab": {
      "name": "Main_AlexNet_5.ipynb",
      "provenance": [],
      "collapsed_sections": []
    },
    "kernelspec": {
      "name": "python3",
      "display_name": "Python 3"
    },
    "language_info": {
      "name": "python"
    },
    "accelerator": "GPU"
  },
  "cells": [
    {
      "cell_type": "code",
      "source": [
        "from google.colab import drive\n",
        "drive.mount('/content/drive')"
      ],
      "metadata": {
        "id": "QVsgA9QPiGQ4"
      },
      "execution_count": null,
      "outputs": []
    },
    {
      "cell_type": "code",
      "source": [
        "cd drive/MyDrive/Research1_code/"
      ],
      "metadata": {
        "id": "muBHtHJyiHdL"
      },
      "execution_count": null,
      "outputs": []
    },
    {
      "cell_type": "code",
      "source": [
        "cd FashionMNIST/AlexNet"
      ],
      "metadata": {
        "id": "ZrX7qWiCiQOz"
      },
      "execution_count": null,
      "outputs": []
    },
    {
      "cell_type": "code",
      "source": [
        "import numpy as np, joblib\n",
        "import sys, os, random\n",
        "import matplotlib.pyplot as plt\n",
        "import pickle, gzip\n",
        "from tqdm import tqdm,tqdm_notebook\n",
        "import torch\n",
        "import torchvision\n",
        "from torch import nn\n",
        "from torch.autograd import Variable\n",
        "import torch.optim as optim\n",
        "import torch.nn.functional as F\n",
        "from torchvision import datasets, transforms\n",
        "from torch.utils.data import Dataset, DataLoader\n",
        "from torch.utils.data.sampler import SubsetRandomSampler"
      ],
      "metadata": {
        "id": "KXMJB6isiRyk"
      },
      "execution_count": 4,
      "outputs": []
    },
    {
      "cell_type": "code",
      "source": [
        "batch_size = 128\n",
        "seed_num = 1000\n",
        "\n",
        "# For reproducibility when you run the file with .py\n",
        "torch.cuda.is_available()\n",
        "torch.manual_seed(seed_num)\n",
        "torch.cuda.manual_seed(seed_num)\n",
        "np.random.seed(seed_num)\n",
        "random.seed(seed_num)\n",
        "torch.backends.cudnn.benchmark = True\n",
        "\n",
        "torch.backends.cudnn.deterministic =True"
      ],
      "metadata": {
        "id": "0ok6X5PjkKFX"
      },
      "execution_count": 5,
      "outputs": []
    },
    {
      "cell_type": "code",
      "source": [
        "# Data Augmentation \n",
        "train_transform = transforms.Compose([transforms.ToTensor(),transforms.Normalize([0.2860,],[0.3205,])])\n",
        "test_transform = transforms.Compose([transforms.ToTensor(),transforms.Normalize([0.2860,],[0.3205,])])\n",
        "\n",
        "# Splitting the training and test datasets\n",
        "train_data = datasets.FashionMNIST(os.getcwd(), train=True,\n",
        "                              download=True, transform=train_transform)\n",
        "test_data = datasets.FashionMNIST(os.getcwd(), train=False,\n",
        "                             download=True, transform=test_transform)"
      ],
      "metadata": {
        "id": "10agOYLDkidx"
      },
      "execution_count": 6,
      "outputs": []
    },
    {
      "cell_type": "code",
      "source": [
        "# Split the training set indices into training and validation set indices using 80:20 ratio\n",
        "np.random.seed(seed_num)\n",
        "len_trainset = len(train_data)\n",
        "index_list = list(range(len_trainset))\n",
        "np.random.shuffle(index_list)\n",
        "split_index = 50000\n",
        "train_indices, valid_indices =  index_list[:split_index], index_list[split_index:]\n",
        "\n",
        "# Creating Samplers for training and validation set using the indices\n",
        "np.random.seed(seed_num)\n",
        "train_sampler = SubsetRandomSampler(train_indices)\n",
        "valid_sampler = SubsetRandomSampler(valid_indices)\n",
        "\n",
        "torch.manual_seed(seed_num)\n",
        "\n",
        "train_iterator = DataLoader(train_data, batch_size=batch_size, sampler=train_sampler)\n",
        "val_iterator = DataLoader(train_data, batch_size=batch_size, sampler=valid_sampler)\n",
        "test_iterator = DataLoader(test_data, batch_size=batch_size, shuffle=True)\n"
      ],
      "metadata": {
        "id": "5GnCuQ91lCty"
      },
      "execution_count": 7,
      "outputs": []
    },
    {
      "cell_type": "code",
      "source": [
        "# AlexNet Model\n",
        "\n",
        "class AlexNet(nn.Module):\n",
        "    def __init__(self, output_dim):\n",
        "        super().__init__()\n",
        "        \n",
        "        self.features = nn.Sequential(\n",
        "            nn.Conv2d(1, 32, 3, 1), #in_channels, out_channels, kernel_size, stride, padding\n",
        "            nn.BatchNorm2d(32),\n",
        "            nn.ReLU(inplace = True),\n",
        "            nn.Conv2d(32, 64, 3, padding = 1),\n",
        "            nn.MaxPool2d(kernel_size=2, stride=2),\n",
        "            nn.ReLU(inplace = True),\n",
        "\n",
        "            nn.Conv2d(64, 128, 3, padding = 1),\n",
        "            nn.BatchNorm2d(128),\n",
        "            nn.ReLU(inplace = True),\n",
        "            nn.Conv2d(128, 256, 3, padding = 1),\n",
        "            nn.ReLU(inplace = True),\n",
        "            nn.Conv2d(256, 256, 3, padding = 1),\n",
        "            nn.ReLU(inplace = True),\n",
        "            nn.MaxPool2d(kernel_size=2, stride=2),\n",
        "            \n",
        "        )\n",
        "        \n",
        "        self.classifier = nn.Sequential(\n",
        "            nn.Dropout(0.1),\n",
        "            nn.Linear(256 * 6 * 6, 256),\n",
        "            nn.ReLU(inplace = True),\n",
        "            nn.Linear(256,256),\n",
        "            nn.ReLU(inplace = True),\n",
        "            nn.Linear(256, output_dim),\n",
        "        )\n",
        "\n",
        "\n",
        "    def forward(self, x):\n",
        "        x = self.features(x)\n",
        "        h = x.view(x.size(0), -1)\n",
        "        x = self.classifier(h)\n",
        "        \n",
        "        return x"
      ],
      "metadata": {
        "id": "4D-XvGNzlJn_"
      },
      "execution_count": 8,
      "outputs": []
    },
    {
      "cell_type": "code",
      "source": [
        "torch.manual_seed(seed_num)\n",
        "unit=128\n",
        "\n",
        "# Summary\n",
        "model = AlexNet(10)\n",
        "print(\"Model:\\n\",model)"
      ],
      "metadata": {
        "colab": {
          "base_uri": "https://localhost:8080/"
        },
        "id": "W-97MR9BlJrW",
        "outputId": "81aa7c69-9bc0-4b24-ae11-33a2ab8a2527"
      },
      "execution_count": 9,
      "outputs": [
        {
          "output_type": "stream",
          "name": "stdout",
          "text": [
            "Model:\n",
            " AlexNet(\n",
            "  (features): Sequential(\n",
            "    (0): Conv2d(1, 32, kernel_size=(3, 3), stride=(1, 1))\n",
            "    (1): BatchNorm2d(32, eps=1e-05, momentum=0.1, affine=True, track_running_stats=True)\n",
            "    (2): ReLU(inplace=True)\n",
            "    (3): Conv2d(32, 64, kernel_size=(3, 3), stride=(1, 1), padding=(1, 1))\n",
            "    (4): MaxPool2d(kernel_size=2, stride=2, padding=0, dilation=1, ceil_mode=False)\n",
            "    (5): ReLU(inplace=True)\n",
            "    (6): Conv2d(64, 128, kernel_size=(3, 3), stride=(1, 1), padding=(1, 1))\n",
            "    (7): BatchNorm2d(128, eps=1e-05, momentum=0.1, affine=True, track_running_stats=True)\n",
            "    (8): ReLU(inplace=True)\n",
            "    (9): Conv2d(128, 256, kernel_size=(3, 3), stride=(1, 1), padding=(1, 1))\n",
            "    (10): ReLU(inplace=True)\n",
            "    (11): Conv2d(256, 256, kernel_size=(3, 3), stride=(1, 1), padding=(1, 1))\n",
            "    (12): ReLU(inplace=True)\n",
            "    (13): MaxPool2d(kernel_size=2, stride=2, padding=0, dilation=1, ceil_mode=False)\n",
            "  )\n",
            "  (classifier): Sequential(\n",
            "    (0): Dropout(p=0.1, inplace=False)\n",
            "    (1): Linear(in_features=9216, out_features=256, bias=True)\n",
            "    (2): ReLU(inplace=True)\n",
            "    (3): Linear(in_features=256, out_features=256, bias=True)\n",
            "    (4): ReLU(inplace=True)\n",
            "    (5): Linear(in_features=256, out_features=10, bias=True)\n",
            "  )\n",
            ")\n"
          ]
        }
      ]
    },
    {
      "cell_type": "code",
      "source": [
        "# Layer names\n",
        "layer_name = [n for n, p in model.named_parameters()]\n",
        "print(layer_name)"
      ],
      "metadata": {
        "colab": {
          "base_uri": "https://localhost:8080/"
        },
        "id": "A8PBc3NYlJuX",
        "outputId": "a30786aa-918d-45a5-a2ec-1ac39328494f"
      },
      "execution_count": 10,
      "outputs": [
        {
          "output_type": "stream",
          "name": "stdout",
          "text": [
            "['features.0.weight', 'features.0.bias', 'features.1.weight', 'features.1.bias', 'features.3.weight', 'features.3.bias', 'features.6.weight', 'features.6.bias', 'features.7.weight', 'features.7.bias', 'features.9.weight', 'features.9.bias', 'features.11.weight', 'features.11.bias', 'classifier.1.weight', 'classifier.1.bias', 'classifier.3.weight', 'classifier.3.bias', 'classifier.5.weight', 'classifier.5.bias']\n"
          ]
        }
      ]
    },
    {
      "cell_type": "code",
      "source": [
        "# Loading the weights of ternary model \n",
        "model = torch.load('AlexNet_fashion_Quant_v3.pt')\n",
        "model = model.cuda()\n",
        "print(\"Loading weights done !\")\n",
        "\n",
        "# Total number of ternary weights (+w, -w)\n",
        "totalParams = 0\n",
        "for i in layer_name:\n",
        "  print(i,(model.state_dict()[i] !=0).sum())\n",
        "  totalParams +=  (model.state_dict()[i] !=0).sum()\n",
        "    \n",
        "print(\"Total Parameters:\",totalParams, '\\n')"
      ],
      "metadata": {
        "colab": {
          "base_uri": "https://localhost:8080/"
        },
        "id": "7V_swsrplJxP",
        "outputId": "294f5c75-b258-42ff-f266-ca5018da08e2"
      },
      "execution_count": 11,
      "outputs": [
        {
          "output_type": "stream",
          "name": "stdout",
          "text": [
            "Loading weights done !\n",
            "features.0.weight tensor(97, device='cuda:0')\n",
            "features.0.bias tensor(23, device='cuda:0')\n",
            "features.1.weight tensor(24, device='cuda:0')\n",
            "features.1.bias tensor(14, device='cuda:0')\n",
            "features.3.weight tensor(413, device='cuda:0')\n",
            "features.3.bias tensor(29, device='cuda:0')\n",
            "features.6.weight tensor(436, device='cuda:0')\n",
            "features.6.bias tensor(46, device='cuda:0')\n",
            "features.7.weight tensor(93, device='cuda:0')\n",
            "features.7.bias tensor(58, device='cuda:0')\n",
            "features.9.weight tensor(407, device='cuda:0')\n",
            "features.9.bias tensor(23, device='cuda:0')\n",
            "features.11.weight tensor(388, device='cuda:0')\n",
            "features.11.bias tensor(53, device='cuda:0')\n",
            "classifier.1.weight tensor(1889, device='cuda:0')\n",
            "classifier.1.bias tensor(58, device='cuda:0')\n",
            "classifier.3.weight tensor(293, device='cuda:0')\n",
            "classifier.3.bias tensor(35, device='cuda:0')\n",
            "classifier.5.weight tensor(158, device='cuda:0')\n",
            "classifier.5.bias tensor(7, device='cuda:0')\n",
            "Total Parameters: tensor(4544, device='cuda:0') \n",
            "\n"
          ]
        }
      ]
    },
    {
      "cell_type": "code",
      "source": [
        "# Model's performance on test set\n",
        "\n",
        "correct_count, all_count = 0, 0\n",
        "model.eval()\n",
        "for images,labels in test_iterator:\n",
        "      for image,label in zip(images,labels):\n",
        "\n",
        "        if torch.cuda.is_available():\n",
        "            img = image.cuda()\n",
        "            lab = label.cuda()\n",
        "            img = img[None,].type('torch.cuda.FloatTensor')\n",
        "\n",
        "        with torch.no_grad():\n",
        "            output_ = model(img) \n",
        "\n",
        "        pred_label = output_.argmax()\n",
        "\n",
        "        if(pred_label.item()==lab.item()):\n",
        "          correct_count += 1\n",
        "        all_count += 1\n",
        "\n",
        "print(\"Number Of Images Tested =\", all_count)\n",
        "print(\"\\nModel Test Accuracy =\", (correct_count/(all_count)))\n"
      ],
      "metadata": {
        "colab": {
          "base_uri": "https://localhost:8080/"
        },
        "id": "0uPbBVUKlJ0X",
        "outputId": "d9a422cf-be5a-410e-a5af-0b6ea1f6b799"
      },
      "execution_count": 12,
      "outputs": [
        {
          "output_type": "stream",
          "name": "stdout",
          "text": [
            "Number Of Images Tested = 10000\n",
            "\n",
            "Model Test Accuracy = 0.623\n"
          ]
        }
      ]
    },
    {
      "cell_type": "code",
      "source": [
        "# For each layer, model's ternary weights\n",
        "state_dict = model.state_dict()\n",
        "\n",
        "layer_distinct_weights = {}\n",
        "\n",
        "for i in layer_name:\n",
        "  imd = torch.unique(model.state_dict()[i])\n",
        "  print(i+ ' hidden layer dimension', model.state_dict()[i].shape)\n",
        "  print(\"Unique values of weight in \"+ i+ \" th hidden layer : \", imd)\n",
        "  layer_distinct_weights[i] = imd.cpu().numpy().tolist()\n",
        "  print()\n"
      ],
      "metadata": {
        "colab": {
          "base_uri": "https://localhost:8080/"
        },
        "id": "RvZCWE-QlJ6U",
        "outputId": "778c7805-623b-4a23-fa81-afb02275294d"
      },
      "execution_count": 13,
      "outputs": [
        {
          "output_type": "stream",
          "name": "stdout",
          "text": [
            "features.0.weight hidden layer dimension torch.Size([32, 1, 3, 3])\n",
            "Unique values of weight in features.0.weight th hidden layer :  tensor([-1.0145,  0.0000,  1.0145], device='cuda:0')\n",
            "\n",
            "features.0.bias hidden layer dimension torch.Size([32])\n",
            "Unique values of weight in features.0.bias th hidden layer :  tensor([-0.9993,  0.0000,  0.9998], device='cuda:0')\n",
            "\n",
            "features.1.weight hidden layer dimension torch.Size([32])\n",
            "Unique values of weight in features.1.weight th hidden layer :  tensor([0.0000, 1.0204], device='cuda:0')\n",
            "\n",
            "features.1.bias hidden layer dimension torch.Size([32])\n",
            "Unique values of weight in features.1.bias th hidden layer :  tensor([-1.0282,  0.0000,  0.9856], device='cuda:0')\n",
            "\n",
            "features.3.weight hidden layer dimension torch.Size([64, 32, 3, 3])\n",
            "Unique values of weight in features.3.weight th hidden layer :  tensor([-1.0281,  0.0000,  1.0180], device='cuda:0')\n",
            "\n",
            "features.3.bias hidden layer dimension torch.Size([64])\n",
            "Unique values of weight in features.3.bias th hidden layer :  tensor([-1.0050,  0.0000,  1.0135], device='cuda:0')\n",
            "\n",
            "features.6.weight hidden layer dimension torch.Size([128, 64, 3, 3])\n",
            "Unique values of weight in features.6.weight th hidden layer :  tensor([-0.9642,  0.0000,  0.9642], device='cuda:0')\n",
            "\n",
            "features.6.bias hidden layer dimension torch.Size([128])\n",
            "Unique values of weight in features.6.bias th hidden layer :  tensor([-0.9996,  0.0000,  0.9980], device='cuda:0')\n",
            "\n",
            "features.7.weight hidden layer dimension torch.Size([128])\n",
            "Unique values of weight in features.7.weight th hidden layer :  tensor([0.0000, 0.9543], device='cuda:0')\n",
            "\n",
            "features.7.bias hidden layer dimension torch.Size([128])\n",
            "Unique values of weight in features.7.bias th hidden layer :  tensor([-0.9572,  0.0000], device='cuda:0')\n",
            "\n",
            "features.9.weight hidden layer dimension torch.Size([256, 128, 3, 3])\n",
            "Unique values of weight in features.9.weight th hidden layer :  tensor([-1.0071,  0.0000,  0.9618], device='cuda:0')\n",
            "\n",
            "features.9.bias hidden layer dimension torch.Size([256])\n",
            "Unique values of weight in features.9.bias th hidden layer :  tensor([-1.0131,  0.0000,  1.0093], device='cuda:0')\n",
            "\n",
            "features.11.weight hidden layer dimension torch.Size([256, 256, 3, 3])\n",
            "Unique values of weight in features.11.weight th hidden layer :  tensor([-1.0002,  0.0000,  0.9652], device='cuda:0')\n",
            "\n",
            "features.11.bias hidden layer dimension torch.Size([256])\n",
            "Unique values of weight in features.11.bias th hidden layer :  tensor([-0.9796,  0.0000,  1.0256], device='cuda:0')\n",
            "\n",
            "classifier.1.weight hidden layer dimension torch.Size([256, 9216])\n",
            "Unique values of weight in classifier.1.weight th hidden layer :  tensor([-0.9688,  0.0000,  0.9639], device='cuda:0')\n",
            "\n",
            "classifier.1.bias hidden layer dimension torch.Size([256])\n",
            "Unique values of weight in classifier.1.bias th hidden layer :  tensor([-0.9743,  0.0000,  0.9643], device='cuda:0')\n",
            "\n",
            "classifier.3.weight hidden layer dimension torch.Size([256, 256])\n",
            "Unique values of weight in classifier.3.weight th hidden layer :  tensor([-0.9770,  0.0000,  0.9615], device='cuda:0')\n",
            "\n",
            "classifier.3.bias hidden layer dimension torch.Size([256])\n",
            "Unique values of weight in classifier.3.bias th hidden layer :  tensor([-0.9678,  0.0000,  0.9626], device='cuda:0')\n",
            "\n",
            "classifier.5.weight hidden layer dimension torch.Size([10, 256])\n",
            "Unique values of weight in classifier.5.weight th hidden layer :  tensor([-1.0396,  0.0000,  0.9637], device='cuda:0')\n",
            "\n",
            "classifier.5.bias hidden layer dimension torch.Size([10])\n",
            "Unique values of weight in classifier.5.bias th hidden layer :  tensor([-1.0051,  0.0000,  0.9871], device='cuda:0')\n",
            "\n"
          ]
        }
      ]
    },
    {
      "cell_type": "code",
      "source": [
        "# Single seed normal distribution\n",
        "np.random.seed(seed_num)\n",
        "corr_images1 = []\n",
        "\n",
        "for i in range(3000): \n",
        "  corr_images1.append(np.random.randn(1,28,28))\n",
        "\n",
        "corr_images1 = np.array(corr_images1)\n",
        "corr_images1.shape"
      ],
      "metadata": {
        "colab": {
          "base_uri": "https://localhost:8080/"
        },
        "id": "Sr2l07FwlJ9I",
        "outputId": "65fbc1d5-b511-4d84-9f16-38af8f16611c"
      },
      "execution_count": 14,
      "outputs": [
        {
          "output_type": "execute_result",
          "data": {
            "text/plain": [
              "(3000, 1, 28, 28)"
            ]
          },
          "metadata": {},
          "execution_count": 14
        }
      ]
    },
    {
      "cell_type": "code",
      "source": [
        "# Structured Patterns\n",
        "\n",
        "np.random.seed(seed_num)\n",
        "\n",
        "corr_images2 = []\n",
        "a = np.identity(28) * np.random.randn(28)\n",
        "corr_images2.append(a)\n",
        "b = np.fliplr(a.copy()) * np.random.randn(28)\n",
        "corr_images2.append(b)\n",
        "c = (a+b).copy() * np.random.randn(28)\n",
        "corr_images2.append(c)\n",
        "\n",
        "# To apply [1,1] , [0,1], [1,0]\n",
        "cp_file = [a,b,c]\n",
        "\n",
        "# To apply randn\n",
        "a1,b1,c1 = a.copy(), b.copy(), c.copy()\n",
        "cp_file1 = [a1, b1, c1]\n",
        "\n",
        "files = [cp_file, cp_file1]\n",
        "\n",
        "for i in range(500):\n",
        "    \n",
        "    np.random.seed(i)\n",
        "    choose = np.random.randint(0,2)\n",
        "\n",
        "    # Picking row and column indices randomly\n",
        "    r_idx = np.random.randint(0,28)\n",
        "    c_idx = np.random.randint(0,28)\n",
        "\n",
        "    if choose == 0:\n",
        "        \n",
        "        # Selecting file\n",
        "        file = files[0]\n",
        "        \n",
        "        imd_img = file[np.random.randint(0,3)].copy()\n",
        "        \n",
        "        imd_img1 = file[np.random.randint(0,3)]\n",
        "        \n",
        "        opt =[[1,1] , [0,1], [1,0]]\n",
        "        \n",
        "        if np.random.randint(0,2) == 0:\n",
        "        \n",
        "            imd_img[r_idx,:] = np.array(opt[np.random.randint(0,3)] *14) \n",
        "            corr_images2.append(imd_img)\n",
        "\n",
        "            imd_img[:,c_idx] = np.array(opt[np.random.randint(0,3)] *14) \n",
        "            corr_images2.append(imd_img)\n",
        "\n",
        "        else:\n",
        "            imd_img1[r_idx,:] = np.array(opt[np.random.randint(0,3)] *14) \n",
        "            corr_images2.append(imd_img1)\n",
        "\n",
        "            imd_img1[:,c_idx] = np.array(opt[np.random.randint(0,3)] *14) \n",
        "            corr_images2.append(imd_img1)\n",
        "            \n",
        "\n",
        "    else:\n",
        "        \n",
        "        # Selecting file\n",
        "        file = files[1]\n",
        "        \n",
        "        imd_img = file[np.random.randint(0,3)].copy()\n",
        "        \n",
        "        imd_img1 = file[np.random.randint(0,3)]\n",
        "        \n",
        "        opt =[[1,1] , [0,1], [1,0]]\n",
        "        \n",
        "        if np.random.randint(0,2) == 0:\n",
        "        \n",
        "            imd_img[r_idx,:] = np.array(opt[np.random.randint(0,3)] *14) * np.random.randn(28)\n",
        "            corr_images2.append(imd_img)\n",
        "\n",
        "            imd_img[:,c_idx] = np.array(opt[np.random.randint(0,3)] *14) * np.random.randn(28)\n",
        "            corr_images2.append(imd_img)\n",
        "\n",
        "        else:\n",
        "            imd_img1[r_idx,:] = np.array(opt[np.random.randint(0,3)] *14) * np.random.randn(28)\n",
        "            corr_images2.append(imd_img1)\n",
        "\n",
        "            imd_img1[:,c_idx] = np.array(opt[np.random.randint(0,3)] *14) * np.random.randn(28)\n",
        "            corr_images2.append(imd_img1)\n",
        "    \n",
        "corr_images2 = np.array(corr_images2).reshape(len(corr_images2),1,28,28)"
      ],
      "metadata": {
        "id": "4cZcFQ5ylKcX"
      },
      "execution_count": 20,
      "outputs": []
    },
    {
      "cell_type": "code",
      "source": [
        "corr_images2 = np.unique(corr_images2, axis=0)\n",
        "len(corr_images2)"
      ],
      "metadata": {
        "colab": {
          "base_uri": "https://localhost:8080/"
        },
        "id": "xcmgnbR3lKu0",
        "outputId": "f9d4cca0-38b7-4d4a-b5a8-03f9a967e766"
      },
      "execution_count": 21,
      "outputs": [
        {
          "output_type": "execute_result",
          "data": {
            "text/plain": [
              "258"
            ]
          },
          "metadata": {},
          "execution_count": 21
        }
      ]
    },
    {
      "cell_type": "code",
      "source": [
        "# Augmentation on structured images\n",
        "\n",
        "corr_images2_1 = []\n",
        "np.random.seed(seed_num)\n",
        "torch.manual_seed(seed_num)\n",
        "for img in corr_images2:\n",
        "\n",
        "    for angle in range(5,361,5):\n",
        "        transform_st = transforms.Compose([transforms.ToTensor(), transforms.RandomRotation(angle), \\\n",
        "                                             transforms.RandomHorizontalFlip()]) \n",
        "        corr_images2_1.append(transform_st(img).permute(1,0,2).numpy())\n",
        "        \n",
        "        transform_st1 = transforms.Compose([transforms.ToTensor(), transforms.RandomRotation(angle)]) \n",
        "        corr_images2_1.append(transform_st1(img).permute(1,0,2).numpy())\n",
        "        \n",
        "        transform_st2 = transforms.Compose([transforms.ToTensor(),transforms.RandomHorizontalFlip()]) \n",
        "        corr_images2_1.append(transform_st2(img).permute(1,0,2).numpy())\n",
        "        \n",
        "\n",
        "corr_images2_1 += corr_images2.tolist()\n",
        "corr_images2_1 = np.unique(corr_images2_1, axis=0)\n",
        "idx = np.random.permutation(len(corr_images2_1))[:4000]\n",
        "corr_images2 = corr_images2_1[idx]\n",
        "corr_images2.shape"
      ],
      "metadata": {
        "colab": {
          "base_uri": "https://localhost:8080/"
        },
        "id": "YJjDXlL-P0EX",
        "outputId": "9831db48-b4c6-4534-f670-8e56fb329382"
      },
      "execution_count": 23,
      "outputs": [
        {
          "output_type": "execute_result",
          "data": {
            "text/plain": [
              "(4000, 1, 28, 28)"
            ]
          },
          "metadata": {},
          "execution_count": 23
        }
      ]
    },
    {
      "cell_type": "code",
      "source": [
        "# Plotting some structured images\n",
        "for i in range(2,28):\n",
        "    plt.imshow(corr_images2[i].reshape((28,28)))\n",
        "    plt.show()"
      ],
      "metadata": {
        "colab": {
          "base_uri": "https://localhost:8080/",
          "height": 1000
        },
        "id": "v8fnTNduo2JO",
        "outputId": "59972a2c-657f-48ac-baed-48c81d35975e"
      },
      "execution_count": 24,
      "outputs": [
        {
          "output_type": "display_data",
          "data": {
            "text/plain": [
              "<Figure size 432x288 with 1 Axes>"
            ],
            "image/png": "[encoded data removed]"
          },
          "metadata": {
            "needs_background": "light"
          }
        },
        {
          "output_type": "display_data",
          "data": {
            "text/plain": [
              "<Figure size 432x288 with 1 Axes>"
            ],
            "image/png": "[encoded data removed]"
          },
          "metadata": {
            "needs_background": "light"
          }
        },
        {
          "output_type": "display_data",
          "data": {
            "text/plain": [
              "<Figure size 432x288 with 1 Axes>"
            ],
            "image/png": "[encoded data removed]"
          },
          "metadata": {
            "needs_background": "light"
          }
        },
        {
          "output_type": "display_data",
          "data": {
            "text/plain": [
              "<Figure size 432x288 with 1 Axes>"
            ],
            "image/png": "[encoded data removed]"
          },
          "metadata": {
            "needs_background": "light"
          }
        },
        {
          "output_type": "display_data",
          "data": {
            "text/plain": [
              "<Figure size 432x288 with 1 Axes>"
            ],
            "image/png": "[encoded data removed]"
          },
          "metadata": {
            "needs_background": "light"
          }
        },
        {
          "output_type": "display_data",
          "data": {
            "text/plain": [
              "<Figure size 432x288 with 1 Axes>"
            ],
            "image/png": "[encoded data removed]"
          },
          "metadata": {
            "needs_background": "light"
          }
        },
        {
          "output_type": "display_data",
          "data": {
            "text/plain": [
              "<Figure size 432x288 with 1 Axes>"
            ],
            "image/png": "[encoded data removed]"
          },
          "metadata": {
            "needs_background": "light"
          }
        },
        {
          "output_type": "display_data",
          "data": {
            "text/plain": [
              "<Figure size 432x288 with 1 Axes>"
            ],
            "image/png": "[encoded data removed]"
          },
          "metadata": {
            "needs_background": "light"
          }
        },
        {
          "output_type": "display_data",
          "data": {
            "text/plain": [
              "<Figure size 432x288 with 1 Axes>"
            ],
            "image/png": "[encoded data removed]"
          },
          "metadata": {
            "needs_background": "light"
          }
        },
        {
          "output_type": "display_data",
          "data": {
            "text/plain": [
              "<Figure size 432x288 with 1 Axes>"
            ],
            "image/png": "[encoded data removed]"
          },
          "metadata": {
            "needs_background": "light"
          }
        },
        {
          "output_type": "display_data",
          "data": {
            "text/plain": [
              "<Figure size 432x288 with 1 Axes>"
            ],
            "image/png": "[encoded data removed]"
          },
          "metadata": {
            "needs_background": "light"
          }
        },
        {
          "output_type": "display_data",
          "data": {
            "text/plain": [
              "<Figure size 432x288 with 1 Axes>"
            ],
            "image/png": "[encoded data removed]"
          },
          "metadata": {
            "needs_background": "light"
          }
        },
        {
          "output_type": "display_data",
          "data": {
            "text/plain": [
              "<Figure size 432x288 with 1 Axes>"
            ],
            "image/png": "[encoded data removed]"
          },
          "metadata": {
            "needs_background": "light"
          }
        },
        {
          "output_type": "display_data",
          "data": {
            "text/plain": [
              "<Figure size 432x288 with 1 Axes>"
            ],
            "image/png": "[encoded data removed]"
          },
          "metadata": {
            "needs_background": "light"
          }
        },
        {
          "output_type": "display_data",
          "data": {
            "text/plain": [
              "<Figure size 432x288 with 1 Axes>"
            ],
            "image/png": "[encoded data removed]"
          },
          "metadata": {
            "needs_background": "light"
          }
        },
        {
          "output_type": "display_data",
          "data": {
            "text/plain": [
              "<Figure size 432x288 with 1 Axes>"
            ],
            "image/png": "[encoded data removed]"
          },
          "metadata": {
            "needs_background": "light"
          }
        },
        {
          "output_type": "display_data",
          "data": {
            "text/plain": [
              "<Figure size 432x288 with 1 Axes>"
            ],
            "image/png": "[encoded data removed]"
          },
          "metadata": {
            "needs_background": "light"
          }
        },
        {
          "output_type": "display_data",
          "data": {
            "text/plain": [
              "<Figure size 432x288 with 1 Axes>"
            ],
            "image/png": "[encoded data removed]"
          },
          "metadata": {
            "needs_background": "light"
          }
        },
        {
          "output_type": "display_data",
          "data": {
            "text/plain": [
              "<Figure size 432x288 with 1 Axes>"
            ],
            "image/png": "[encoded data removed]"
          },
          "metadata": {
            "needs_background": "light"
          }
        },
        {
          "output_type": "display_data",
          "data": {
            "text/plain": [
              "<Figure size 432x288 with 1 Axes>"
            ],
            "image/png": "[encoded data removed]"
          },
          "metadata": {
            "needs_background": "light"
          }
        },
        {
          "output_type": "display_data",
          "data": {
            "text/plain": [
              "<Figure size 432x288 with 1 Axes>"
            ],
            "image/png": "[encoded data removed]"
          },
          "metadata": {
            "needs_background": "light"
          }
        },
        {
          "output_type": "display_data",
          "data": {
            "text/plain": [
              "<Figure size 432x288 with 1 Axes>"
            ],
            "image/png": "[encoded data removed]"
          },
          "metadata": {
            "needs_background": "light"
          }
        },
        {
          "output_type": "display_data",
          "data": {
            "text/plain": [
              "<Figure size 432x288 with 1 Axes>"
            ],
            "image/png": "[encoded data removed]"
          },
          "metadata": {
            "needs_background": "light"
          }
        },
        {
          "output_type": "display_data",
          "data": {
            "text/plain": [
              "<Figure size 432x288 with 1 Axes>"
            ],
            "image/png": "[encoded data removed]"
          },
          "metadata": {
            "needs_background": "light"
          }
        },
        {
          "output_type": "display_data",
          "data": {
            "text/plain": [
              "<Figure size 432x288 with 1 Axes>"
            ],
            "image/png": "[encoded data removed]"
          },
          "metadata": {
            "needs_background": "light"
          }
        },
        {
          "output_type": "display_data",
          "data": {
            "text/plain": [
              "<Figure size 432x288 with 1 Axes>"
            ],
            "image/png": "[encoded data removed]"
          },
          "metadata": {
            "needs_background": "light"
          }
        }
      ]
    },
    {
      "cell_type": "code",
      "source": [
        "#############\n",
        "# Pixel taking randomly from 8 bits (0-255) to generate images\n",
        "\n",
        "np.random.seed(seed_num)\n",
        "corr_images1_ = []\n",
        "\n",
        "for i in range(200):\n",
        "    img = np.random.randint(0, 256, (1,28,28)).astype('float')/255.\n",
        "    for angle in range(5,361,5):\n",
        "        transform_st = transforms.Compose([transforms.ToTensor(), transforms.RandomRotation(angle), \\\n",
        "                                             transforms.RandomHorizontalFlip()]) \n",
        "        corr_images1_.append(transform_st(img).permute(1,0,2).numpy())\n",
        "        \n",
        "        transform_st1 = transforms.Compose([transforms.ToTensor(), transforms.RandomRotation(angle)]) \n",
        "        corr_images1_.append(transform_st1(img).permute(1,0,2).numpy())\n",
        "        \n",
        "        transform_st2 = transforms.Compose([transforms.ToTensor(),transforms.RandomHorizontalFlip()]) \n",
        "        corr_images1_.append(transform_st2(img).permute(1,0,2).numpy())\n",
        "\n",
        "\n",
        "corr_images_ = np.unique(corr_images1_, axis=0)\n",
        "idx = np.random.permutation(len(corr_images_))[:3000]\n",
        "corr_images_ = corr_images_[idx]"
      ],
      "metadata": {
        "id": "3bUdfYmdo2Lu"
      },
      "execution_count": 25,
      "outputs": []
    },
    {
      "cell_type": "code",
      "source": [
        "for i in range(15,28):\n",
        "    plt.imshow(corr_images_[i].reshape((28,28)))\n",
        "    plt.show()"
      ],
      "metadata": {
        "colab": {
          "base_uri": "https://localhost:8080/",
          "height": 1000
        },
        "id": "hUlgkRzXo2Ol",
        "outputId": "a213af4e-4c6f-474e-9691-2915abdbb4a1"
      },
      "execution_count": 26,
      "outputs": [
        {
          "output_type": "display_data",
          "data": {
            "text/plain": [
              "<Figure size 432x288 with 1 Axes>"
            ],
            "image/png": "[encoded data removed]"
          },
          "metadata": {
            "needs_background": "light"
          }
        },
        {
          "output_type": "display_data",
          "data": {
            "text/plain": [
              "<Figure size 432x288 with 1 Axes>"
            ],
            "image/png": "[encoded data removed]"
          },
          "metadata": {
            "needs_background": "light"
          }
        },
        {
          "output_type": "display_data",
          "data": {
            "text/plain": [
              "<Figure size 432x288 with 1 Axes>"
            ],
            "image/png": "[encoded data removed]"
          },
          "metadata": {
            "needs_background": "light"
          }
        },
        {
          "output_type": "display_data",
          "data": {
            "text/plain": [
              "<Figure size 432x288 with 1 Axes>"
            ],
            "image/png": "[encoded data removed]"
          },
          "metadata": {
            "needs_background": "light"
          }
        },
        {
          "output_type": "display_data",
          "data": {
            "text/plain": [
              "<Figure size 432x288 with 1 Axes>"
            ],
            "image/png": "[encoded data removed]"
          },
          "metadata": {
            "needs_background": "light"
          }
        },
        {
          "output_type": "display_data",
          "data": {
            "text/plain": [
              "<Figure size 432x288 with 1 Axes>"
            ],
            "image/png": "[encoded data removed]"
          },
          "metadata": {
            "needs_background": "light"
          }
        },
        {
          "output_type": "display_data",
          "data": {
            "text/plain": [
              "<Figure size 432x288 with 1 Axes>"
            ],
            "image/png": "[encoded data removed]"
          },
          "metadata": {
            "needs_background": "light"
          }
        },
        {
          "output_type": "display_data",
          "data": {
            "text/plain": [
              "<Figure size 432x288 with 1 Axes>"
            ],
            "image/png": "[encoded data removed]"
          },
          "metadata": {
            "needs_background": "light"
          }
        },
        {
          "output_type": "display_data",
          "data": {
            "text/plain": [
              "<Figure size 432x288 with 1 Axes>"
            ],
            "image/png": "[encoded data removed]"
          },
          "metadata": {
            "needs_background": "light"
          }
        },
        {
          "output_type": "display_data",
          "data": {
            "text/plain": [
              "<Figure size 432x288 with 1 Axes>"
            ],
            "image/png": "[encoded data removed]"
          },
          "metadata": {
            "needs_background": "light"
          }
        },
        {
          "output_type": "display_data",
          "data": {
            "text/plain": [
              "<Figure size 432x288 with 1 Axes>"
            ],
            "image/png": "[encoded data removed]"
          },
          "metadata": {
            "needs_background": "light"
          }
        },
        {
          "output_type": "display_data",
          "data": {
            "text/plain": [
              "<Figure size 432x288 with 1 Axes>"
            ],
            "image/png": "[encoded data removed]"
          },
          "metadata": {
            "needs_background": "light"
          }
        },
        {
          "output_type": "display_data",
          "data": {
            "text/plain": [
              "<Figure size 432x288 with 1 Axes>"
            ],
            "image/png": "[encoded data removed]"
          },
          "metadata": {
            "needs_background": "light"
          }
        }
      ]
    },
    {
      "cell_type": "code",
      "source": [
        "corr_images3 = np.array(corr_images_)"
      ],
      "metadata": {
        "id": "2Hq9pt6Bo2Q0"
      },
      "execution_count": 27,
      "outputs": []
    },
    {
      "cell_type": "code",
      "source": [
        "# Normal dist + Structured + Random Pixel\n",
        "corr_images = np.concatenate([corr_images1, corr_images2, corr_images3])\n",
        "corr_images.shape"
      ],
      "metadata": {
        "colab": {
          "base_uri": "https://localhost:8080/"
        },
        "id": "xlI4lYUUo2Th",
        "outputId": "00161c91-860d-4d98-9bf5-ff7562ea4af8"
      },
      "execution_count": 28,
      "outputs": [
        {
          "output_type": "execute_result",
          "data": {
            "text/plain": [
              "(10000, 1, 28, 28)"
            ]
          },
          "metadata": {},
          "execution_count": 28
        }
      ]
    },
    {
      "cell_type": "code",
      "source": [
        "corr_images = torch.tensor(corr_images).type(torch.FloatTensor).to('cuda')\n",
        "\n",
        "corr_label = []\n",
        "check_label = []\n",
        "\n",
        "model.eval()\n",
        "for img in corr_images:\n",
        "  img = img[None,].type('torch.cuda.FloatTensor')\n",
        "  with torch.no_grad():\n",
        "    pred = model(img).argmax()\n",
        "  corr_label.append(pred)\n",
        "  check_label.append(pred.item())\n",
        "\n",
        "digit,count = np.unique(check_label, return_counts=True)\n",
        "\n",
        "# Model's prediction on pseudorandom images\n",
        "print(\"\\nUnique digits : \",digit)\n",
        "\n",
        "print(\"\\n counts : \",count)"
      ],
      "metadata": {
        "colab": {
          "base_uri": "https://localhost:8080/"
        },
        "id": "3zyNkvo5o2WB",
        "outputId": "f2c1346d-d86d-42b0-e489-605531342816"
      },
      "execution_count": 29,
      "outputs": [
        {
          "output_type": "stream",
          "name": "stdout",
          "text": [
            "\n",
            "Unique digits :  [0 1 2 3 4 5 6 7 8 9]\n",
            "\n",
            " counts :  [ 912 1358  672  736  296  568  909  450 2564 1535]\n"
          ]
        }
      ]
    },
    {
      "cell_type": "code",
      "source": [
        "pos_neg_layerwise = {}\n",
        "\n",
        "for i in layer_name:\n",
        "  b = layer_distinct_weights[i]\n",
        "\n",
        "  if len(b) == 3:\n",
        "    neg, zero, pos = b\n",
        "    pos_neg_layerwise[i] = {}\n",
        "    pos_neg_layerwise[i]['pos'] = pos\n",
        "    pos_neg_layerwise[i]['neg'] = neg\n",
        "    \n",
        "  elif len(b) == 2:\n",
        "    un1, un2 = b\n",
        "\n",
        "    if un2 == 0:\n",
        "      neg, zero = b\n",
        "      pos_neg_layerwise[i] = {}\n",
        "      pos_neg_layerwise[i]['neg'] = neg\n",
        "      \n",
        "    elif un1 == 0:\n",
        "      zero, pos = b\n",
        "      pos_neg_layerwise[i] = {}\n",
        "      pos_neg_layerwise[i]['pos'] = pos\n",
        "\n",
        "    else:\n",
        "      neg, pos = b\n",
        "      pos_neg_layerwise[i] = {}\n",
        "      pos_neg_layerwise[i]['pos'] = pos\n",
        "      pos_neg_layerwise[i]['neg'] = neg\n",
        "\n",
        "  else:\n",
        "     un = b[0] \n",
        "\n",
        "     if un > 0:\n",
        "       pos_neg_layerwise[i] = {}\n",
        "       pos_neg_layerwise[i]['pos'] = un\n",
        "\n",
        "     elif un < 0:\n",
        "       pos_neg_layerwise[i] = {}\n",
        "       pos_neg_layerwise[i]['neg'] = un\n",
        "\n",
        "     else:\n",
        "       pos_neg_layerwise[i] = {}\n",
        "       pos_neg_layerwise[i]['zero'] = 0\n"
      ],
      "metadata": {
        "id": "uG1i7FSwo2Y5"
      },
      "execution_count": 30,
      "outputs": []
    },
    {
      "cell_type": "code",
      "source": [
        "layer_distinct_weights"
      ],
      "metadata": {
        "colab": {
          "base_uri": "https://localhost:8080/"
        },
        "id": "JZ4zH-VAo2bH",
        "outputId": "63347fc1-8350-4ad1-a5e3-bf8192db7f2b"
      },
      "execution_count": 31,
      "outputs": [
        {
          "output_type": "execute_result",
          "data": {
            "text/plain": [
              "{'classifier.1.bias': [-0.9742728471755981, 0.0, 0.9642636775970459],\n",
              " 'classifier.1.weight': [-0.9688466787338257, 0.0, 0.9639235734939575],\n",
              " 'classifier.3.bias': [-0.9677565097808838, 0.0, 0.9625898003578186],\n",
              " 'classifier.3.weight': [-0.9770311117172241, 0.0, 0.9615429043769836],\n",
              " 'classifier.5.bias': [-1.005133867263794, 0.0, 0.9871274828910828],\n",
              " 'classifier.5.weight': [-1.0396443605422974, 0.0, 0.9637081623077393],\n",
              " 'features.0.bias': [-0.9992783069610596, 0.0, 0.9998126029968262],\n",
              " 'features.0.weight': [-1.0145397186279297, 0.0, 1.0145399570465088],\n",
              " 'features.1.bias': [-1.028226613998413, 0.0, 0.9856293201446533],\n",
              " 'features.1.weight': [0.0, 1.020436406135559],\n",
              " 'features.11.bias': [-0.9795710444450378, 0.0, 1.0256152153015137],\n",
              " 'features.11.weight': [-1.000187873840332, 0.0, 0.9651631712913513],\n",
              " 'features.3.bias': [-1.0050047636032104, 0.0, 1.0135231018066406],\n",
              " 'features.3.weight': [-1.0280627012252808, 0.0, 1.0180128812789917],\n",
              " 'features.6.bias': [-0.9996024370193481, 0.0, 0.998026967048645],\n",
              " 'features.6.weight': [-0.9642059206962585, 0.0, 0.964204728603363],\n",
              " 'features.7.bias': [-0.9571810960769653, 0.0],\n",
              " 'features.7.weight': [0.0, 0.9542770385742188],\n",
              " 'features.9.bias': [-1.0131127834320068, 0.0, 1.0093446969985962],\n",
              " 'features.9.weight': [-1.0070557594299316, 0.0, 0.9617727994918823]}"
            ]
          },
          "metadata": {},
          "execution_count": 31
        }
      ]
    },
    {
      "cell_type": "code",
      "source": [
        "class PseudoData(Dataset):\n",
        "    \n",
        "    def __init__(self, data, label):\n",
        "        \n",
        "        self.data = data\n",
        "        self.label = label\n",
        "\n",
        "    def __getitem__(self, index):\n",
        "        \n",
        "        return self.data[index], self.label[index]\n",
        "\n",
        "    def __len__(self):\n",
        "        return len(self.data)\n",
        "\n",
        "corr_label = torch.tensor(corr_label).type(torch.FloatTensor).to('cuda')\n",
        "pseudo_dataLoader = DataLoader(dataset = PseudoData(corr_images, corr_label), batch_size = 1000, shuffle=False) "
      ],
      "metadata": {
        "id": "cCfKOm8no2du"
      },
      "execution_count": 32,
      "outputs": []
    },
    {
      "cell_type": "code",
      "source": [
        "def getResult(test_example, test_label, model, st):\n",
        "    model.load_state_dict(st)\n",
        "    model.eval()\n",
        "    with torch.no_grad():\n",
        "        output_ = model(test_example.float()) \n",
        "        pred = output_.data.max(1, keepdim=True)[1]\n",
        "        z = pred.eq(test_label.data.view_as(pred)).flatten()\n",
        "        return torch.where(z == False)[0]"
      ],
      "metadata": {
        "id": "uAf424TSo2gc"
      },
      "execution_count": 33,
      "outputs": []
    },
    {
      "cell_type": "code",
      "source": [
        "def populateResults(idx, batch_id, old_state, new_state, w_images, n_ic, n_oc, row, column, weight_name):\n",
        "  key = 'img_id'+str(idx)+'_batch_'+str(batch_id)\n",
        "  if key not in w_images:\n",
        "    w_images[key] = {}\n",
        "    w_images[key]['location'] = []\n",
        "    w_images[key]['location'].append((weight_name, n_ic, n_oc, row, column, old_state, new_state))\n",
        "    w_images[key]['weight_states'] = []\n",
        "    w_images[key]['weight_states'].append(weight_name + ' : ' + str(old_state) + ' --> ' + str(new_state))\n",
        "\n",
        "  else:\n",
        "    w_images[key]['location'].append((weight_name, n_ic, n_oc, row, column, old_state, new_state))\n",
        "    w_images[key]['weight_states'].append(weight_name + ' : ' + str(old_state) + ' --> ' + str(new_state))"
      ],
      "metadata": {
        "id": "qQkUUItGo2j2"
      },
      "execution_count": 34,
      "outputs": []
    },
    {
      "cell_type": "code",
      "source": [
        "def populateResults1(idx, batch_id, old_state, new_state, w_images, row, column, weight_name):\n",
        "  key = 'img_id'+str(idx)+'_batch_'+str(batch_id)\n",
        "  if key not in w_images:\n",
        "    w_images[key] = {}\n",
        "    w_images[key]['location'] = []\n",
        "    w_images[key]['location'].append((weight_name, row, column, old_state, new_state))\n",
        "    w_images[key]['weight_states'] = []\n",
        "    w_images[key]['weight_states'].append(weight_name + ' : ' + str(old_state) + ' --> ' + str(new_state))\n",
        "\n",
        "  else:\n",
        "    w_images[key]['location'].append((weight_name, row, column, old_state, new_state))\n",
        "    w_images[key]['weight_states'].append(weight_name + ' : ' + str(old_state) + ' --> ' + str(new_state))"
      ],
      "metadata": {
        "id": "jCBF5EBvo2lz"
      },
      "execution_count": 35,
      "outputs": []
    },
    {
      "cell_type": "code",
      "source": [
        "# For bias weight mutation\n",
        "\n",
        "def bias_mutation(st, superSet, w_images, img,label, batch_id, weight_name):\n",
        "\n",
        "  if ('pos' in pos_neg_layerwise[weight_name]) and ('neg' in pos_neg_layerwise[weight_name]):\n",
        "    un = pos_neg_layerwise[weight_name]['pos'], pos_neg_layerwise[weight_name]['neg']\n",
        "\n",
        "    var_neg1 = torch.where(st==un[1])[0]\n",
        "    var_1 = torch.where(st==un[0])[0]\n",
        "\n",
        "  else:\n",
        "    try:\n",
        "      un = pos_neg_layerwise[weight_name]['pos']\n",
        "\n",
        "      var_neg1 = torch.where(st==un*1000)[0]\n",
        "      var_1 = torch.where(st==un)[0]\n",
        "\n",
        "    except KeyError:\n",
        "      un = pos_neg_layerwise[weight_name]['neg']\n",
        "\n",
        "      var_neg1 = torch.where(st==un)[0]\n",
        "      var_1 = torch.where(st==un*1000)[0]\n",
        "\n",
        "\n",
        "  if (var_neg1.nelement() == 0.) and (var_1.nelement() == 0.):\n",
        "    pass\n",
        "  else:\n",
        "    for column in torch.cat((var_neg1, var_1), 0):\n",
        "      row = 0\n",
        "      column = column.item()\n",
        "\n",
        "      org_val_real = st[column].item() # For bias part\n",
        "\n",
        "      if type(un) == tuple:\n",
        "          pos, neg = un   # Positive, Negative \n",
        "          if (org_val_real < 0.) and (org_val_real == neg):\n",
        "            org_val = neg\n",
        "\n",
        "            old_state = neg\n",
        "            new_state = 0.\n",
        "            superSet.add((weight_name, row, column, -1, 0))\n",
        "\n",
        "            st[column] = new_state\n",
        "\n",
        "            \"\"\"getResult() will tell whether the passed test example is classified to other class\n",
        "            or not after mutation, if it is classified to other class, then it returns True else False and \n",
        "            populateResults() will maintain the record of test examples which has been misclassified\n",
        "            like location(row(which neuron), column(indices)), old_state(old_value of weight element), \n",
        "            new_state (mutated value of weight element), images\"\"\"\n",
        "\n",
        "            \n",
        "            [populateResults1(idx.item(), batch_id, -1, 0, w_images, row, column, weight_name) \\\n",
        "             for idx in getResult(img, label, model, state_dict)]\n",
        "          \n",
        "            new_state = pos\n",
        "            superSet.add((weight_name, row, column, -1, 1))\n",
        "\n",
        "            st[column] = new_state\n",
        "\n",
        "            [populateResults1(idx.item(), batch_id, -1, 1, w_images, row, column, weight_name) \\\n",
        "             for idx in getResult(img, label, model, state_dict)]\n",
        "            \n",
        "            st[column] = org_val\n",
        "\n",
        "          elif (org_val_real > 0.) and (org_val_real == pos):\n",
        "\n",
        "            org_val = pos\n",
        "            old_state = pos\n",
        "            new_state = 0.\n",
        "            superSet.add((weight_name, row, column, 1, 0))\n",
        "            st[column] = new_state\n",
        "\n",
        "            [populateResults1(idx.item(), batch_id, 1, 0, w_images, row, column, weight_name) \\\n",
        "             for idx in getResult(img, label, model, state_dict)]\n",
        "          \n",
        "            new_state = neg\n",
        "            superSet.add((weight_name, row, column, 1, -1))\n",
        "\n",
        "            st[column] = new_state\n",
        "            \n",
        "            [populateResults1(idx.item(), batch_id, 1, -1, w_images, row, column, weight_name) \\\n",
        "             for idx in getResult(img, label, model, state_dict)]\n",
        "            \n",
        "            st[column] = org_val\n",
        "\n",
        "\n",
        "      \n",
        "      ############# Negative ################################\n",
        "      elif (un < 0) and (org_val_real == un):\n",
        "          org_val = un\n",
        "          old_state = un\n",
        "          new_state = 0.\n",
        "          superSet.add((weight_name, row, column, -1, 0))\n",
        "          st[column] = new_state\n",
        "            \n",
        "          [populateResults1(idx.item(), batch_id, -1, 0, w_images, row, column, weight_name) \\\n",
        "           for idx in getResult(img, label, model, state_dict)]\n",
        "          \n",
        "          st[column] = org_val\n",
        "\n",
        "\n",
        "      elif (un > 0) and (org_val_real == un):  ############# Positive  ################################\n",
        "          org_val = un\n",
        "          old_state = un\n",
        "          new_state = 0.\n",
        "          superSet.add((weight_name, row, column, 1, 0))\n",
        "          st[column] = new_state\n",
        "          [populateResults1(idx.item(), batch_id, 1, 0, w_images, row, column, weight_name) \\\n",
        "           for idx in getResult(img, label, model, state_dict)]\n",
        "\n",
        "          st[column] = org_val\n",
        "\n",
        "\n",
        "      #################################################################################################################"
      ],
      "metadata": {
        "id": "Tb0jVhzUo2oX"
      },
      "execution_count": 36,
      "outputs": []
    },
    {
      "cell_type": "code",
      "source": [
        "# Saving length of shape for each layer\n",
        "layers_shape = {}\n",
        "\n",
        "for i in layer_name:\n",
        "  layers_shape[i] = len(state_dict[i].shape)"
      ],
      "metadata": {
        "id": "oaZX0ddzo2rG"
      },
      "execution_count": 37,
      "outputs": []
    },
    {
      "cell_type": "code",
      "source": [
        "print(layers_shape)"
      ],
      "metadata": {
        "colab": {
          "base_uri": "https://localhost:8080/"
        },
        "id": "PFbz-pOzo2tw",
        "outputId": "5c243c5b-48eb-4f34-b8bd-c62a56c7af56"
      },
      "execution_count": 38,
      "outputs": [
        {
          "output_type": "stream",
          "name": "stdout",
          "text": [
            "{'features.0.weight': 4, 'features.0.bias': 1, 'features.1.weight': 1, 'features.1.bias': 1, 'features.3.weight': 4, 'features.3.bias': 1, 'features.6.weight': 4, 'features.6.bias': 1, 'features.7.weight': 1, 'features.7.bias': 1, 'features.9.weight': 4, 'features.9.bias': 1, 'features.11.weight': 4, 'features.11.bias': 1, 'classifier.1.weight': 2, 'classifier.1.bias': 1, 'classifier.3.weight': 2, 'classifier.3.bias': 1, 'classifier.5.weight': 2, 'classifier.5.bias': 1}\n"
          ]
        }
      ]
    },
    {
      "cell_type": "code",
      "source": [
        "# Injecting fault by mutating the ternary weight and check whether it is classified to other class than before by the model. \n",
        "\n",
        "fetchimg_totImg_coverage_totCov = []\n",
        "\n",
        "w_images = {}\n",
        "superSet = set()\n",
        "\n",
        "\n",
        "batch_id = 0\n",
        "for img,label  in tqdm(pseudo_dataLoader):\n",
        "\n",
        "    for weight_name in layer_name:\n",
        "\n",
        "        # Selecting hidden layer to iterate its weight elements\n",
        "        st = state_dict[weight_name]\n",
        "\n",
        "\n",
        "        if ('bias' in weight_name) or (layers_shape[weight_name] == 1):\n",
        "          bias_mutation(st, superSet, w_images, img,label, batch_id, weight_name)\n",
        "          continue\n",
        "\n",
        "        if ('conv' in weight_name) or (layers_shape[weight_name] == 4):\n",
        "\n",
        "          ic, oc, k,k1 = st.shape # ic = in_channel, oc= out_channel, k and k1 is the number of rows and columns of a kernel\n",
        "\n",
        "          for n_ic in range(ic):\n",
        "            for n_oc in range(oc):\n",
        "              kt =  st[n_ic][n_oc] # Fetching Kernel matrix or tensor\n",
        "\n",
        "              # Iterating number of neurons for the selected hidden layer\n",
        "              for row in range(k):\n",
        "\n",
        "                # Fetching indices for -w and w weight value for the selected kernel\n",
        "                \"\"\"Since each kernel has weight vector, so by fetching indices\n",
        "                we will come to know, which indices of the kernel contains weights -w or w weight\"\"\"\n",
        "\n",
        "                ###########################################################################################\n",
        "\n",
        "                if ('pos' in pos_neg_layerwise[weight_name]) and ('neg' in pos_neg_layerwise[weight_name]):\n",
        "                  un = pos_neg_layerwise[weight_name]['pos'], pos_neg_layerwise[weight_name]['neg']\n",
        "\n",
        "                  var_neg1 = torch.where(kt[row]==un[1])[0]\n",
        "                  var_1 = torch.where(kt[row]==un[0])[0]\n",
        "\n",
        "                else:\n",
        "                  try:\n",
        "                    un = pos_neg_layerwise[weight_name]['pos']\n",
        "\n",
        "                    var_neg1 = torch.where(kt[row]==un*1000)[0]\n",
        "                    var_1 = torch.where(kt[row]==un)[0]\n",
        "\n",
        "                  except KeyError:\n",
        "                    un = pos_neg_layerwise[weight_name]['neg']\n",
        "\n",
        "                    var_neg1 = torch.where(kt[row]==un)[0]\n",
        "                    var_1 = torch.where(kt[row]==un*1000)[0]\n",
        "\n",
        "                ##########################################################################################\n",
        "\n",
        "                if (var_neg1.nelement() == 0.) and (var_1.nelement() == 0.):\n",
        "                  continue\n",
        "                else:\n",
        "                  for column in torch.cat((var_neg1, var_1), 0):\n",
        "\n",
        "                    column = column.item()\n",
        "\n",
        "                    org_val_real = kt[row][column].item()\n",
        "\n",
        "                    ##################################################################################################################\n",
        "\n",
        "                    if type(un) == tuple:\n",
        "                      pos, neg = un  # Positive, Negative\n",
        "\n",
        "                      if (org_val_real < 0.) and (org_val_real == neg):\n",
        "                        org_val = neg\n",
        "                        old_state = neg\n",
        "                        new_state = 0.\n",
        "                        superSet.add((weight_name, n_ic, n_oc, row, column, -1, 0))\n",
        "\n",
        "                        st[n_ic][n_oc][row][column] = new_state\n",
        "                        \n",
        "                        \"\"\"getResult() will tell whether the passed test example is classified to other class\n",
        "                        or not after mutation, if it is classified to other class, then it returns True else False and \n",
        "                        populateResults() will maintain the record of test examples which has been misclassified\n",
        "                        like location(row(which neuron), column(indices)), old_state(old_value of weight element), \n",
        "                        new_state (mutated value of weight element), images\"\"\"\n",
        "\n",
        "                        \n",
        "                        [populateResults(idx.item(), batch_id, -1, 0, w_images, n_ic, n_oc, row, column, weight_name) \\\n",
        "                         for idx in getResult(img, label, model, state_dict)]\n",
        "                        \n",
        "                        new_state = pos\n",
        "                        superSet.add((weight_name, n_ic, n_oc, row, column, -1, 1))\n",
        "                        st[n_ic][n_oc][row][column] = new_state\n",
        "\n",
        "                            \n",
        "                        [populateResults(idx.item(), batch_id, -1, 1, w_images, n_ic, n_oc, row, column, weight_name) \\\n",
        "                         for idx in getResult(img, label, model, state_dict)]\n",
        "                        st[n_ic][n_oc][row][column] = org_val # Setting back to original value\n",
        "\n",
        "                    \n",
        "                      elif (org_val_real > 0.) and (org_val_real == pos):\n",
        "                        org_val = pos\n",
        "                        old_state = pos\n",
        "                        new_state = 0.\n",
        "                        superSet.add((weight_name, n_ic, n_oc, row, column, 1, 0))\n",
        "\n",
        "                        st[n_ic][n_oc][row][column] = new_state\n",
        "                        \n",
        "                        [populateResults(idx.item(), batch_id, 1, 0, w_images, n_ic, n_oc, row, column, weight_name) \\\n",
        "                         for idx in getResult(img, label, model, state_dict)]\n",
        "                        \n",
        "                        new_state = neg\n",
        "                        superSet.add((weight_name, n_ic, n_oc, row, column, 1, -1))\n",
        "                        st[n_ic][n_oc][row][column] = new_state\n",
        "\n",
        "                            \n",
        "                        [populateResults(idx.item(), batch_id, 1, -1, w_images, n_ic, n_oc, row, column, weight_name) \\\n",
        "                         for idx in getResult(img, label, model, state_dict)]\n",
        "                        \n",
        "                        st[n_ic][n_oc][row][column] = org_val # Setting back to original value\n",
        "\n",
        "\n",
        "\n",
        "\n",
        "                    elif (un < 0) and (org_val_real == un): ########################## Negative ###########################################\n",
        "                      org_val = un\n",
        "                      old_state = un\n",
        "                      new_state = 0.\n",
        "                      superSet.add((weight_name,  n_ic, n_oc, row, column, -1, 0))\n",
        "                      st[n_ic][n_oc][row][column] = new_state\n",
        "                        \n",
        "                      [populateResults(idx.item(), batch_id, -1, 0, w_images, n_ic, n_oc, row, column, weight_name) \\\n",
        "                       for idx in getResult(img, label, model, state_dict)]\n",
        "                      \n",
        "                      st[row][column] = org_val\n",
        "\n",
        "\n",
        "                    elif (un > 0) and (org_val_real == un): ########################## Positive ###########################################\n",
        "                      org_val = un\n",
        "                      old_state = un\n",
        "                      new_state = 0.\n",
        "                      superSet.add((weight_name, n_ic, n_oc, row, column, 1, 0))\n",
        "                      st[n_ic][n_oc][row][column] = new_state\n",
        "                        \n",
        "                      [populateResults(idx.item(), batch_id, 1, 0, w_images, n_ic, n_oc, row, column, weight_name) \\\n",
        "                       for idx in getResult(img, label, model, state_dict)]\n",
        "                      st[row][column] = org_val\n",
        "\n",
        "\n",
        "    \n",
        "            \n",
        "        \n",
        "        # For fully connected layers\n",
        "        elif layers_shape[weight_name] == 2:\n",
        "          rows = state_dict[weight_name].shape[0]\n",
        "\n",
        "          # Iterating number of neurons for the selected hidden layer\n",
        "          for row in range(rows):\n",
        "\n",
        "            # Fetching indices for -w and w weight value for the selected neuron\n",
        "            \"\"\"Since each neuron has weight vector, so by fetching indices\n",
        "            we will come to know, which indices of the neuron contains weights -w or w weight\"\"\"\n",
        "\n",
        "            #########################################################################################\n",
        "\n",
        "            if ('pos' in pos_neg_layerwise[weight_name]) and ('neg' in pos_neg_layerwise[weight_name]):\n",
        "              un = pos_neg_layerwise[weight_name]['pos'], pos_neg_layerwise[weight_name]['neg']\n",
        "\n",
        "              var_neg1 = torch.where(st[row]==un[1])[0]\n",
        "              var_1 = torch.where(st[row]==un[0])[0]\n",
        "\n",
        "            else:\n",
        "              try:\n",
        "                un = pos_neg_layerwise[weight_name]['pos']\n",
        "\n",
        "                var_neg1 = torch.where(st[row]==un*1000)[0]\n",
        "                var_1 = torch.where(st[row]==un)[0]\n",
        "\n",
        "              except KeyError:\n",
        "                un = pos_neg_layerwise[weight_name]['neg']\n",
        "\n",
        "                var_neg1 = torch.where(st[row]==un)[0]\n",
        "                var_1 = torch.where(st[row]==un*1000)[0]\n",
        "\n",
        "\n",
        "            #########################################################################################\n",
        "\n",
        "\n",
        "            if (var_neg1.nelement() == 0.) and (var_1.nelement() == 0.):\n",
        "              continue\n",
        "            else:\n",
        "              for column in torch.cat((var_neg1, var_1), 0):\n",
        "\n",
        "                column = column.item()\n",
        "\n",
        "                org_val_v1 = st[row][column].item()\n",
        "\n",
        "\n",
        "                #########################################################################################\n",
        "\n",
        "                if type(un) == tuple:\n",
        "                  pos, neg = un  # Positive, Negative\n",
        "\n",
        "                  if (org_val_v1 < 0.) and (neg == org_val_v1):\n",
        "\n",
        "                    org_val = neg\n",
        "                    old_state = neg\n",
        "                    new_state = 0.\n",
        "                    superSet.add((weight_name, row, column, -1, 0))\n",
        "\n",
        "                    st[row][column] = new_state\n",
        "                    \n",
        "                    [populateResults1(idx.item(), batch_id, -1, 0, w_images, row, column, weight_name) \\\n",
        "                     for idx in getResult(img, label, model, state_dict)]\n",
        "                    \n",
        "                    new_state = pos\n",
        "                    superSet.add((weight_name, row, column, -1, 1))\n",
        "                    st[row][column] = new_state\n",
        "                        \n",
        "                    [populateResults1(idx.item(), batch_id, -1, 1, w_images, row, column, weight_name) \\\n",
        "                     for idx in getResult(img, label, model, state_dict)]\n",
        "                    st[row][column] = org_val\n",
        "\n",
        "\n",
        "                  elif (org_val_v1 > 0.) and (pos == org_val_v1):\n",
        "\n",
        "                    org_val = pos\n",
        "                    old_state = pos\n",
        "                    new_state = 0.\n",
        "                    superSet.add((weight_name, row, column, 1, 0))\n",
        "\n",
        "                    st[row][column] = new_state\n",
        "                    \n",
        "                    [populateResults1(idx.item(), batch_id, 1, 0, w_images, row, column, weight_name) \\\n",
        "                     for idx in getResult(img, label, model, state_dict)]\n",
        "                    \n",
        "                    new_state = neg\n",
        "                    superSet.add((weight_name, row, column, 1, -1))\n",
        "                    st[row][column] = new_state\n",
        "                        \n",
        "                    [populateResults1(idx.item(), batch_id, 1, -1, w_images, row, column, weight_name) \\\n",
        "                     for idx in getResult(img, label, model, state_dict)]\n",
        "                    st[row][column] = org_val\n",
        "\n",
        "\n",
        " \n",
        "                elif (un < 0) and (un == org_val_v1):  ################# Negative ###############################################################\n",
        "                  org_val = un  \n",
        "                  old_state = un\n",
        "                  new_state = 0.\n",
        "                  superSet.add((weight_name, row, column, -1, 0))\n",
        "                  st[row][column] = new_state\n",
        "                    \n",
        "                  [populateResults1(idx.item(), batch_id, -1, 0, w_images, row, column, weight_name) \\\n",
        "                   for idx in getResult(img, label, model, state_dict)]\n",
        "\n",
        "                  st[row][column] = org_val\n",
        "\n",
        "\n",
        "                elif (un > 0) and (un == org_val_v1):  ################# Positive ###############################################################\n",
        "                  org_val = un\n",
        "                  old_state = un\n",
        "                  new_state = 0.\n",
        "                  superSet.add((weight_name, row, column, 1, 0))\n",
        "                  st[row][column] = new_state\n",
        "                    \n",
        "                  [populateResults1(idx.item(), batch_id, 1, 0, w_images, row, column, weight_name) \\\n",
        "                   for idx in getResult(img, label, model, state_dict)]\n",
        "                  \n",
        "                  st[row][column] = org_val\n",
        "\n",
        "\n",
        "    batch_id += 1\n",
        "\n",
        "\n",
        "    # Fetching locations and total number of images\n",
        "    ################################################\n",
        "\n",
        "    print(f\"Total number of elements in superSet is : {len(superSet)}.\",'\\n')\n",
        "\n",
        "    # joblib.dump(w_images, open('w_images_'+str(batch_id)+'.pkl','wb')) \n",
        "\n",
        "    image_locCounts = [] # (image_id,locationCounts)\n",
        "\n",
        "    for img in w_images.keys():\n",
        "        locCounts = len(w_images[img]['location'])\n",
        "        image_locCounts.append((locCounts,img))\n",
        "            \n",
        "    image_locCounts.sort(reverse=True)\n",
        "\n",
        "\n",
        "    netSetOfImages = []\n",
        "    progressingSet = []\n",
        "    max_locCounts_img = image_locCounts[0][1] # An image that has encompassed maximum locations.\n",
        "\n",
        "    netSetOfImages.append(max_locCounts_img)\n",
        "    progressingSet += set(w_images[max_locCounts_img]['location'])\n",
        "\n",
        "\n",
        "    for i in range(1,len(image_locCounts)):\n",
        "        img = image_locCounts[i][1]\n",
        "        locs = w_images[img]['location']\n",
        "\n",
        "        if set(locs).issubset(progressingSet):\n",
        "            pass\n",
        "        else:\n",
        "            progressingSet += list(set(locs) - set(progressingSet))\n",
        "            netSetOfImages.append(img)\n",
        "\n",
        "\n",
        "    if set(superSet).issubset(progressingSet):\n",
        "        print(\"All match done!\")\n",
        "    else:\n",
        "        print(\"There are {} locations that did not match.\".format(len(set(superSet) - set(progressingSet))))\n",
        "\n",
        "    print()\n",
        "    print(\"Total number of locations {} are encompassed out of {}.\".format(len(set(progressingSet)), len(superSet)))\n",
        "\n",
        "\n",
        "    print(\"Total number of elements in a weight matrix is \", len(superSet))\n",
        "\n",
        "    print(\"Total number of images fetched \",len(netSetOfImages),'\\n')\n",
        "\n",
        "    fetchimg_totImg_coverage_totCov.append(( len(netSetOfImages), len(set(progressingSet)), len(superSet) ))\n",
        "\n",
        "    # joblib.dump(fetchimg_totImg_coverage_totCov, open('res'+str(numImgs)+'.pkl','wb')) \n",
        "\n",
        "    # Superset \n",
        "    # joblib.dump(superSet, open('superSet.pkl','wb'))    \n",
        "\n",
        "                \n",
        "      \n",
        "    print(\"Output \\n\")\n",
        "    print(fetchimg_totImg_coverage_totCov)\n",
        "\n",
        "    #joblib.dump(fetchimg_totImg_coverage_totCov, open('op_128.pkl', 'wb'))\n"
      ],
      "metadata": {
        "colab": {
          "base_uri": "https://localhost:8080/"
        },
        "id": "NuNNlCH0o2wG",
        "outputId": "9acc7007-af50-43b3-e5d7-ea7aad929379"
      },
      "execution_count": 39,
      "outputs": [
        {
          "output_type": "stream",
          "name": "stderr",
          "text": [
            "\r  0%|          | 0/10 [00:00<?, ?it/s]"
          ]
        },
        {
          "output_type": "stream",
          "name": "stdout",
          "text": [
            "Total number of elements in superSet is : 8913. \n",
            "\n"
          ]
        },
        {
          "output_type": "stream",
          "name": "stderr",
          "text": [
            "\r 10%|█         | 1/10 [09:44<1:27:42, 584.75s/it]"
          ]
        },
        {
          "output_type": "stream",
          "name": "stdout",
          "text": [
            "There are 3305 locations that did not match.\n",
            "\n",
            "Total number of locations 5608 are encompassed out of 8913.\n",
            "Total number of elements in a weight matrix is  8913\n",
            "Total number of images fetched  241 \n",
            "\n",
            "Output \n",
            "\n",
            "[(241, 5608, 8913)]\n",
            "Total number of elements in superSet is : 8913. \n",
            "\n"
          ]
        },
        {
          "output_type": "stream",
          "name": "stderr",
          "text": [
            "\r 20%|██        | 2/10 [19:32<1:18:14, 586.77s/it]"
          ]
        },
        {
          "output_type": "stream",
          "name": "stdout",
          "text": [
            "There are 14 locations that did not match.\n",
            "\n",
            "Total number of locations 8899 are encompassed out of 8913.\n",
            "Total number of elements in a weight matrix is  8913\n",
            "Total number of images fetched  27 \n",
            "\n",
            "Output \n",
            "\n",
            "[(241, 5608, 8913), (27, 8899, 8913)]\n",
            "Total number of elements in superSet is : 8913. \n",
            "\n"
          ]
        },
        {
          "output_type": "stream",
          "name": "stderr",
          "text": [
            "\r 30%|███       | 3/10 [29:19<1:08:26, 586.58s/it]"
          ]
        },
        {
          "output_type": "stream",
          "name": "stdout",
          "text": [
            "There are 13 locations that did not match.\n",
            "\n",
            "Total number of locations 8900 are encompassed out of 8913.\n",
            "Total number of elements in a weight matrix is  8913\n",
            "Total number of images fetched  28 \n",
            "\n",
            "Output \n",
            "\n",
            "[(241, 5608, 8913), (27, 8899, 8913), (28, 8900, 8913)]\n",
            "Total number of elements in superSet is : 8913. \n",
            "\n"
          ]
        },
        {
          "output_type": "stream",
          "name": "stderr",
          "text": [
            "\r 40%|████      | 4/10 [39:01<58:29, 584.97s/it]  "
          ]
        },
        {
          "output_type": "stream",
          "name": "stdout",
          "text": [
            "There are 12 locations that did not match.\n",
            "\n",
            "Total number of locations 8901 are encompassed out of 8913.\n",
            "Total number of elements in a weight matrix is  8913\n",
            "Total number of images fetched  28 \n",
            "\n",
            "Output \n",
            "\n",
            "[(241, 5608, 8913), (27, 8899, 8913), (28, 8900, 8913), (28, 8901, 8913)]\n",
            "Total number of elements in superSet is : 8913. \n",
            "\n"
          ]
        },
        {
          "output_type": "stream",
          "name": "stderr",
          "text": [
            "\r 50%|█████     | 5/10 [48:45<48:42, 584.50s/it]"
          ]
        },
        {
          "output_type": "stream",
          "name": "stdout",
          "text": [
            "There are 10 locations that did not match.\n",
            "\n",
            "Total number of locations 8903 are encompassed out of 8913.\n",
            "Total number of elements in a weight matrix is  8913\n",
            "Total number of images fetched  29 \n",
            "\n",
            "Output \n",
            "\n",
            "[(241, 5608, 8913), (27, 8899, 8913), (28, 8900, 8913), (28, 8901, 8913), (29, 8903, 8913)]\n",
            "Total number of elements in superSet is : 8913. \n",
            "\n"
          ]
        },
        {
          "output_type": "stream",
          "name": "stderr",
          "text": [
            "\r 60%|██████    | 6/10 [58:30<38:58, 584.65s/it]"
          ]
        },
        {
          "output_type": "stream",
          "name": "stdout",
          "text": [
            "There are 10 locations that did not match.\n",
            "\n",
            "Total number of locations 8903 are encompassed out of 8913.\n",
            "Total number of elements in a weight matrix is  8913\n",
            "Total number of images fetched  29 \n",
            "\n",
            "Output \n",
            "\n",
            "[(241, 5608, 8913), (27, 8899, 8913), (28, 8900, 8913), (28, 8901, 8913), (29, 8903, 8913), (29, 8903, 8913)]\n",
            "Total number of elements in superSet is : 8913. \n",
            "\n"
          ]
        },
        {
          "output_type": "stream",
          "name": "stderr",
          "text": [
            "\r 70%|███████   | 7/10 [1:08:16<29:15, 585.23s/it]"
          ]
        },
        {
          "output_type": "stream",
          "name": "stdout",
          "text": [
            "There are 3 locations that did not match.\n",
            "\n",
            "Total number of locations 8910 are encompassed out of 8913.\n",
            "Total number of elements in a weight matrix is  8913\n",
            "Total number of images fetched  15 \n",
            "\n",
            "Output \n",
            "\n",
            "[(241, 5608, 8913), (27, 8899, 8913), (28, 8900, 8913), (28, 8901, 8913), (29, 8903, 8913), (29, 8903, 8913), (15, 8910, 8913)]\n",
            "Total number of elements in superSet is : 8913. \n",
            "\n"
          ]
        },
        {
          "output_type": "stream",
          "name": "stderr",
          "text": [
            "\r 80%|████████  | 8/10 [1:18:04<19:32, 586.09s/it]"
          ]
        },
        {
          "output_type": "stream",
          "name": "stdout",
          "text": [
            "There are 3 locations that did not match.\n",
            "\n",
            "Total number of locations 8910 are encompassed out of 8913.\n",
            "Total number of elements in a weight matrix is  8913\n",
            "Total number of images fetched  15 \n",
            "\n",
            "Output \n",
            "\n",
            "[(241, 5608, 8913), (27, 8899, 8913), (28, 8900, 8913), (28, 8901, 8913), (29, 8903, 8913), (29, 8903, 8913), (15, 8910, 8913), (15, 8910, 8913)]\n",
            "Total number of elements in superSet is : 8913. \n",
            "\n"
          ]
        },
        {
          "output_type": "stream",
          "name": "stderr",
          "text": [
            "\r 90%|█████████ | 9/10 [1:27:58<09:48, 588.50s/it]"
          ]
        },
        {
          "output_type": "stream",
          "name": "stdout",
          "text": [
            "There are 3 locations that did not match.\n",
            "\n",
            "Total number of locations 8910 are encompassed out of 8913.\n",
            "Total number of elements in a weight matrix is  8913\n",
            "Total number of images fetched  15 \n",
            "\n",
            "Output \n",
            "\n",
            "[(241, 5608, 8913), (27, 8899, 8913), (28, 8900, 8913), (28, 8901, 8913), (29, 8903, 8913), (29, 8903, 8913), (15, 8910, 8913), (15, 8910, 8913), (15, 8910, 8913)]\n",
            "Total number of elements in superSet is : 8913. \n",
            "\n"
          ]
        },
        {
          "output_type": "stream",
          "name": "stderr",
          "text": [
            "100%|██████████| 10/10 [1:37:51<00:00, 587.13s/it]"
          ]
        },
        {
          "output_type": "stream",
          "name": "stdout",
          "text": [
            "There are 3 locations that did not match.\n",
            "\n",
            "Total number of locations 8910 are encompassed out of 8913.\n",
            "Total number of elements in a weight matrix is  8913\n",
            "Total number of images fetched  15 \n",
            "\n",
            "Output \n",
            "\n",
            "[(241, 5608, 8913), (27, 8899, 8913), (28, 8900, 8913), (28, 8901, 8913), (29, 8903, 8913), (29, 8903, 8913), (15, 8910, 8913), (15, 8910, 8913), (15, 8910, 8913), (15, 8910, 8913)]\n"
          ]
        },
        {
          "output_type": "stream",
          "name": "stderr",
          "text": [
            "\n"
          ]
        }
      ]
    },
    {
      "cell_type": "code",
      "source": [
        "# Fault coverage\n",
        "fetchimg_totImg_coverage_totCov[-1][1]/fetchimg_totImg_coverage_totCov[-1][2]"
      ],
      "metadata": {
        "colab": {
          "base_uri": "https://localhost:8080/"
        },
        "id": "8gVS777-o2yv",
        "outputId": "ba88fe4b-7d6f-427f-d340-efbb3bd8920d"
      },
      "execution_count": 40,
      "outputs": [
        {
          "output_type": "execute_result",
          "data": {
            "text/plain": [
              "0.9996634129922585"
            ]
          },
          "metadata": {},
          "execution_count": 40
        }
      ]
    },
    {
      "cell_type": "code",
      "source": [
        "# We also have to consider dead neurons in the model that we will get from another notebook. Then we will have total fault coverage. "
      ],
      "metadata": {
        "id": "oZcIdBX9ttol"
      },
      "execution_count": null,
      "outputs": []
    },
    {
      "cell_type": "code",
      "source": [
        ""
      ],
      "metadata": {
        "id": "jh7vB-6dtttm"
      },
      "execution_count": null,
      "outputs": []
    }
  ]
}