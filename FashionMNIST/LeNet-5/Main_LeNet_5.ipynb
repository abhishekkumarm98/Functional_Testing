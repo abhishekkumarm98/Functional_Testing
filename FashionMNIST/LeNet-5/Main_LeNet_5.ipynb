{
  "nbformat": 4,
  "nbformat_minor": 0,
  "metadata": {
    "colab": {
      "name": "Main_LeNet_5.ipynb",
      "provenance": [],
      "collapsed_sections": []
    },
    "kernelspec": {
      "name": "python3",
      "display_name": "Python 3"
    },
    "language_info": {
      "name": "python"
    },
    "accelerator": "GPU"
  },
  "cells": [
    {
      "cell_type": "code",
      "source": [
        "from google.colab import drive\n",
        "drive.mount('/content/drive')"
      ],
      "metadata": {
        "id": "QVsgA9QPiGQ4"
      },
      "execution_count": null,
      "outputs": []
    },
    {
      "cell_type": "code",
      "source": [
        "cd drive/MyDrive/Research1_code/"
      ],
      "metadata": {
        "id": "muBHtHJyiHdL"
      },
      "execution_count": null,
      "outputs": []
    },
    {
      "cell_type": "code",
      "source": [
        "cd FashionMNIST/LeNet-5"
      ],
      "metadata": {
        "id": "ZrX7qWiCiQOz"
      },
      "execution_count": null,
      "outputs": []
    },
    {
      "cell_type": "code",
      "source": [
        "import numpy as np, joblib\n",
        "import sys, os, random\n",
        "import matplotlib.pyplot as plt\n",
        "import pickle, gzip\n",
        "from tqdm import tqdm,tqdm_notebook\n",
        "import torch\n",
        "import torchvision\n",
        "from torch import nn\n",
        "from torch.autograd import Variable\n",
        "import torch.optim as optim\n",
        "import torch.nn.functional as F\n",
        "from torchvision import datasets, transforms\n",
        "from torch.utils.data import Dataset, DataLoader\n",
        "from torch.utils.data.sampler import SubsetRandomSampler"
      ],
      "metadata": {
        "id": "KXMJB6isiRyk"
      },
      "execution_count": 4,
      "outputs": []
    },
    {
      "cell_type": "code",
      "source": [
        "batch_size = 128\n",
        "seed_num = 81\n",
        "\n",
        "# For reproducibility when you run the file with .py\n",
        "torch.cuda.is_available()\n",
        "torch.manual_seed(seed_num)\n",
        "torch.cuda.manual_seed(seed_num)\n",
        "np.random.seed(seed_num)\n",
        "random.seed(seed_num)\n",
        "torch.backends.cudnn.benchmark = True\n",
        "\n",
        "torch.backends.cudnn.deterministic =True"
      ],
      "metadata": {
        "id": "0ok6X5PjkKFX"
      },
      "execution_count": 5,
      "outputs": []
    },
    {
      "cell_type": "code",
      "source": [
        "# Data Augmentation \n",
        "train_transform = transforms.Compose([transforms.RandomRotation(30), transforms.RandomHorizontalFlip(),transforms.ToTensor(),transforms.Normalize([0.2860,],[0.3205,])])\n",
        "test_transform = transforms.Compose([transforms.ToTensor(),transforms.Normalize([0.2860,],[0.3205,])])\n",
        "\n",
        "# Splitting the training and test datasets\n",
        "train_data = datasets.FashionMNIST(os.getcwd(), train=True,\n",
        "                              download=True, transform=train_transform)\n",
        "test_data = datasets.FashionMNIST(os.getcwd(), train=False,\n",
        "                             download=True, transform=test_transform)"
      ],
      "metadata": {
        "id": "10agOYLDkidx"
      },
      "execution_count": 6,
      "outputs": []
    },
    {
      "cell_type": "code",
      "source": [
        "# Split the training set indices into training and validation set indices using 80:20 ratio\n",
        "np.random.seed(seed_num)\n",
        "len_trainset = len(train_data)\n",
        "index_list = list(range(len_trainset))\n",
        "np.random.shuffle(index_list)\n",
        "split_index = 50000\n",
        "train_indices, valid_indices =  index_list[:split_index], index_list[split_index:]\n",
        "\n",
        "# Creating Samplers for training and validation set using the indices\n",
        "np.random.seed(seed_num)\n",
        "train_sampler = SubsetRandomSampler(train_indices)\n",
        "valid_sampler = SubsetRandomSampler(valid_indices)\n",
        "\n",
        "torch.manual_seed(seed_num)\n",
        "\n",
        "train_iterator = DataLoader(train_data, batch_size=batch_size, sampler=train_sampler)\n",
        "val_iterator = DataLoader(train_data, batch_size=batch_size, sampler=valid_sampler)\n",
        "test_iterator = DataLoader(test_data, batch_size=batch_size, shuffle=True)\n"
      ],
      "metadata": {
        "id": "5GnCuQ91lCty"
      },
      "execution_count": 7,
      "outputs": []
    },
    {
      "cell_type": "code",
      "source": [
        "# LeNet-5 Model\n",
        "\n",
        "class LeNet(nn.Module):\n",
        "    def __init__(self):\n",
        "        super(LeNet, self).__init__()\n",
        "        \n",
        "        # Convolution 1\n",
        "        self.cnn1 = nn.Conv2d(in_channels=1, out_channels=6, kernel_size=(5,5), stride=1, padding=2, bias= True)\n",
        "     \n",
        "        # Convolution 2\n",
        "        self.cnn2 = nn.Conv2d(in_channels=6, out_channels=16, kernel_size=(5,5), stride=1, padding=0, bias= True)\n",
        "\n",
        "\n",
        "        # Fully connected 1\n",
        "        self.fc1 = nn.Linear(16*5*5, 120,bias= True) \n",
        "\n",
        "        # Fully connected 2\n",
        "        self.fc2 = nn.Linear(120, 84,bias= True) \n",
        "\n",
        "        # Fully connected 3\n",
        "        self.fc3 = nn.Linear(84,10, bias= True) \n",
        "    \n",
        "    def forward(self, x):\n",
        "        # Set 1\n",
        "        out = F.max_pool2d(F.relu(self.cnn1(x)), kernel_size=(2, 2), stride=2)\n",
        "        \n",
        "        # Set 2\n",
        "        out = F.max_pool2d(F.relu(self.cnn2(out)), kernel_size=(2, 2), stride=2) \n",
        "\n",
        "        \n",
        "        # Flatten\n",
        "        out = out.view(out.size(0), -1)\n",
        "\n",
        "        # FC1\n",
        "        out = F.relu(self.fc1(out))\n",
        "\n",
        "        # FC2\n",
        "        out = F.relu(self.fc2(out))\n",
        "\n",
        "        # FC3\n",
        "        out = self.fc3(out)\n",
        "        \n",
        "        return out\n"
      ],
      "metadata": {
        "id": "4D-XvGNzlJn_"
      },
      "execution_count": 8,
      "outputs": []
    },
    {
      "cell_type": "code",
      "source": [
        "torch.manual_seed(seed_num)\n",
        "unit=128\n",
        "\n",
        "# Summary\n",
        "model = LeNet()\n",
        "print(\"Model:\\n\",model)"
      ],
      "metadata": {
        "colab": {
          "base_uri": "https://localhost:8080/"
        },
        "id": "W-97MR9BlJrW",
        "outputId": "0bf2a89f-e1f1-4de9-c96b-397a4eb53bb0"
      },
      "execution_count": 9,
      "outputs": [
        {
          "output_type": "stream",
          "name": "stdout",
          "text": [
            "Model:\n",
            " LeNet(\n",
            "  (cnn1): Conv2d(1, 6, kernel_size=(5, 5), stride=(1, 1), padding=(2, 2))\n",
            "  (cnn2): Conv2d(6, 16, kernel_size=(5, 5), stride=(1, 1))\n",
            "  (fc1): Linear(in_features=400, out_features=120, bias=True)\n",
            "  (fc2): Linear(in_features=120, out_features=84, bias=True)\n",
            "  (fc3): Linear(in_features=84, out_features=10, bias=True)\n",
            ")\n"
          ]
        }
      ]
    },
    {
      "cell_type": "code",
      "source": [
        "# Layer names\n",
        "layer_name = [n for n, p in model.named_parameters()]\n",
        "layer_name"
      ],
      "metadata": {
        "colab": {
          "base_uri": "https://localhost:8080/"
        },
        "id": "A8PBc3NYlJuX",
        "outputId": "b91c816c-8025-49cc-9db8-8ead3841dcfb"
      },
      "execution_count": 10,
      "outputs": [
        {
          "output_type": "execute_result",
          "data": {
            "text/plain": [
              "['cnn1.weight',\n",
              " 'cnn1.bias',\n",
              " 'cnn2.weight',\n",
              " 'cnn2.bias',\n",
              " 'fc1.weight',\n",
              " 'fc1.bias',\n",
              " 'fc2.weight',\n",
              " 'fc2.bias',\n",
              " 'fc3.weight',\n",
              " 'fc3.bias']"
            ]
          },
          "metadata": {},
          "execution_count": 10
        }
      ]
    },
    {
      "cell_type": "code",
      "source": [
        "# Loading the weights of ternary model \n",
        "model = torch.load('LeNet_5_Quant.pt')\n",
        "model = model.cuda()\n",
        "print(\"Loading weights done !\")\n",
        "\n",
        "# Total number of ternary weights (+w, -w)\n",
        "totalParams = 0\n",
        "for i in layer_name:\n",
        "  print(i,(model.state_dict()[i] !=0).sum())\n",
        "  totalParams +=  (model.state_dict()[i] !=0).sum()\n",
        "    \n",
        "print(\"Total Parameters:\",totalParams, '\\n')"
      ],
      "metadata": {
        "colab": {
          "base_uri": "https://localhost:8080/"
        },
        "id": "7V_swsrplJxP",
        "outputId": "8e487753-aa2f-4b41-be5c-65d21bcbd9ed"
      },
      "execution_count": 12,
      "outputs": [
        {
          "output_type": "stream",
          "name": "stdout",
          "text": [
            "Loading weights done !\n",
            "cnn1.weight tensor(96, device='cuda:0')\n",
            "cnn1.bias tensor(3, device='cuda:0')\n",
            "cnn2.weight tensor(414, device='cuda:0')\n",
            "cnn2.bias tensor(15, device='cuda:0')\n",
            "fc1.weight tensor(616, device='cuda:0')\n",
            "fc1.bias tensor(50, device='cuda:0')\n",
            "fc2.weight tensor(784, device='cuda:0')\n",
            "fc2.bias tensor(61, device='cuda:0')\n",
            "fc3.weight tensor(475, device='cuda:0')\n",
            "fc3.bias tensor(10, device='cuda:0')\n",
            "Total Parameters: tensor(2524, device='cuda:0') \n",
            "\n"
          ]
        }
      ]
    },
    {
      "cell_type": "code",
      "source": [
        "# Model's performance on test set\n",
        "\n",
        "correct_count, all_count = 0, 0\n",
        "for images,labels in test_iterator:\n",
        "      for image,label in zip(images,labels):\n",
        "\n",
        "        if torch.cuda.is_available():\n",
        "            img = image.cuda()\n",
        "            lab = label.cuda()\n",
        "            img = img[None,].type('torch.cuda.FloatTensor')\n",
        "\n",
        "        with torch.no_grad():\n",
        "            output_ = model(img) \n",
        "\n",
        "        pred_label = output_.argmax()\n",
        "\n",
        "        if(pred_label.item()==lab.item()):\n",
        "          correct_count += 1\n",
        "        all_count += 1\n",
        "\n",
        "print(\"Number Of Images Tested =\", all_count)\n",
        "print(\"\\nModel Test Accuracy =\", (correct_count/(all_count)))\n"
      ],
      "metadata": {
        "colab": {
          "base_uri": "https://localhost:8080/"
        },
        "id": "0uPbBVUKlJ0X",
        "outputId": "a5737967-6c2b-4721-a697-18e0cde86479"
      },
      "execution_count": 13,
      "outputs": [
        {
          "output_type": "stream",
          "name": "stdout",
          "text": [
            "Number Of Images Tested = 10000\n",
            "\n",
            "Model Test Accuracy = 0.7421\n"
          ]
        }
      ]
    },
    {
      "cell_type": "code",
      "source": [
        "# For each layer, model's ternary weights\n",
        "state_dict = model.state_dict()\n",
        "\n",
        "layer_distinct_weights = {}\n",
        "\n",
        "for i in layer_name:\n",
        "  imd = torch.unique(model.state_dict()[i])\n",
        "  print(i+ ' hidden layer dimension', model.state_dict()[i].shape)\n",
        "  print(\"Unique values of weight in \"+ i+ \" th hidden layer : \", imd)\n",
        "  layer_distinct_weights[i] = imd.cpu().numpy().tolist()\n",
        "  print()\n"
      ],
      "metadata": {
        "colab": {
          "base_uri": "https://localhost:8080/"
        },
        "id": "RvZCWE-QlJ6U",
        "outputId": "97fb1572-b39b-4b4a-d9ac-1e3fe184d0dd"
      },
      "execution_count": 14,
      "outputs": [
        {
          "output_type": "stream",
          "name": "stdout",
          "text": [
            "cnn1.weight hidden layer dimension torch.Size([6, 1, 5, 5])\n",
            "Unique values of weight in cnn1.weight th hidden layer :  tensor([-1.,  0.,  1.], device='cuda:0')\n",
            "\n",
            "cnn1.bias hidden layer dimension torch.Size([6])\n",
            "Unique values of weight in cnn1.bias th hidden layer :  tensor([-1.,  0.,  1.], device='cuda:0')\n",
            "\n",
            "cnn2.weight hidden layer dimension torch.Size([16, 6, 5, 5])\n",
            "Unique values of weight in cnn2.weight th hidden layer :  tensor([-1.,  0.,  1.], device='cuda:0')\n",
            "\n",
            "cnn2.bias hidden layer dimension torch.Size([16])\n",
            "Unique values of weight in cnn2.bias th hidden layer :  tensor([-1.,  0.,  1.], device='cuda:0')\n",
            "\n",
            "fc1.weight hidden layer dimension torch.Size([120, 400])\n",
            "Unique values of weight in fc1.weight th hidden layer :  tensor([-1.,  0.,  1.], device='cuda:0')\n",
            "\n",
            "fc1.bias hidden layer dimension torch.Size([120])\n",
            "Unique values of weight in fc1.bias th hidden layer :  tensor([-1.,  0.,  1.], device='cuda:0')\n",
            "\n",
            "fc2.weight hidden layer dimension torch.Size([84, 120])\n",
            "Unique values of weight in fc2.weight th hidden layer :  tensor([-1.,  0.,  1.], device='cuda:0')\n",
            "\n",
            "fc2.bias hidden layer dimension torch.Size([84])\n",
            "Unique values of weight in fc2.bias th hidden layer :  tensor([-1.,  0.,  1.], device='cuda:0')\n",
            "\n",
            "fc3.weight hidden layer dimension torch.Size([10, 84])\n",
            "Unique values of weight in fc3.weight th hidden layer :  tensor([-1.,  0.,  1.], device='cuda:0')\n",
            "\n",
            "fc3.bias hidden layer dimension torch.Size([10])\n",
            "Unique values of weight in fc3.bias th hidden layer :  tensor([-1.,  1.], device='cuda:0')\n",
            "\n"
          ]
        }
      ]
    },
    {
      "cell_type": "code",
      "source": [
        "# Single seed normal distribution\n",
        "np.random.seed(seed_num)\n",
        "corr_images1 = []\n",
        "\n",
        "for i in range(4000): \n",
        "  corr_images1.append(np.random.randn(1,28,28))\n",
        "\n",
        "corr_images1 = np.array(corr_images1)\n",
        "corr_images1.shape"
      ],
      "metadata": {
        "colab": {
          "base_uri": "https://localhost:8080/"
        },
        "id": "Sr2l07FwlJ9I",
        "outputId": "772b9b24-5f68-4a1c-9d45-4433b17af480"
      },
      "execution_count": 15,
      "outputs": [
        {
          "output_type": "execute_result",
          "data": {
            "text/plain": [
              "(4000, 1, 28, 28)"
            ]
          },
          "metadata": {},
          "execution_count": 15
        }
      ]
    },
    {
      "cell_type": "code",
      "source": [
        "# Structured Patterns\n",
        "\n",
        "np.random.seed(seed_num)\n",
        "\n",
        "corr_images2 = []\n",
        "a = np.identity(28) * np.random.randn(28)\n",
        "corr_images2.append(a)\n",
        "b = np.fliplr(a.copy()) * np.random.randn(28)\n",
        "corr_images2.append(b)\n",
        "c = (a+b).copy() * np.random.randn(28)\n",
        "corr_images2.append(c)\n",
        "\n",
        "# To apply [1,1] , [0,1], [1,0]\n",
        "cp_file = [a,b,c]\n",
        "\n",
        "# To apply randn\n",
        "a1,b1,c1 = a.copy(), b.copy(), c.copy()\n",
        "cp_file1 = [a1, b1, c1]\n",
        "\n",
        "files = [cp_file, cp_file1]\n",
        "\n",
        "for i in range(6000):\n",
        "    \n",
        "    np.random.seed(i)\n",
        "    choose = np.random.randint(0,2)\n",
        "\n",
        "    # Picking row and column indices randomly\n",
        "    r_idx = np.random.randint(0,28)\n",
        "    c_idx = np.random.randint(0,28)\n",
        "\n",
        "    if choose == 0:\n",
        "        \n",
        "        # Selecting file\n",
        "        file = files[0]\n",
        "        \n",
        "        imd_img = file[np.random.randint(0,3)].copy()\n",
        "        \n",
        "        imd_img1 = file[np.random.randint(0,3)]\n",
        "        \n",
        "        opt =[[1,1] , [0,1], [1,0]]\n",
        "        \n",
        "        if np.random.randint(0,2) == 0:\n",
        "        \n",
        "            imd_img[r_idx,:] = np.array(opt[np.random.randint(0,3)] *14) \n",
        "            corr_images2.append(imd_img)\n",
        "\n",
        "            imd_img[:,c_idx] = np.array(opt[np.random.randint(0,3)] *14) \n",
        "            corr_images2.append(imd_img)\n",
        "\n",
        "        else:\n",
        "            imd_img1[r_idx,:] = np.array(opt[np.random.randint(0,3)] *14) \n",
        "            corr_images2.append(imd_img1)\n",
        "\n",
        "            imd_img1[:,c_idx] = np.array(opt[np.random.randint(0,3)] *14) \n",
        "            corr_images2.append(imd_img1)\n",
        "            \n",
        "\n",
        "    else:\n",
        "        \n",
        "        # Selecting file\n",
        "        file = files[1]\n",
        "        \n",
        "        imd_img = file[np.random.randint(0,3)].copy()\n",
        "        \n",
        "        imd_img1 = file[np.random.randint(0,3)]\n",
        "        \n",
        "        opt =[[1,1] , [0,1], [1,0]]\n",
        "        \n",
        "        if np.random.randint(0,2) == 0:\n",
        "        \n",
        "            imd_img[r_idx,:] = np.array(opt[np.random.randint(0,3)] *14) * np.random.randn(28)\n",
        "            corr_images2.append(imd_img)\n",
        "\n",
        "            imd_img[:,c_idx] = np.array(opt[np.random.randint(0,3)] *14) * np.random.randn(28)\n",
        "            corr_images2.append(imd_img)\n",
        "\n",
        "        else:\n",
        "            imd_img1[r_idx,:] = np.array(opt[np.random.randint(0,3)] *14) * np.random.randn(28)\n",
        "            corr_images2.append(imd_img1)\n",
        "\n",
        "            imd_img1[:,c_idx] = np.array(opt[np.random.randint(0,3)] *14) * np.random.randn(28)\n",
        "            corr_images2.append(imd_img1)\n",
        "    \n",
        "corr_images2 = np.array(corr_images2).reshape(len(corr_images2),1,28,28)"
      ],
      "metadata": {
        "id": "4cZcFQ5ylKcX"
      },
      "execution_count": 16,
      "outputs": []
    },
    {
      "cell_type": "code",
      "source": [
        "corr_images2 = np.unique(corr_images2, axis=0)\n",
        "len(corr_images2)"
      ],
      "metadata": {
        "colab": {
          "base_uri": "https://localhost:8080/"
        },
        "id": "xcmgnbR3lKu0",
        "outputId": "6c813d69-7281-44ff-8df2-a789e631e205"
      },
      "execution_count": 17,
      "outputs": [
        {
          "output_type": "execute_result",
          "data": {
            "text/plain": [
              "3099"
            ]
          },
          "metadata": {},
          "execution_count": 17
        }
      ]
    },
    {
      "cell_type": "code",
      "source": [
        "# Augmentation on structured images\n",
        "check_transform2 = transforms.Compose([transforms.ToTensor(), transforms.RandomRotation(35), transforms.RandomHorizontalFlip(),\n",
        "                                      transforms.Normalize([0.2860,],[0.3205,])]) \n",
        "    \n",
        "corr_images2_ = []\n",
        "for img in corr_images2:\n",
        "    corr_images2_.append(check_transform2(img).permute([1,0,2]).numpy())\n",
        "\n",
        "corr_images2 = np.array(corr_images2_)\n",
        "corr_images2.shape"
      ],
      "metadata": {
        "colab": {
          "base_uri": "https://localhost:8080/"
        },
        "id": "1k6M0gVko1k3",
        "outputId": "47813c39-9ed7-42a0-c9a7-90e7282b2e66"
      },
      "execution_count": 18,
      "outputs": [
        {
          "output_type": "execute_result",
          "data": {
            "text/plain": [
              "(3099, 1, 28, 28)"
            ]
          },
          "metadata": {},
          "execution_count": 18
        }
      ]
    },
    {
      "cell_type": "code",
      "source": [
        "# Plotting some structured images\n",
        "for i in range(2,28):\n",
        "    plt.imshow(corr_images2[i].reshape((28,28)))\n",
        "    plt.show()"
      ],
      "metadata": {
        "colab": {
          "base_uri": "https://localhost:8080/",
          "height": 1000
        },
        "id": "v8fnTNduo2JO",
        "outputId": "1a688f42-ddea-4e75-ad83-de57c661c382"
      },
      "execution_count": 19,
      "outputs": [
        {
          "output_type": "display_data",
          "data": {
            "text/plain": [
              "<Figure size 432x288 with 1 Axes>"
            ],
            "image/png": "[encoded data removed]"
          },
          "metadata": {
            "needs_background": "light"
          }
        },
        {
          "output_type": "display_data",
          "data": {
            "text/plain": [
              "<Figure size 432x288 with 1 Axes>"
            ],
            "image/png": "[encoded data removed]"
          },
          "metadata": {
            "needs_background": "light"
          }
        },
        {
          "output_type": "display_data",
          "data": {
            "text/plain": [
              "<Figure size 432x288 with 1 Axes>"
            ],
            "image/png": "[encoded data removed]"
          },
          "metadata": {
            "needs_background": "light"
          }
        },
        {
          "output_type": "display_data",
          "data": {
            "text/plain": [
              "<Figure size 432x288 with 1 Axes>"
            ],
            "image/png": "[encoded data removed]"
          },
          "metadata": {
            "needs_background": "light"
          }
        },
        {
          "output_type": "display_data",
          "data": {
            "text/plain": [
              "<Figure size 432x288 with 1 Axes>"
            ],
            "image/png": "[encoded data removed]"
          },
          "metadata": {
            "needs_background": "light"
          }
        },
        {
          "output_type": "display_data",
          "data": {
            "text/plain": [
              "<Figure size 432x288 with 1 Axes>"
            ],
            "image/png": "[encoded data removed]"
          },
          "metadata": {
            "needs_background": "light"
          }
        },
        {
          "output_type": "display_data",
          "data": {
            "text/plain": [
              "<Figure size 432x288 with 1 Axes>"
            ],
            "image/png": "[encoded data removed]"
          },
          "metadata": {
            "needs_background": "light"
          }
        },
        {
          "output_type": "display_data",
          "data": {
            "text/plain": [
              "<Figure size 432x288 with 1 Axes>"
            ],
            "image/png": "[encoded data removed]"
          },
          "metadata": {
            "needs_background": "light"
          }
        },
        {
          "output_type": "display_data",
          "data": {
            "text/plain": [
              "<Figure size 432x288 with 1 Axes>"
            ],
            "image/png": "[encoded data removed]"
          },
          "metadata": {
            "needs_background": "light"
          }
        },
        {
          "output_type": "display_data",
          "data": {
            "text/plain": [
              "<Figure size 432x288 with 1 Axes>"
            ],
            "image/png": "[encoded data removed]"
          },
          "metadata": {
            "needs_background": "light"
          }
        },
        {
          "output_type": "display_data",
          "data": {
            "text/plain": [
              "<Figure size 432x288 with 1 Axes>"
            ],
            "image/png": "[encoded data removed]"
          },
          "metadata": {
            "needs_background": "light"
          }
        },
        {
          "output_type": "display_data",
          "data": {
            "text/plain": [
              "<Figure size 432x288 with 1 Axes>"
            ],
            "image/png": "[encoded data removed]"
          },
          "metadata": {
            "needs_background": "light"
          }
        },
        {
          "output_type": "display_data",
          "data": {
            "text/plain": [
              "<Figure size 432x288 with 1 Axes>"
            ],
            "image/png": "[encoded data removed]"
          },
          "metadata": {
            "needs_background": "light"
          }
        },
        {
          "output_type": "display_data",
          "data": {
            "text/plain": [
              "<Figure size 432x288 with 1 Axes>"
            ],
            "image/png": "[encoded data removed]"
          },
          "metadata": {
            "needs_background": "light"
          }
        },
        {
          "output_type": "display_data",
          "data": {
            "text/plain": [
              "<Figure size 432x288 with 1 Axes>"
            ],
            "image/png": "[encoded data removed]"
          },
          "metadata": {
            "needs_background": "light"
          }
        },
        {
          "output_type": "display_data",
          "data": {
            "text/plain": [
              "<Figure size 432x288 with 1 Axes>"
            ],
            "image/png": "[encoded data removed]"
          },
          "metadata": {
            "needs_background": "light"
          }
        },
        {
          "output_type": "display_data",
          "data": {
            "text/plain": [
              "<Figure size 432x288 with 1 Axes>"
            ],
            "image/png": "[encoded data removed]"
          },
          "metadata": {
            "needs_background": "light"
          }
        },
        {
          "output_type": "display_data",
          "data": {
            "text/plain": [
              "<Figure size 432x288 with 1 Axes>"
            ],
            "image/png": "[encoded data removed]"
          },
          "metadata": {
            "needs_background": "light"
          }
        },
        {
          "output_type": "display_data",
          "data": {
            "text/plain": [
              "<Figure size 432x288 with 1 Axes>"
            ],
            "image/png": "[encoded data removed]"
          },
          "metadata": {
            "needs_background": "light"
          }
        },
        {
          "output_type": "display_data",
          "data": {
            "text/plain": [
              "<Figure size 432x288 with 1 Axes>"
            ],
            "image/png": "[encoded data removed]"
          },
          "metadata": {
            "needs_background": "light"
          }
        },
        {
          "output_type": "display_data",
          "data": {
            "text/plain": [
              "<Figure size 432x288 with 1 Axes>"
            ],
            "image/png": "[encoded data removed]"
          },
          "metadata": {
            "needs_background": "light"
          }
        },
        {
          "output_type": "display_data",
          "data": {
            "text/plain": [
              "<Figure size 432x288 with 1 Axes>"
            ],
            "image/png": "[encoded data removed]"
          },
          "metadata": {
            "needs_background": "light"
          }
        },
        {
          "output_type": "display_data",
          "data": {
            "text/plain": [
              "<Figure size 432x288 with 1 Axes>"
            ],
            "image/png": "[encoded data removed]"
          },
          "metadata": {
            "needs_background": "light"
          }
        },
        {
          "output_type": "display_data",
          "data": {
            "text/plain": [
              "<Figure size 432x288 with 1 Axes>"
            ],
            "image/png": "[encoded data removed]"
          },
          "metadata": {
            "needs_background": "light"
          }
        },
        {
          "output_type": "display_data",
          "data": {
            "text/plain": [
              "<Figure size 432x288 with 1 Axes>"
            ],
            "image/png": "[encoded data removed]"
          },
          "metadata": {
            "needs_background": "light"
          }
        },
        {
          "output_type": "display_data",
          "data": {
            "text/plain": [
              "<Figure size 432x288 with 1 Axes>"
            ],
            "image/png": "[encoded data removed]"
          },
          "metadata": {
            "needs_background": "light"
          }
        }
      ]
    },
    {
      "cell_type": "code",
      "source": [
        "#############\n",
        "# Pixel taking randomly from 8 bits (0-255) to generate images\n",
        "\n",
        "np.random.seed(seed_num)\n",
        "corr_images1_ = []\n",
        "\n",
        "for i in range(3000):\n",
        "  corr_images1_.append(np.random.randint(0, 256, (1,28,28)).astype('float')/255.)\n",
        "\n",
        "\n",
        "check_transform1 = transforms.Compose([transforms.ToTensor(), transforms.RandomRotation(45), transforms.RandomHorizontalFlip(),\n",
        "                                      transforms.Normalize([0.2860,],[0.3205,])]) \n",
        " \n",
        "\n",
        "corr_images_ = []\n",
        "for img in corr_images1_:\n",
        "    corr_images_.append(check_transform1(img).permute([1,0,2]).numpy())"
      ],
      "metadata": {
        "id": "3bUdfYmdo2Lu"
      },
      "execution_count": 20,
      "outputs": []
    },
    {
      "cell_type": "code",
      "source": [
        "for i in range(15,28):\n",
        "    plt.imshow(corr_images_[i].reshape((28,28)))\n",
        "    plt.show()"
      ],
      "metadata": {
        "colab": {
          "base_uri": "https://localhost:8080/",
          "height": 1000
        },
        "id": "hUlgkRzXo2Ol",
        "outputId": "746fb992-b823-41bc-a845-67181932d80d"
      },
      "execution_count": 21,
      "outputs": [
        {
          "output_type": "display_data",
          "data": {
            "text/plain": [
              "<Figure size 432x288 with 1 Axes>"
            ],
            "image/png": "[encoded data removed]"
          },
          "metadata": {
            "needs_background": "light"
          }
        },
        {
          "output_type": "display_data",
          "data": {
            "text/plain": [
              "<Figure size 432x288 with 1 Axes>"
            ],
            "image/png": "[encoded data removed]"
          },
          "metadata": {
            "needs_background": "light"
          }
        },
        {
          "output_type": "display_data",
          "data": {
            "text/plain": [
              "<Figure size 432x288 with 1 Axes>"
            ],
            "image/png": "[encoded data removed]"
          },
          "metadata": {
            "needs_background": "light"
          }
        },
        {
          "output_type": "display_data",
          "data": {
            "text/plain": [
              "<Figure size 432x288 with 1 Axes>"
            ],
            "image/png": "[encoded data removed]"
          },
          "metadata": {
            "needs_background": "light"
          }
        },
        {
          "output_type": "display_data",
          "data": {
            "text/plain": [
              "<Figure size 432x288 with 1 Axes>"
            ],
            "image/png": "[encoded data removed]"
          },
          "metadata": {
            "needs_background": "light"
          }
        },
        {
          "output_type": "display_data",
          "data": {
            "text/plain": [
              "<Figure size 432x288 with 1 Axes>"
            ],
            "image/png": "[encoded data removed]"
          },
          "metadata": {
            "needs_background": "light"
          }
        },
        {
          "output_type": "display_data",
          "data": {
            "text/plain": [
              "<Figure size 432x288 with 1 Axes>"
            ],
            "image/png": "[encoded data removed]"
          },
          "metadata": {
            "needs_background": "light"
          }
        },
        {
          "output_type": "display_data",
          "data": {
            "text/plain": [
              "<Figure size 432x288 with 1 Axes>"
            ],
            "image/png": "[encoded data removed]"
          },
          "metadata": {
            "needs_background": "light"
          }
        },
        {
          "output_type": "display_data",
          "data": {
            "text/plain": [
              "<Figure size 432x288 with 1 Axes>"
            ],
            "image/png": "[encoded data removed]"
          },
          "metadata": {
            "needs_background": "light"
          }
        },
        {
          "output_type": "display_data",
          "data": {
            "text/plain": [
              "<Figure size 432x288 with 1 Axes>"
            ],
            "image/png": "[encoded data removed]"
          },
          "metadata": {
            "needs_background": "light"
          }
        },
        {
          "output_type": "display_data",
          "data": {
            "text/plain": [
              "<Figure size 432x288 with 1 Axes>"
            ],
            "image/png": "[encoded data removed]"
          },
          "metadata": {
            "needs_background": "light"
          }
        },
        {
          "output_type": "display_data",
          "data": {
            "text/plain": [
              "<Figure size 432x288 with 1 Axes>"
            ],
            "image/png": "[encoded data removed]"
          },
          "metadata": {
            "needs_background": "light"
          }
        },
        {
          "output_type": "display_data",
          "data": {
            "text/plain": [
              "<Figure size 432x288 with 1 Axes>"
            ],
            "image/png": "[encoded data removed]"
          },
          "metadata": {
            "needs_background": "light"
          }
        }
      ]
    },
    {
      "cell_type": "code",
      "source": [
        "corr_images3 = np.array(corr_images_)"
      ],
      "metadata": {
        "id": "2Hq9pt6Bo2Q0"
      },
      "execution_count": 22,
      "outputs": []
    },
    {
      "cell_type": "code",
      "source": [
        "# Normal dist + Structured + Random Pixel\n",
        "corr_images = np.concatenate([corr_images1, corr_images2, corr_images3])[:10000]\n",
        "corr_images.shape"
      ],
      "metadata": {
        "colab": {
          "base_uri": "https://localhost:8080/"
        },
        "id": "xlI4lYUUo2Th",
        "outputId": "27c08564-e347-44ee-afd6-c4bef8e7ae1f"
      },
      "execution_count": 23,
      "outputs": [
        {
          "output_type": "execute_result",
          "data": {
            "text/plain": [
              "(10000, 1, 28, 28)"
            ]
          },
          "metadata": {},
          "execution_count": 23
        }
      ]
    },
    {
      "cell_type": "code",
      "source": [
        "corr_images = torch.tensor(corr_images).type(torch.FloatTensor).to('cuda')\n",
        "\n",
        "corr_label = []\n",
        "check_label = []\n",
        "\n",
        "model.eval()\n",
        "for img in corr_images:\n",
        "  img = img[None,].type('torch.cuda.FloatTensor')\n",
        "  with torch.no_grad():\n",
        "    pred = model(img).argmax()\n",
        "  corr_label.append(pred)\n",
        "  check_label.append(pred.item())\n",
        "\n",
        "digit,count = np.unique(check_label, return_counts=True)\n",
        "\n",
        "# Model's prediction on pseudorandom images\n",
        "print(\"\\nUnique digits : \",digit)\n",
        "\n",
        "print(\"\\n counts : \",count)"
      ],
      "metadata": {
        "colab": {
          "base_uri": "https://localhost:8080/"
        },
        "id": "3zyNkvo5o2WB",
        "outputId": "ea8ebf6a-2b05-4197-e05c-7708464566e5"
      },
      "execution_count": 24,
      "outputs": [
        {
          "output_type": "stream",
          "name": "stdout",
          "text": [
            "\n",
            "Unique digits :  [0 1 2 3 4 5 6 7 8 9]\n",
            "\n",
            " counts :  [ 178  378  387  410    5 5283  122   87  488 2662]\n"
          ]
        }
      ]
    },
    {
      "cell_type": "code",
      "source": [
        "pos_neg_layerwise = {}\n",
        "\n",
        "for i in layer_name:\n",
        "  b = layer_distinct_weights[i]\n",
        "\n",
        "  if len(b) == 3:\n",
        "    neg, zero, pos = b\n",
        "    pos_neg_layerwise[i] = {}\n",
        "    pos_neg_layerwise[i]['pos'] = pos\n",
        "    pos_neg_layerwise[i]['neg'] = neg\n",
        "    \n",
        "  elif len(b) == 2:\n",
        "    un1, un2 = b\n",
        "\n",
        "    if un2 == 0:\n",
        "      neg, zero = b\n",
        "      pos_neg_layerwise[i] = {}\n",
        "      pos_neg_layerwise[i]['neg'] = neg\n",
        "      \n",
        "    elif un1 == 0:\n",
        "      zero, pos = b\n",
        "      pos_neg_layerwise[i] = {}\n",
        "      pos_neg_layerwise[i]['pos'] = pos\n",
        "\n",
        "    else:\n",
        "      neg, pos = b\n",
        "      pos_neg_layerwise[i] = {}\n",
        "      pos_neg_layerwise[i]['pos'] = pos\n",
        "      pos_neg_layerwise[i]['neg'] = neg\n",
        "\n",
        "  else:\n",
        "     un = b[0] \n",
        "\n",
        "     if un > 0:\n",
        "       pos_neg_layerwise[i] = {}\n",
        "       pos_neg_layerwise[i]['pos'] = un\n",
        "\n",
        "     elif un < 0:\n",
        "       pos_neg_layerwise[i] = {}\n",
        "       pos_neg_layerwise[i]['neg'] = un\n",
        "\n",
        "     else:\n",
        "       pos_neg_layerwise[i] = {}\n",
        "       pos_neg_layerwise[i]['zero'] = 0\n"
      ],
      "metadata": {
        "id": "uG1i7FSwo2Y5"
      },
      "execution_count": 25,
      "outputs": []
    },
    {
      "cell_type": "code",
      "source": [
        "layer_distinct_weights"
      ],
      "metadata": {
        "colab": {
          "base_uri": "https://localhost:8080/"
        },
        "id": "JZ4zH-VAo2bH",
        "outputId": "dbbf933e-3a17-471f-fc51-9caa398ef51d"
      },
      "execution_count": 26,
      "outputs": [
        {
          "output_type": "execute_result",
          "data": {
            "text/plain": [
              "{'cnn1.bias': [-1.0, 0.0, 1.0],\n",
              " 'cnn1.weight': [-1.0, 0.0, 1.0],\n",
              " 'cnn2.bias': [-1.0, 0.0, 1.0],\n",
              " 'cnn2.weight': [-1.0, 0.0, 1.0],\n",
              " 'fc1.bias': [-1.0, 0.0, 1.0],\n",
              " 'fc1.weight': [-1.0, 0.0, 1.0],\n",
              " 'fc2.bias': [-1.0, 0.0, 1.0],\n",
              " 'fc2.weight': [-1.0, 0.0, 1.0],\n",
              " 'fc3.bias': [-1.0, 1.0],\n",
              " 'fc3.weight': [-1.0, 0.0, 1.0]}"
            ]
          },
          "metadata": {},
          "execution_count": 26
        }
      ]
    },
    {
      "cell_type": "code",
      "source": [
        "class PseudoData(Dataset):\n",
        "    \n",
        "    def __init__(self, data, label):\n",
        "        \n",
        "        self.data = data\n",
        "        self.label = label\n",
        "\n",
        "    def __getitem__(self, index):\n",
        "        \n",
        "        return self.data[index], self.label[index]\n",
        "\n",
        "    def __len__(self):\n",
        "        return len(self.data)\n",
        "\n",
        "corr_label = torch.tensor(corr_label).type(torch.FloatTensor).to('cuda')\n",
        "pseudo_dataLoader = DataLoader(dataset = PseudoData(corr_images, corr_label), batch_size = 1000, shuffle=False) "
      ],
      "metadata": {
        "id": "cCfKOm8no2du"
      },
      "execution_count": 27,
      "outputs": []
    },
    {
      "cell_type": "code",
      "source": [
        "def getResult(test_example, test_label, model, st):\n",
        "    model.load_state_dict(st)\n",
        "    model.eval()\n",
        "    with torch.no_grad():\n",
        "        output_ = model(test_example.float()) \n",
        "        pred = output_.data.max(1, keepdim=True)[1]\n",
        "        z = pred.eq(test_label.data.view_as(pred)).flatten()\n",
        "        return torch.where(z == False)[0]"
      ],
      "metadata": {
        "id": "uAf424TSo2gc"
      },
      "execution_count": 28,
      "outputs": []
    },
    {
      "cell_type": "code",
      "source": [
        "def populateResults(idx, batch_id, old_state, new_state, w_images, n_ic, n_oc, row, column, weight_name):\n",
        "  key = 'img_id'+str(idx)+'_batch_'+str(batch_id)\n",
        "  if key not in w_images:\n",
        "    w_images[key] = {}\n",
        "    w_images[key]['location'] = []\n",
        "    w_images[key]['location'].append((weight_name, n_ic, n_oc, row, column, old_state, new_state))\n",
        "    w_images[key]['weight_states'] = []\n",
        "    w_images[key]['weight_states'].append(weight_name + ' : ' + str(old_state) + ' --> ' + str(new_state))\n",
        "\n",
        "  else:\n",
        "    w_images[key]['location'].append((weight_name, n_ic, n_oc, row, column, old_state, new_state))\n",
        "    w_images[key]['weight_states'].append(weight_name + ' : ' + str(old_state) + ' --> ' + str(new_state))"
      ],
      "metadata": {
        "id": "qQkUUItGo2j2"
      },
      "execution_count": 29,
      "outputs": []
    },
    {
      "cell_type": "code",
      "source": [
        "def populateResults1(idx, batch_id, old_state, new_state, w_images, row, column, weight_name):\n",
        "  key = 'img_id'+str(idx)+'_batch_'+str(batch_id)\n",
        "  if key not in w_images:\n",
        "    w_images[key] = {}\n",
        "    w_images[key]['location'] = []\n",
        "    w_images[key]['location'].append((weight_name, row, column, old_state, new_state))\n",
        "    w_images[key]['weight_states'] = []\n",
        "    w_images[key]['weight_states'].append(weight_name + ' : ' + str(old_state) + ' --> ' + str(new_state))\n",
        "\n",
        "  else:\n",
        "    w_images[key]['location'].append((weight_name, row, column, old_state, new_state))\n",
        "    w_images[key]['weight_states'].append(weight_name + ' : ' + str(old_state) + ' --> ' + str(new_state))"
      ],
      "metadata": {
        "id": "jCBF5EBvo2lz"
      },
      "execution_count": 30,
      "outputs": []
    },
    {
      "cell_type": "code",
      "source": [
        "# For bias weight mutation\n",
        "\n",
        "def bias_mutation(st, superSet, w_images, img,label, batch_id, weight_name):\n",
        "\n",
        "  if ('pos' in pos_neg_layerwise[weight_name]) and ('neg' in pos_neg_layerwise[weight_name]):\n",
        "    un = pos_neg_layerwise[weight_name]['pos'], pos_neg_layerwise[weight_name]['neg']\n",
        "\n",
        "    var_neg1 = torch.where(st==un[1])[0]\n",
        "    var_1 = torch.where(st==un[0])[0]\n",
        "\n",
        "  else:\n",
        "    try:\n",
        "      un = pos_neg_layerwise[weight_name]['pos']\n",
        "\n",
        "      var_neg1 = torch.where(st==un*1000)[0]\n",
        "      var_1 = torch.where(st==un)[0]\n",
        "\n",
        "    except KeyError:\n",
        "      un = pos_neg_layerwise[weight_name]['neg']\n",
        "\n",
        "      var_neg1 = torch.where(st==un)[0]\n",
        "      var_1 = torch.where(st==un*1000)[0]\n",
        "\n",
        "\n",
        "  if (var_neg1.nelement() == 0.) and (var_1.nelement() == 0.):\n",
        "    pass\n",
        "  else:\n",
        "    for column in torch.cat((var_neg1, var_1), 0):\n",
        "      row = 0\n",
        "      column = column.item()\n",
        "\n",
        "      org_val_real = st[column].item() # For bias part\n",
        "\n",
        "      if type(un) == tuple:\n",
        "          pos, neg = un   # Positive, Negative \n",
        "          if (org_val_real < 0.) and (org_val_real == neg):\n",
        "            org_val = neg\n",
        "\n",
        "            old_state = neg\n",
        "            new_state = 0.\n",
        "            superSet.add((weight_name, row, column, -1, 0))\n",
        "\n",
        "            st[column] = new_state\n",
        "\n",
        "            \"\"\"getResult() will tell whether the passed test example is classified to other class\n",
        "            or not after mutation, if it is classified to other class, then it returns True else False and \n",
        "            populateResults() will maintain the record of test examples which has been misclassified\n",
        "            like location(row(which neuron), column(indices)), old_state(old_value of weight element), \n",
        "            new_state (mutated value of weight element), images\"\"\"\n",
        "\n",
        "            \n",
        "            [populateResults1(idx.item(), batch_id, -1, 0, w_images, row, column, weight_name) \\\n",
        "             for idx in getResult(img, label, model, state_dict)]\n",
        "          \n",
        "            new_state = pos\n",
        "            superSet.add((weight_name, row, column, -1, 1))\n",
        "\n",
        "            st[column] = new_state\n",
        "\n",
        "            [populateResults1(idx.item(), batch_id, -1, 1, w_images, row, column, weight_name) \\\n",
        "             for idx in getResult(img, label, model, state_dict)]\n",
        "            \n",
        "            st[column] = org_val\n",
        "\n",
        "          elif (org_val_real > 0.) and (org_val_real == pos):\n",
        "\n",
        "            org_val = pos\n",
        "            old_state = pos\n",
        "            new_state = 0.\n",
        "            superSet.add((weight_name, row, column, 1, 0))\n",
        "            st[column] = new_state\n",
        "\n",
        "            [populateResults1(idx.item(), batch_id, 1, 0, w_images, row, column, weight_name) \\\n",
        "             for idx in getResult(img, label, model, state_dict)]\n",
        "          \n",
        "            new_state = neg\n",
        "            superSet.add((weight_name, row, column, 1, -1))\n",
        "\n",
        "            st[column] = new_state\n",
        "            \n",
        "            [populateResults1(idx.item(), batch_id, 1, -1, w_images, row, column, weight_name) \\\n",
        "             for idx in getResult(img, label, model, state_dict)]\n",
        "            \n",
        "            st[column] = org_val\n",
        "\n",
        "\n",
        "      \n",
        "      ############# Negative ################################\n",
        "      elif (un < 0) and (org_val_real == un):\n",
        "          org_val = un\n",
        "          old_state = un\n",
        "          new_state = 0.\n",
        "          superSet.add((weight_name, row, column, -1, 0))\n",
        "          st[column] = new_state\n",
        "            \n",
        "          [populateResults1(idx.item(), batch_id, -1, 0, w_images, row, column, weight_name) \\\n",
        "           for idx in getResult(img, label, model, state_dict)]\n",
        "          \n",
        "          st[column] = org_val\n",
        "\n",
        "\n",
        "      elif (un > 0) and (org_val_real == un):  ############# Positive  ################################\n",
        "          org_val = un\n",
        "          old_state = un\n",
        "          new_state = 0.\n",
        "          superSet.add((weight_name, row, column, 1, 0))\n",
        "          st[column] = new_state\n",
        "          [populateResults1(idx.item(), batch_id, 1, 0, w_images, row, column, weight_name) \\\n",
        "           for idx in getResult(img, label, model, state_dict)]\n",
        "\n",
        "          st[column] = org_val\n",
        "\n",
        "\n",
        "      #################################################################################################################"
      ],
      "metadata": {
        "id": "Tb0jVhzUo2oX"
      },
      "execution_count": 31,
      "outputs": []
    },
    {
      "cell_type": "code",
      "source": [
        "# Saving length of shape for each layer\n",
        "layers_shape = {}\n",
        "\n",
        "for i in layer_name:\n",
        "  layers_shape[i] = len(state_dict[i].shape)"
      ],
      "metadata": {
        "id": "oaZX0ddzo2rG"
      },
      "execution_count": 32,
      "outputs": []
    },
    {
      "cell_type": "code",
      "source": [
        "print(layers_shape)"
      ],
      "metadata": {
        "colab": {
          "base_uri": "https://localhost:8080/"
        },
        "id": "PFbz-pOzo2tw",
        "outputId": "7d32113d-9c5d-4d01-eb6d-7032f4e64ca6"
      },
      "execution_count": 33,
      "outputs": [
        {
          "output_type": "stream",
          "name": "stdout",
          "text": [
            "{'cnn1.weight': 4, 'cnn1.bias': 1, 'cnn2.weight': 4, 'cnn2.bias': 1, 'fc1.weight': 2, 'fc1.bias': 1, 'fc2.weight': 2, 'fc2.bias': 1, 'fc3.weight': 2, 'fc3.bias': 1}\n"
          ]
        }
      ]
    },
    {
      "cell_type": "code",
      "source": [
        "# Injecting fault by mutating the ternary weight and check whether it is classified to other class than before by the model. \n",
        "\n",
        "fetchimg_totImg_coverage_totCov = []\n",
        "\n",
        "w_images = {}\n",
        "superSet = set()\n",
        "\n",
        "\n",
        "batch_id = 0\n",
        "for img,label  in tqdm(pseudo_dataLoader):\n",
        "\n",
        "    for weight_name in layer_name:\n",
        "\n",
        "        # Selecting hidden layer to iterate its weight elements\n",
        "        st = state_dict[weight_name]\n",
        "\n",
        "\n",
        "        if ('bias' in weight_name) or (layers_shape[weight_name] == 1):\n",
        "          bias_mutation(st, superSet, w_images, img,label, batch_id, weight_name)\n",
        "          continue\n",
        "\n",
        "        if ('conv' in weight_name) or (layers_shape[weight_name] == 4):\n",
        "\n",
        "          ic, oc, k,k1 = st.shape # ic = in_channel, oc= out_channel, k and k1 is the number of rows and columns of a kernel\n",
        "\n",
        "          for n_ic in range(ic):\n",
        "            for n_oc in range(oc):\n",
        "              kt =  st[n_ic][n_oc] # Fetching Kernel matrix or tensor\n",
        "\n",
        "              # Iterating number of neurons for the selected hidden layer\n",
        "              for row in range(k):\n",
        "\n",
        "                # Fetching indices for -w and w weight value for the selected kernel\n",
        "                \"\"\"Since each kernel has weight vector, so by fetching indices\n",
        "                we will come to know, which indices of the kernel contains weights -w or w weight\"\"\"\n",
        "\n",
        "                ###########################################################################################\n",
        "\n",
        "                if ('pos' in pos_neg_layerwise[weight_name]) and ('neg' in pos_neg_layerwise[weight_name]):\n",
        "                  un = pos_neg_layerwise[weight_name]['pos'], pos_neg_layerwise[weight_name]['neg']\n",
        "\n",
        "                  var_neg1 = torch.where(kt[row]==un[1])[0]\n",
        "                  var_1 = torch.where(kt[row]==un[0])[0]\n",
        "\n",
        "                else:\n",
        "                  try:\n",
        "                    un = pos_neg_layerwise[weight_name]['pos']\n",
        "\n",
        "                    var_neg1 = torch.where(kt[row]==un*1000)[0]\n",
        "                    var_1 = torch.where(kt[row]==un)[0]\n",
        "\n",
        "                  except KeyError:\n",
        "                    un = pos_neg_layerwise[weight_name]['neg']\n",
        "\n",
        "                    var_neg1 = torch.where(kt[row]==un)[0]\n",
        "                    var_1 = torch.where(kt[row]==un*1000)[0]\n",
        "\n",
        "                ##########################################################################################\n",
        "\n",
        "                if (var_neg1.nelement() == 0.) and (var_1.nelement() == 0.):\n",
        "                  continue\n",
        "                else:\n",
        "                  for column in torch.cat((var_neg1, var_1), 0):\n",
        "\n",
        "                    column = column.item()\n",
        "\n",
        "                    org_val_real = kt[row][column].item()\n",
        "\n",
        "                    ##################################################################################################################\n",
        "\n",
        "                    if type(un) == tuple:\n",
        "                      pos, neg = un  # Positive, Negative\n",
        "\n",
        "                      if (org_val_real < 0.) and (org_val_real == neg):\n",
        "                        org_val = neg\n",
        "                        old_state = neg\n",
        "                        new_state = 0.\n",
        "                        superSet.add((weight_name, n_ic, n_oc, row, column, -1, 0))\n",
        "\n",
        "                        st[n_ic][n_oc][row][column] = new_state\n",
        "                        \n",
        "                        \"\"\"getResult() will tell whether the passed test example is classified to other class\n",
        "                        or not after mutation, if it is classified to other class, then it returns True else False and \n",
        "                        populateResults() will maintain the record of test examples which has been misclassified\n",
        "                        like location(row(which neuron), column(indices)), old_state(old_value of weight element), \n",
        "                        new_state (mutated value of weight element), images\"\"\"\n",
        "\n",
        "                        \n",
        "                        [populateResults(idx.item(), batch_id, -1, 0, w_images, n_ic, n_oc, row, column, weight_name) \\\n",
        "                         for idx in getResult(img, label, model, state_dict)]\n",
        "                        \n",
        "                        new_state = pos\n",
        "                        superSet.add((weight_name, n_ic, n_oc, row, column, -1, 1))\n",
        "                        st[n_ic][n_oc][row][column] = new_state\n",
        "\n",
        "                            \n",
        "                        [populateResults(idx.item(), batch_id, -1, 1, w_images, n_ic, n_oc, row, column, weight_name) \\\n",
        "                         for idx in getResult(img, label, model, state_dict)]\n",
        "                        st[n_ic][n_oc][row][column] = org_val # Setting back to original value\n",
        "\n",
        "                    \n",
        "                      elif (org_val_real > 0.) and (org_val_real == pos):\n",
        "                        org_val = pos\n",
        "                        old_state = pos\n",
        "                        new_state = 0.\n",
        "                        superSet.add((weight_name, n_ic, n_oc, row, column, 1, 0))\n",
        "\n",
        "                        st[n_ic][n_oc][row][column] = new_state\n",
        "                        \n",
        "                        [populateResults(idx.item(), batch_id, 1, 0, w_images, n_ic, n_oc, row, column, weight_name) \\\n",
        "                         for idx in getResult(img, label, model, state_dict)]\n",
        "                        \n",
        "                        new_state = neg\n",
        "                        superSet.add((weight_name, n_ic, n_oc, row, column, 1, -1))\n",
        "                        st[n_ic][n_oc][row][column] = new_state\n",
        "\n",
        "                            \n",
        "                        [populateResults(idx.item(), batch_id, 1, -1, w_images, n_ic, n_oc, row, column, weight_name) \\\n",
        "                         for idx in getResult(img, label, model, state_dict)]\n",
        "                        \n",
        "                        st[n_ic][n_oc][row][column] = org_val # Setting back to original value\n",
        "\n",
        "\n",
        "\n",
        "\n",
        "                    elif (un < 0) and (org_val_real == un): ########################## Negative ###########################################\n",
        "                      org_val = un\n",
        "                      old_state = un\n",
        "                      new_state = 0.\n",
        "                      superSet.add((weight_name,  n_ic, n_oc, row, column, -1, 0))\n",
        "                      st[n_ic][n_oc][row][column] = new_state\n",
        "                        \n",
        "                      [populateResults(idx.item(), batch_id, -1, 0, w_images, n_ic, n_oc, row, column, weight_name) \\\n",
        "                       for idx in getResult(img, label, model, state_dict)]\n",
        "                      \n",
        "                      st[row][column] = org_val\n",
        "\n",
        "\n",
        "                    elif (un > 0) and (org_val_real == un): ########################## Positive ###########################################\n",
        "                      org_val = un\n",
        "                      old_state = un\n",
        "                      new_state = 0.\n",
        "                      superSet.add((weight_name, n_ic, n_oc, row, column, 1, 0))\n",
        "                      st[n_ic][n_oc][row][column] = new_state\n",
        "                        \n",
        "                      [populateResults(idx.item(), batch_id, 1, 0, w_images, n_ic, n_oc, row, column, weight_name) \\\n",
        "                       for idx in getResult(img, label, model, state_dict)]\n",
        "                      st[row][column] = org_val\n",
        "\n",
        "\n",
        "    \n",
        "            \n",
        "        \n",
        "        # For fully connected layers\n",
        "        elif layers_shape[weight_name] == 2:\n",
        "          rows = state_dict[weight_name].shape[0]\n",
        "\n",
        "          # Iterating number of neurons for the selected hidden layer\n",
        "          for row in range(rows):\n",
        "\n",
        "            # Fetching indices for -w and w weight value for the selected neuron\n",
        "            \"\"\"Since each neuron has weight vector, so by fetching indices\n",
        "            we will come to know, which indices of the neuron contains weights -w or w weight\"\"\"\n",
        "\n",
        "            #########################################################################################\n",
        "\n",
        "            if ('pos' in pos_neg_layerwise[weight_name]) and ('neg' in pos_neg_layerwise[weight_name]):\n",
        "              un = pos_neg_layerwise[weight_name]['pos'], pos_neg_layerwise[weight_name]['neg']\n",
        "\n",
        "              var_neg1 = torch.where(st[row]==un[1])[0]\n",
        "              var_1 = torch.where(st[row]==un[0])[0]\n",
        "\n",
        "            else:\n",
        "              try:\n",
        "                un = pos_neg_layerwise[weight_name]['pos']\n",
        "\n",
        "                var_neg1 = torch.where(st[row]==un*1000)[0]\n",
        "                var_1 = torch.where(st[row]==un)[0]\n",
        "\n",
        "              except KeyError:\n",
        "                un = pos_neg_layerwise[weight_name]['neg']\n",
        "\n",
        "                var_neg1 = torch.where(st[row]==un)[0]\n",
        "                var_1 = torch.where(st[row]==un*1000)[0]\n",
        "\n",
        "\n",
        "            #########################################################################################\n",
        "\n",
        "\n",
        "            if (var_neg1.nelement() == 0.) and (var_1.nelement() == 0.):\n",
        "              continue\n",
        "            else:\n",
        "              for column in torch.cat((var_neg1, var_1), 0):\n",
        "\n",
        "                column = column.item()\n",
        "\n",
        "                org_val_v1 = st[row][column].item()\n",
        "\n",
        "\n",
        "                #########################################################################################\n",
        "\n",
        "                if type(un) == tuple:\n",
        "                  pos, neg = un  # Positive, Negative\n",
        "\n",
        "                  if (org_val_v1 < 0.) and (neg == org_val_v1):\n",
        "\n",
        "                    org_val = neg\n",
        "                    old_state = neg\n",
        "                    new_state = 0.\n",
        "                    superSet.add((weight_name, row, column, -1, 0))\n",
        "\n",
        "                    st[row][column] = new_state\n",
        "                    \n",
        "                    [populateResults1(idx.item(), batch_id, -1, 0, w_images, row, column, weight_name) \\\n",
        "                     for idx in getResult(img, label, model, state_dict)]\n",
        "                    \n",
        "                    new_state = pos\n",
        "                    superSet.add((weight_name, row, column, -1, 1))\n",
        "                    st[row][column] = new_state\n",
        "                        \n",
        "                    [populateResults1(idx.item(), batch_id, -1, 1, w_images, row, column, weight_name) \\\n",
        "                     for idx in getResult(img, label, model, state_dict)]\n",
        "                    st[row][column] = org_val\n",
        "\n",
        "\n",
        "                  elif (org_val_v1 > 0.) and (pos == org_val_v1):\n",
        "\n",
        "                    org_val = pos\n",
        "                    old_state = pos\n",
        "                    new_state = 0.\n",
        "                    superSet.add((weight_name, row, column, 1, 0))\n",
        "\n",
        "                    st[row][column] = new_state\n",
        "                    \n",
        "                    [populateResults1(idx.item(), batch_id, 1, 0, w_images, row, column, weight_name) \\\n",
        "                     for idx in getResult(img, label, model, state_dict)]\n",
        "                    \n",
        "                    new_state = neg\n",
        "                    superSet.add((weight_name, row, column, 1, -1))\n",
        "                    st[row][column] = new_state\n",
        "                        \n",
        "                    [populateResults1(idx.item(), batch_id, 1, -1, w_images, row, column, weight_name) \\\n",
        "                     for idx in getResult(img, label, model, state_dict)]\n",
        "                    st[row][column] = org_val\n",
        "\n",
        "\n",
        " \n",
        "                elif (un < 0) and (un == org_val_v1):  ################# Negative ###############################################################\n",
        "                  org_val = un  \n",
        "                  old_state = un\n",
        "                  new_state = 0.\n",
        "                  superSet.add((weight_name, row, column, -1, 0))\n",
        "                  st[row][column] = new_state\n",
        "                    \n",
        "                  [populateResults1(idx.item(), batch_id, -1, 0, w_images, row, column, weight_name) \\\n",
        "                   for idx in getResult(img, label, model, state_dict)]\n",
        "\n",
        "                  st[row][column] = org_val\n",
        "\n",
        "\n",
        "                elif (un > 0) and (un == org_val_v1):  ################# Positive ###############################################################\n",
        "                  org_val = un\n",
        "                  old_state = un\n",
        "                  new_state = 0.\n",
        "                  superSet.add((weight_name, row, column, 1, 0))\n",
        "                  st[row][column] = new_state\n",
        "                    \n",
        "                  [populateResults1(idx.item(), batch_id, 1, 0, w_images, row, column, weight_name) \\\n",
        "                   for idx in getResult(img, label, model, state_dict)]\n",
        "                  \n",
        "                  st[row][column] = org_val\n",
        "\n",
        "\n",
        "    batch_id += 1\n",
        "\n",
        "\n",
        "    # Fetching locations and total number of images\n",
        "    ################################################\n",
        "\n",
        "    print(f\"Total number of elements in superSet is : {len(superSet)}.\",'\\n')\n",
        "\n",
        "    # joblib.dump(w_images, open('w_images_'+str(batch_id)+'.pkl','wb')) \n",
        "\n",
        "    image_locCounts = [] # (image_id,locationCounts)\n",
        "\n",
        "    for img in w_images.keys():\n",
        "        locCounts = len(w_images[img]['location'])\n",
        "        image_locCounts.append((locCounts,img))\n",
        "            \n",
        "    image_locCounts.sort(reverse=True)\n",
        "\n",
        "\n",
        "    netSetOfImages = []\n",
        "    progressingSet = []\n",
        "    max_locCounts_img = image_locCounts[0][1] # An image that has encompassed maximum locations.\n",
        "\n",
        "    netSetOfImages.append(max_locCounts_img)\n",
        "    progressingSet += set(w_images[max_locCounts_img]['location'])\n",
        "\n",
        "\n",
        "    for i in range(1,len(image_locCounts)):\n",
        "        img = image_locCounts[i][1]\n",
        "        locs = w_images[img]['location']\n",
        "\n",
        "        if set(locs).issubset(progressingSet):\n",
        "            pass\n",
        "        else:\n",
        "            progressingSet += list(set(locs) - set(progressingSet))\n",
        "            netSetOfImages.append(img)\n",
        "\n",
        "\n",
        "    if set(superSet).issubset(progressingSet):\n",
        "        print(\"All match done!\")\n",
        "    else:\n",
        "        print(\"There are {} locations that did not match.\".format(len(set(superSet) - set(progressingSet))))\n",
        "\n",
        "    print()\n",
        "    print(\"Total number of locations {} are encompassed out of {}.\".format(len(set(progressingSet)), len(superSet)))\n",
        "\n",
        "\n",
        "    print(\"Total number of elements in a weight matrix is \", len(superSet))\n",
        "\n",
        "    print(\"Total number of images fetched \",len(netSetOfImages),'\\n')\n",
        "\n",
        "    fetchimg_totImg_coverage_totCov.append(( len(netSetOfImages), len(set(progressingSet)), len(superSet) ))\n",
        "\n",
        "    # joblib.dump(fetchimg_totImg_coverage_totCov, open('res'+str(numImgs)+'.pkl','wb')) \n",
        "\n",
        "    # Superset \n",
        "    # joblib.dump(superSet, open('superSet.pkl','wb'))    \n",
        "\n",
        "                \n",
        "      \n",
        "    print(\"Output \\n\")\n",
        "    print(fetchimg_totImg_coverage_totCov)\n",
        "\n",
        "    #joblib.dump(fetchimg_totImg_coverage_totCov, open('op_128.pkl', 'wb'))\n"
      ],
      "metadata": {
        "colab": {
          "base_uri": "https://localhost:8080/"
        },
        "id": "NuNNlCH0o2wG",
        "outputId": "d49522ed-97f3-43a3-f537-2165fd302605"
      },
      "execution_count": 34,
      "outputs": [
        {
          "output_type": "stream",
          "name": "stderr",
          "text": [
            "\r  0%|          | 0/10 [00:00<?, ?it/s]"
          ]
        },
        {
          "output_type": "stream",
          "name": "stdout",
          "text": [
            "Total number of elements in superSet is : 5048. \n",
            "\n"
          ]
        },
        {
          "output_type": "stream",
          "name": "stderr",
          "text": [
            "\r 10%|█         | 1/10 [00:09<01:26,  9.57s/it]"
          ]
        },
        {
          "output_type": "stream",
          "name": "stdout",
          "text": [
            "There are 1575 locations that did not match.\n",
            "\n",
            "Total number of locations 3473 are encompassed out of 5048.\n",
            "Total number of elements in a weight matrix is  5048\n",
            "Total number of images fetched  96 \n",
            "\n",
            "Output \n",
            "\n",
            "[(96, 3473, 5048)]\n",
            "Total number of elements in superSet is : 5048. \n",
            "\n"
          ]
        },
        {
          "output_type": "stream",
          "name": "stderr",
          "text": [
            "\r 20%|██        | 2/10 [00:19<01:18,  9.82s/it]"
          ]
        },
        {
          "output_type": "stream",
          "name": "stdout",
          "text": [
            "There are 1393 locations that did not match.\n",
            "\n",
            "Total number of locations 3655 are encompassed out of 5048.\n",
            "Total number of elements in a weight matrix is  5048\n",
            "Total number of images fetched  114 \n",
            "\n",
            "Output \n",
            "\n",
            "[(96, 3473, 5048), (114, 3655, 5048)]\n",
            "Total number of elements in superSet is : 5048. \n",
            "\n"
          ]
        },
        {
          "output_type": "stream",
          "name": "stderr",
          "text": [
            "\r 30%|███       | 3/10 [00:29<01:09, 10.00s/it]"
          ]
        },
        {
          "output_type": "stream",
          "name": "stdout",
          "text": [
            "There are 1313 locations that did not match.\n",
            "\n",
            "Total number of locations 3735 are encompassed out of 5048.\n",
            "Total number of elements in a weight matrix is  5048\n",
            "Total number of images fetched  130 \n",
            "\n",
            "Output \n",
            "\n",
            "[(96, 3473, 5048), (114, 3655, 5048), (130, 3735, 5048)]\n",
            "Total number of elements in superSet is : 5048. \n",
            "\n"
          ]
        },
        {
          "output_type": "stream",
          "name": "stderr",
          "text": [
            "\r 40%|████      | 4/10 [00:40<01:01, 10.24s/it]"
          ]
        },
        {
          "output_type": "stream",
          "name": "stdout",
          "text": [
            "There are 1257 locations that did not match.\n",
            "\n",
            "Total number of locations 3791 are encompassed out of 5048.\n",
            "Total number of elements in a weight matrix is  5048\n",
            "Total number of images fetched  155 \n",
            "\n",
            "Output \n",
            "\n",
            "[(96, 3473, 5048), (114, 3655, 5048), (130, 3735, 5048), (155, 3791, 5048)]\n",
            "Total number of elements in superSet is : 5048. \n",
            "\n"
          ]
        },
        {
          "output_type": "stream",
          "name": "stderr",
          "text": [
            "\r 50%|█████     | 5/10 [00:50<00:50, 10.10s/it]"
          ]
        },
        {
          "output_type": "stream",
          "name": "stdout",
          "text": [
            "There are 1002 locations that did not match.\n",
            "\n",
            "Total number of locations 4046 are encompassed out of 5048.\n",
            "Total number of elements in a weight matrix is  5048\n",
            "Total number of images fetched  164 \n",
            "\n",
            "Output \n",
            "\n",
            "[(96, 3473, 5048), (114, 3655, 5048), (130, 3735, 5048), (155, 3791, 5048), (164, 4046, 5048)]\n",
            "Total number of elements in superSet is : 5048. \n",
            "\n"
          ]
        },
        {
          "output_type": "stream",
          "name": "stderr",
          "text": [
            "\r 60%|██████    | 6/10 [01:01<00:42, 10.51s/it]"
          ]
        },
        {
          "output_type": "stream",
          "name": "stdout",
          "text": [
            "There are 848 locations that did not match.\n",
            "\n",
            "Total number of locations 4200 are encompassed out of 5048.\n",
            "Total number of elements in a weight matrix is  5048\n",
            "Total number of images fetched  163 \n",
            "\n",
            "Output \n",
            "\n",
            "[(96, 3473, 5048), (114, 3655, 5048), (130, 3735, 5048), (155, 3791, 5048), (164, 4046, 5048), (163, 4200, 5048)]\n",
            "Total number of elements in superSet is : 5048. \n",
            "\n"
          ]
        },
        {
          "output_type": "stream",
          "name": "stderr",
          "text": [
            "\r 70%|███████   | 7/10 [01:14<00:33, 11.32s/it]"
          ]
        },
        {
          "output_type": "stream",
          "name": "stdout",
          "text": [
            "There are 781 locations that did not match.\n",
            "\n",
            "Total number of locations 4267 are encompassed out of 5048.\n",
            "Total number of elements in a weight matrix is  5048\n",
            "Total number of images fetched  172 \n",
            "\n",
            "Output \n",
            "\n",
            "[(96, 3473, 5048), (114, 3655, 5048), (130, 3735, 5048), (155, 3791, 5048), (164, 4046, 5048), (163, 4200, 5048), (172, 4267, 5048)]\n",
            "Total number of elements in superSet is : 5048. \n",
            "\n"
          ]
        },
        {
          "output_type": "stream",
          "name": "stderr",
          "text": [
            "\r 80%|████████  | 8/10 [01:26<00:23, 11.59s/it]"
          ]
        },
        {
          "output_type": "stream",
          "name": "stdout",
          "text": [
            "There are 766 locations that did not match.\n",
            "\n",
            "Total number of locations 4282 are encompassed out of 5048.\n",
            "Total number of elements in a weight matrix is  5048\n",
            "Total number of images fetched  178 \n",
            "\n",
            "Output \n",
            "\n",
            "[(96, 3473, 5048), (114, 3655, 5048), (130, 3735, 5048), (155, 3791, 5048), (164, 4046, 5048), (163, 4200, 5048), (172, 4267, 5048), (178, 4282, 5048)]\n",
            "Total number of elements in superSet is : 5048. \n",
            "\n"
          ]
        },
        {
          "output_type": "stream",
          "name": "stderr",
          "text": [
            "\r 90%|█████████ | 9/10 [01:39<00:12, 12.04s/it]"
          ]
        },
        {
          "output_type": "stream",
          "name": "stdout",
          "text": [
            "There are 751 locations that did not match.\n",
            "\n",
            "Total number of locations 4297 are encompassed out of 5048.\n",
            "Total number of elements in a weight matrix is  5048\n",
            "Total number of images fetched  180 \n",
            "\n",
            "Output \n",
            "\n",
            "[(96, 3473, 5048), (114, 3655, 5048), (130, 3735, 5048), (155, 3791, 5048), (164, 4046, 5048), (163, 4200, 5048), (172, 4267, 5048), (178, 4282, 5048), (180, 4297, 5048)]\n",
            "Total number of elements in superSet is : 5048. \n",
            "\n"
          ]
        },
        {
          "output_type": "stream",
          "name": "stderr",
          "text": [
            "100%|██████████| 10/10 [01:52<00:00, 11.29s/it]"
          ]
        },
        {
          "output_type": "stream",
          "name": "stdout",
          "text": [
            "There are 734 locations that did not match.\n",
            "\n",
            "Total number of locations 4314 are encompassed out of 5048.\n",
            "Total number of elements in a weight matrix is  5048\n",
            "Total number of images fetched  185 \n",
            "\n",
            "Output \n",
            "\n",
            "[(96, 3473, 5048), (114, 3655, 5048), (130, 3735, 5048), (155, 3791, 5048), (164, 4046, 5048), (163, 4200, 5048), (172, 4267, 5048), (178, 4282, 5048), (180, 4297, 5048), (185, 4314, 5048)]\n"
          ]
        },
        {
          "output_type": "stream",
          "name": "stderr",
          "text": [
            "\n"
          ]
        }
      ]
    },
    {
      "cell_type": "code",
      "source": [
        "# Fault coverage\n",
        "fetchimg_totImg_coverage_totCov[-1][1]/fetchimg_totImg_coverage_totCov[-1][2]"
      ],
      "metadata": {
        "colab": {
          "base_uri": "https://localhost:8080/"
        },
        "id": "8gVS777-o2yv",
        "outputId": "538909af-62c5-4c6e-e244-7bcda689bb96"
      },
      "execution_count": 35,
      "outputs": [
        {
          "output_type": "execute_result",
          "data": {
            "text/plain": [
              "0.8545958795562599"
            ]
          },
          "metadata": {},
          "execution_count": 35
        }
      ]
    },
    {
      "cell_type": "code",
      "source": [
        "# We also have to consider dead neurons in the model that we will get from another notebook. Then we will have total fault coverage. "
      ],
      "metadata": {
        "id": "oZcIdBX9ttol"
      },
      "execution_count": null,
      "outputs": []
    },
    {
      "cell_type": "code",
      "source": [
        ""
      ],
      "metadata": {
        "id": "jh7vB-6dtttm"
      },
      "execution_count": null,
      "outputs": []
    }
  ]
}