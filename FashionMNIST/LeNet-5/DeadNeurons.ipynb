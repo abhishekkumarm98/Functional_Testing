{
  "cells": [
    {
      "cell_type": "code",
      "execution_count": null,
      "metadata": {
        "id": "Mj8Vf9hIs9I6"
      },
      "outputs": [],
      "source": [
        "from google.colab import drive\n",
        "drive.mount('/content/drive')"
      ]
    },
    {
      "cell_type": "code",
      "execution_count": null,
      "metadata": {
        "id": "znaoCWQ6s-C5"
      },
      "outputs": [],
      "source": [
        "cd drive/MyDrive/Research1_code/"
      ]
    },
    {
      "cell_type": "code",
      "source": [
        "cd FashionMNIST/LeNet-5"
      ],
      "metadata": {
        "id": "syuHgaJJFuBA"
      },
      "execution_count": null,
      "outputs": []
    },
    {
      "cell_type": "code",
      "execution_count": 4,
      "metadata": {
        "id": "7GjZ6db0s6sS"
      },
      "outputs": [],
      "source": [
        "import numpy as np\n",
        "import sys, os, random\n",
        "import matplotlib.pyplot as plt\n",
        "import pickle, gzip\n",
        "from tqdm import tqdm,tqdm_notebook\n",
        "import torch\n",
        "import torchvision\n",
        "from torch import nn\n",
        "from torch.autograd import Variable\n",
        "import torch.optim as optim\n",
        "import torch.nn.functional as F\n",
        "from torchvision import datasets, transforms\n",
        "from torch.utils.data import Dataset, DataLoader\n",
        "from torch.utils.data.sampler import SubsetRandomSampler"
      ]
    },
    {
      "cell_type": "code",
      "execution_count": 5,
      "metadata": {
        "id": "nsdPOAoGs516"
      },
      "outputs": [],
      "source": [
        "batch_size = 128\n",
        "seed_num = 81\n",
        "\n",
        "# For reproducibility when you run the file with .py\n",
        "torch.cuda.is_available()\n",
        "torch.manual_seed(seed_num)\n",
        "torch.cuda.manual_seed(seed_num)\n",
        "np.random.seed(seed_num)\n",
        "random.seed(seed_num)\n",
        "torch.backends.cudnn.benchmark = True\n",
        "\n",
        "torch.backends.cudnn.deterministic =True"
      ]
    },
    {
      "cell_type": "code",
      "execution_count": 6,
      "metadata": {
        "id": "KRVeJN-Ys517"
      },
      "outputs": [],
      "source": [
        "# Data Augmentation \n",
        "train_transform = transforms.Compose([transforms.RandomRotation(30), transforms.RandomHorizontalFlip(),transforms.ToTensor(),transforms.Normalize([0.2860,],[0.3205,])])\n",
        "test_transform = transforms.Compose([transforms.ToTensor(),transforms.Normalize([0.2860,],[0.3205,])])\n",
        "\n",
        "# Splitting the training and test datasets\n",
        "train_data = datasets.FashionMNIST(os.getcwd(), train=True,\n",
        "                              download=True, transform=train_transform)\n",
        "test_data = datasets.FashionMNIST(os.getcwd(), train=False,\n",
        "                             download=True, transform=test_transform)"
      ]
    },
    {
      "cell_type": "code",
      "execution_count": 7,
      "metadata": {
        "id": "OU064Mmps517"
      },
      "outputs": [],
      "source": [
        "# Split the training set indices into training and validation set indices using 80:20 ratio\n",
        "np.random.seed(seed_num)\n",
        "len_trainset = len(train_data)\n",
        "index_list = list(range(len_trainset))\n",
        "np.random.shuffle(index_list)\n",
        "split_index = 50000\n",
        "train_indices, valid_indices =  index_list[:split_index], index_list[split_index:]\n",
        "\n",
        "# Creating Samplers for training and validation set using the indices\n",
        "np.random.seed(seed_num)\n",
        "train_sampler = SubsetRandomSampler(train_indices)\n",
        "valid_sampler = SubsetRandomSampler(valid_indices)\n",
        "\n",
        "torch.manual_seed(seed_num)\n",
        "\n",
        "train_iterator = DataLoader(train_data, batch_size=batch_size, sampler=train_sampler)\n",
        "val_iterator = DataLoader(train_data, batch_size=batch_size, sampler=valid_sampler)\n",
        "test_iterator = DataLoader(test_data, batch_size=batch_size, shuffle=True)"
      ]
    },
    {
      "cell_type": "code",
      "execution_count": 8,
      "metadata": {
        "id": "xIEh83xn8XKP"
      },
      "outputs": [],
      "source": [
        "# LeNet-5 Model\n",
        "\n",
        "class LeNet(nn.Module):\n",
        "    def __init__(self):\n",
        "        super(LeNet, self).__init__()\n",
        "        \n",
        "        # Convolution 1\n",
        "        self.cnn1 = nn.Conv2d(in_channels=1, out_channels=6, kernel_size=(5,5), stride=1, padding=2, bias= True)\n",
        "     \n",
        "        # Convolution 2\n",
        "        self.cnn2 = nn.Conv2d(in_channels=6, out_channels=16, kernel_size=(5,5), stride=1, padding=0, bias= True)\n",
        "\n",
        "\n",
        "        # Fully connected 1\n",
        "        self.fc1 = nn.Linear(16*5*5, 120,bias= True) \n",
        "\n",
        "        # Fully connected 2\n",
        "        self.fc2 = nn.Linear(120, 84,bias= True) \n",
        "\n",
        "        # Fully connected 3\n",
        "        self.fc3 = nn.Linear(84,10, bias= True) \n",
        "    \n",
        "    def forward(self, x):\n",
        "        # Set 1\n",
        "        out = F.max_pool2d(F.relu(self.cnn1(x)), kernel_size=(2, 2), stride=2)\n",
        "        \n",
        "        # Set 2\n",
        "        out = F.max_pool2d(F.relu(self.cnn2(out)), kernel_size=(2, 2), stride=2) \n",
        "\n",
        "        \n",
        "        # Flatten\n",
        "        out = out.view(out.size(0), -1)\n",
        "\n",
        "        # FC1\n",
        "        out = F.relu(self.fc1(out))\n",
        "\n",
        "        # FC2\n",
        "        out = F.relu(self.fc2(out))\n",
        "\n",
        "        # FC3\n",
        "        out = self.fc3(out)\n",
        "        \n",
        "        return out\n"
      ]
    },
    {
      "cell_type": "code",
      "execution_count": 9,
      "metadata": {
        "id": "N6KFhL7U8XKS",
        "colab": {
          "base_uri": "https://localhost:8080/"
        },
        "outputId": "6329af90-c957-4636-bc20-96cdcbddfc05"
      },
      "outputs": [
        {
          "output_type": "stream",
          "name": "stdout",
          "text": [
            "Model:\n",
            " LeNet(\n",
            "  (cnn1): Conv2d(1, 6, kernel_size=(5, 5), stride=(1, 1), padding=(2, 2))\n",
            "  (cnn2): Conv2d(6, 16, kernel_size=(5, 5), stride=(1, 1))\n",
            "  (fc1): Linear(in_features=400, out_features=120, bias=True)\n",
            "  (fc2): Linear(in_features=120, out_features=84, bias=True)\n",
            "  (fc3): Linear(in_features=84, out_features=10, bias=True)\n",
            ")\n"
          ]
        }
      ],
      "source": [
        "torch.manual_seed(seed_num)\n",
        "unit=128\n",
        "\n",
        "# Summary\n",
        "model = LeNet()\n",
        "print(\"Model:\\n\",model)"
      ]
    },
    {
      "cell_type": "code",
      "source": [
        "# Layer names\n",
        "layer_name = [n for n, p in model.named_parameters()]\n",
        "layer_name"
      ],
      "metadata": {
        "colab": {
          "base_uri": "https://localhost:8080/"
        },
        "id": "W_SXinXBgxYY",
        "outputId": "b477561b-23fc-42b9-a4ab-feab12d21210"
      },
      "execution_count": 10,
      "outputs": [
        {
          "output_type": "execute_result",
          "data": {
            "text/plain": [
              "['cnn1.weight',\n",
              " 'cnn1.bias',\n",
              " 'cnn2.weight',\n",
              " 'cnn2.bias',\n",
              " 'fc1.weight',\n",
              " 'fc1.bias',\n",
              " 'fc2.weight',\n",
              " 'fc2.bias',\n",
              " 'fc3.weight',\n",
              " 'fc3.bias']"
            ]
          },
          "metadata": {},
          "execution_count": 10
        }
      ]
    },
    {
      "cell_type": "code",
      "execution_count": 11,
      "metadata": {
        "id": "nyCQD4zl8XKT",
        "outputId": "7454ac49-6711-4588-9419-88e8fefd05e9",
        "colab": {
          "base_uri": "https://localhost:8080/"
        }
      },
      "outputs": [
        {
          "output_type": "stream",
          "name": "stdout",
          "text": [
            "Loading weights done !\n",
            "cnn1.weight tensor(96, device='cuda:0')\n",
            "cnn1.bias tensor(3, device='cuda:0')\n",
            "cnn2.weight tensor(414, device='cuda:0')\n",
            "cnn2.bias tensor(15, device='cuda:0')\n",
            "fc1.weight tensor(616, device='cuda:0')\n",
            "fc1.bias tensor(50, device='cuda:0')\n",
            "fc2.weight tensor(784, device='cuda:0')\n",
            "fc2.bias tensor(61, device='cuda:0')\n",
            "fc3.weight tensor(475, device='cuda:0')\n",
            "fc3.bias tensor(10, device='cuda:0')\n",
            "Total Parameters: tensor(2524, device='cuda:0') \n",
            "\n"
          ]
        }
      ],
      "source": [
        "# Loading the weights of ternary model \n",
        "model = torch.load('LeNet_5_Quant.pt')\n",
        "model = model.cuda()\n",
        "print(\"Loading weights done !\")\n",
        "\n",
        "# Total number of ternary weights (+w, -w)\n",
        "totalParams = 0\n",
        "for i in layer_name:\n",
        "  print(i,(model.state_dict()[i] !=0).sum())\n",
        "  totalParams +=  (model.state_dict()[i] !=0).sum()\n",
        "    \n",
        "print(\"Total Parameters:\",totalParams, '\\n')"
      ]
    },
    {
      "cell_type": "code",
      "execution_count": 12,
      "metadata": {
        "id": "pdjq7VQj8XKV",
        "outputId": "1dde6cd7-9ab4-4a9e-d063-196d30b5a593",
        "colab": {
          "base_uri": "https://localhost:8080/"
        }
      },
      "outputs": [
        {
          "output_type": "stream",
          "name": "stdout",
          "text": [
            "Number Of Images Tested = 10000\n",
            "\n",
            "Model Test Accuracy = 0.7421\n"
          ]
        }
      ],
      "source": [
        "# Model's performance on test set\n",
        "\n",
        "correct_count, all_count = 0, 0\n",
        "model.eval()\n",
        "for images,labels in test_iterator:\n",
        "      for image,label in zip(images,labels):\n",
        "\n",
        "        if torch.cuda.is_available():\n",
        "            img = image.cuda()\n",
        "            lab = label.cuda()\n",
        "            img = img[None,].type('torch.cuda.FloatTensor')\n",
        "\n",
        "        with torch.no_grad():\n",
        "            output_ = model(img) \n",
        "\n",
        "        pred_label = output_.argmax()\n",
        "\n",
        "        if(pred_label.item()==lab.item()):\n",
        "          correct_count += 1\n",
        "        all_count += 1\n",
        "\n",
        "print(\"Number Of Images Tested =\", all_count)\n",
        "print(\"\\nModel Test Accuracy =\", (correct_count/(all_count)))\n"
      ]
    },
    {
      "cell_type": "code",
      "execution_count": 13,
      "metadata": {
        "id": "MLz8C9_j8XKW",
        "outputId": "e7ef4a61-2a16-4ba1-8209-1eb455e3b273",
        "colab": {
          "base_uri": "https://localhost:8080/"
        }
      },
      "outputs": [
        {
          "output_type": "stream",
          "name": "stdout",
          "text": [
            "cnn1.weight hidden layer dimension torch.Size([6, 1, 5, 5])\n",
            "Unique values of weight in cnn1.weight th hidden layer :  tensor([-1.,  0.,  1.], device='cuda:0')\n",
            "\n",
            "cnn1.bias hidden layer dimension torch.Size([6])\n",
            "Unique values of weight in cnn1.bias th hidden layer :  tensor([-1.,  0.,  1.], device='cuda:0')\n",
            "\n",
            "cnn2.weight hidden layer dimension torch.Size([16, 6, 5, 5])\n",
            "Unique values of weight in cnn2.weight th hidden layer :  tensor([-1.,  0.,  1.], device='cuda:0')\n",
            "\n",
            "cnn2.bias hidden layer dimension torch.Size([16])\n",
            "Unique values of weight in cnn2.bias th hidden layer :  tensor([-1.,  0.,  1.], device='cuda:0')\n",
            "\n",
            "fc1.weight hidden layer dimension torch.Size([120, 400])\n",
            "Unique values of weight in fc1.weight th hidden layer :  tensor([-1.,  0.,  1.], device='cuda:0')\n",
            "\n",
            "fc1.bias hidden layer dimension torch.Size([120])\n",
            "Unique values of weight in fc1.bias th hidden layer :  tensor([-1.,  0.,  1.], device='cuda:0')\n",
            "\n",
            "fc2.weight hidden layer dimension torch.Size([84, 120])\n",
            "Unique values of weight in fc2.weight th hidden layer :  tensor([-1.,  0.,  1.], device='cuda:0')\n",
            "\n",
            "fc2.bias hidden layer dimension torch.Size([84])\n",
            "Unique values of weight in fc2.bias th hidden layer :  tensor([-1.,  0.,  1.], device='cuda:0')\n",
            "\n",
            "fc3.weight hidden layer dimension torch.Size([10, 84])\n",
            "Unique values of weight in fc3.weight th hidden layer :  tensor([-1.,  0.,  1.], device='cuda:0')\n",
            "\n",
            "fc3.bias hidden layer dimension torch.Size([10])\n",
            "Unique values of weight in fc3.bias th hidden layer :  tensor([-1.,  1.], device='cuda:0')\n",
            "\n"
          ]
        }
      ],
      "source": [
        "# For each layer, model's ternary weights\n",
        "state_dict = model.state_dict()\n",
        "\n",
        "layer_distinct_weights = {}\n",
        "\n",
        "for i in layer_name:\n",
        "  imd = torch.unique(model.state_dict()[i])\n",
        "  print(i+ ' hidden layer dimension', model.state_dict()[i].shape)\n",
        "  print(\"Unique values of weight in \"+ i+ \" th hidden layer : \", imd)\n",
        "  layer_distinct_weights[i] = imd.cpu().numpy().tolist()\n",
        "  print()"
      ]
    },
    {
      "cell_type": "code",
      "execution_count": 14,
      "metadata": {
        "id": "2b2AUdPD8XKX",
        "outputId": "bb61b884-743f-4366-c651-cfd726da8951",
        "colab": {
          "base_uri": "https://localhost:8080/"
        }
      },
      "outputs": [
        {
          "output_type": "stream",
          "name": "stdout",
          "text": [
            "['cnn1.bias', 'cnn1.weight', 'cnn2.bias', 'cnn2.weight', 'fc1.bias', 'fc1.weight', 'fc2.bias', 'fc2.weight', 'fc3.bias', 'fc3.weight']\n"
          ]
        }
      ],
      "source": [
        "keys = list(state_dict.keys())\n",
        "print(keys)"
      ]
    },
    {
      "cell_type": "code",
      "source": [
        "for i in keys:\n",
        "  print(i, state_dict[i].shape)"
      ],
      "metadata": {
        "colab": {
          "base_uri": "https://localhost:8080/"
        },
        "id": "-EA0erA-zpVz",
        "outputId": "f188314e-c95c-44b3-cd89-c65735375a55"
      },
      "execution_count": 15,
      "outputs": [
        {
          "output_type": "stream",
          "name": "stdout",
          "text": [
            "cnn1.bias torch.Size([6])\n",
            "cnn1.weight torch.Size([6, 1, 5, 5])\n",
            "cnn2.bias torch.Size([16])\n",
            "cnn2.weight torch.Size([16, 6, 5, 5])\n",
            "fc1.bias torch.Size([120])\n",
            "fc1.weight torch.Size([120, 400])\n",
            "fc2.bias torch.Size([84])\n",
            "fc2.weight torch.Size([84, 120])\n",
            "fc3.bias torch.Size([10])\n",
            "fc3.weight torch.Size([10, 84])\n"
          ]
        }
      ]
    },
    {
      "cell_type": "code",
      "source": [
        "# Duplicate architecture of the LeNet-5 Model\n",
        "\n",
        "class LeNet1(nn.Module):\n",
        "    def __init__(self, dn_info, dn_info1, dn_info2):\n",
        "        super(LeNet1, self).__init__()\n",
        "\n",
        "        self.dn_info = dn_info\n",
        "        self.dn_info1 = dn_info1\n",
        "        self.dn_info2 = dn_info2\n",
        "        \n",
        "        # Convolution 1\n",
        "        self.cnn1 = nn.Conv2d(in_channels=1, out_channels=6, kernel_size=(5,5), stride=1, padding=2, bias= True)\n",
        "     \n",
        "        # Convolution 2\n",
        "        self.cnn2 = nn.Conv2d(in_channels=6, out_channels=16, kernel_size=(5,5), stride=1, padding=0, bias= True)\n",
        "\n",
        "\n",
        "        # Fully connected 1\n",
        "        self.fc1 = nn.Linear(16*5*5, 120,bias= True) \n",
        "\n",
        "        # Fully connected 2\n",
        "        self.fc2 = nn.Linear(120, 84,bias= True) \n",
        "\n",
        "        # Fully connected 3\n",
        "        self.fc3 = nn.Linear(84,10, bias= True) \n",
        "    \n",
        "    def forward(self, x):\n",
        "        # Set 1\n",
        "        out = F.max_pool2d(F.relu(self.cnn1(x)), kernel_size=(2, 2), stride=2)\n",
        "        \n",
        "        # Set 2\n",
        "        out = F.max_pool2d(F.relu(self.cnn2(out)), kernel_size=(2, 2), stride=2) \n",
        "\n",
        "        \n",
        "        # Flatten\n",
        "        out = out.view(out.size(0), -1)\n",
        "\n",
        "        ####################################\n",
        "        # Storing dead neurons indices\n",
        "        idx = torch.where(out.cpu() == 0.)[1]\n",
        "        \n",
        "        for j in idx:\n",
        "            self.dn_info[str(j.item())] += 1\n",
        "            \n",
        "        #####################################\n",
        "\n",
        "        # FC1\n",
        "        out = F.relu(self.fc1(out))\n",
        "\n",
        "        ####################################\n",
        "        # Storing dead neurons indices\n",
        "        idx1 = torch.where(out.cpu() == 0.)[1]\n",
        "        \n",
        "        for j in idx1:\n",
        "            self.dn_info1[str(j.item())] += 1\n",
        "            \n",
        "        #####################################\n",
        "\n",
        "        # FC2\n",
        "        out = F.relu(self.fc2(out))\n",
        "\n",
        "        ####################################\n",
        "        # Storing dead neurons indices\n",
        "        idx2 = torch.where(out.cpu() == 0.)[1]\n",
        "        \n",
        "        for j in idx2:\n",
        "            self.dn_info2[str(j.item())] += 1\n",
        "            \n",
        "        #####################################\n",
        "\n",
        "        # FC3\n",
        "        out = self.fc3(out)\n",
        "        \n",
        "        return out\n"
      ],
      "metadata": {
        "id": "jzsTibg12rJc"
      },
      "execution_count": 16,
      "outputs": []
    },
    {
      "cell_type": "code",
      "source": [
        "def getDeadN_info(dn_info, dn_info1, dn_info2, unit, unit1, unit2, state_dict, ds, nameOftheSet):\n",
        "\n",
        "  for i in range(unit):\n",
        "      dn_info[str(i)] = 0\n",
        "\n",
        "  for i in range(unit1):\n",
        "    dn_info1[str(i)] = 0\n",
        "\n",
        "  for i in range(unit2):\n",
        "    dn_info2[str(i)] = 0\n",
        "      \n",
        "  model1 = LeNet1(dn_info, dn_info1, dn_info2)\n",
        "  model1 = model1.cuda()\n",
        "\n",
        "  model1.load_state_dict(state_dict)\n",
        "\n",
        "  correct_count, all_count = 0, 0\n",
        "  model1.eval()\n",
        "\n",
        "  for images,labels in ds:\n",
        "        for image,label in zip(images,labels):\n",
        "\n",
        "          if torch.cuda.is_available():\n",
        "              img = image.cuda()\n",
        "              lab = label.cuda()\n",
        "              img = img[None,].type('torch.cuda.FloatTensor')\n",
        "\n",
        "          with torch.no_grad():\n",
        "              output_ = model1(img) \n",
        "\n",
        "          pred_label = output_.argmax()\n",
        "\n",
        "          if(pred_label.item()==lab.item()):\n",
        "            correct_count += 1\n",
        "          all_count += 1\n",
        "\n",
        "  print(\"Number Of Images =\", all_count)\n",
        "  print(f\"Model {nameOftheSet} Accuracy =\", (correct_count/(all_count)))"
      ],
      "metadata": {
        "id": "LZaOzYb3nnFj"
      },
      "execution_count": 17,
      "outputs": []
    },
    {
      "cell_type": "code",
      "execution_count": 18,
      "metadata": {
        "id": "RwBSskNQ8XKh",
        "outputId": "9f205965-dc4d-481b-a56c-b37a88876db5",
        "colab": {
          "base_uri": "https://localhost:8080/"
        }
      },
      "outputs": [
        {
          "output_type": "stream",
          "name": "stdout",
          "text": [
            "Number Of Images = 50000\n",
            "Model Training Accuracy = 0.72974\n",
            "Number Of Images = 10000\n",
            "Model Validation Accuracy = 0.7268\n",
            "Number Of Images = 10000\n",
            "Model Test Accuracy = 0.7421\n"
          ]
        }
      ],
      "source": [
        "dn_info_train = {}\n",
        "dn_info_val = {}\n",
        "dn_info_test = {}\n",
        "\n",
        "dn_info_train1 = {}\n",
        "dn_info_val1 = {}\n",
        "dn_info_test1 = {}\n",
        "\n",
        "dn_info_train2 = {}\n",
        "dn_info_val2 = {}\n",
        "dn_info_test2 = {}\n",
        "\n",
        "getDeadN_info(dn_info= dn_info_train, dn_info1= dn_info_train1, dn_info2= dn_info_train2, unit = 800, unit1 = 120, unit2 = 84, state_dict = state_dict, ds= train_iterator, nameOftheSet = \"Training\")\n",
        "getDeadN_info(dn_info= dn_info_val, dn_info1= dn_info_val1, dn_info2= dn_info_val2, unit = 800, unit1 = 120, unit2 = 84, state_dict = state_dict, ds= val_iterator, nameOftheSet = \"Validation\")\n",
        "getDeadN_info(dn_info= dn_info_test, dn_info1= dn_info_test1, dn_info2= dn_info_test2, unit = 800, unit1 = 120, unit2 = 84, state_dict = state_dict, ds= test_iterator, nameOftheSet = \"Test\")"
      ]
    },
    {
      "cell_type": "code",
      "execution_count": 19,
      "metadata": {
        "id": "bfjmgUpk8XKi",
        "outputId": "0bdae816-f681-4780-bb5d-2f2a6e1e8546",
        "colab": {
          "base_uri": "https://localhost:8080/"
        }
      },
      "outputs": [
        {
          "output_type": "execute_result",
          "data": {
            "text/plain": [
              "(48297, 9679, 9465, 50000, 10000, 10000, 50000, 10000, 10000)"
            ]
          },
          "metadata": {},
          "execution_count": 19
        }
      ],
      "source": [
        "max_dn_val = max(dn_info_val.values())\n",
        "max_dn_test = max(dn_info_test.values())\n",
        "max_dn_train = max(dn_info_train.values())\n",
        "\n",
        "max_dn_val1 = max(dn_info_val1.values())\n",
        "max_dn_test1 = max(dn_info_test1.values())\n",
        "max_dn_train1 = max(dn_info_train1.values())\n",
        "\n",
        "max_dn_val2 = max(dn_info_val2.values())\n",
        "max_dn_test2 = max(dn_info_test2.values())\n",
        "max_dn_train2 = max(dn_info_train2.values())\n",
        "\n",
        "max_dn_train, max_dn_val, max_dn_test, max_dn_train1, max_dn_val1, max_dn_test1, max_dn_train2, max_dn_val2, max_dn_test2"
      ]
    },
    {
      "cell_type": "code",
      "execution_count": 20,
      "metadata": {
        "id": "JPwL725Y8XKj"
      },
      "outputs": [],
      "source": [
        "dead_n_idx = [] \n",
        "\n",
        "for i, j in dn_info_train.items():\n",
        "  if j == max_dn_train:\n",
        "    dead_n_idx.append(i)\n",
        "\n",
        "dead_n_idx1 = [] \n",
        "\n",
        "for i, j in dn_info_train1.items():\n",
        "  if j == max_dn_train1:\n",
        "    dead_n_idx1.append(i)\n",
        "\n",
        "dead_n_idx2 = [] \n",
        "\n",
        "for i, j in dn_info_train2.items():\n",
        "  if j == max_dn_train2:\n",
        "    dead_n_idx2.append(i)"
      ]
    },
    {
      "cell_type": "code",
      "execution_count": 21,
      "metadata": {
        "id": "qu3zF9uq8XKj",
        "outputId": "c8e5c348-34a3-4418-8b20-c07b91135e8f",
        "colab": {
          "base_uri": "https://localhost:8080/"
        }
      },
      "outputs": [
        {
          "output_type": "stream",
          "name": "stdout",
          "text": [
            "FC1 Layer : 1\n",
            "FC2 Layer : 49\n",
            "FC3 Layer : 13\n"
          ]
        }
      ],
      "source": [
        "print(\"FC1 Layer :\",len(dead_n_idx)) # Number of neurons that are dead\n",
        "print(\"FC2 Layer :\",len(dead_n_idx1)) # Number of neurons that are dead\n",
        "print(\"FC3 Layer :\",len(dead_n_idx2)) # Number of neurons that are dead"
      ]
    },
    {
      "cell_type": "code",
      "execution_count": 22,
      "metadata": {
        "id": "blZi36Ca8XKq",
        "outputId": "46502150-d968-40fd-9d34-745ca7bb0a61",
        "colab": {
          "base_uri": "https://localhost:8080/"
        }
      },
      "outputs": [
        {
          "output_type": "stream",
          "name": "stdout",
          "text": [
            "['120']\n"
          ]
        }
      ],
      "source": [
        "print(dead_n_idx) # Indices of neuron that are dead"
      ]
    },
    {
      "cell_type": "code",
      "source": [
        "print(dead_n_idx1) # Indices of neuron that are dead"
      ],
      "metadata": {
        "colab": {
          "base_uri": "https://localhost:8080/"
        },
        "id": "ix7mVK-v9Q9f",
        "outputId": "ee935c61-e696-453e-c8d2-b6c45a771777"
      },
      "execution_count": 23,
      "outputs": [
        {
          "output_type": "stream",
          "name": "stdout",
          "text": [
            "['1', '2', '4', '5', '7', '10', '11', '14', '17', '19', '20', '25', '26', '27', '32', '34', '36', '38', '42', '46', '48', '51', '52', '53', '55', '58', '60', '61', '65', '71', '72', '73', '74', '76', '81', '82', '85', '86', '89', '93', '96', '97', '99', '100', '104', '107', '113', '116', '118']\n"
          ]
        }
      ]
    },
    {
      "cell_type": "code",
      "source": [
        "print(dead_n_idx2) # Indices of neuron that are dead"
      ],
      "metadata": {
        "colab": {
          "base_uri": "https://localhost:8080/"
        },
        "id": "4VevEMdS9RAU",
        "outputId": "7ec9021e-84e9-482c-b414-072d5859f989"
      },
      "execution_count": 24,
      "outputs": [
        {
          "output_type": "stream",
          "name": "stdout",
          "text": [
            "['2', '5', '21', '25', '57', '63', '64', '65', '69', '73', '75', '77', '83']\n"
          ]
        }
      ]
    },
    {
      "cell_type": "code",
      "execution_count": 25,
      "metadata": {
        "id": "yb8LRo2Q8XKt"
      },
      "outputs": [],
      "source": [
        "state_dict1 = state_dict"
      ]
    },
    {
      "cell_type": "code",
      "source": [
        "layer_distinct_weights"
      ],
      "metadata": {
        "colab": {
          "base_uri": "https://localhost:8080/"
        },
        "id": "Se4SLLRRJhWT",
        "outputId": "38511140-6bf9-46b6-faf1-29dce7a1c546"
      },
      "execution_count": 26,
      "outputs": [
        {
          "output_type": "execute_result",
          "data": {
            "text/plain": [
              "{'cnn1.bias': [-1.0, 0.0, 1.0],\n",
              " 'cnn1.weight': [-1.0, 0.0, 1.0],\n",
              " 'cnn2.bias': [-1.0, 0.0, 1.0],\n",
              " 'cnn2.weight': [-1.0, 0.0, 1.0],\n",
              " 'fc1.bias': [-1.0, 0.0, 1.0],\n",
              " 'fc1.weight': [-1.0, 0.0, 1.0],\n",
              " 'fc2.bias': [-1.0, 0.0, 1.0],\n",
              " 'fc2.weight': [-1.0, 0.0, 1.0],\n",
              " 'fc3.bias': [-1.0, 1.0],\n",
              " 'fc3.weight': [-1.0, 0.0, 1.0]}"
            ]
          },
          "metadata": {},
          "execution_count": 26
        }
      ]
    },
    {
      "cell_type": "code",
      "execution_count": 27,
      "metadata": {
        "id": "DNXNxCFs8XKx",
        "outputId": "cc081a93-7bb6-4862-f3b2-642461499117",
        "colab": {
          "base_uri": "https://localhost:8080/"
        }
      },
      "outputs": [
        {
          "output_type": "stream",
          "name": "stdout",
          "text": [
            "fc1.weight\n",
            "-1.0 0.0 1.0\n",
            "fc2.weight\n",
            "-1.0 0.0 1.0\n",
            "fc3.weight\n",
            "-1.0 0.0 1.0\n",
            "Total dead transitions for the layer : 428\n"
          ]
        }
      ],
      "source": [
        "total_trans = 0\n",
        "layers_name = ['fc1.weight', 'fc2.weight', 'fc3.weight']\n",
        "\n",
        "n_idx = [dead_n_idx, dead_n_idx1, dead_n_idx2]\n",
        "\n",
        "for ix,l in enumerate(layers_name):\n",
        "  print(l)\n",
        "  z = state_dict1[l]\n",
        "\n",
        "  if len(layer_distinct_weights[l]) > 2 :\n",
        "    w_neg, w_0, w_pos =  layer_distinct_weights[l]\n",
        "    print(w_neg, w_0, w_pos)\n",
        "  else:\n",
        "    w_neg, w_pos = layer_distinct_weights[l]\n",
        "    print(w_neg, w_pos)\n",
        "\n",
        "  for idx in n_idx[ix]:\n",
        "      if 'bias' in l:\n",
        "        imd = z[eval(idx)]\n",
        "      else:\n",
        "        imd = z[:,eval(idx)]\n",
        "\n",
        "      trans = torch.where(imd == w_neg)[0].nelement() + torch.where(imd == w_pos)[0].nelement()\n",
        "      total_trans += trans *2\n",
        "    \n",
        "print(\"Total dead transitions for the layer :\", total_trans)"
      ]
    },
    {
      "cell_type": "code",
      "execution_count": null,
      "metadata": {
        "id": "E64pYeIW8XK0"
      },
      "outputs": [],
      "source": [
        "# Fault coverage that we have obtained from main file : 4314 / 5048"
      ]
    },
    {
      "cell_type": "code",
      "execution_count": 28,
      "metadata": {
        "id": "xAK4Mddws52K",
        "colab": {
          "base_uri": "https://localhost:8080/"
        },
        "outputId": "a26ea760-9a38-4edc-9f6a-aabc7021db01"
      },
      "outputs": [
        {
          "output_type": "execute_result",
          "data": {
            "text/plain": [
              "0.9393819334389857"
            ]
          },
          "metadata": {},
          "execution_count": 28
        }
      ],
      "source": [
        "# Adding more 428 transitions to the numerator will make the net fault coverage\n",
        "(4314 + 428)/5048"
      ]
    },
    {
      "cell_type": "code",
      "source": [
        ""
      ],
      "metadata": {
        "id": "4V0GEgwlN21e"
      },
      "execution_count": null,
      "outputs": []
    }
  ],
  "metadata": {
    "accelerator": "GPU",
    "colab": {
      "collapsed_sections": [],
      "name": "DeadNeurons.ipynb",
      "provenance": []
    },
    "kernelspec": {
      "display_name": "Python 3",
      "language": "python",
      "name": "python3"
    },
    "language_info": {
      "codemirror_mode": {
        "name": "ipython",
        "version": 3
      },
      "file_extension": ".py",
      "mimetype": "text/x-python",
      "name": "python",
      "nbconvert_exporter": "python",
      "pygments_lexer": "ipython3",
      "version": "3.8.5"
    }
  },
  "nbformat": 4,
  "nbformat_minor": 0
}