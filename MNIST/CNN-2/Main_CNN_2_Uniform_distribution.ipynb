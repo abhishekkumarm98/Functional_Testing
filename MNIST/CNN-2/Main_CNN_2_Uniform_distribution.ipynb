{
 "cells": [
  {
   "cell_type": "code",
   "execution_count": null,
   "metadata": {
    "id": "ZrX7qWiCiQOz"
   },
   "outputs": [],
   "source": [
    "cd MNIST/CNN-2"
   ]
  },
  {
   "cell_type": "code",
   "execution_count": 4,
   "metadata": {
    "id": "KXMJB6isiRyk"
   },
   "outputs": [],
   "source": [
    "import numpy as np, joblib\n",
    "import sys, os, random\n",
    "import matplotlib.pyplot as plt\n",
    "import pickle, gzip\n",
    "from tqdm import tqdm,tqdm_notebook\n",
    "import torch\n",
    "import torchvision\n",
    "from torch import nn\n",
    "from torch.autograd import Variable\n",
    "import torch.optim as optim\n",
    "import torch.nn.functional as F\n",
    "from torchvision import datasets, transforms\n",
    "from torch.utils.data import Dataset, DataLoader\n",
    "from torch.utils.data.sampler import SubsetRandomSampler"
   ]
  },
  {
   "cell_type": "code",
   "execution_count": 5,
   "metadata": {
    "id": "0ok6X5PjkKFX"
   },
   "outputs": [],
   "source": [
    "batch_size = 128\n",
    "seed_num = 81\n",
    "\n",
    "# For reproducibility when you run the file with .py\n",
    "torch.cuda.is_available()\n",
    "torch.manual_seed(seed_num)\n",
    "torch.cuda.manual_seed(seed_num)\n",
    "np.random.seed(seed_num)\n",
    "random.seed(seed_num)\n",
    "torch.backends.cudnn.benchmark = True\n",
    "\n",
    "torch.backends.cudnn.deterministic =True"
   ]
  },
  {
   "cell_type": "code",
   "execution_count": 6,
   "metadata": {
    "id": "10agOYLDkidx"
   },
   "outputs": [],
   "source": [
    "# Data Augmentation \n",
    "train_transform = transforms.Compose([transforms.RandomRotation(30), transforms.RandomHorizontalFlip(),transforms.ToTensor(),transforms.Normalize([0.1307,],[0.3081,])])\n",
    "test_transform = transforms.Compose([transforms.ToTensor(),transforms.Normalize([0.1307,],[0.3081,])])\n",
    "\n",
    "# Splitting the training and test datasets\n",
    "train_data = datasets.MNIST(os.getcwd(), train=True,\n",
    "                              download=True, transform=train_transform)\n",
    "test_data = datasets.MNIST(os.getcwd(), train=False,\n",
    "                             download=True, transform=test_transform)\n"
   ]
  },
  {
   "cell_type": "code",
   "execution_count": 7,
   "metadata": {
    "id": "5GnCuQ91lCty"
   },
   "outputs": [],
   "source": [
    "# Split the training set indices into training and validation set indices using 84:16 ratio\n",
    "np.random.seed(seed_num)\n",
    "len_trainset = len(train_data)\n",
    "index_list = list(range(len_trainset))\n",
    "np.random.shuffle(index_list)\n",
    "split_index = 50000\n",
    "train_indices, valid_indices =  index_list[:split_index], index_list[split_index:]\n",
    "\n",
    "# Creating Samplers for training and validation set using the indices\n",
    "np.random.seed(seed_num)\n",
    "train_sampler = SubsetRandomSampler(train_indices)\n",
    "valid_sampler = SubsetRandomSampler(valid_indices)\n",
    "\n",
    "torch.manual_seed(seed_num)\n",
    "\n",
    "train_iterator = DataLoader(train_data, batch_size=batch_size, sampler=train_sampler)\n",
    "val_iterator = DataLoader(train_data, batch_size=batch_size, sampler=valid_sampler)\n",
    "test_iterator = DataLoader(test_data, batch_size=batch_size, shuffle=True)\n"
   ]
  },
  {
   "cell_type": "code",
   "execution_count": 8,
   "metadata": {
    "id": "4D-XvGNzlJn_"
   },
   "outputs": [],
   "source": [
    "# CNN Model\n",
    "\n",
    "class CNNModel(nn.Module):\n",
    "    def __init__(self):\n",
    "        super(CNNModel, self).__init__()\n",
    "        \n",
    "        # Convolution 1\n",
    "        self.cnn1 = nn.Conv2d(in_channels=1, out_channels=16, kernel_size=3, stride=1, padding=0, bias= True)\n",
    "     \n",
    "        # Convolution 2\n",
    "        self.cnn2 = nn.Conv2d(in_channels=16, out_channels=32, kernel_size=3, stride=1, padding=0, bias= True)\n",
    "        \n",
    "        # Fully connected 1\n",
    "        self.fc1 = nn.Linear(32 * 5 * 5, 10,bias= True) \n",
    "    \n",
    "    def forward(self, x):\n",
    "        # Set 1\n",
    "        out = F.max_pool2d(F.relu(self.cnn1(x)),2)\n",
    "        \n",
    "        # Set 2\n",
    "        out = F.max_pool2d(F.relu(self.cnn2(out)),2) \n",
    "        \n",
    "        # Flatten\n",
    "        out = out.view(out.size(0), -1)\n",
    "\n",
    "        # Dense\n",
    "        out = self.fc1(out)\n",
    "        \n",
    "        return out"
   ]
  },
  {
   "cell_type": "code",
   "execution_count": 9,
   "metadata": {
    "colab": {
     "base_uri": "https://localhost:8080/"
    },
    "id": "W-97MR9BlJrW",
    "outputId": "509f15e1-d764-48bc-aa7b-0a0efb2f8187"
   },
   "outputs": [
    {
     "name": "stdout",
     "output_type": "stream",
     "text": [
      "Model:\n",
      " CNNModel(\n",
      "  (cnn1): Conv2d(1, 16, kernel_size=(3, 3), stride=(1, 1))\n",
      "  (cnn2): Conv2d(16, 32, kernel_size=(3, 3), stride=(1, 1))\n",
      "  (fc1): Linear(in_features=800, out_features=10, bias=True)\n",
      ")\n"
     ]
    }
   ],
   "source": [
    "torch.manual_seed(seed_num)\n",
    "unit=128\n",
    "\n",
    "# Summary\n",
    "model = CNNModel()\n",
    "print(\"Model:\\n\",model)"
   ]
  },
  {
   "cell_type": "code",
   "execution_count": 10,
   "metadata": {
    "colab": {
     "base_uri": "https://localhost:8080/"
    },
    "id": "A8PBc3NYlJuX",
    "outputId": "fc74e7ea-3bae-4d5c-8ea7-22647014c475"
   },
   "outputs": [
    {
     "data": {
      "text/plain": [
       "['cnn1.weight',\n",
       " 'cnn1.bias',\n",
       " 'cnn2.weight',\n",
       " 'cnn2.bias',\n",
       " 'fc1.weight',\n",
       " 'fc1.bias']"
      ]
     },
     "execution_count": 10,
     "metadata": {},
     "output_type": "execute_result"
    }
   ],
   "source": [
    "# Layer names\n",
    "layer_name = [n for n, p in model.named_parameters()]\n",
    "layer_name"
   ]
  },
  {
   "cell_type": "code",
   "execution_count": 11,
   "metadata": {
    "colab": {
     "base_uri": "https://localhost:8080/"
    },
    "id": "7V_swsrplJxP",
    "outputId": "af23eb94-809b-4f0f-d502-e24a53bb306f"
   },
   "outputs": [
    {
     "name": "stdout",
     "output_type": "stream",
     "text": [
      "Loading weights done !\n",
      "cnn1.weight tensor(104, device='cuda:0')\n",
      "cnn1.bias tensor(13, device='cuda:0')\n",
      "cnn2.weight tensor(436, device='cuda:0')\n",
      "cnn2.bias tensor(28, device='cuda:0')\n",
      "fc1.weight tensor(780, device='cuda:0')\n",
      "fc1.bias tensor(9, device='cuda:0')\n",
      "Total Parameters: tensor(1370, device='cuda:0') \n",
      "\n"
     ]
    }
   ],
   "source": [
    "# Loading the weights of ternary model \n",
    "model = torch.load('CNN_2_quant.pt')\n",
    "model = model.cuda()\n",
    "print(\"Loading weights done !\")\n",
    "\n",
    "# Total number of ternary weights (+w, -w)\n",
    "totalParams = 0\n",
    "for i in layer_name:\n",
    "  print(i,(model.state_dict()[i] !=0).sum())\n",
    "  totalParams +=  (model.state_dict()[i] !=0).sum()\n",
    "    \n",
    "print(\"Total Parameters:\",totalParams, '\\n')"
   ]
  },
  {
   "cell_type": "code",
   "execution_count": 12,
   "metadata": {
    "colab": {
     "base_uri": "https://localhost:8080/"
    },
    "id": "0uPbBVUKlJ0X",
    "outputId": "6f136f63-0a79-4168-8992-66ba8b505746"
   },
   "outputs": [
    {
     "name": "stdout",
     "output_type": "stream",
     "text": [
      "Number Of Images Tested = 10000\n",
      "\n",
      "Model Test Accuracy = 0.893\n"
     ]
    }
   ],
   "source": [
    "# Model's performance on test set\n",
    "\n",
    "correct_count, all_count = 0, 0\n",
    "for images,labels in test_iterator:\n",
    "      for image,label in zip(images,labels):\n",
    "\n",
    "        if torch.cuda.is_available():\n",
    "            img = image.cuda()\n",
    "            lab = label.cuda()\n",
    "            img = img[None,].type('torch.cuda.FloatTensor')\n",
    "\n",
    "        with torch.no_grad():\n",
    "            output_ = model(img) \n",
    "\n",
    "        pred_label = output_.argmax()\n",
    "\n",
    "        if(pred_label.item()==lab.item()):\n",
    "          correct_count += 1\n",
    "        all_count += 1\n",
    "\n",
    "print(\"Number Of Images Tested =\", all_count)\n",
    "print(\"\\nModel Test Accuracy =\", (correct_count/(all_count)))\n"
   ]
  },
  {
   "cell_type": "code",
   "execution_count": 13,
   "metadata": {
    "colab": {
     "base_uri": "https://localhost:8080/"
    },
    "id": "RvZCWE-QlJ6U",
    "outputId": "6a7b5c4f-bbcb-4c67-8e91-118d223bfb91"
   },
   "outputs": [
    {
     "name": "stdout",
     "output_type": "stream",
     "text": [
      "cnn1.weight hidden layer dimension torch.Size([16, 1, 3, 3])\n",
      "Unique values of weight in cnn1.weight th hidden layer :  tensor([-1.,  0.,  1.], device='cuda:0')\n",
      "\n",
      "cnn1.bias hidden layer dimension torch.Size([16])\n",
      "Unique values of weight in cnn1.bias th hidden layer :  tensor([-1.,  0.,  1.], device='cuda:0')\n",
      "\n",
      "cnn2.weight hidden layer dimension torch.Size([32, 16, 3, 3])\n",
      "Unique values of weight in cnn2.weight th hidden layer :  tensor([-1.,  0.,  1.], device='cuda:0')\n",
      "\n",
      "cnn2.bias hidden layer dimension torch.Size([32])\n",
      "Unique values of weight in cnn2.bias th hidden layer :  tensor([-1.,  0.,  1.], device='cuda:0')\n",
      "\n",
      "fc1.weight hidden layer dimension torch.Size([10, 800])\n",
      "Unique values of weight in fc1.weight th hidden layer :  tensor([-1.,  0.,  1.], device='cuda:0')\n",
      "\n",
      "fc1.bias hidden layer dimension torch.Size([10])\n",
      "Unique values of weight in fc1.bias th hidden layer :  tensor([-1.,  0.,  1.], device='cuda:0')\n",
      "\n"
     ]
    }
   ],
   "source": [
    "# For each layer, model's ternary weights\n",
    "state_dict = model.state_dict()\n",
    "\n",
    "layer_distinct_weights = {}\n",
    "\n",
    "for i in layer_name:\n",
    "  imd = torch.unique(model.state_dict()[i])\n",
    "  print(i+ ' hidden layer dimension', model.state_dict()[i].shape)\n",
    "  print(\"Unique values of weight in \"+ i+ \" th hidden layer : \", imd)\n",
    "  layer_distinct_weights[i] = imd.cpu().numpy().tolist()\n",
    "  print()\n"
   ]
  },
  {
   "cell_type": "code",
   "execution_count": 14,
   "metadata": {
    "colab": {
     "base_uri": "https://localhost:8080/"
    },
    "id": "Sr2l07FwlJ9I",
    "outputId": "237b4239-9c22-47be-fe03-6b0bb389b828"
   },
   "outputs": [
    {
     "data": {
      "text/plain": [
       "(10000, 1, 28, 28)"
      ]
     },
     "execution_count": 14,
     "metadata": {},
     "output_type": "execute_result"
    }
   ],
   "source": [
    "# Single seed uniform distribution\n",
    "np.random.seed(seed_num)\n",
    "corr_images1 = []\n",
    "\n",
    "for i in range(10000): \n",
    "  corr_images1.append(np.random.rand(1,28,28))\n",
    "\n",
    "corr_images1 = np.array(corr_images1)\n",
    "corr_images1.shape"
   ]
  },
  {
   "cell_type": "code",
   "execution_count": 15,
   "metadata": {
    "colab": {
     "base_uri": "https://localhost:8080/"
    },
    "id": "xlI4lYUUo2Th",
    "outputId": "393fe068-4aa3-4a29-c0a5-a28a128b3a95"
   },
   "outputs": [
    {
     "data": {
      "text/plain": [
       "(10000, 1, 28, 28)"
      ]
     },
     "execution_count": 15,
     "metadata": {},
     "output_type": "execute_result"
    }
   ],
   "source": [
    "# Uniform distribution\n",
    "corr_images = np.array(corr_images1)\n",
    "corr_images.shape"
   ]
  },
  {
   "cell_type": "code",
   "execution_count": 16,
   "metadata": {
    "colab": {
     "base_uri": "https://localhost:8080/"
    },
    "id": "3zyNkvo5o2WB",
    "outputId": "d057fe27-f364-4f28-9a04-707dc892bced"
   },
   "outputs": [
    {
     "name": "stdout",
     "output_type": "stream",
     "text": [
      "\n",
      "Unique digits :  [0 3 4 8]\n",
      "\n",
      " counts :  [2556 1735  157 5552]\n"
     ]
    }
   ],
   "source": [
    "corr_images = torch.tensor(corr_images).type(torch.FloatTensor).to('cuda')\n",
    "\n",
    "corr_label = []\n",
    "check_label = []\n",
    "\n",
    "model.eval()\n",
    "for img in corr_images:\n",
    "  img = img[None,].type('torch.cuda.FloatTensor')\n",
    "  with torch.no_grad():\n",
    "    pred = model(img).argmax()\n",
    "  corr_label.append(pred)\n",
    "  check_label.append(pred.item())\n",
    "\n",
    "digit,count = np.unique(check_label, return_counts=True)\n",
    "\n",
    "# Model's prediction on pseudorandom images\n",
    "print(\"\\nUnique digits : \",digit)\n",
    "\n",
    "print(\"\\n counts : \",count)"
   ]
  },
  {
   "cell_type": "code",
   "execution_count": 17,
   "metadata": {
    "id": "uG1i7FSwo2Y5"
   },
   "outputs": [],
   "source": [
    "pos_neg_layerwise = {}\n",
    "\n",
    "for i in layer_name:\n",
    "  b = layer_distinct_weights[i]\n",
    "\n",
    "  if len(b) == 3:\n",
    "    neg, zero, pos = b\n",
    "    pos_neg_layerwise[i] = {}\n",
    "    pos_neg_layerwise[i]['pos'] = pos\n",
    "    pos_neg_layerwise[i]['neg'] = neg\n",
    "    \n",
    "  elif len(b) == 2:\n",
    "    un1, un2 = b\n",
    "\n",
    "    if un2 == 0:\n",
    "      neg, zero = b\n",
    "      pos_neg_layerwise[i] = {}\n",
    "      pos_neg_layerwise[i]['neg'] = neg\n",
    "      \n",
    "    elif un1 == 0:\n",
    "      zero, pos = b\n",
    "      pos_neg_layerwise[i] = {}\n",
    "      pos_neg_layerwise[i]['pos'] = pos\n",
    "\n",
    "    else:\n",
    "      neg, pos = b\n",
    "      pos_neg_layerwise[i] = {}\n",
    "      pos_neg_layerwise[i]['pos'] = pos\n",
    "      pos_neg_layerwise[i]['neg'] = neg\n",
    "\n",
    "  else:\n",
    "     un = b[0] \n",
    "\n",
    "     if un > 0:\n",
    "       pos_neg_layerwise[i] = {}\n",
    "       pos_neg_layerwise[i]['pos'] = un\n",
    "\n",
    "     elif un < 0:\n",
    "       pos_neg_layerwise[i] = {}\n",
    "       pos_neg_layerwise[i]['neg'] = un\n",
    "\n",
    "     else:\n",
    "       pos_neg_layerwise[i] = {}\n",
    "       pos_neg_layerwise[i]['zero'] = 0\n"
   ]
  },
  {
   "cell_type": "code",
   "execution_count": 18,
   "metadata": {
    "colab": {
     "base_uri": "https://localhost:8080/"
    },
    "id": "JZ4zH-VAo2bH",
    "outputId": "cb2fd709-595d-4813-bb71-184551cb64f4"
   },
   "outputs": [
    {
     "data": {
      "text/plain": [
       "{'cnn1.bias': [-1.0, 0.0, 1.0],\n",
       " 'cnn1.weight': [-1.0, 0.0, 1.0],\n",
       " 'cnn2.bias': [-1.0, 0.0, 1.0],\n",
       " 'cnn2.weight': [-1.0, 0.0, 1.0],\n",
       " 'fc1.bias': [-1.0, 0.0, 1.0],\n",
       " 'fc1.weight': [-1.0, 0.0, 1.0]}"
      ]
     },
     "execution_count": 18,
     "metadata": {},
     "output_type": "execute_result"
    }
   ],
   "source": [
    "layer_distinct_weights"
   ]
  },
  {
   "cell_type": "code",
   "execution_count": 19,
   "metadata": {
    "id": "cCfKOm8no2du"
   },
   "outputs": [],
   "source": [
    "class PseudoData(Dataset):\n",
    "    \n",
    "    def __init__(self, data, label):\n",
    "        \n",
    "        self.data = data\n",
    "        self.label = label\n",
    "\n",
    "    def __getitem__(self, index):\n",
    "        \n",
    "        return self.data[index], self.label[index]\n",
    "\n",
    "    def __len__(self):\n",
    "        return len(self.data)\n",
    "\n",
    "corr_label = torch.tensor(corr_label).type(torch.FloatTensor).to('cuda')\n",
    "pseudo_dataLoader = DataLoader(dataset = PseudoData(corr_images, corr_label), batch_size = 1000, shuffle=False) "
   ]
  },
  {
   "cell_type": "code",
   "execution_count": 20,
   "metadata": {
    "id": "uAf424TSo2gc"
   },
   "outputs": [],
   "source": [
    "def getResult(test_example, test_label, model, st):\n",
    "    model.load_state_dict(st)\n",
    "    model.eval()\n",
    "    with torch.no_grad():\n",
    "        output_ = model(test_example.float()) \n",
    "        pred = output_.data.max(1, keepdim=True)[1]\n",
    "        z = pred.eq(test_label.data.view_as(pred)).flatten()\n",
    "        return torch.where(z == False)[0]"
   ]
  },
  {
   "cell_type": "code",
   "execution_count": 21,
   "metadata": {
    "id": "qQkUUItGo2j2"
   },
   "outputs": [],
   "source": [
    "def populateResults(idx, batch_id, old_state, new_state, w_images, n_ic, n_oc, row, column, weight_name):\n",
    "  key = 'img_id'+str(idx)+'_batch_'+str(batch_id)\n",
    "  if key not in w_images:\n",
    "    w_images[key] = {}\n",
    "    w_images[key]['location'] = []\n",
    "    w_images[key]['location'].append((weight_name, n_ic, n_oc, row, column, old_state, new_state))\n",
    "    w_images[key]['weight_states'] = []\n",
    "    w_images[key]['weight_states'].append(weight_name + ' : ' + str(old_state) + ' --> ' + str(new_state))\n",
    "\n",
    "  else:\n",
    "    w_images[key]['location'].append((weight_name, n_ic, n_oc, row, column, old_state, new_state))\n",
    "    w_images[key]['weight_states'].append(weight_name + ' : ' + str(old_state) + ' --> ' + str(new_state))"
   ]
  },
  {
   "cell_type": "code",
   "execution_count": 22,
   "metadata": {
    "id": "jCBF5EBvo2lz"
   },
   "outputs": [],
   "source": [
    "def populateResults1(idx, batch_id, old_state, new_state, w_images, row, column, weight_name):\n",
    "  key = 'img_id'+str(idx)+'_batch_'+str(batch_id)\n",
    "  if key not in w_images:\n",
    "    w_images[key] = {}\n",
    "    w_images[key]['location'] = []\n",
    "    w_images[key]['location'].append((weight_name, row, column, old_state, new_state))\n",
    "    w_images[key]['weight_states'] = []\n",
    "    w_images[key]['weight_states'].append(weight_name + ' : ' + str(old_state) + ' --> ' + str(new_state))\n",
    "\n",
    "  else:\n",
    "    w_images[key]['location'].append((weight_name, row, column, old_state, new_state))\n",
    "    w_images[key]['weight_states'].append(weight_name + ' : ' + str(old_state) + ' --> ' + str(new_state))"
   ]
  },
  {
   "cell_type": "code",
   "execution_count": 23,
   "metadata": {
    "id": "Tb0jVhzUo2oX"
   },
   "outputs": [],
   "source": [
    "# For bias weight mutation\n",
    "\n",
    "def bias_mutation(st, superSet, w_images, img,label, batch_id, weight_name):\n",
    "\n",
    "  if ('pos' in pos_neg_layerwise[weight_name]) and ('neg' in pos_neg_layerwise[weight_name]):\n",
    "    un = pos_neg_layerwise[weight_name]['pos'], pos_neg_layerwise[weight_name]['neg']\n",
    "\n",
    "    var_neg1 = torch.where(st==un[1])[0]\n",
    "    var_1 = torch.where(st==un[0])[0]\n",
    "\n",
    "  else:\n",
    "    try:\n",
    "      un = pos_neg_layerwise[weight_name]['pos']\n",
    "\n",
    "      var_neg1 = torch.where(st==un*1000)[0]\n",
    "      var_1 = torch.where(st==un)[0]\n",
    "\n",
    "    except KeyError:\n",
    "      un = pos_neg_layerwise[weight_name]['neg']\n",
    "\n",
    "      var_neg1 = torch.where(st==un)[0]\n",
    "      var_1 = torch.where(st==un*1000)[0]\n",
    "\n",
    "\n",
    "  if (var_neg1.nelement() == 0.) and (var_1.nelement() == 0.):\n",
    "    pass\n",
    "  else:\n",
    "    for column in torch.cat((var_neg1, var_1), 0):\n",
    "      row = 0\n",
    "      column = column.item()\n",
    "\n",
    "      org_val_real = st[column].item() # For bias part\n",
    "\n",
    "      if type(un) == tuple:\n",
    "          pos, neg = un   # Positive, Negative \n",
    "          if (org_val_real < 0.) and (org_val_real == neg):\n",
    "            org_val = neg\n",
    "\n",
    "            old_state = neg\n",
    "            new_state = 0.\n",
    "            superSet.add((weight_name, row, column, -1, 0))\n",
    "\n",
    "            st[column] = new_state\n",
    "\n",
    "            \"\"\"getResult() will tell whether the passed test example is classified to other class\n",
    "            or not after mutation, if it is classified to other class, then it returns True else False and \n",
    "            populateResults() will maintain the record of test examples which has been misclassified\n",
    "            like location(row(which neuron), column(indices)), old_state(old_value of weight element), \n",
    "            new_state (mutated value of weight element), images\"\"\"\n",
    "\n",
    "            \n",
    "            [populateResults1(idx.item(), batch_id, -1, 0, w_images, row, column, weight_name) \\\n",
    "             for idx in getResult(img, label, model, state_dict)]\n",
    "          \n",
    "            new_state = pos\n",
    "            superSet.add((weight_name, row, column, -1, 1))\n",
    "\n",
    "            st[column] = new_state\n",
    "\n",
    "            [populateResults1(idx.item(), batch_id, -1, 1, w_images, row, column, weight_name) \\\n",
    "             for idx in getResult(img, label, model, state_dict)]\n",
    "            \n",
    "            st[column] = org_val\n",
    "\n",
    "          elif (org_val_real > 0.) and (org_val_real == pos):\n",
    "\n",
    "            org_val = pos\n",
    "            old_state = pos\n",
    "            new_state = 0.\n",
    "            superSet.add((weight_name, row, column, 1, 0))\n",
    "            st[column] = new_state\n",
    "\n",
    "            [populateResults1(idx.item(), batch_id, 1, 0, w_images, row, column, weight_name) \\\n",
    "             for idx in getResult(img, label, model, state_dict)]\n",
    "          \n",
    "            new_state = neg\n",
    "            superSet.add((weight_name, row, column, 1, -1))\n",
    "\n",
    "            st[column] = new_state\n",
    "            \n",
    "            [populateResults1(idx.item(), batch_id, 1, -1, w_images, row, column, weight_name) \\\n",
    "             for idx in getResult(img, label, model, state_dict)]\n",
    "            \n",
    "            st[column] = org_val\n",
    "\n",
    "\n",
    "      \n",
    "      ############# Negative ################################\n",
    "      elif (un < 0) and (org_val_real == un):\n",
    "          org_val = un\n",
    "          old_state = un\n",
    "          new_state = 0.\n",
    "          superSet.add((weight_name, row, column, -1, 0))\n",
    "          st[column] = new_state\n",
    "            \n",
    "          [populateResults1(idx.item(), batch_id, -1, 0, w_images, row, column, weight_name) \\\n",
    "           for idx in getResult(img, label, model, state_dict)]\n",
    "          \n",
    "          st[column] = org_val\n",
    "\n",
    "\n",
    "      elif (un > 0) and (org_val_real == un):  ############# Positive  ################################\n",
    "          org_val = un\n",
    "          old_state = un\n",
    "          new_state = 0.\n",
    "          superSet.add((weight_name, row, column, 1, 0))\n",
    "          st[column] = new_state\n",
    "          [populateResults1(idx.item(), batch_id, 1, 0, w_images, row, column, weight_name) \\\n",
    "           for idx in getResult(img, label, model, state_dict)]\n",
    "\n",
    "          st[column] = org_val\n",
    "\n",
    "\n",
    "      #################################################################################################################"
   ]
  },
  {
   "cell_type": "code",
   "execution_count": 24,
   "metadata": {
    "id": "oaZX0ddzo2rG"
   },
   "outputs": [],
   "source": [
    "# Saving length of shape for each layer\n",
    "layers_shape = {}\n",
    "\n",
    "for i in layer_name:\n",
    "  layers_shape[i] = len(state_dict[i].shape)"
   ]
  },
  {
   "cell_type": "code",
   "execution_count": 25,
   "metadata": {
    "colab": {
     "base_uri": "https://localhost:8080/"
    },
    "id": "PFbz-pOzo2tw",
    "outputId": "d38c9b6d-ddd4-491b-b732-b9e128c8d119"
   },
   "outputs": [
    {
     "name": "stdout",
     "output_type": "stream",
     "text": [
      "{'cnn1.weight': 4, 'cnn1.bias': 1, 'cnn2.weight': 4, 'cnn2.bias': 1, 'fc1.weight': 2, 'fc1.bias': 1}\n"
     ]
    }
   ],
   "source": [
    "print(layers_shape)"
   ]
  },
  {
   "cell_type": "code",
   "execution_count": 26,
   "metadata": {
    "colab": {
     "base_uri": "https://localhost:8080/"
    },
    "id": "NuNNlCH0o2wG",
    "outputId": "ca2a9281-dd63-4bcb-c0b9-ac82bc7075b1"
   },
   "outputs": [
    {
     "name": "stderr",
     "output_type": "stream",
     "text": [
      " 10%|█         | 1/10 [00:12<01:49, 12.14s/it]"
     ]
    },
    {
     "name": "stdout",
     "output_type": "stream",
     "text": [
      "Total number of elements in superSet is : 2740. \n",
      "\n",
      "There are 1761 locations that did not match.\n",
      "\n",
      "Total number of locations 979 are encompassed out of 2740.\n",
      "Total number of elements in a weight matrix is  2740\n",
      "Total number of images fetched  87 \n",
      "\n",
      "Output \n",
      "\n",
      "[(87, 979, 2740)]\n",
      "Total number of elements in superSet is : 2740. \n",
      "\n"
     ]
    },
    {
     "name": "stderr",
     "output_type": "stream",
     "text": [
      "\r",
      " 20%|██        | 2/10 [00:23<01:35, 11.97s/it]"
     ]
    },
    {
     "name": "stdout",
     "output_type": "stream",
     "text": [
      "There are 1719 locations that did not match.\n",
      "\n",
      "Total number of locations 1021 are encompassed out of 2740.\n",
      "Total number of elements in a weight matrix is  2740\n",
      "Total number of images fetched  98 \n",
      "\n",
      "Output \n",
      "\n",
      "[(87, 979, 2740), (98, 1021, 2740)]\n",
      "Total number of elements in superSet is : 2740. \n",
      "\n"
     ]
    },
    {
     "name": "stderr",
     "output_type": "stream",
     "text": [
      "\r",
      " 30%|███       | 3/10 [00:35<01:23, 11.94s/it]"
     ]
    },
    {
     "name": "stdout",
     "output_type": "stream",
     "text": [
      "There are 1695 locations that did not match.\n",
      "\n",
      "Total number of locations 1045 are encompassed out of 2740.\n",
      "Total number of elements in a weight matrix is  2740\n",
      "Total number of images fetched  106 \n",
      "\n",
      "Output \n",
      "\n",
      "[(87, 979, 2740), (98, 1021, 2740), (106, 1045, 2740)]\n",
      "Total number of elements in superSet is : 2740. \n",
      "\n"
     ]
    },
    {
     "name": "stderr",
     "output_type": "stream",
     "text": [
      "\r",
      " 40%|████      | 4/10 [00:47<01:11, 11.96s/it]"
     ]
    },
    {
     "name": "stdout",
     "output_type": "stream",
     "text": [
      "There are 1688 locations that did not match.\n",
      "\n",
      "Total number of locations 1052 are encompassed out of 2740.\n",
      "Total number of elements in a weight matrix is  2740\n",
      "Total number of images fetched  113 \n",
      "\n",
      "Output \n",
      "\n",
      "[(87, 979, 2740), (98, 1021, 2740), (106, 1045, 2740), (113, 1052, 2740)]\n",
      "Total number of elements in superSet is : 2740. \n",
      "\n"
     ]
    },
    {
     "name": "stderr",
     "output_type": "stream",
     "text": [
      "\r",
      " 50%|█████     | 5/10 [01:00<01:00, 12.20s/it]"
     ]
    },
    {
     "name": "stdout",
     "output_type": "stream",
     "text": [
      "There are 1661 locations that did not match.\n",
      "\n",
      "Total number of locations 1079 are encompassed out of 2740.\n",
      "Total number of elements in a weight matrix is  2740\n",
      "Total number of images fetched  123 \n",
      "\n",
      "Output \n",
      "\n",
      "[(87, 979, 2740), (98, 1021, 2740), (106, 1045, 2740), (113, 1052, 2740), (123, 1079, 2740)]\n",
      "Total number of elements in superSet is : 2740. \n",
      "\n"
     ]
    },
    {
     "name": "stderr",
     "output_type": "stream",
     "text": [
      "\r",
      " 60%|██████    | 6/10 [01:13<00:49, 12.30s/it]"
     ]
    },
    {
     "name": "stdout",
     "output_type": "stream",
     "text": [
      "There are 1640 locations that did not match.\n",
      "\n",
      "Total number of locations 1100 are encompassed out of 2740.\n",
      "Total number of elements in a weight matrix is  2740\n",
      "Total number of images fetched  126 \n",
      "\n",
      "Output \n",
      "\n",
      "[(87, 979, 2740), (98, 1021, 2740), (106, 1045, 2740), (113, 1052, 2740), (123, 1079, 2740), (126, 1100, 2740)]\n",
      "Total number of elements in superSet is : 2740. \n",
      "\n"
     ]
    },
    {
     "name": "stderr",
     "output_type": "stream",
     "text": [
      "\r",
      " 70%|███████   | 7/10 [01:25<00:37, 12.36s/it]"
     ]
    },
    {
     "name": "stdout",
     "output_type": "stream",
     "text": [
      "There are 1619 locations that did not match.\n",
      "\n",
      "Total number of locations 1121 are encompassed out of 2740.\n",
      "Total number of elements in a weight matrix is  2740\n",
      "Total number of images fetched  133 \n",
      "\n",
      "Output \n",
      "\n",
      "[(87, 979, 2740), (98, 1021, 2740), (106, 1045, 2740), (113, 1052, 2740), (123, 1079, 2740), (126, 1100, 2740), (133, 1121, 2740)]\n",
      "Total number of elements in superSet is : 2740. \n",
      "\n"
     ]
    },
    {
     "name": "stderr",
     "output_type": "stream",
     "text": [
      "\r",
      " 80%|████████  | 8/10 [01:38<00:24, 12.42s/it]"
     ]
    },
    {
     "name": "stdout",
     "output_type": "stream",
     "text": [
      "There are 1601 locations that did not match.\n",
      "\n",
      "Total number of locations 1139 are encompassed out of 2740.\n",
      "Total number of elements in a weight matrix is  2740\n",
      "Total number of images fetched  130 \n",
      "\n",
      "Output \n",
      "\n",
      "[(87, 979, 2740), (98, 1021, 2740), (106, 1045, 2740), (113, 1052, 2740), (123, 1079, 2740), (126, 1100, 2740), (133, 1121, 2740), (130, 1139, 2740)]\n",
      "Total number of elements in superSet is : 2740. \n",
      "\n"
     ]
    },
    {
     "name": "stderr",
     "output_type": "stream",
     "text": [
      "\r",
      " 90%|█████████ | 9/10 [01:50<00:12, 12.52s/it]"
     ]
    },
    {
     "name": "stdout",
     "output_type": "stream",
     "text": [
      "There are 1588 locations that did not match.\n",
      "\n",
      "Total number of locations 1152 are encompassed out of 2740.\n",
      "Total number of elements in a weight matrix is  2740\n",
      "Total number of images fetched  138 \n",
      "\n",
      "Output \n",
      "\n",
      "[(87, 979, 2740), (98, 1021, 2740), (106, 1045, 2740), (113, 1052, 2740), (123, 1079, 2740), (126, 1100, 2740), (133, 1121, 2740), (130, 1139, 2740), (138, 1152, 2740)]\n",
      "Total number of elements in superSet is : 2740. \n",
      "\n"
     ]
    },
    {
     "name": "stderr",
     "output_type": "stream",
     "text": [
      "100%|██████████| 10/10 [02:03<00:00, 12.36s/it]"
     ]
    },
    {
     "name": "stdout",
     "output_type": "stream",
     "text": [
      "There are 1583 locations that did not match.\n",
      "\n",
      "Total number of locations 1157 are encompassed out of 2740.\n",
      "Total number of elements in a weight matrix is  2740\n",
      "Total number of images fetched  144 \n",
      "\n",
      "Output \n",
      "\n",
      "[(87, 979, 2740), (98, 1021, 2740), (106, 1045, 2740), (113, 1052, 2740), (123, 1079, 2740), (126, 1100, 2740), (133, 1121, 2740), (130, 1139, 2740), (138, 1152, 2740), (144, 1157, 2740)]\n"
     ]
    },
    {
     "name": "stderr",
     "output_type": "stream",
     "text": [
      "\n"
     ]
    }
   ],
   "source": [
    "# Injecting fault by mutating the ternary weight and check whether it is classified to other class than before by the model. \n",
    "\n",
    "fetchimg_totImg_coverage_totCov = []\n",
    "\n",
    "w_images = {}\n",
    "superSet = set()\n",
    "\n",
    "\n",
    "batch_id = 0\n",
    "for img,label  in tqdm(pseudo_dataLoader):\n",
    "\n",
    "    for weight_name in layer_name:\n",
    "\n",
    "        # Selecting hidden layer to iterate its weight elements\n",
    "        st = state_dict[weight_name]\n",
    "\n",
    "\n",
    "        if ('bias' in weight_name) or (layers_shape[weight_name] == 1):\n",
    "          bias_mutation(st, superSet, w_images, img,label, batch_id, weight_name)\n",
    "          continue\n",
    "\n",
    "        if ('conv' in weight_name) or (layers_shape[weight_name] == 4):\n",
    "\n",
    "          ic, oc, k,k1 = st.shape # ic = in_channel, oc= out_channel, k and k1 is the number of rows and columns of a kernel\n",
    "\n",
    "          for n_ic in range(ic):\n",
    "            for n_oc in range(oc):\n",
    "              kt =  st[n_ic][n_oc] # Fetching Kernel matrix or tensor\n",
    "\n",
    "              # Iterating number of neurons for the selected hidden layer\n",
    "              for row in range(k):\n",
    "\n",
    "                # Fetching indices for -w and w weight value for the selected kernel\n",
    "                \"\"\"Since each kernel has weight vector, so by fetching indices\n",
    "                we will come to know, which indices of the kernel contains weights -w or w weight\"\"\"\n",
    "\n",
    "                ###########################################################################################\n",
    "\n",
    "                if ('pos' in pos_neg_layerwise[weight_name]) and ('neg' in pos_neg_layerwise[weight_name]):\n",
    "                  un = pos_neg_layerwise[weight_name]['pos'], pos_neg_layerwise[weight_name]['neg']\n",
    "\n",
    "                  var_neg1 = torch.where(kt[row]==un[1])[0]\n",
    "                  var_1 = torch.where(kt[row]==un[0])[0]\n",
    "\n",
    "                else:\n",
    "                  try:\n",
    "                    un = pos_neg_layerwise[weight_name]['pos']\n",
    "\n",
    "                    var_neg1 = torch.where(kt[row]==un*1000)[0]\n",
    "                    var_1 = torch.where(kt[row]==un)[0]\n",
    "\n",
    "                  except KeyError:\n",
    "                    un = pos_neg_layerwise[weight_name]['neg']\n",
    "\n",
    "                    var_neg1 = torch.where(kt[row]==un)[0]\n",
    "                    var_1 = torch.where(kt[row]==un*1000)[0]\n",
    "\n",
    "                ##########################################################################################\n",
    "\n",
    "                if (var_neg1.nelement() == 0.) and (var_1.nelement() == 0.):\n",
    "                  continue\n",
    "                else:\n",
    "                  for column in torch.cat((var_neg1, var_1), 0):\n",
    "\n",
    "                    column = column.item()\n",
    "\n",
    "                    org_val_real = kt[row][column].item()\n",
    "\n",
    "                    ##################################################################################################################\n",
    "\n",
    "                    if type(un) == tuple:\n",
    "                      pos, neg = un  # Positive, Negative\n",
    "\n",
    "                      if (org_val_real < 0.) and (org_val_real == neg):\n",
    "                        org_val = neg\n",
    "                        old_state = neg\n",
    "                        new_state = 0.\n",
    "                        superSet.add((weight_name, n_ic, n_oc, row, column, -1, 0))\n",
    "\n",
    "                        st[n_ic][n_oc][row][column] = new_state\n",
    "                        \n",
    "                        \"\"\"getResult() will tell whether the passed test example is classified to other class\n",
    "                        or not after mutation, if it is classified to other class, then it returns True else False and \n",
    "                        populateResults() will maintain the record of test examples which has been misclassified\n",
    "                        like location(row(which neuron), column(indices)), old_state(old_value of weight element), \n",
    "                        new_state (mutated value of weight element), images\"\"\"\n",
    "\n",
    "                        \n",
    "                        [populateResults(idx.item(), batch_id, -1, 0, w_images, n_ic, n_oc, row, column, weight_name) \\\n",
    "                         for idx in getResult(img, label, model, state_dict)]\n",
    "                        \n",
    "                        new_state = pos\n",
    "                        superSet.add((weight_name, n_ic, n_oc, row, column, -1, 1))\n",
    "                        st[n_ic][n_oc][row][column] = new_state\n",
    "\n",
    "                            \n",
    "                        [populateResults(idx.item(), batch_id, -1, 1, w_images, n_ic, n_oc, row, column, weight_name) \\\n",
    "                         for idx in getResult(img, label, model, state_dict)]\n",
    "                        st[n_ic][n_oc][row][column] = org_val # Setting back to original value\n",
    "\n",
    "                    \n",
    "                      elif (org_val_real > 0.) and (org_val_real == pos):\n",
    "                        org_val = pos\n",
    "                        old_state = pos\n",
    "                        new_state = 0.\n",
    "                        superSet.add((weight_name, n_ic, n_oc, row, column, 1, 0))\n",
    "\n",
    "                        st[n_ic][n_oc][row][column] = new_state\n",
    "                        \n",
    "                        [populateResults(idx.item(), batch_id, 1, 0, w_images, n_ic, n_oc, row, column, weight_name) \\\n",
    "                         for idx in getResult(img, label, model, state_dict)]\n",
    "                        \n",
    "                        new_state = neg\n",
    "                        superSet.add((weight_name, n_ic, n_oc, row, column, 1, -1))\n",
    "                        st[n_ic][n_oc][row][column] = new_state\n",
    "\n",
    "                            \n",
    "                        [populateResults(idx.item(), batch_id, 1, -1, w_images, n_ic, n_oc, row, column, weight_name) \\\n",
    "                         for idx in getResult(img, label, model, state_dict)]\n",
    "                        \n",
    "                        st[n_ic][n_oc][row][column] = org_val # Setting back to original value\n",
    "\n",
    "\n",
    "\n",
    "\n",
    "                    elif (un < 0) and (org_val_real == un): ########################## Negative ###########################################\n",
    "                      org_val = un\n",
    "                      old_state = un\n",
    "                      new_state = 0.\n",
    "                      superSet.add((weight_name,  n_ic, n_oc, row, column, -1, 0))\n",
    "                      st[n_ic][n_oc][row][column] = new_state\n",
    "                        \n",
    "                      [populateResults(idx.item(), batch_id, -1, 0, w_images, n_ic, n_oc, row, column, weight_name) \\\n",
    "                       for idx in getResult(img, label, model, state_dict)]\n",
    "                      \n",
    "                      st[n_ic][n_oc][row][column] = org_val\n",
    "\n",
    "\n",
    "                    elif (un > 0) and (org_val_real == un): ########################## Positive ###########################################\n",
    "                      org_val = un\n",
    "                      old_state = un\n",
    "                      new_state = 0.\n",
    "                      superSet.add((weight_name, n_ic, n_oc, row, column, 1, 0))\n",
    "                      st[n_ic][n_oc][row][column] = new_state\n",
    "                        \n",
    "                      [populateResults(idx.item(), batch_id, 1, 0, w_images, n_ic, n_oc, row, column, weight_name) \\\n",
    "                       for idx in getResult(img, label, model, state_dict)]\n",
    "                      st[n_ic][n_oc][row][column] = org_val\n",
    "\n",
    "\n",
    "    \n",
    "            \n",
    "        \n",
    "        # For fully connected layers\n",
    "        elif layers_shape[weight_name] == 2:\n",
    "          rows = state_dict[weight_name].shape[0]\n",
    "\n",
    "          # Iterating number of neurons for the selected hidden layer\n",
    "          for row in range(rows):\n",
    "\n",
    "            # Fetching indices for -w and w weight value for the selected neuron\n",
    "            \"\"\"Since each neuron has weight vector, so by fetching indices\n",
    "            we will come to know, which indices of the neuron contains weights -w or w weight\"\"\"\n",
    "\n",
    "            #########################################################################################\n",
    "\n",
    "            if ('pos' in pos_neg_layerwise[weight_name]) and ('neg' in pos_neg_layerwise[weight_name]):\n",
    "              un = pos_neg_layerwise[weight_name]['pos'], pos_neg_layerwise[weight_name]['neg']\n",
    "\n",
    "              var_neg1 = torch.where(st[row]==un[1])[0]\n",
    "              var_1 = torch.where(st[row]==un[0])[0]\n",
    "\n",
    "            else:\n",
    "              try:\n",
    "                un = pos_neg_layerwise[weight_name]['pos']\n",
    "\n",
    "                var_neg1 = torch.where(st[row]==un*1000)[0]\n",
    "                var_1 = torch.where(st[row]==un)[0]\n",
    "\n",
    "              except KeyError:\n",
    "                un = pos_neg_layerwise[weight_name]['neg']\n",
    "\n",
    "                var_neg1 = torch.where(st[row]==un)[0]\n",
    "                var_1 = torch.where(st[row]==un*1000)[0]\n",
    "\n",
    "\n",
    "            #########################################################################################\n",
    "\n",
    "\n",
    "            if (var_neg1.nelement() == 0.) and (var_1.nelement() == 0.):\n",
    "              continue\n",
    "            else:\n",
    "              for column in torch.cat((var_neg1, var_1), 0):\n",
    "\n",
    "                column = column.item()\n",
    "\n",
    "                org_val_v1 = st[row][column].item()\n",
    "\n",
    "\n",
    "                #########################################################################################\n",
    "\n",
    "                if type(un) == tuple:\n",
    "                  pos, neg = un  # Positive, Negative\n",
    "\n",
    "                  if (org_val_v1 < 0.) and (neg == org_val_v1):\n",
    "\n",
    "                    org_val = neg\n",
    "                    old_state = neg\n",
    "                    new_state = 0.\n",
    "                    superSet.add((weight_name, row, column, -1, 0))\n",
    "\n",
    "                    st[row][column] = new_state\n",
    "                    \n",
    "                    [populateResults1(idx.item(), batch_id, -1, 0, w_images, row, column, weight_name) \\\n",
    "                     for idx in getResult(img, label, model, state_dict)]\n",
    "                    \n",
    "                    new_state = pos\n",
    "                    superSet.add((weight_name, row, column, -1, 1))\n",
    "                    st[row][column] = new_state\n",
    "                        \n",
    "                    [populateResults1(idx.item(), batch_id, -1, 1, w_images, row, column, weight_name) \\\n",
    "                     for idx in getResult(img, label, model, state_dict)]\n",
    "                    st[row][column] = org_val\n",
    "\n",
    "\n",
    "                  elif (org_val_v1 > 0.) and (pos == org_val_v1):\n",
    "\n",
    "                    org_val = pos\n",
    "                    old_state = pos\n",
    "                    new_state = 0.\n",
    "                    superSet.add((weight_name, row, column, 1, 0))\n",
    "\n",
    "                    st[row][column] = new_state\n",
    "                    \n",
    "                    [populateResults1(idx.item(), batch_id, 1, 0, w_images, row, column, weight_name) \\\n",
    "                     for idx in getResult(img, label, model, state_dict)]\n",
    "                    \n",
    "                    new_state = neg\n",
    "                    superSet.add((weight_name, row, column, 1, -1))\n",
    "                    st[row][column] = new_state\n",
    "                        \n",
    "                    [populateResults1(idx.item(), batch_id, 1, -1, w_images, row, column, weight_name) \\\n",
    "                     for idx in getResult(img, label, model, state_dict)]\n",
    "                    st[row][column] = org_val\n",
    "\n",
    "\n",
    " \n",
    "                elif (un < 0) and (un == org_val_v1):  ################# Negative ###############################################################\n",
    "                  org_val = un  \n",
    "                  old_state = un\n",
    "                  new_state = 0.\n",
    "                  superSet.add((weight_name, row, column, -1, 0))\n",
    "                  st[row][column] = new_state\n",
    "                    \n",
    "                  [populateResults1(idx.item(), batch_id, -1, 0, w_images, row, column, weight_name) \\\n",
    "                   for idx in getResult(img, label, model, state_dict)]\n",
    "\n",
    "                  st[row][column] = org_val\n",
    "\n",
    "\n",
    "                elif (un > 0) and (un == org_val_v1):  ################# Positive ###############################################################\n",
    "                  org_val = un\n",
    "                  old_state = un\n",
    "                  new_state = 0.\n",
    "                  superSet.add((weight_name, row, column, 1, 0))\n",
    "                  st[row][column] = new_state\n",
    "                    \n",
    "                  [populateResults1(idx.item(), batch_id, 1, 0, w_images, row, column, weight_name) \\\n",
    "                   for idx in getResult(img, label, model, state_dict)]\n",
    "                  \n",
    "                  st[row][column] = org_val\n",
    "\n",
    "\n",
    "    batch_id += 1\n",
    "\n",
    "\n",
    "    # Fetching locations and total number of images\n",
    "    ################################################\n",
    "\n",
    "    print(f\"Total number of elements in superSet is : {len(superSet)}.\",'\\n')\n",
    "\n",
    "    # joblib.dump(w_images, open('w_images_'+str(batch_id)+'.pkl','wb')) \n",
    "\n",
    "    image_locCounts = [] # (image_id,locationCounts)\n",
    "\n",
    "    for img in w_images.keys():\n",
    "        locCounts = len(w_images[img]['location'])\n",
    "        image_locCounts.append((locCounts,img))\n",
    "            \n",
    "    image_locCounts.sort(reverse=True)\n",
    "\n",
    "\n",
    "    netSetOfImages = []\n",
    "    progressingSet = []\n",
    "    max_locCounts_img = image_locCounts[0][1] # An image that has encompassed maximum locations.\n",
    "\n",
    "    netSetOfImages.append(max_locCounts_img)\n",
    "    progressingSet += set(w_images[max_locCounts_img]['location'])\n",
    "\n",
    "\n",
    "    for i in range(1,len(image_locCounts)):\n",
    "        img = image_locCounts[i][1]\n",
    "        locs = w_images[img]['location']\n",
    "\n",
    "        if set(locs).issubset(progressingSet):\n",
    "            pass\n",
    "        else:\n",
    "            progressingSet += list(set(locs) - set(progressingSet))\n",
    "            netSetOfImages.append(img)\n",
    "\n",
    "\n",
    "    if set(superSet).issubset(progressingSet):\n",
    "        print(\"All match done!\")\n",
    "    else:\n",
    "        print(\"There are {} locations that did not match.\".format(len(set(superSet) - set(progressingSet))))\n",
    "\n",
    "    print()\n",
    "    print(\"Total number of locations {} are encompassed out of {}.\".format(len(set(progressingSet)), len(superSet)))\n",
    "\n",
    "\n",
    "    print(\"Total number of elements in a weight matrix is \", len(superSet))\n",
    "\n",
    "    print(\"Total number of images fetched \",len(netSetOfImages),'\\n')\n",
    "\n",
    "    fetchimg_totImg_coverage_totCov.append(( len(netSetOfImages), len(set(progressingSet)), len(superSet) ))\n",
    "\n",
    "    # joblib.dump(fetchimg_totImg_coverage_totCov, open('res'+str(numImgs)+'.pkl','wb')) \n",
    "\n",
    "    # Superset \n",
    "    # joblib.dump(superSet, open('superSet.pkl','wb'))    \n",
    "\n",
    "                \n",
    "      \n",
    "    print(\"Output \\n\")\n",
    "    print(fetchimg_totImg_coverage_totCov)\n",
    "\n",
    "    #joblib.dump(fetchimg_totImg_coverage_totCov, open('op_128.pkl', 'wb'))\n"
   ]
  },
  {
   "cell_type": "code",
   "execution_count": 27,
   "metadata": {
    "colab": {
     "base_uri": "https://localhost:8080/"
    },
    "id": "8gVS777-o2yv",
    "outputId": "16286b2c-3b97-4de4-a5cd-cf209c4c65b9"
   },
   "outputs": [
    {
     "data": {
      "text/plain": [
       "0.4222627737226277"
      ]
     },
     "execution_count": 27,
     "metadata": {},
     "output_type": "execute_result"
    }
   ],
   "source": [
    "# Fault coverage\n",
    "fetchimg_totImg_coverage_totCov[-1][1]/fetchimg_totImg_coverage_totCov[-1][2]"
   ]
  },
  {
   "cell_type": "code",
   "execution_count": null,
   "metadata": {
    "id": "jh7vB-6dtttm"
   },
   "outputs": [],
   "source": []
  }
 ],
 "metadata": {
  "accelerator": "GPU",
  "colab": {
   "collapsed_sections": [],
   "name": "Main_CNN_2_Uniform_distribution.ipynb",
   "provenance": []
  },
  "kernelspec": {
   "display_name": "Python 3",
   "language": "python",
   "name": "python3"
  },
  "language_info": {
   "codemirror_mode": {
    "name": "ipython",
    "version": 3
   },
   "file_extension": ".py",
   "mimetype": "text/x-python",
   "name": "python",
   "nbconvert_exporter": "python",
   "pygments_lexer": "ipython3",
   "version": "3.7.3"
  }
 },
 "nbformat": 4,
 "nbformat_minor": 1
}
