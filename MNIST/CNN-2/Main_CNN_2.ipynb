{
  "nbformat": 4,
  "nbformat_minor": 0,
  "metadata": {
    "colab": {
      "name": "Main_CNN_2.ipynb",
      "provenance": [],
      "collapsed_sections": []
    },
    "kernelspec": {
      "name": "python3",
      "display_name": "Python 3"
    },
    "language_info": {
      "name": "python"
    },
    "accelerator": "GPU"
  },
  "cells": [
    {
      "cell_type": "code",
      "source": [
        "from google.colab import drive\n",
        "drive.mount('/content/drive')"
      ],
      "metadata": {
        "id": "QVsgA9QPiGQ4"
      },
      "execution_count": null,
      "outputs": []
    },
    {
      "cell_type": "code",
      "source": [
        "cd drive/MyDrive/Research1_code/"
      ],
      "metadata": {
        "id": "muBHtHJyiHdL"
      },
      "execution_count": null,
      "outputs": []
    },
    {
      "cell_type": "code",
      "source": [
        "cd mnist/CNN-2"
      ],
      "metadata": {
        "id": "ZrX7qWiCiQOz"
      },
      "execution_count": null,
      "outputs": []
    },
    {
      "cell_type": "code",
      "source": [
        "import numpy as np, joblib\n",
        "import sys, os, random\n",
        "import matplotlib.pyplot as plt\n",
        "import pickle, gzip\n",
        "from tqdm import tqdm,tqdm_notebook\n",
        "import torch\n",
        "import torchvision\n",
        "from torch import nn\n",
        "from torch.autograd import Variable\n",
        "import torch.optim as optim\n",
        "import torch.nn.functional as F\n",
        "from torchvision import datasets, transforms\n",
        "from torch.utils.data import Dataset, DataLoader\n",
        "from torch.utils.data.sampler import SubsetRandomSampler"
      ],
      "metadata": {
        "id": "KXMJB6isiRyk"
      },
      "execution_count": 4,
      "outputs": []
    },
    {
      "cell_type": "code",
      "source": [
        "batch_size = 128\n",
        "seed_num = 81\n",
        "\n",
        "# For reproducibility when you run the file with .py\n",
        "torch.cuda.is_available()\n",
        "torch.manual_seed(seed_num)\n",
        "torch.cuda.manual_seed(seed_num)\n",
        "np.random.seed(seed_num)\n",
        "random.seed(seed_num)\n",
        "torch.backends.cudnn.benchmark = True\n",
        "\n",
        "torch.backends.cudnn.deterministic =True"
      ],
      "metadata": {
        "id": "0ok6X5PjkKFX"
      },
      "execution_count": 7,
      "outputs": []
    },
    {
      "cell_type": "code",
      "source": [
        "# Data Augmentation \n",
        "train_transform = transforms.Compose([transforms.RandomRotation(30), transforms.RandomHorizontalFlip(),transforms.ToTensor(),transforms.Normalize([0.1307,],[0.3081,])])\n",
        "test_transform = transforms.Compose([transforms.ToTensor(),transforms.Normalize([0.1307,],[0.3081,])])\n",
        "\n",
        "# Splitting the training and test datasets\n",
        "train_data = datasets.MNIST(os.getcwd(), train=True,\n",
        "                              download=True, transform=train_transform)\n",
        "test_data = datasets.MNIST(os.getcwd(), train=False,\n",
        "                             download=True, transform=test_transform)\n"
      ],
      "metadata": {
        "id": "10agOYLDkidx"
      },
      "execution_count": 5,
      "outputs": []
    },
    {
      "cell_type": "code",
      "source": [
        "# Split the training set indices into training and validation set indices using 80:20 ratio\n",
        "np.random.seed(seed_num)\n",
        "len_trainset = len(train_data)\n",
        "index_list = list(range(len_trainset))\n",
        "np.random.shuffle(index_list)\n",
        "split_index = 50000\n",
        "train_indices, valid_indices =  index_list[:split_index], index_list[split_index:]\n",
        "\n",
        "# Creating Samplers for training and validation set using the indices\n",
        "np.random.seed(seed_num)\n",
        "train_sampler = SubsetRandomSampler(train_indices)\n",
        "valid_sampler = SubsetRandomSampler(valid_indices)\n",
        "\n",
        "torch.manual_seed(seed_num)\n",
        "\n",
        "train_iterator = DataLoader(train_data, batch_size=batch_size, sampler=train_sampler)\n",
        "val_iterator = DataLoader(train_data, batch_size=batch_size, sampler=valid_sampler)\n",
        "test_iterator = DataLoader(test_data, batch_size=batch_size, shuffle=True)\n"
      ],
      "metadata": {
        "id": "5GnCuQ91lCty"
      },
      "execution_count": 8,
      "outputs": []
    },
    {
      "cell_type": "code",
      "source": [
        "# CNN Model\n",
        "\n",
        "class CNNModel(nn.Module):\n",
        "    def __init__(self):\n",
        "        super(CNNModel, self).__init__()\n",
        "        \n",
        "        # Convolution 1\n",
        "        self.cnn1 = nn.Conv2d(in_channels=1, out_channels=16, kernel_size=3, stride=1, padding=0, bias= True)\n",
        "     \n",
        "        # Convolution 2\n",
        "        self.cnn2 = nn.Conv2d(in_channels=16, out_channels=32, kernel_size=3, stride=1, padding=0, bias= True)\n",
        "        \n",
        "        # Fully connected 1\n",
        "        self.fc1 = nn.Linear(32 * 5 * 5, 10,bias= True) \n",
        "    \n",
        "    def forward(self, x):\n",
        "        # Set 1\n",
        "        out = F.max_pool2d(F.relu(self.cnn1(x)),2)\n",
        "        \n",
        "        # Set 2\n",
        "        out = F.max_pool2d(F.relu(self.cnn2(out)),2) \n",
        "        \n",
        "        # Flatten\n",
        "        out = out.view(out.size(0), -1)\n",
        "\n",
        "        # Dense\n",
        "        out = self.fc1(out)\n",
        "        \n",
        "        return out"
      ],
      "metadata": {
        "id": "4D-XvGNzlJn_"
      },
      "execution_count": 9,
      "outputs": []
    },
    {
      "cell_type": "code",
      "source": [
        "torch.manual_seed(seed_num)\n",
        "unit=128\n",
        "\n",
        "# Summary\n",
        "model = CNNModel()\n",
        "print(\"Model:\\n\",model)"
      ],
      "metadata": {
        "colab": {
          "base_uri": "https://localhost:8080/"
        },
        "id": "W-97MR9BlJrW",
        "outputId": "bf4c2107-6f91-4d24-fea2-fb195b54b09e"
      },
      "execution_count": 10,
      "outputs": [
        {
          "output_type": "stream",
          "name": "stdout",
          "text": [
            "Model:\n",
            " CNNModel(\n",
            "  (cnn1): Conv2d(1, 16, kernel_size=(3, 3), stride=(1, 1))\n",
            "  (cnn2): Conv2d(16, 32, kernel_size=(3, 3), stride=(1, 1))\n",
            "  (fc1): Linear(in_features=800, out_features=10, bias=True)\n",
            ")\n"
          ]
        }
      ]
    },
    {
      "cell_type": "code",
      "source": [
        "# Layer names\n",
        "layer_name = [n for n, p in model.named_parameters()]\n",
        "layer_name"
      ],
      "metadata": {
        "colab": {
          "base_uri": "https://localhost:8080/"
        },
        "id": "A8PBc3NYlJuX",
        "outputId": "236885ef-b0d0-49bb-cf6d-7e572d272b18"
      },
      "execution_count": 11,
      "outputs": [
        {
          "output_type": "execute_result",
          "data": {
            "text/plain": [
              "['cnn1.weight',\n",
              " 'cnn1.bias',\n",
              " 'cnn2.weight',\n",
              " 'cnn2.bias',\n",
              " 'fc1.weight',\n",
              " 'fc1.bias']"
            ]
          },
          "metadata": {},
          "execution_count": 11
        }
      ]
    },
    {
      "cell_type": "code",
      "source": [
        "# Loading the weights of ternary model \n",
        "model = torch.load('CNN_2_quant.pt')\n",
        "model = model.cuda()\n",
        "print(\"Loading weights done !\")\n",
        "\n",
        "# Total number of ternary weights (+w, -w)\n",
        "totalParams = 0\n",
        "for i in layer_name:\n",
        "  print(i,(model.state_dict()[i] !=0).sum())\n",
        "  totalParams +=  (model.state_dict()[i] !=0).sum()\n",
        "    \n",
        "print(\"Total Parameters:\",totalParams, '\\n')"
      ],
      "metadata": {
        "colab": {
          "base_uri": "https://localhost:8080/"
        },
        "id": "7V_swsrplJxP",
        "outputId": "a5aa52fd-634d-4a8d-b02a-1f2cc8dfe451"
      },
      "execution_count": 12,
      "outputs": [
        {
          "output_type": "stream",
          "name": "stdout",
          "text": [
            "Loading weights done !\n",
            "cnn1.weight tensor(104, device='cuda:0')\n",
            "cnn1.bias tensor(13, device='cuda:0')\n",
            "cnn2.weight tensor(436, device='cuda:0')\n",
            "cnn2.bias tensor(28, device='cuda:0')\n",
            "fc1.weight tensor(780, device='cuda:0')\n",
            "fc1.bias tensor(9, device='cuda:0')\n",
            "Total Parameters: tensor(1370, device='cuda:0') \n",
            "\n"
          ]
        }
      ]
    },
    {
      "cell_type": "code",
      "source": [
        "# Model's performance on test set\n",
        "\n",
        "correct_count, all_count = 0, 0\n",
        "for images,labels in test_iterator:\n",
        "      for image,label in zip(images,labels):\n",
        "\n",
        "        if torch.cuda.is_available():\n",
        "            img = image.cuda()\n",
        "            lab = label.cuda()\n",
        "            img = img[None,].type('torch.cuda.FloatTensor')\n",
        "\n",
        "        with torch.no_grad():\n",
        "            output_ = model(img) \n",
        "\n",
        "        pred_label = output_.argmax()\n",
        "\n",
        "        if(pred_label.item()==lab.item()):\n",
        "          correct_count += 1\n",
        "        all_count += 1\n",
        "\n",
        "print(\"Number Of Images Tested =\", all_count)\n",
        "print(\"\\nModel Test Accuracy =\", (correct_count/(all_count)))\n"
      ],
      "metadata": {
        "colab": {
          "base_uri": "https://localhost:8080/"
        },
        "id": "0uPbBVUKlJ0X",
        "outputId": "1892b984-a8eb-4aef-b2e7-0b10f1b496d0"
      },
      "execution_count": 13,
      "outputs": [
        {
          "output_type": "stream",
          "name": "stdout",
          "text": [
            "Number Of Images Tested = 10000\n",
            "\n",
            "Model Test Accuracy = 0.893\n"
          ]
        }
      ]
    },
    {
      "cell_type": "code",
      "source": [
        "# For each layer, model's ternary weights\n",
        "state_dict = model.state_dict()\n",
        "\n",
        "layer_distinct_weights = {}\n",
        "\n",
        "for i in layer_name:\n",
        "  imd = torch.unique(model.state_dict()[i])\n",
        "  print(i+ ' hidden layer dimension', model.state_dict()[i].shape)\n",
        "  print(\"Unique values of weight in \"+ i+ \" th hidden layer : \", imd)\n",
        "  layer_distinct_weights[i] = imd.cpu().numpy().tolist()\n",
        "  print()\n"
      ],
      "metadata": {
        "colab": {
          "base_uri": "https://localhost:8080/"
        },
        "id": "RvZCWE-QlJ6U",
        "outputId": "c069c38b-c4e1-44e4-8995-7c764be74644"
      },
      "execution_count": 14,
      "outputs": [
        {
          "output_type": "stream",
          "name": "stdout",
          "text": [
            "cnn1.weight hidden layer dimension torch.Size([16, 1, 3, 3])\n",
            "Unique values of weight in cnn1.weight th hidden layer :  tensor([-1.,  0.,  1.], device='cuda:0')\n",
            "\n",
            "cnn1.bias hidden layer dimension torch.Size([16])\n",
            "Unique values of weight in cnn1.bias th hidden layer :  tensor([-1.,  0.,  1.], device='cuda:0')\n",
            "\n",
            "cnn2.weight hidden layer dimension torch.Size([32, 16, 3, 3])\n",
            "Unique values of weight in cnn2.weight th hidden layer :  tensor([-1.,  0.,  1.], device='cuda:0')\n",
            "\n",
            "cnn2.bias hidden layer dimension torch.Size([32])\n",
            "Unique values of weight in cnn2.bias th hidden layer :  tensor([-1.,  0.,  1.], device='cuda:0')\n",
            "\n",
            "fc1.weight hidden layer dimension torch.Size([10, 800])\n",
            "Unique values of weight in fc1.weight th hidden layer :  tensor([-1.,  0.,  1.], device='cuda:0')\n",
            "\n",
            "fc1.bias hidden layer dimension torch.Size([10])\n",
            "Unique values of weight in fc1.bias th hidden layer :  tensor([-1.,  0.,  1.], device='cuda:0')\n",
            "\n"
          ]
        }
      ]
    },
    {
      "cell_type": "code",
      "source": [
        "# Single seed normal distribution\n",
        "np.random.seed(seed_num)\n",
        "corr_images1 = []\n",
        "\n",
        "for i in range(4000): \n",
        "  corr_images1.append(np.random.randn(1,28,28))\n",
        "\n",
        "corr_images1 = np.array(corr_images1)\n",
        "corr_images1.shape"
      ],
      "metadata": {
        "colab": {
          "base_uri": "https://localhost:8080/"
        },
        "id": "Sr2l07FwlJ9I",
        "outputId": "4a3232a1-649c-469c-da19-a6188ad6b89c"
      },
      "execution_count": 15,
      "outputs": [
        {
          "output_type": "execute_result",
          "data": {
            "text/plain": [
              "(4000, 1, 28, 28)"
            ]
          },
          "metadata": {},
          "execution_count": 15
        }
      ]
    },
    {
      "cell_type": "code",
      "source": [
        "# Structured Patterns\n",
        "\n",
        "np.random.seed(seed_num)\n",
        "\n",
        "corr_images2 = []\n",
        "a = np.identity(28) * np.random.randn(28)\n",
        "corr_images2.append(a)\n",
        "b = np.fliplr(a.copy()) * np.random.randn(28)\n",
        "corr_images2.append(b)\n",
        "c = (a+b).copy() * np.random.randn(28)\n",
        "corr_images2.append(c)\n",
        "\n",
        "# To apply [1,1] , [0,1], [1,0]\n",
        "cp_file = [a,b,c]\n",
        "\n",
        "# To apply randn\n",
        "a1,b1,c1 = a.copy(), b.copy(), c.copy()\n",
        "cp_file1 = [a1, b1, c1]\n",
        "\n",
        "files = [cp_file, cp_file1]\n",
        "\n",
        "for i in range(6000):\n",
        "    \n",
        "    np.random.seed(i)\n",
        "    choose = np.random.randint(0,2)\n",
        "\n",
        "    # Picking row and column indices randomly\n",
        "    r_idx = np.random.randint(0,28)\n",
        "    c_idx = np.random.randint(0,28)\n",
        "\n",
        "    if choose == 0:\n",
        "        \n",
        "        # Selecting file\n",
        "        file = files[0]\n",
        "        \n",
        "        imd_img = file[np.random.randint(0,3)].copy()\n",
        "        \n",
        "        imd_img1 = file[np.random.randint(0,3)]\n",
        "        \n",
        "        opt =[[1,1] , [0,1], [1,0]]\n",
        "        \n",
        "        if np.random.randint(0,2) == 0:\n",
        "        \n",
        "            imd_img[r_idx,:] = np.array(opt[np.random.randint(0,3)] *14) \n",
        "            corr_images2.append(imd_img)\n",
        "\n",
        "            imd_img[:,c_idx] = np.array(opt[np.random.randint(0,3)] *14) \n",
        "            corr_images2.append(imd_img)\n",
        "\n",
        "        else:\n",
        "            imd_img1[r_idx,:] = np.array(opt[np.random.randint(0,3)] *14) \n",
        "            corr_images2.append(imd_img1)\n",
        "\n",
        "            imd_img1[:,c_idx] = np.array(opt[np.random.randint(0,3)] *14) \n",
        "            corr_images2.append(imd_img1)\n",
        "            \n",
        "\n",
        "    else:\n",
        "        \n",
        "        # Selecting file\n",
        "        file = files[1]\n",
        "        \n",
        "        imd_img = file[np.random.randint(0,3)].copy()\n",
        "        \n",
        "        imd_img1 = file[np.random.randint(0,3)]\n",
        "        \n",
        "        opt =[[1,1] , [0,1], [1,0]]\n",
        "        \n",
        "        if np.random.randint(0,2) == 0:\n",
        "        \n",
        "            imd_img[r_idx,:] = np.array(opt[np.random.randint(0,3)] *14) * np.random.randn(28)\n",
        "            corr_images2.append(imd_img)\n",
        "\n",
        "            imd_img[:,c_idx] = np.array(opt[np.random.randint(0,3)] *14) * np.random.randn(28)\n",
        "            corr_images2.append(imd_img)\n",
        "\n",
        "        else:\n",
        "            imd_img1[r_idx,:] = np.array(opt[np.random.randint(0,3)] *14) * np.random.randn(28)\n",
        "            corr_images2.append(imd_img1)\n",
        "\n",
        "            imd_img1[:,c_idx] = np.array(opt[np.random.randint(0,3)] *14) * np.random.randn(28)\n",
        "            corr_images2.append(imd_img1)\n",
        "    \n",
        "corr_images2 = np.array(corr_images2).reshape(len(corr_images2),1,28,28)"
      ],
      "metadata": {
        "id": "4cZcFQ5ylKcX"
      },
      "execution_count": 16,
      "outputs": []
    },
    {
      "cell_type": "code",
      "source": [
        "corr_images2 = np.unique(corr_images2, axis=0)\n",
        "len(corr_images2)"
      ],
      "metadata": {
        "colab": {
          "base_uri": "https://localhost:8080/"
        },
        "id": "xcmgnbR3lKu0",
        "outputId": "d76945da-cb28-4270-ca38-e5bda0c1451a"
      },
      "execution_count": 17,
      "outputs": [
        {
          "output_type": "execute_result",
          "data": {
            "text/plain": [
              "3099"
            ]
          },
          "metadata": {},
          "execution_count": 17
        }
      ]
    },
    {
      "cell_type": "code",
      "source": [
        "# Augmentation on structured images\n",
        "check_transform2 = transforms.Compose([transforms.ToTensor(), transforms.RandomRotation(35), transforms.RandomHorizontalFlip(),\n",
        "                                      transforms.Normalize([0.1307,],[0.3081,])]) \n",
        "    \n",
        "corr_images2_ = []\n",
        "for img in corr_images2:\n",
        "    corr_images2_.append(check_transform2(img).permute([1,0,2]).numpy())\n",
        "\n",
        "corr_images2 = np.array(corr_images2_)\n",
        "corr_images2.shape"
      ],
      "metadata": {
        "colab": {
          "base_uri": "https://localhost:8080/"
        },
        "id": "1k6M0gVko1k3",
        "outputId": "440aac6e-b209-4273-f5ef-4dfb779de8aa"
      },
      "execution_count": 18,
      "outputs": [
        {
          "output_type": "execute_result",
          "data": {
            "text/plain": [
              "(3099, 1, 28, 28)"
            ]
          },
          "metadata": {},
          "execution_count": 18
        }
      ]
    },
    {
      "cell_type": "code",
      "source": [
        "# Plotting some structured images\n",
        "for i in range(2,28):\n",
        "    plt.imshow(corr_images2[i].reshape((28,28)))\n",
        "    plt.show()"
      ],
      "metadata": {
        "colab": {
          "base_uri": "https://localhost:8080/",
          "height": 1000
        },
        "id": "v8fnTNduo2JO",
        "outputId": "ee1b2998-2a48-442d-8d26-d9a0ccb7198c"
      },
      "execution_count": 19,
      "outputs": [
        {
          "output_type": "display_data",
          "data": {
            "text/plain": [
              "<Figure size 432x288 with 1 Axes>"
            ],
            "image/png": "[encoded data removed]"
          },
          "metadata": {
            "needs_background": "light"
          }
        },
        {
          "output_type": "display_data",
          "data": {
            "text/plain": [
              "<Figure size 432x288 with 1 Axes>"
            ],
            "image/png": "[encoded data removed]"
          },
          "metadata": {
            "needs_background": "light"
          }
        },
        {
          "output_type": "display_data",
          "data": {
            "text/plain": [
              "<Figure size 432x288 with 1 Axes>"
            ],
            "image/png": "[encoded data removed]"
          },
          "metadata": {
            "needs_background": "light"
          }
        },
        {
          "output_type": "display_data",
          "data": {
            "text/plain": [
              "<Figure size 432x288 with 1 Axes>"
            ],
            "image/png": "[encoded data removed]"
          },
          "metadata": {
            "needs_background": "light"
          }
        },
        {
          "output_type": "display_data",
          "data": {
            "text/plain": [
              "<Figure size 432x288 with 1 Axes>"
            ],
            "image/png": "[encoded data removed]"
          },
          "metadata": {
            "needs_background": "light"
          }
        },
        {
          "output_type": "display_data",
          "data": {
            "text/plain": [
              "<Figure size 432x288 with 1 Axes>"
            ],
            "image/png": "[encoded data removed]"
          },
          "metadata": {
            "needs_background": "light"
          }
        },
        {
          "output_type": "display_data",
          "data": {
            "text/plain": [
              "<Figure size 432x288 with 1 Axes>"
            ],
            "image/png": "[encoded data removed]"
          },
          "metadata": {
            "needs_background": "light"
          }
        },
        {
          "output_type": "display_data",
          "data": {
            "text/plain": [
              "<Figure size 432x288 with 1 Axes>"
            ],
            "image/png": "[encoded data removed]"
          },
          "metadata": {
            "needs_background": "light"
          }
        },
        {
          "output_type": "display_data",
          "data": {
            "text/plain": [
              "<Figure size 432x288 with 1 Axes>"
            ],
            "image/png": "[encoded data removed]"
          },
          "metadata": {
            "needs_background": "light"
          }
        },
        {
          "output_type": "display_data",
          "data": {
            "text/plain": [
              "<Figure size 432x288 with 1 Axes>"
            ],
            "image/png": "[encoded data removed]"
          },
          "metadata": {
            "needs_background": "light"
          }
        },
        {
          "output_type": "display_data",
          "data": {
            "text/plain": [
              "<Figure size 432x288 with 1 Axes>"
            ],
            "image/png": "[encoded data removed]"
          },
          "metadata": {
            "needs_background": "light"
          }
        },
        {
          "output_type": "display_data",
          "data": {
            "text/plain": [
              "<Figure size 432x288 with 1 Axes>"
            ],
            "image/png": "[encoded data removed]"
          },
          "metadata": {
            "needs_background": "light"
          }
        },
        {
          "output_type": "display_data",
          "data": {
            "text/plain": [
              "<Figure size 432x288 with 1 Axes>"
            ],
            "image/png": "[encoded data removed]"
          },
          "metadata": {
            "needs_background": "light"
          }
        },
        {
          "output_type": "display_data",
          "data": {
            "text/plain": [
              "<Figure size 432x288 with 1 Axes>"
            ],
            "image/png": "[encoded data removed]"
          },
          "metadata": {
            "needs_background": "light"
          }
        },
        {
          "output_type": "display_data",
          "data": {
            "text/plain": [
              "<Figure size 432x288 with 1 Axes>"
            ],
            "image/png": "[encoded data removed]"
          },
          "metadata": {
            "needs_background": "light"
          }
        },
        {
          "output_type": "display_data",
          "data": {
            "text/plain": [
              "<Figure size 432x288 with 1 Axes>"
            ],
            "image/png": "[encoded data removed]"
          },
          "metadata": {
            "needs_background": "light"
          }
        },
        {
          "output_type": "display_data",
          "data": {
            "text/plain": [
              "<Figure size 432x288 with 1 Axes>"
            ],
            "image/png": "[encoded data removed]"
          },
          "metadata": {
            "needs_background": "light"
          }
        },
        {
          "output_type": "display_data",
          "data": {
            "text/plain": [
              "<Figure size 432x288 with 1 Axes>"
            ],
            "image/png": "[encoded data removed]"
          },
          "metadata": {
            "needs_background": "light"
          }
        },
        {
          "output_type": "display_data",
          "data": {
            "text/plain": [
              "<Figure size 432x288 with 1 Axes>"
            ],
            "image/png": "[encoded data removed]"
          },
          "metadata": {
            "needs_background": "light"
          }
        },
        {
          "output_type": "display_data",
          "data": {
            "text/plain": [
              "<Figure size 432x288 with 1 Axes>"
            ],
            "image/png": "[encoded data removed]"
          },
          "metadata": {
            "needs_background": "light"
          }
        },
        {
          "output_type": "display_data",
          "data": {
            "text/plain": [
              "<Figure size 432x288 with 1 Axes>"
            ],
            "image/png": "[encoded data removed]"
          },
          "metadata": {
            "needs_background": "light"
          }
        },
        {
          "output_type": "display_data",
          "data": {
            "text/plain": [
              "<Figure size 432x288 with 1 Axes>"
            ],
            "image/png": "[encoded data removed]"
          },
          "metadata": {
            "needs_background": "light"
          }
        },
        {
          "output_type": "display_data",
          "data": {
            "text/plain": [
              "<Figure size 432x288 with 1 Axes>"
            ],
            "image/png": "[encoded data removed]"
          },
          "metadata": {
            "needs_background": "light"
          }
        },
        {
          "output_type": "display_data",
          "data": {
            "text/plain": [
              "<Figure size 432x288 with 1 Axes>"
            ],
            "image/png": "[encoded data removed]"
          },
          "metadata": {
            "needs_background": "light"
          }
        },
        {
          "output_type": "display_data",
          "data": {
            "text/plain": [
              "<Figure size 432x288 with 1 Axes>"
            ],
            "image/png": "[encoded data removed]"
          },
          "metadata": {
            "needs_background": "light"
          }
        },
        {
          "output_type": "display_data",
          "data": {
            "text/plain": [
              "<Figure size 432x288 with 1 Axes>"
            ],
            "image/png": "[encoded data removed]"
          },
          "metadata": {
            "needs_background": "light"
          }
        }
      ]
    },
    {
      "cell_type": "code",
      "source": [
        "#############\n",
        "# Pixel taking randomly from 8 bits (0-255) to generate images\n",
        "\n",
        "np.random.seed(seed_num)\n",
        "corr_images1_ = []\n",
        "\n",
        "for i in range(3000):\n",
        "  corr_images1_.append(np.random.randint(0, 256, (1,28,28)).astype('float')/255.)\n",
        "\n",
        "\n",
        "check_transform1 = transforms.Compose([transforms.ToTensor(), transforms.RandomRotation(45), transforms.RandomHorizontalFlip(),\n",
        "                                      transforms.Normalize([0.1307,],[0.3081,])]) \n",
        " \n",
        "\n",
        "corr_images_ = []\n",
        "for img in corr_images1_:\n",
        "    corr_images_.append(check_transform1(img).permute([1,0,2]).numpy())"
      ],
      "metadata": {
        "id": "3bUdfYmdo2Lu"
      },
      "execution_count": 20,
      "outputs": []
    },
    {
      "cell_type": "code",
      "source": [
        "for i in range(15,28):\n",
        "    plt.imshow(corr_images_[i].reshape((28,28)))\n",
        "    plt.show()"
      ],
      "metadata": {
        "colab": {
          "base_uri": "https://localhost:8080/",
          "height": 1000
        },
        "id": "hUlgkRzXo2Ol",
        "outputId": "1998952a-4d4d-4a9c-fb30-732e252a1aea"
      },
      "execution_count": 21,
      "outputs": [
        {
          "output_type": "display_data",
          "data": {
            "text/plain": [
              "<Figure size 432x288 with 1 Axes>"
            ],
            "image/png": "[encoded data removed]"
          },
          "metadata": {
            "needs_background": "light"
          }
        },
        {
          "output_type": "display_data",
          "data": {
            "text/plain": [
              "<Figure size 432x288 with 1 Axes>"
            ],
            "image/png": "[encoded data removed]"
          },
          "metadata": {
            "needs_background": "light"
          }
        },
        {
          "output_type": "display_data",
          "data": {
            "text/plain": [
              "<Figure size 432x288 with 1 Axes>"
            ],
            "image/png": "[encoded data removed]"
          },
          "metadata": {
            "needs_background": "light"
          }
        },
        {
          "output_type": "display_data",
          "data": {
            "text/plain": [
              "<Figure size 432x288 with 1 Axes>"
            ],
            "image/png": "[encoded data removed]"
          },
          "metadata": {
            "needs_background": "light"
          }
        },
        {
          "output_type": "display_data",
          "data": {
            "text/plain": [
              "<Figure size 432x288 with 1 Axes>"
            ],
            "image/png": "[encoded data removed]"
          },
          "metadata": {
            "needs_background": "light"
          }
        },
        {
          "output_type": "display_data",
          "data": {
            "text/plain": [
              "<Figure size 432x288 with 1 Axes>"
            ],
            "image/png": "[encoded data removed]"
          },
          "metadata": {
            "needs_background": "light"
          }
        },
        {
          "output_type": "display_data",
          "data": {
            "text/plain": [
              "<Figure size 432x288 with 1 Axes>"
            ],
            "image/png": "[encoded data removed]"
          },
          "metadata": {
            "needs_background": "light"
          }
        },
        {
          "output_type": "display_data",
          "data": {
            "text/plain": [
              "<Figure size 432x288 with 1 Axes>"
            ],
            "image/png": "[encoded data removed]"
          },
          "metadata": {
            "needs_background": "light"
          }
        },
        {
          "output_type": "display_data",
          "data": {
            "text/plain": [
              "<Figure size 432x288 with 1 Axes>"
            ],
            "image/png": "[encoded data removed]"
          },
          "metadata": {
            "needs_background": "light"
          }
        },
        {
          "output_type": "display_data",
          "data": {
            "text/plain": [
              "<Figure size 432x288 with 1 Axes>"
            ],
            "image/png": "[encoded data removed]"
          },
          "metadata": {
            "needs_background": "light"
          }
        },
        {
          "output_type": "display_data",
          "data": {
            "text/plain": [
              "<Figure size 432x288 with 1 Axes>"
            ],
            "image/png": "[encoded data removed]"
          },
          "metadata": {
            "needs_background": "light"
          }
        },
        {
          "output_type": "display_data",
          "data": {
            "text/plain": [
              "<Figure size 432x288 with 1 Axes>"
            ],
            "image/png": "[encoded data removed]"
          },
          "metadata": {
            "needs_background": "light"
          }
        },
        {
          "output_type": "display_data",
          "data": {
            "text/plain": [
              "<Figure size 432x288 with 1 Axes>"
            ],
            "image/png": "[encoded data removed]"
          },
          "metadata": {
            "needs_background": "light"
          }
        }
      ]
    },
    {
      "cell_type": "code",
      "source": [
        "corr_images3 = np.array(corr_images_)"
      ],
      "metadata": {
        "id": "2Hq9pt6Bo2Q0"
      },
      "execution_count": 22,
      "outputs": []
    },
    {
      "cell_type": "code",
      "source": [
        "# Normal dist + Structured + Random Pixel\n",
        "corr_images = np.concatenate([corr_images1, corr_images2, corr_images3])[:10000]\n",
        "corr_images.shape"
      ],
      "metadata": {
        "colab": {
          "base_uri": "https://localhost:8080/"
        },
        "id": "xlI4lYUUo2Th",
        "outputId": "ed51e7fe-8eda-4633-fe52-5ac41571fb77"
      },
      "execution_count": 23,
      "outputs": [
        {
          "output_type": "execute_result",
          "data": {
            "text/plain": [
              "(10000, 1, 28, 28)"
            ]
          },
          "metadata": {},
          "execution_count": 23
        }
      ]
    },
    {
      "cell_type": "code",
      "source": [
        "corr_images = torch.tensor(corr_images).type(torch.FloatTensor).to('cuda')\n",
        "\n",
        "corr_label = []\n",
        "check_label = []\n",
        "\n",
        "model.eval()\n",
        "for img in corr_images:\n",
        "  img = img[None,].type('torch.cuda.FloatTensor')\n",
        "  with torch.no_grad():\n",
        "    pred = model(img).argmax()\n",
        "  corr_label.append(pred)\n",
        "  check_label.append(pred.item())\n",
        "\n",
        "digit,count = np.unique(check_label, return_counts=True)\n",
        "\n",
        "# Model's prediction on pseudorandom images\n",
        "print(\"\\nUnique digits : \",digit)\n",
        "\n",
        "print(\"\\n counts : \",count)"
      ],
      "metadata": {
        "colab": {
          "base_uri": "https://localhost:8080/"
        },
        "id": "3zyNkvo5o2WB",
        "outputId": "bcf0d9b3-6f1d-4e3e-d4d5-df4d2d49bb62"
      },
      "execution_count": 24,
      "outputs": [
        {
          "output_type": "stream",
          "name": "stdout",
          "text": [
            "\n",
            "Unique digits :  [0 1 2 3 4 5 6 7 8 9]\n",
            "\n",
            " counts :  [  99 3142  500 1234 1403 1494   16   80 2028    4]\n"
          ]
        }
      ]
    },
    {
      "cell_type": "code",
      "source": [
        "pos_neg_layerwise = {}\n",
        "\n",
        "for i in layer_name:\n",
        "  b = layer_distinct_weights[i]\n",
        "\n",
        "  if len(b) == 3:\n",
        "    neg, zero, pos = b\n",
        "    pos_neg_layerwise[i] = {}\n",
        "    pos_neg_layerwise[i]['pos'] = pos\n",
        "    pos_neg_layerwise[i]['neg'] = neg\n",
        "    \n",
        "  elif len(b) == 2:\n",
        "    un1, un2 = b\n",
        "\n",
        "    if un2 == 0:\n",
        "      neg, zero = b\n",
        "      pos_neg_layerwise[i] = {}\n",
        "      pos_neg_layerwise[i]['neg'] = neg\n",
        "      \n",
        "    elif un1 == 0:\n",
        "      zero, pos = b\n",
        "      pos_neg_layerwise[i] = {}\n",
        "      pos_neg_layerwise[i]['pos'] = pos\n",
        "\n",
        "    else:\n",
        "      neg, pos = b\n",
        "      pos_neg_layerwise[i] = {}\n",
        "      pos_neg_layerwise[i]['pos'] = pos\n",
        "      pos_neg_layerwise[i]['neg'] = neg\n",
        "\n",
        "  else:\n",
        "     un = b[0] \n",
        "\n",
        "     if un > 0:\n",
        "       pos_neg_layerwise[i] = {}\n",
        "       pos_neg_layerwise[i]['pos'] = un\n",
        "\n",
        "     elif un < 0:\n",
        "       pos_neg_layerwise[i] = {}\n",
        "       pos_neg_layerwise[i]['neg'] = un\n",
        "\n",
        "     else:\n",
        "       pos_neg_layerwise[i] = {}\n",
        "       pos_neg_layerwise[i]['zero'] = 0\n"
      ],
      "metadata": {
        "id": "uG1i7FSwo2Y5"
      },
      "execution_count": 25,
      "outputs": []
    },
    {
      "cell_type": "code",
      "source": [
        "layer_distinct_weights"
      ],
      "metadata": {
        "colab": {
          "base_uri": "https://localhost:8080/"
        },
        "id": "JZ4zH-VAo2bH",
        "outputId": "421840b4-bf12-4b91-8e48-02b52e51e62b"
      },
      "execution_count": 26,
      "outputs": [
        {
          "output_type": "execute_result",
          "data": {
            "text/plain": [
              "{'cnn1.bias': [-1.0, 0.0, 1.0],\n",
              " 'cnn1.weight': [-1.0, 0.0, 1.0],\n",
              " 'cnn2.bias': [-1.0, 0.0, 1.0],\n",
              " 'cnn2.weight': [-1.0, 0.0, 1.0],\n",
              " 'fc1.bias': [-1.0, 0.0, 1.0],\n",
              " 'fc1.weight': [-1.0, 0.0, 1.0]}"
            ]
          },
          "metadata": {},
          "execution_count": 26
        }
      ]
    },
    {
      "cell_type": "code",
      "source": [
        "class PseudoData(Dataset):\n",
        "    \n",
        "    def __init__(self, data, label):\n",
        "        \n",
        "        self.data = data\n",
        "        self.label = label\n",
        "\n",
        "    def __getitem__(self, index):\n",
        "        \n",
        "        return self.data[index], self.label[index]\n",
        "\n",
        "    def __len__(self):\n",
        "        return len(self.data)\n",
        "\n",
        "corr_label = torch.tensor(corr_label).type(torch.FloatTensor).to('cuda')\n",
        "pseudo_dataLoader = DataLoader(dataset = PseudoData(corr_images, corr_label), batch_size = 1000, shuffle=False) "
      ],
      "metadata": {
        "id": "cCfKOm8no2du"
      },
      "execution_count": 27,
      "outputs": []
    },
    {
      "cell_type": "code",
      "source": [
        "def getResult(test_example, test_label, model, st):\n",
        "    model.load_state_dict(st)\n",
        "    model.eval()\n",
        "    with torch.no_grad():\n",
        "        output_ = model(test_example.float()) \n",
        "        pred = output_.data.max(1, keepdim=True)[1]\n",
        "        z = pred.eq(test_label.data.view_as(pred)).flatten()\n",
        "        return torch.where(z == False)[0]"
      ],
      "metadata": {
        "id": "uAf424TSo2gc"
      },
      "execution_count": 28,
      "outputs": []
    },
    {
      "cell_type": "code",
      "source": [
        "def populateResults(idx, batch_id, old_state, new_state, w_images, n_ic, n_oc, row, column, weight_name):\n",
        "  key = 'img_id'+str(idx)+'_batch_'+str(batch_id)\n",
        "  if key not in w_images:\n",
        "    w_images[key] = {}\n",
        "    w_images[key]['location'] = []\n",
        "    w_images[key]['location'].append((weight_name, n_ic, n_oc, row, column, old_state, new_state))\n",
        "    w_images[key]['weight_states'] = []\n",
        "    w_images[key]['weight_states'].append(weight_name + ' : ' + str(old_state) + ' --> ' + str(new_state))\n",
        "\n",
        "  else:\n",
        "    w_images[key]['location'].append((weight_name, n_ic, n_oc, row, column, old_state, new_state))\n",
        "    w_images[key]['weight_states'].append(weight_name + ' : ' + str(old_state) + ' --> ' + str(new_state))"
      ],
      "metadata": {
        "id": "qQkUUItGo2j2"
      },
      "execution_count": 29,
      "outputs": []
    },
    {
      "cell_type": "code",
      "source": [
        "def populateResults1(idx, batch_id, old_state, new_state, w_images, row, column, weight_name):\n",
        "  key = 'img_id'+str(idx)+'_batch_'+str(batch_id)\n",
        "  if key not in w_images:\n",
        "    w_images[key] = {}\n",
        "    w_images[key]['location'] = []\n",
        "    w_images[key]['location'].append((weight_name, row, column, old_state, new_state))\n",
        "    w_images[key]['weight_states'] = []\n",
        "    w_images[key]['weight_states'].append(weight_name + ' : ' + str(old_state) + ' --> ' + str(new_state))\n",
        "\n",
        "  else:\n",
        "    w_images[key]['location'].append((weight_name, row, column, old_state, new_state))\n",
        "    w_images[key]['weight_states'].append(weight_name + ' : ' + str(old_state) + ' --> ' + str(new_state))"
      ],
      "metadata": {
        "id": "jCBF5EBvo2lz"
      },
      "execution_count": 30,
      "outputs": []
    },
    {
      "cell_type": "code",
      "source": [
        "# For bias weight mutation\n",
        "\n",
        "def bias_mutation(st, superSet, w_images, img,label, batch_id, weight_name):\n",
        "\n",
        "  if ('pos' in pos_neg_layerwise[weight_name]) and ('neg' in pos_neg_layerwise[weight_name]):\n",
        "    un = pos_neg_layerwise[weight_name]['pos'], pos_neg_layerwise[weight_name]['neg']\n",
        "\n",
        "    var_neg1 = torch.where(st==un[1])[0]\n",
        "    var_1 = torch.where(st==un[0])[0]\n",
        "\n",
        "  else:\n",
        "    try:\n",
        "      un = pos_neg_layerwise[weight_name]['pos']\n",
        "\n",
        "      var_neg1 = torch.where(st==un*1000)[0]\n",
        "      var_1 = torch.where(st==un)[0]\n",
        "\n",
        "    except KeyError:\n",
        "      un = pos_neg_layerwise[weight_name]['neg']\n",
        "\n",
        "      var_neg1 = torch.where(st==un)[0]\n",
        "      var_1 = torch.where(st==un*1000)[0]\n",
        "\n",
        "\n",
        "  if (var_neg1.nelement() == 0.) and (var_1.nelement() == 0.):\n",
        "    pass\n",
        "  else:\n",
        "    for column in torch.cat((var_neg1, var_1), 0):\n",
        "      row = 0\n",
        "      column = column.item()\n",
        "\n",
        "      org_val_real = st[column].item() # For bias part\n",
        "\n",
        "      if type(un) == tuple:\n",
        "          pos, neg = un   # Positive, Negative \n",
        "          if (org_val_real < 0.) and (org_val_real == neg):\n",
        "            org_val = neg\n",
        "\n",
        "            old_state = neg\n",
        "            new_state = 0.\n",
        "            superSet.add((weight_name, row, column, -1, 0))\n",
        "\n",
        "            st[column] = new_state\n",
        "\n",
        "            \"\"\"getResult() will tell whether the passed test example is classified to other class\n",
        "            or not after mutation, if it is classified to other class, then it returns True else False and \n",
        "            populateResults() will maintain the record of test examples which has been misclassified\n",
        "            like location(row(which neuron), column(indices)), old_state(old_value of weight element), \n",
        "            new_state (mutated value of weight element), images\"\"\"\n",
        "\n",
        "            \n",
        "            [populateResults1(idx.item(), batch_id, -1, 0, w_images, row, column, weight_name) \\\n",
        "             for idx in getResult(img, label, model, state_dict)]\n",
        "          \n",
        "            new_state = pos\n",
        "            superSet.add((weight_name, row, column, -1, 1))\n",
        "\n",
        "            st[column] = new_state\n",
        "\n",
        "            [populateResults1(idx.item(), batch_id, -1, 1, w_images, row, column, weight_name) \\\n",
        "             for idx in getResult(img, label, model, state_dict)]\n",
        "            \n",
        "            st[column] = org_val\n",
        "\n",
        "          elif (org_val_real > 0.) and (org_val_real == pos):\n",
        "\n",
        "            org_val = pos\n",
        "            old_state = pos\n",
        "            new_state = 0.\n",
        "            superSet.add((weight_name, row, column, 1, 0))\n",
        "            st[column] = new_state\n",
        "\n",
        "            [populateResults1(idx.item(), batch_id, 1, 0, w_images, row, column, weight_name) \\\n",
        "             for idx in getResult(img, label, model, state_dict)]\n",
        "          \n",
        "            new_state = neg\n",
        "            superSet.add((weight_name, row, column, 1, -1))\n",
        "\n",
        "            st[column] = new_state\n",
        "            \n",
        "            [populateResults1(idx.item(), batch_id, 1, -1, w_images, row, column, weight_name) \\\n",
        "             for idx in getResult(img, label, model, state_dict)]\n",
        "            \n",
        "            st[column] = org_val\n",
        "\n",
        "\n",
        "      \n",
        "      ############# Negative ################################\n",
        "      elif (un < 0) and (org_val_real == un):\n",
        "          org_val = un\n",
        "          old_state = un\n",
        "          new_state = 0.\n",
        "          superSet.add((weight_name, row, column, -1, 0))\n",
        "          st[column] = new_state\n",
        "            \n",
        "          [populateResults1(idx.item(), batch_id, -1, 0, w_images, row, column, weight_name) \\\n",
        "           for idx in getResult(img, label, model, state_dict)]\n",
        "          \n",
        "          st[column] = org_val\n",
        "\n",
        "\n",
        "      elif (un > 0) and (org_val_real == un):  ############# Positive  ################################\n",
        "          org_val = un\n",
        "          old_state = un\n",
        "          new_state = 0.\n",
        "          superSet.add((weight_name, row, column, 1, 0))\n",
        "          st[column] = new_state\n",
        "          [populateResults1(idx.item(), batch_id, 1, 0, w_images, row, column, weight_name) \\\n",
        "           for idx in getResult(img, label, model, state_dict)]\n",
        "\n",
        "          st[column] = org_val\n",
        "\n",
        "\n",
        "      #################################################################################################################"
      ],
      "metadata": {
        "id": "Tb0jVhzUo2oX"
      },
      "execution_count": 31,
      "outputs": []
    },
    {
      "cell_type": "code",
      "source": [
        "# Saving length of shape for each layer\n",
        "layers_shape = {}\n",
        "\n",
        "for i in layer_name:\n",
        "  layers_shape[i] = len(state_dict[i].shape)"
      ],
      "metadata": {
        "id": "oaZX0ddzo2rG"
      },
      "execution_count": 32,
      "outputs": []
    },
    {
      "cell_type": "code",
      "source": [
        "print(layers_shape)"
      ],
      "metadata": {
        "colab": {
          "base_uri": "https://localhost:8080/"
        },
        "id": "PFbz-pOzo2tw",
        "outputId": "6c69a822-74b5-4ab3-8547-1901b16bdbc5"
      },
      "execution_count": 33,
      "outputs": [
        {
          "output_type": "stream",
          "name": "stdout",
          "text": [
            "{'cnn1.weight': 4, 'cnn1.bias': 1, 'cnn2.weight': 4, 'cnn2.bias': 1, 'fc1.weight': 2, 'fc1.bias': 1}\n"
          ]
        }
      ]
    },
    {
      "cell_type": "code",
      "source": [
        "# Injecting fault by mutating the ternary weight and check whether it is classified to other class than before by the model. \n",
        "\n",
        "fetchimg_totImg_coverage_totCov = []\n",
        "\n",
        "w_images = {}\n",
        "superSet = set()\n",
        "\n",
        "\n",
        "batch_id = 0\n",
        "for img,label  in tqdm(pseudo_dataLoader):\n",
        "\n",
        "    for weight_name in layer_name:\n",
        "\n",
        "        # Selecting hidden layer to iterate its weight elements\n",
        "        st = state_dict[weight_name]\n",
        "\n",
        "\n",
        "        if ('bias' in weight_name) or (layers_shape[weight_name] == 1):\n",
        "          bias_mutation(st, superSet, w_images, img,label, batch_id, weight_name)\n",
        "          continue\n",
        "\n",
        "        if ('conv' in weight_name) or (layers_shape[weight_name] == 4):\n",
        "\n",
        "          ic, oc, k,k1 = st.shape # ic = in_channel, oc= out_channel, k and k1 is the number of rows and columns of a kernel\n",
        "\n",
        "          for n_ic in range(ic):\n",
        "            for n_oc in range(oc):\n",
        "              kt =  st[n_ic][n_oc] # Fetching Kernel matrix or tensor\n",
        "\n",
        "              # Iterating number of neurons for the selected hidden layer\n",
        "              for row in range(k):\n",
        "\n",
        "                # Fetching indices for -w and w weight value for the selected kernel\n",
        "                \"\"\"Since each kernel has weight vector, so by fetching indices\n",
        "                we will come to know, which indices of the kernel contains weights -w or w weight\"\"\"\n",
        "\n",
        "                ###########################################################################################\n",
        "\n",
        "                if ('pos' in pos_neg_layerwise[weight_name]) and ('neg' in pos_neg_layerwise[weight_name]):\n",
        "                  un = pos_neg_layerwise[weight_name]['pos'], pos_neg_layerwise[weight_name]['neg']\n",
        "\n",
        "                  var_neg1 = torch.where(kt[row]==un[1])[0]\n",
        "                  var_1 = torch.where(kt[row]==un[0])[0]\n",
        "\n",
        "                else:\n",
        "                  try:\n",
        "                    un = pos_neg_layerwise[weight_name]['pos']\n",
        "\n",
        "                    var_neg1 = torch.where(kt[row]==un*1000)[0]\n",
        "                    var_1 = torch.where(kt[row]==un)[0]\n",
        "\n",
        "                  except KeyError:\n",
        "                    un = pos_neg_layerwise[weight_name]['neg']\n",
        "\n",
        "                    var_neg1 = torch.where(kt[row]==un)[0]\n",
        "                    var_1 = torch.where(kt[row]==un*1000)[0]\n",
        "\n",
        "                ##########################################################################################\n",
        "\n",
        "                if (var_neg1.nelement() == 0.) and (var_1.nelement() == 0.):\n",
        "                  continue\n",
        "                else:\n",
        "                  for column in torch.cat((var_neg1, var_1), 0):\n",
        "\n",
        "                    column = column.item()\n",
        "\n",
        "                    org_val_real = kt[row][column].item()\n",
        "\n",
        "                    ##################################################################################################################\n",
        "\n",
        "                    if type(un) == tuple:\n",
        "                      pos, neg = un  # Positive, Negative\n",
        "\n",
        "                      if (org_val_real < 0.) and (org_val_real == neg):\n",
        "                        org_val = neg\n",
        "                        old_state = neg\n",
        "                        new_state = 0.\n",
        "                        superSet.add((weight_name, n_ic, n_oc, row, column, -1, 0))\n",
        "\n",
        "                        st[n_ic][n_oc][row][column] = new_state\n",
        "                        \n",
        "                        \"\"\"getResult() will tell whether the passed test example is classified to other class\n",
        "                        or not after mutation, if it is classified to other class, then it returns True else False and \n",
        "                        populateResults() will maintain the record of test examples which has been misclassified\n",
        "                        like location(row(which neuron), column(indices)), old_state(old_value of weight element), \n",
        "                        new_state (mutated value of weight element), images\"\"\"\n",
        "\n",
        "                        \n",
        "                        [populateResults(idx.item(), batch_id, -1, 0, w_images, n_ic, n_oc, row, column, weight_name) \\\n",
        "                         for idx in getResult(img, label, model, state_dict)]\n",
        "                        \n",
        "                        new_state = pos\n",
        "                        superSet.add((weight_name, n_ic, n_oc, row, column, -1, 1))\n",
        "                        st[n_ic][n_oc][row][column] = new_state\n",
        "\n",
        "                            \n",
        "                        [populateResults(idx.item(), batch_id, -1, 1, w_images, n_ic, n_oc, row, column, weight_name) \\\n",
        "                         for idx in getResult(img, label, model, state_dict)]\n",
        "                        st[n_ic][n_oc][row][column] = org_val # Setting back to original value\n",
        "\n",
        "                    \n",
        "                      elif (org_val_real > 0.) and (org_val_real == pos):\n",
        "                        org_val = pos\n",
        "                        old_state = pos\n",
        "                        new_state = 0.\n",
        "                        superSet.add((weight_name, n_ic, n_oc, row, column, 1, 0))\n",
        "\n",
        "                        st[n_ic][n_oc][row][column] = new_state\n",
        "                        \n",
        "                        [populateResults(idx.item(), batch_id, 1, 0, w_images, n_ic, n_oc, row, column, weight_name) \\\n",
        "                         for idx in getResult(img, label, model, state_dict)]\n",
        "                        \n",
        "                        new_state = neg\n",
        "                        superSet.add((weight_name, n_ic, n_oc, row, column, 1, -1))\n",
        "                        st[n_ic][n_oc][row][column] = new_state\n",
        "\n",
        "                            \n",
        "                        [populateResults(idx.item(), batch_id, 1, -1, w_images, n_ic, n_oc, row, column, weight_name) \\\n",
        "                         for idx in getResult(img, label, model, state_dict)]\n",
        "                        \n",
        "                        st[n_ic][n_oc][row][column] = org_val # Setting back to original value\n",
        "\n",
        "\n",
        "\n",
        "\n",
        "                    elif (un < 0) and (org_val_real == un): ########################## Negative ###########################################\n",
        "                      org_val = un\n",
        "                      old_state = un\n",
        "                      new_state = 0.\n",
        "                      superSet.add((weight_name,  n_ic, n_oc, row, column, -1, 0))\n",
        "                      st[n_ic][n_oc][row][column] = new_state\n",
        "                        \n",
        "                      [populateResults(idx.item(), batch_id, -1, 0, w_images, n_ic, n_oc, row, column, weight_name) \\\n",
        "                       for idx in getResult(img, label, model, state_dict)]\n",
        "                      \n",
        "                      st[row][column] = org_val\n",
        "\n",
        "\n",
        "                    elif (un > 0) and (org_val_real == un): ########################## Positive ###########################################\n",
        "                      org_val = un\n",
        "                      old_state = un\n",
        "                      new_state = 0.\n",
        "                      superSet.add((weight_name, n_ic, n_oc, row, column, 1, 0))\n",
        "                      st[n_ic][n_oc][row][column] = new_state\n",
        "                        \n",
        "                      [populateResults(idx.item(), batch_id, 1, 0, w_images, n_ic, n_oc, row, column, weight_name) \\\n",
        "                       for idx in getResult(img, label, model, state_dict)]\n",
        "                      st[row][column] = org_val\n",
        "\n",
        "\n",
        "    \n",
        "            \n",
        "        \n",
        "        # For fully connected layers\n",
        "        elif layers_shape[weight_name] == 2:\n",
        "          rows = state_dict[weight_name].shape[0]\n",
        "\n",
        "          # Iterating number of neurons for the selected hidden layer\n",
        "          for row in range(rows):\n",
        "\n",
        "            # Fetching indices for -w and w weight value for the selected neuron\n",
        "            \"\"\"Since each neuron has weight vector, so by fetching indices\n",
        "            we will come to know, which indices of the neuron contains weights -w or w weight\"\"\"\n",
        "\n",
        "            #########################################################################################\n",
        "\n",
        "            if ('pos' in pos_neg_layerwise[weight_name]) and ('neg' in pos_neg_layerwise[weight_name]):\n",
        "              un = pos_neg_layerwise[weight_name]['pos'], pos_neg_layerwise[weight_name]['neg']\n",
        "\n",
        "              var_neg1 = torch.where(st[row]==un[1])[0]\n",
        "              var_1 = torch.where(st[row]==un[0])[0]\n",
        "\n",
        "            else:\n",
        "              try:\n",
        "                un = pos_neg_layerwise[weight_name]['pos']\n",
        "\n",
        "                var_neg1 = torch.where(st[row]==un*1000)[0]\n",
        "                var_1 = torch.where(st[row]==un)[0]\n",
        "\n",
        "              except KeyError:\n",
        "                un = pos_neg_layerwise[weight_name]['neg']\n",
        "\n",
        "                var_neg1 = torch.where(st[row]==un)[0]\n",
        "                var_1 = torch.where(st[row]==un*1000)[0]\n",
        "\n",
        "\n",
        "            #########################################################################################\n",
        "\n",
        "\n",
        "            if (var_neg1.nelement() == 0.) and (var_1.nelement() == 0.):\n",
        "              continue\n",
        "            else:\n",
        "              for column in torch.cat((var_neg1, var_1), 0):\n",
        "\n",
        "                column = column.item()\n",
        "\n",
        "                org_val_v1 = st[row][column].item()\n",
        "\n",
        "\n",
        "                #########################################################################################\n",
        "\n",
        "                if type(un) == tuple:\n",
        "                  pos, neg = un  # Positive, Negative\n",
        "\n",
        "                  if (org_val_v1 < 0.) and (neg == org_val_v1):\n",
        "\n",
        "                    org_val = neg\n",
        "                    old_state = neg\n",
        "                    new_state = 0.\n",
        "                    superSet.add((weight_name, row, column, -1, 0))\n",
        "\n",
        "                    st[row][column] = new_state\n",
        "                    \n",
        "                    [populateResults1(idx.item(), batch_id, -1, 0, w_images, row, column, weight_name) \\\n",
        "                     for idx in getResult(img, label, model, state_dict)]\n",
        "                    \n",
        "                    new_state = pos\n",
        "                    superSet.add((weight_name, row, column, -1, 1))\n",
        "                    st[row][column] = new_state\n",
        "                        \n",
        "                    [populateResults1(idx.item(), batch_id, -1, 1, w_images, row, column, weight_name) \\\n",
        "                     for idx in getResult(img, label, model, state_dict)]\n",
        "                    st[row][column] = org_val\n",
        "\n",
        "\n",
        "                  elif (org_val_v1 > 0.) and (pos == org_val_v1):\n",
        "\n",
        "                    org_val = pos\n",
        "                    old_state = pos\n",
        "                    new_state = 0.\n",
        "                    superSet.add((weight_name, row, column, 1, 0))\n",
        "\n",
        "                    st[row][column] = new_state\n",
        "                    \n",
        "                    [populateResults1(idx.item(), batch_id, 1, 0, w_images, row, column, weight_name) \\\n",
        "                     for idx in getResult(img, label, model, state_dict)]\n",
        "                    \n",
        "                    new_state = neg\n",
        "                    superSet.add((weight_name, row, column, 1, -1))\n",
        "                    st[row][column] = new_state\n",
        "                        \n",
        "                    [populateResults1(idx.item(), batch_id, 1, -1, w_images, row, column, weight_name) \\\n",
        "                     for idx in getResult(img, label, model, state_dict)]\n",
        "                    st[row][column] = org_val\n",
        "\n",
        "\n",
        " \n",
        "                elif (un < 0) and (un == org_val_v1):  ################# Negative ###############################################################\n",
        "                  org_val = un  \n",
        "                  old_state = un\n",
        "                  new_state = 0.\n",
        "                  superSet.add((weight_name, row, column, -1, 0))\n",
        "                  st[row][column] = new_state\n",
        "                    \n",
        "                  [populateResults1(idx.item(), batch_id, -1, 0, w_images, row, column, weight_name) \\\n",
        "                   for idx in getResult(img, label, model, state_dict)]\n",
        "\n",
        "                  st[row][column] = org_val\n",
        "\n",
        "\n",
        "                elif (un > 0) and (un == org_val_v1):  ################# Positive ###############################################################\n",
        "                  org_val = un\n",
        "                  old_state = un\n",
        "                  new_state = 0.\n",
        "                  superSet.add((weight_name, row, column, 1, 0))\n",
        "                  st[row][column] = new_state\n",
        "                    \n",
        "                  [populateResults1(idx.item(), batch_id, 1, 0, w_images, row, column, weight_name) \\\n",
        "                   for idx in getResult(img, label, model, state_dict)]\n",
        "                  \n",
        "                  st[row][column] = org_val\n",
        "\n",
        "\n",
        "    batch_id += 1\n",
        "\n",
        "\n",
        "    # Fetching locations and total number of images\n",
        "    ################################################\n",
        "\n",
        "    print(f\"Total number of elements in superSet is : {len(superSet)}.\",'\\n')\n",
        "\n",
        "    # joblib.dump(w_images, open('w_images_'+str(batch_id)+'.pkl','wb')) \n",
        "\n",
        "    image_locCounts = [] # (image_id,locationCounts)\n",
        "\n",
        "    for img in w_images.keys():\n",
        "        locCounts = len(w_images[img]['location'])\n",
        "        image_locCounts.append((locCounts,img))\n",
        "            \n",
        "    image_locCounts.sort(reverse=True)\n",
        "\n",
        "\n",
        "    netSetOfImages = []\n",
        "    progressingSet = []\n",
        "    max_locCounts_img = image_locCounts[0][1] # An image that has encompassed maximum locations.\n",
        "\n",
        "    netSetOfImages.append(max_locCounts_img)\n",
        "    progressingSet += set(w_images[max_locCounts_img]['location'])\n",
        "\n",
        "\n",
        "    for i in range(1,len(image_locCounts)):\n",
        "        img = image_locCounts[i][1]\n",
        "        locs = w_images[img]['location']\n",
        "\n",
        "        if set(locs).issubset(progressingSet):\n",
        "            pass\n",
        "        else:\n",
        "            progressingSet += list(set(locs) - set(progressingSet))\n",
        "            netSetOfImages.append(img)\n",
        "\n",
        "\n",
        "    if set(superSet).issubset(progressingSet):\n",
        "        print(\"All match done!\")\n",
        "    else:\n",
        "        print(\"There are {} locations that did not match.\".format(len(set(superSet) - set(progressingSet))))\n",
        "\n",
        "    print()\n",
        "    print(\"Total number of locations {} are encompassed out of {}.\".format(len(set(progressingSet)), len(superSet)))\n",
        "\n",
        "\n",
        "    print(\"Total number of elements in a weight matrix is \", len(superSet))\n",
        "\n",
        "    print(\"Total number of images fetched \",len(netSetOfImages),'\\n')\n",
        "\n",
        "    fetchimg_totImg_coverage_totCov.append(( len(netSetOfImages), len(set(progressingSet)), len(superSet) ))\n",
        "\n",
        "    # joblib.dump(fetchimg_totImg_coverage_totCov, open('res'+str(numImgs)+'.pkl','wb')) \n",
        "\n",
        "    # Superset \n",
        "    # joblib.dump(superSet, open('superSet.pkl','wb'))    \n",
        "\n",
        "                \n",
        "      \n",
        "    print(\"Output \\n\")\n",
        "    print(fetchimg_totImg_coverage_totCov)\n",
        "\n",
        "    #joblib.dump(fetchimg_totImg_coverage_totCov, open('op_128.pkl', 'wb'))\n"
      ],
      "metadata": {
        "colab": {
          "base_uri": "https://localhost:8080/"
        },
        "id": "NuNNlCH0o2wG",
        "outputId": "fbb62609-0832-41e5-a8e0-6b6b23438f08"
      },
      "execution_count": 34,
      "outputs": [
        {
          "output_type": "stream",
          "name": "stderr",
          "text": [
            "\r  0%|          | 0/10 [00:00<?, ?it/s]"
          ]
        },
        {
          "output_type": "stream",
          "name": "stdout",
          "text": [
            "Total number of elements in superSet is : 2740. \n",
            "\n"
          ]
        },
        {
          "output_type": "stream",
          "name": "stderr",
          "text": [
            "\r 10%|█         | 1/10 [00:07<01:03,  7.03s/it]"
          ]
        },
        {
          "output_type": "stream",
          "name": "stdout",
          "text": [
            "There are 724 locations that did not match.\n",
            "\n",
            "Total number of locations 2016 are encompassed out of 2740.\n",
            "Total number of elements in a weight matrix is  2740\n",
            "Total number of images fetched  117 \n",
            "\n",
            "Output \n",
            "\n",
            "[(117, 2016, 2740)]\n",
            "Total number of elements in superSet is : 2740. \n",
            "\n"
          ]
        },
        {
          "output_type": "stream",
          "name": "stderr",
          "text": [
            "\r 20%|██        | 2/10 [00:14<00:57,  7.13s/it]"
          ]
        },
        {
          "output_type": "stream",
          "name": "stdout",
          "text": [
            "There are 550 locations that did not match.\n",
            "\n",
            "Total number of locations 2190 are encompassed out of 2740.\n",
            "Total number of elements in a weight matrix is  2740\n",
            "Total number of images fetched  130 \n",
            "\n",
            "Output \n",
            "\n",
            "[(117, 2016, 2740), (130, 2190, 2740)]\n",
            "Total number of elements in superSet is : 2740. \n",
            "\n"
          ]
        },
        {
          "output_type": "stream",
          "name": "stderr",
          "text": [
            "\r 30%|███       | 3/10 [00:21<00:51,  7.31s/it]"
          ]
        },
        {
          "output_type": "stream",
          "name": "stdout",
          "text": [
            "There are 494 locations that did not match.\n",
            "\n",
            "Total number of locations 2246 are encompassed out of 2740.\n",
            "Total number of elements in a weight matrix is  2740\n",
            "Total number of images fetched  142 \n",
            "\n",
            "Output \n",
            "\n",
            "[(117, 2016, 2740), (130, 2190, 2740), (142, 2246, 2740)]\n",
            "Total number of elements in superSet is : 2740. \n",
            "\n"
          ]
        },
        {
          "output_type": "stream",
          "name": "stderr",
          "text": [
            "\r 40%|████      | 4/10 [00:29<00:44,  7.49s/it]"
          ]
        },
        {
          "output_type": "stream",
          "name": "stdout",
          "text": [
            "There are 454 locations that did not match.\n",
            "\n",
            "Total number of locations 2286 are encompassed out of 2740.\n",
            "Total number of elements in a weight matrix is  2740\n",
            "Total number of images fetched  152 \n",
            "\n",
            "Output \n",
            "\n",
            "[(117, 2016, 2740), (130, 2190, 2740), (142, 2246, 2740), (152, 2286, 2740)]\n",
            "Total number of elements in superSet is : 2740. \n",
            "\n"
          ]
        },
        {
          "output_type": "stream",
          "name": "stderr",
          "text": [
            "\r 50%|█████     | 5/10 [00:36<00:36,  7.38s/it]"
          ]
        },
        {
          "output_type": "stream",
          "name": "stdout",
          "text": [
            "There are 349 locations that did not match.\n",
            "\n",
            "Total number of locations 2391 are encompassed out of 2740.\n",
            "Total number of elements in a weight matrix is  2740\n",
            "Total number of images fetched  164 \n",
            "\n",
            "Output \n",
            "\n",
            "[(117, 2016, 2740), (130, 2190, 2740), (142, 2246, 2740), (152, 2286, 2740), (164, 2391, 2740)]\n",
            "Total number of elements in superSet is : 2740. \n",
            "\n"
          ]
        },
        {
          "output_type": "stream",
          "name": "stderr",
          "text": [
            "\r 60%|██████    | 6/10 [00:44<00:29,  7.40s/it]"
          ]
        },
        {
          "output_type": "stream",
          "name": "stdout",
          "text": [
            "There are 318 locations that did not match.\n",
            "\n",
            "Total number of locations 2422 are encompassed out of 2740.\n",
            "Total number of elements in a weight matrix is  2740\n",
            "Total number of images fetched  175 \n",
            "\n",
            "Output \n",
            "\n",
            "[(117, 2016, 2740), (130, 2190, 2740), (142, 2246, 2740), (152, 2286, 2740), (164, 2391, 2740), (175, 2422, 2740)]\n",
            "Total number of elements in superSet is : 2740. \n",
            "\n"
          ]
        },
        {
          "output_type": "stream",
          "name": "stderr",
          "text": [
            "\r 70%|███████   | 7/10 [00:51<00:22,  7.43s/it]"
          ]
        },
        {
          "output_type": "stream",
          "name": "stdout",
          "text": [
            "There are 312 locations that did not match.\n",
            "\n",
            "Total number of locations 2428 are encompassed out of 2740.\n",
            "Total number of elements in a weight matrix is  2740\n",
            "Total number of images fetched  172 \n",
            "\n",
            "Output \n",
            "\n",
            "[(117, 2016, 2740), (130, 2190, 2740), (142, 2246, 2740), (152, 2286, 2740), (164, 2391, 2740), (175, 2422, 2740), (172, 2428, 2740)]\n",
            "Total number of elements in superSet is : 2740. \n",
            "\n"
          ]
        },
        {
          "output_type": "stream",
          "name": "stderr",
          "text": [
            "\r 80%|████████  | 8/10 [00:59<00:14,  7.41s/it]"
          ]
        },
        {
          "output_type": "stream",
          "name": "stdout",
          "text": [
            "There are 291 locations that did not match.\n",
            "\n",
            "Total number of locations 2449 are encompassed out of 2740.\n",
            "Total number of elements in a weight matrix is  2740\n",
            "Total number of images fetched  173 \n",
            "\n",
            "Output \n",
            "\n",
            "[(117, 2016, 2740), (130, 2190, 2740), (142, 2246, 2740), (152, 2286, 2740), (164, 2391, 2740), (175, 2422, 2740), (172, 2428, 2740), (173, 2449, 2740)]\n",
            "Total number of elements in superSet is : 2740. \n",
            "\n"
          ]
        },
        {
          "output_type": "stream",
          "name": "stderr",
          "text": [
            "\r 90%|█████████ | 9/10 [01:06<00:07,  7.43s/it]"
          ]
        },
        {
          "output_type": "stream",
          "name": "stdout",
          "text": [
            "There are 275 locations that did not match.\n",
            "\n",
            "Total number of locations 2465 are encompassed out of 2740.\n",
            "Total number of elements in a weight matrix is  2740\n",
            "Total number of images fetched  171 \n",
            "\n",
            "Output \n",
            "\n",
            "[(117, 2016, 2740), (130, 2190, 2740), (142, 2246, 2740), (152, 2286, 2740), (164, 2391, 2740), (175, 2422, 2740), (172, 2428, 2740), (173, 2449, 2740), (171, 2465, 2740)]\n",
            "Total number of elements in superSet is : 2740. \n",
            "\n"
          ]
        },
        {
          "output_type": "stream",
          "name": "stderr",
          "text": [
            "100%|██████████| 10/10 [01:14<00:00,  7.41s/it]"
          ]
        },
        {
          "output_type": "stream",
          "name": "stdout",
          "text": [
            "There are 269 locations that did not match.\n",
            "\n",
            "Total number of locations 2471 are encompassed out of 2740.\n",
            "Total number of elements in a weight matrix is  2740\n",
            "Total number of images fetched  177 \n",
            "\n",
            "Output \n",
            "\n",
            "[(117, 2016, 2740), (130, 2190, 2740), (142, 2246, 2740), (152, 2286, 2740), (164, 2391, 2740), (175, 2422, 2740), (172, 2428, 2740), (173, 2449, 2740), (171, 2465, 2740), (177, 2471, 2740)]\n"
          ]
        },
        {
          "output_type": "stream",
          "name": "stderr",
          "text": [
            "\n"
          ]
        }
      ]
    },
    {
      "cell_type": "code",
      "source": [
        "# Fault coverage\n",
        "fetchimg_totImg_coverage_totCov[-1][1]/fetchimg_totImg_coverage_totCov[-1][2]"
      ],
      "metadata": {
        "colab": {
          "base_uri": "https://localhost:8080/"
        },
        "id": "8gVS777-o2yv",
        "outputId": "24235ba1-e331-4a3c-f2a4-15b11063ad33"
      },
      "execution_count": 35,
      "outputs": [
        {
          "output_type": "execute_result",
          "data": {
            "text/plain": [
              "0.9018248175182482"
            ]
          },
          "metadata": {},
          "execution_count": 35
        }
      ]
    },
    {
      "cell_type": "code",
      "source": [
        "# We also have to consider dead neurons in the model that we will get from another notebook. Then we will have total fault coverage. "
      ],
      "metadata": {
        "id": "oZcIdBX9ttol"
      },
      "execution_count": null,
      "outputs": []
    },
    {
      "cell_type": "code",
      "source": [
        ""
      ],
      "metadata": {
        "id": "jh7vB-6dtttm"
      },
      "execution_count": null,
      "outputs": []
    }
  ]
}