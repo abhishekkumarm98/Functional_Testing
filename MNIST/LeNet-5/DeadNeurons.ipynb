{
 "cells": [
  {
   "cell_type": "code",
   "execution_count": null,
   "metadata": {
    "id": "syuHgaJJFuBA"
   },
   "outputs": [],
   "source": [
    "cd MNIST/LeNet-5"
   ]
  },
  {
   "cell_type": "code",
   "execution_count": 4,
   "metadata": {
    "id": "7GjZ6db0s6sS"
   },
   "outputs": [],
   "source": [
    "import numpy as np\n",
    "import sys, os, random\n",
    "import matplotlib.pyplot as plt\n",
    "import pickle, gzip\n",
    "from tqdm import tqdm,tqdm_notebook\n",
    "import torch\n",
    "import torchvision\n",
    "from torch import nn\n",
    "from torch.autograd import Variable\n",
    "import torch.optim as optim\n",
    "import torch.nn.functional as F\n",
    "from torchvision import datasets, transforms\n",
    "from torch.utils.data import Dataset, DataLoader\n",
    "from torch.utils.data.sampler import SubsetRandomSampler"
   ]
  },
  {
   "cell_type": "code",
   "execution_count": 5,
   "metadata": {
    "id": "nsdPOAoGs516"
   },
   "outputs": [],
   "source": [
    "batch_size = 128\n",
    "seed_num = 81\n",
    "\n",
    "# For reproducibility when you run the file with .py\n",
    "torch.cuda.is_available()\n",
    "torch.manual_seed(seed_num)\n",
    "torch.cuda.manual_seed(seed_num)\n",
    "np.random.seed(seed_num)\n",
    "random.seed(seed_num)\n",
    "torch.backends.cudnn.benchmark = True\n",
    "\n",
    "torch.backends.cudnn.deterministic =True"
   ]
  },
  {
   "cell_type": "code",
   "execution_count": 6,
   "metadata": {
    "id": "KRVeJN-Ys517"
   },
   "outputs": [],
   "source": [
    "# Data Augmentation \n",
    "train_transform = transforms.Compose([transforms.RandomRotation(30), transforms.RandomHorizontalFlip(),transforms.ToTensor(),transforms.Normalize([0.1307,],[0.3081,])])\n",
    "test_transform = transforms.Compose([transforms.ToTensor(),transforms.Normalize([0.1307,],[0.3081,])])\n",
    "\n",
    "# Splitting the training and test datasets\n",
    "train_data = datasets.MNIST(os.getcwd(), train=True,\n",
    "                              download=True, transform=train_transform)\n",
    "test_data = datasets.MNIST(os.getcwd(), train=False,\n",
    "                             download=True, transform=test_transform)"
   ]
  },
  {
   "cell_type": "code",
   "execution_count": 7,
   "metadata": {
    "id": "OU064Mmps517"
   },
   "outputs": [],
   "source": [
    "# Split the training set indices into training and validation set indices using 80:20 ratio\n",
    "np.random.seed(seed_num)\n",
    "len_trainset = len(train_data)\n",
    "index_list = list(range(len_trainset))\n",
    "np.random.shuffle(index_list)\n",
    "split_index = 50000\n",
    "train_indices, valid_indices =  index_list[:split_index], index_list[split_index:]\n",
    "\n",
    "# Creating Samplers for training and validation set using the indices\n",
    "np.random.seed(seed_num)\n",
    "train_sampler = SubsetRandomSampler(train_indices)\n",
    "valid_sampler = SubsetRandomSampler(valid_indices)\n",
    "\n",
    "torch.manual_seed(seed_num)\n",
    "\n",
    "train_iterator = DataLoader(train_data, batch_size=batch_size, sampler=train_sampler)\n",
    "val_iterator = DataLoader(train_data, batch_size=batch_size, sampler=valid_sampler)\n",
    "test_iterator = DataLoader(test_data, batch_size=batch_size, shuffle=True)"
   ]
  },
  {
   "cell_type": "code",
   "execution_count": 8,
   "metadata": {
    "id": "xIEh83xn8XKP"
   },
   "outputs": [],
   "source": [
    "# LeNet-5 Model\n",
    "\n",
    "class LeNet(nn.Module):\n",
    "    def __init__(self):\n",
    "        super(LeNet, self).__init__()\n",
    "        \n",
    "        # Convolution 1\n",
    "        self.cnn1 = nn.Conv2d(in_channels=1, out_channels=6, kernel_size=(5,5), stride=1, padding=2, bias= True)\n",
    "     \n",
    "        # Convolution 2\n",
    "        self.cnn2 = nn.Conv2d(in_channels=6, out_channels=16, kernel_size=(5,5), stride=1, padding=0, bias= True)\n",
    "\n",
    "\n",
    "        # Fully connected 1\n",
    "        self.fc1 = nn.Linear(16*5*5, 120,bias= True) \n",
    "\n",
    "        # Fully connected 2\n",
    "        self.fc2 = nn.Linear(120, 84,bias= True) \n",
    "\n",
    "        # Fully connected 3\n",
    "        self.fc3 = nn.Linear(84,10, bias= True) \n",
    "    \n",
    "    def forward(self, x):\n",
    "        # Set 1\n",
    "        out = F.max_pool2d(F.relu(self.cnn1(x)), kernel_size=(2, 2), stride=2)\n",
    "        \n",
    "        # Set 2\n",
    "        out = F.max_pool2d(F.relu(self.cnn2(out)), kernel_size=(2, 2), stride=2) \n",
    "\n",
    "        \n",
    "        # Flatten\n",
    "        out = out.view(out.size(0), -1)\n",
    "\n",
    "        # FC1\n",
    "        out = F.relu(self.fc1(out))\n",
    "\n",
    "        # FC2\n",
    "        out = F.relu(self.fc2(out))\n",
    "\n",
    "        # FC3\n",
    "        out = self.fc3(out)\n",
    "        \n",
    "        return out\n"
   ]
  },
  {
   "cell_type": "code",
   "execution_count": 9,
   "metadata": {
    "colab": {
     "base_uri": "https://localhost:8080/"
    },
    "id": "N6KFhL7U8XKS",
    "outputId": "9d2ff2ea-82e5-46e7-943b-75eea3fdc0b0"
   },
   "outputs": [
    {
     "name": "stdout",
     "output_type": "stream",
     "text": [
      "Model:\n",
      " LeNet(\n",
      "  (cnn1): Conv2d(1, 6, kernel_size=(5, 5), stride=(1, 1), padding=(2, 2))\n",
      "  (cnn2): Conv2d(6, 16, kernel_size=(5, 5), stride=(1, 1))\n",
      "  (fc1): Linear(in_features=400, out_features=120, bias=True)\n",
      "  (fc2): Linear(in_features=120, out_features=84, bias=True)\n",
      "  (fc3): Linear(in_features=84, out_features=10, bias=True)\n",
      ")\n"
     ]
    }
   ],
   "source": [
    "torch.manual_seed(seed_num)\n",
    "unit=128\n",
    "\n",
    "# Summary\n",
    "model = LeNet()\n",
    "print(\"Model:\\n\",model)"
   ]
  },
  {
   "cell_type": "code",
   "execution_count": 10,
   "metadata": {
    "colab": {
     "base_uri": "https://localhost:8080/"
    },
    "id": "W_SXinXBgxYY",
    "outputId": "7f668ede-c1db-4304-e62e-0b9bfa0ec79a"
   },
   "outputs": [
    {
     "data": {
      "text/plain": [
       "['cnn1.weight',\n",
       " 'cnn1.bias',\n",
       " 'cnn2.weight',\n",
       " 'cnn2.bias',\n",
       " 'fc1.weight',\n",
       " 'fc1.bias',\n",
       " 'fc2.weight',\n",
       " 'fc2.bias',\n",
       " 'fc3.weight',\n",
       " 'fc3.bias']"
      ]
     },
     "execution_count": 10,
     "metadata": {},
     "output_type": "execute_result"
    }
   ],
   "source": [
    "# Layer names\n",
    "layer_name = [n for n, p in model.named_parameters()]\n",
    "layer_name"
   ]
  },
  {
   "cell_type": "code",
   "execution_count": 11,
   "metadata": {
    "colab": {
     "base_uri": "https://localhost:8080/"
    },
    "id": "nyCQD4zl8XKT",
    "outputId": "4af4b1f9-62e9-4cf5-8e12-ad78564d6ac7"
   },
   "outputs": [
    {
     "name": "stdout",
     "output_type": "stream",
     "text": [
      "Loading weights done !\n",
      "cnn1.weight tensor(105, device='cuda:0')\n",
      "cnn1.bias tensor(5, device='cuda:0')\n",
      "cnn2.weight tensor(234, device='cuda:0')\n",
      "cnn2.bias tensor(9, device='cuda:0')\n",
      "fc1.weight tensor(514, device='cuda:0')\n",
      "fc1.bias tensor(59, device='cuda:0')\n",
      "fc2.weight tensor(498, device='cuda:0')\n",
      "fc2.bias tensor(53, device='cuda:0')\n",
      "fc3.weight tensor(350, device='cuda:0')\n",
      "fc3.bias tensor(7, device='cuda:0')\n",
      "Total Parameters: tensor(1834, device='cuda:0') \n",
      "\n"
     ]
    }
   ],
   "source": [
    "# Loading the weights of ternary model \n",
    "model = torch.load('LeNet_5_quant.pt')\n",
    "model = model.cuda()\n",
    "print(\"Loading weights done !\")\n",
    "\n",
    "# Total number of ternary weights (+w, -w)\n",
    "totalParams = 0\n",
    "for i in layer_name:\n",
    "  print(i,(model.state_dict()[i] !=0).sum())\n",
    "  totalParams +=  (model.state_dict()[i] !=0).sum()\n",
    "    \n",
    "print(\"Total Parameters:\",totalParams, '\\n')"
   ]
  },
  {
   "cell_type": "code",
   "execution_count": 12,
   "metadata": {
    "colab": {
     "base_uri": "https://localhost:8080/"
    },
    "id": "pdjq7VQj8XKV",
    "outputId": "f39dbe80-9b3a-42fc-80b5-e4deb0f84be1"
   },
   "outputs": [
    {
     "name": "stdout",
     "output_type": "stream",
     "text": [
      "Number Of Images Tested = 10000\n",
      "\n",
      "Model Test Accuracy = 0.8438\n"
     ]
    }
   ],
   "source": [
    "# Model's performance on test set\n",
    "\n",
    "correct_count, all_count = 0, 0\n",
    "model.eval()\n",
    "for images,labels in test_iterator:\n",
    "      for image,label in zip(images,labels):\n",
    "\n",
    "        if torch.cuda.is_available():\n",
    "            img = image.cuda()\n",
    "            lab = label.cuda()\n",
    "            img = img[None,].type('torch.cuda.FloatTensor')\n",
    "\n",
    "        with torch.no_grad():\n",
    "            output_ = model(img) \n",
    "\n",
    "        pred_label = output_.argmax()\n",
    "\n",
    "        if(pred_label.item()==lab.item()):\n",
    "          correct_count += 1\n",
    "        all_count += 1\n",
    "\n",
    "print(\"Number Of Images Tested =\", all_count)\n",
    "print(\"\\nModel Test Accuracy =\", (correct_count/(all_count)))\n"
   ]
  },
  {
   "cell_type": "code",
   "execution_count": 13,
   "metadata": {
    "colab": {
     "base_uri": "https://localhost:8080/"
    },
    "id": "MLz8C9_j8XKW",
    "outputId": "f6f7198c-a11a-4436-fae5-08140580a82a"
   },
   "outputs": [
    {
     "name": "stdout",
     "output_type": "stream",
     "text": [
      "cnn1.weight hidden layer dimension torch.Size([6, 1, 5, 5])\n",
      "Unique values of weight in cnn1.weight th hidden layer :  tensor([-1.,  0.,  1.], device='cuda:0')\n",
      "\n",
      "cnn1.bias hidden layer dimension torch.Size([6])\n",
      "Unique values of weight in cnn1.bias th hidden layer :  tensor([-1.,  0.,  1.], device='cuda:0')\n",
      "\n",
      "cnn2.weight hidden layer dimension torch.Size([16, 6, 5, 5])\n",
      "Unique values of weight in cnn2.weight th hidden layer :  tensor([-1.,  0.,  1.], device='cuda:0')\n",
      "\n",
      "cnn2.bias hidden layer dimension torch.Size([16])\n",
      "Unique values of weight in cnn2.bias th hidden layer :  tensor([-1.,  0.,  1.], device='cuda:0')\n",
      "\n",
      "fc1.weight hidden layer dimension torch.Size([120, 400])\n",
      "Unique values of weight in fc1.weight th hidden layer :  tensor([-1.,  0.,  1.], device='cuda:0')\n",
      "\n",
      "fc1.bias hidden layer dimension torch.Size([120])\n",
      "Unique values of weight in fc1.bias th hidden layer :  tensor([-1.,  0.,  1.], device='cuda:0')\n",
      "\n",
      "fc2.weight hidden layer dimension torch.Size([84, 120])\n",
      "Unique values of weight in fc2.weight th hidden layer :  tensor([-1.,  0.,  1.], device='cuda:0')\n",
      "\n",
      "fc2.bias hidden layer dimension torch.Size([84])\n",
      "Unique values of weight in fc2.bias th hidden layer :  tensor([-1.,  0.,  1.], device='cuda:0')\n",
      "\n",
      "fc3.weight hidden layer dimension torch.Size([10, 84])\n",
      "Unique values of weight in fc3.weight th hidden layer :  tensor([-1.,  0.,  1.], device='cuda:0')\n",
      "\n",
      "fc3.bias hidden layer dimension torch.Size([10])\n",
      "Unique values of weight in fc3.bias th hidden layer :  tensor([-1.,  0.,  1.], device='cuda:0')\n",
      "\n"
     ]
    }
   ],
   "source": [
    "# For each layer, model's ternary weights\n",
    "state_dict = model.state_dict()\n",
    "\n",
    "layer_distinct_weights = {}\n",
    "\n",
    "for i in layer_name:\n",
    "  imd = torch.unique(model.state_dict()[i])\n",
    "  print(i+ ' hidden layer dimension', model.state_dict()[i].shape)\n",
    "  print(\"Unique values of weight in \"+ i+ \" th hidden layer : \", imd)\n",
    "  layer_distinct_weights[i] = imd.cpu().numpy().tolist()\n",
    "  print()"
   ]
  },
  {
   "cell_type": "code",
   "execution_count": 14,
   "metadata": {
    "colab": {
     "base_uri": "https://localhost:8080/"
    },
    "id": "2b2AUdPD8XKX",
    "outputId": "b4f63d18-7bc6-42c4-a029-0866cd5376b0"
   },
   "outputs": [
    {
     "name": "stdout",
     "output_type": "stream",
     "text": [
      "['cnn1.bias', 'cnn1.weight', 'cnn2.bias', 'cnn2.weight', 'fc1.bias', 'fc1.weight', 'fc2.bias', 'fc2.weight', 'fc3.bias', 'fc3.weight']\n"
     ]
    }
   ],
   "source": [
    "keys = list(state_dict.keys())\n",
    "print(keys)"
   ]
  },
  {
   "cell_type": "code",
   "execution_count": 15,
   "metadata": {
    "colab": {
     "base_uri": "https://localhost:8080/"
    },
    "id": "-EA0erA-zpVz",
    "outputId": "eab4050e-166a-48f6-ef92-fdf17837abc1"
   },
   "outputs": [
    {
     "name": "stdout",
     "output_type": "stream",
     "text": [
      "cnn1.bias torch.Size([6])\n",
      "cnn1.weight torch.Size([6, 1, 5, 5])\n",
      "cnn2.bias torch.Size([16])\n",
      "cnn2.weight torch.Size([16, 6, 5, 5])\n",
      "fc1.bias torch.Size([120])\n",
      "fc1.weight torch.Size([120, 400])\n",
      "fc2.bias torch.Size([84])\n",
      "fc2.weight torch.Size([84, 120])\n",
      "fc3.bias torch.Size([10])\n",
      "fc3.weight torch.Size([10, 84])\n"
     ]
    }
   ],
   "source": [
    "for i in keys:\n",
    "  print(i, state_dict[i].shape)"
   ]
  },
  {
   "cell_type": "code",
   "execution_count": 16,
   "metadata": {
    "id": "jzsTibg12rJc"
   },
   "outputs": [],
   "source": [
    "# Duplicate architecture of the LeNet-5 Model\n",
    "\n",
    "class LeNet1(nn.Module):\n",
    "    def __init__(self, dn_info, dn_info1, dn_info2):\n",
    "        super(LeNet1, self).__init__()\n",
    "\n",
    "        self.dn_info = dn_info\n",
    "        self.dn_info1 = dn_info1\n",
    "        self.dn_info2 = dn_info2\n",
    "        \n",
    "        # Convolution 1\n",
    "        self.cnn1 = nn.Conv2d(in_channels=1, out_channels=6, kernel_size=(5,5), stride=1, padding=2, bias= True)\n",
    "     \n",
    "        # Convolution 2\n",
    "        self.cnn2 = nn.Conv2d(in_channels=6, out_channels=16, kernel_size=(5,5), stride=1, padding=0, bias= True)\n",
    "\n",
    "\n",
    "        # Fully connected 1\n",
    "        self.fc1 = nn.Linear(16*5*5, 120,bias= True) \n",
    "\n",
    "        # Fully connected 2\n",
    "        self.fc2 = nn.Linear(120, 84,bias= True) \n",
    "\n",
    "        # Fully connected 3\n",
    "        self.fc3 = nn.Linear(84,10, bias= True) \n",
    "    \n",
    "    def forward(self, x):\n",
    "        # Set 1\n",
    "        out = F.max_pool2d(F.relu(self.cnn1(x)), kernel_size=(2, 2), stride=2)\n",
    "        \n",
    "        # Set 2\n",
    "        out = F.max_pool2d(F.relu(self.cnn2(out)), kernel_size=(2, 2), stride=2) \n",
    "\n",
    "        \n",
    "        # Flatten\n",
    "        out = out.view(out.size(0), -1)\n",
    "\n",
    "        ####################################\n",
    "        # Storing dead neurons indices\n",
    "        idx = torch.where(out.cpu() == 0.)[1]\n",
    "        \n",
    "        for j in idx:\n",
    "            self.dn_info[str(j.item())] += 1\n",
    "            \n",
    "        #####################################\n",
    "\n",
    "        # FC1\n",
    "        out = F.relu(self.fc1(out))\n",
    "\n",
    "        ####################################\n",
    "        # Storing dead neurons indices\n",
    "        idx1 = torch.where(out.cpu() == 0.)[1]\n",
    "        \n",
    "        for j in idx1:\n",
    "            self.dn_info1[str(j.item())] += 1\n",
    "            \n",
    "        #####################################\n",
    "\n",
    "        # FC2\n",
    "        out = F.relu(self.fc2(out))\n",
    "\n",
    "        ####################################\n",
    "        # Storing dead neurons indices\n",
    "        idx2 = torch.where(out.cpu() == 0.)[1]\n",
    "        \n",
    "        for j in idx2:\n",
    "            self.dn_info2[str(j.item())] += 1\n",
    "            \n",
    "        #####################################\n",
    "\n",
    "        # FC3\n",
    "        out = self.fc3(out)\n",
    "        \n",
    "        return out\n"
   ]
  },
  {
   "cell_type": "code",
   "execution_count": 17,
   "metadata": {
    "id": "LZaOzYb3nnFj"
   },
   "outputs": [],
   "source": [
    "def getDeadN_info(dn_info, dn_info1, dn_info2, unit, unit1, unit2, state_dict, ds, nameOftheSet):\n",
    "\n",
    "  for i in range(unit):\n",
    "      dn_info[str(i)] = 0\n",
    "\n",
    "  for i in range(unit1):\n",
    "    dn_info1[str(i)] = 0\n",
    "\n",
    "  for i in range(unit2):\n",
    "    dn_info2[str(i)] = 0\n",
    "      \n",
    "  model1 = LeNet1(dn_info, dn_info1, dn_info2)\n",
    "  model1 = model1.cuda()\n",
    "\n",
    "  model1.load_state_dict(state_dict)\n",
    "\n",
    "  correct_count, all_count = 0, 0\n",
    "  model1.eval()\n",
    "\n",
    "  for ds_e in ds:\n",
    "    for images,labels in ds_e:\n",
    "          for image,label in zip(images,labels):\n",
    "\n",
    "            if torch.cuda.is_available():\n",
    "                img = image.cuda()\n",
    "                lab = label.cuda()\n",
    "                img = img[None,].type('torch.cuda.FloatTensor')\n",
    "\n",
    "            with torch.no_grad():\n",
    "                output_ = model1(img) \n",
    "\n",
    "            pred_label = output_.argmax()\n",
    "\n",
    "            if(pred_label.item()==lab.item()):\n",
    "              correct_count += 1\n",
    "            all_count += 1\n",
    "\n",
    "  print(\"Number Of Images =\", all_count)\n",
    "  print(f\"Model {nameOftheSet} Accuracy =\", (correct_count/(all_count)))"
   ]
  },
  {
   "cell_type": "code",
   "execution_count": 18,
   "metadata": {
    "colab": {
     "base_uri": "https://localhost:8080/"
    },
    "id": "RwBSskNQ8XKh",
    "outputId": "70147402-19eb-4956-eeb1-50dd7b395179"
   },
   "outputs": [
    {
     "name": "stdout",
     "output_type": "stream",
     "text": [
      "Number Of Images = 70000\n",
      "Model Training Accuracy = 0.7968571428571428\n",
      "Number Of Images = 10000\n",
      "Model Test Accuracy = 0.8438\n"
     ]
    }
   ],
   "source": [
    "dn_info_train = {}\n",
    "dn_info_test = {}\n",
    "\n",
    "dn_info_train1 = {}\n",
    "dn_info_test1 = {}\n",
    "\n",
    "dn_info_train2 = {}\n",
    "dn_info_test2 = {}\n",
    "\n",
    "getDeadN_info(dn_info= dn_info_train, dn_info1= dn_info_train1, dn_info2= dn_info_train2, unit = 800, unit1 = 120, unit2 = 84,\n",
    "              state_dict = state_dict, ds= [train_iterator, val_iterator, test_iterator], nameOftheSet = \"Training\")\n",
    "\n",
    "getDeadN_info(dn_info= dn_info_test, dn_info1= dn_info_test1, dn_info2= dn_info_test2, unit = 800, unit1 = 120, unit2 = 84,\n",
    "              state_dict = state_dict, ds= [test_iterator], nameOftheSet = \"Test\")"
   ]
  },
  {
   "cell_type": "code",
   "execution_count": 19,
   "metadata": {
    "colab": {
     "base_uri": "https://localhost:8080/"
    },
    "id": "bfjmgUpk8XKi",
    "outputId": "02de7462-5dce-464a-c78f-dfee87a2a78f"
   },
   "outputs": [
    {
     "data": {
      "text/plain": [
       "(70000, 10000, 70000, 10000, 70000, 10000)"
      ]
     },
     "execution_count": 19,
     "metadata": {},
     "output_type": "execute_result"
    }
   ],
   "source": [
    "max_dn_test = max(dn_info_test.values())\n",
    "max_dn_train = max(dn_info_train.values())\n",
    "\n",
    "max_dn_test1 = max(dn_info_test1.values())\n",
    "max_dn_train1 = max(dn_info_train1.values())\n",
    "\n",
    "max_dn_test2 = max(dn_info_test2.values())\n",
    "max_dn_train2 = max(dn_info_train2.values())\n",
    "\n",
    "max_dn_train, max_dn_test, max_dn_train1, max_dn_test1, max_dn_train2, max_dn_test2"
   ]
  },
  {
   "cell_type": "code",
   "execution_count": 20,
   "metadata": {
    "id": "JPwL725Y8XKj"
   },
   "outputs": [],
   "source": [
    "dead_n_idx = [] \n",
    "\n",
    "for i, j in dn_info_train.items():\n",
    "  if j == max_dn_train:\n",
    "    dead_n_idx.append(i)\n",
    "\n",
    "dead_n_idx1 = [] \n",
    "\n",
    "for i, j in dn_info_train1.items():\n",
    "  if j == max_dn_train1:\n",
    "    dead_n_idx1.append(i)\n",
    "\n",
    "dead_n_idx2 = [] \n",
    "\n",
    "for i, j in dn_info_train2.items():\n",
    "  if j == max_dn_train2:\n",
    "    dead_n_idx2.append(i)"
   ]
  },
  {
   "cell_type": "code",
   "execution_count": 21,
   "metadata": {
    "colab": {
     "base_uri": "https://localhost:8080/"
    },
    "id": "qu3zF9uq8XKj",
    "outputId": "e2096cc3-547e-4078-99f3-8c3d326b204f"
   },
   "outputs": [
    {
     "name": "stdout",
     "output_type": "stream",
     "text": [
      "FC1 Layer : 25\n",
      "FC2 Layer : 51\n",
      "FC3 Layer : 16\n"
     ]
    }
   ],
   "source": [
    "print(\"FC1 Layer :\",len(dead_n_idx)) # Number of neurons that are dead\n",
    "print(\"FC2 Layer :\",len(dead_n_idx1)) # Number of neurons that are dead\n",
    "print(\"FC3 Layer :\",len(dead_n_idx2)) # Number of neurons that are dead"
   ]
  },
  {
   "cell_type": "code",
   "execution_count": 22,
   "metadata": {
    "colab": {
     "base_uri": "https://localhost:8080/"
    },
    "id": "blZi36Ca8XKq",
    "outputId": "bd176b0b-8c76-4090-e069-b6b4a14d98d6"
   },
   "outputs": [
    {
     "name": "stdout",
     "output_type": "stream",
     "text": [
      "['0', '1', '2', '3', '4', '5', '6', '7', '8', '9', '10', '11', '12', '13', '14', '15', '16', '17', '18', '19', '20', '21', '22', '23', '24']\n"
     ]
    }
   ],
   "source": [
    "print(dead_n_idx) # Indices of neuron that are dead"
   ]
  },
  {
   "cell_type": "code",
   "execution_count": 23,
   "metadata": {
    "colab": {
     "base_uri": "https://localhost:8080/"
    },
    "id": "ix7mVK-v9Q9f",
    "outputId": "263f5062-8bf8-46ed-d681-ee58ffc415f1"
   },
   "outputs": [
    {
     "name": "stdout",
     "output_type": "stream",
     "text": [
      "['4', '6', '7', '9', '11', '12', '14', '18', '19', '21', '24', '26', '27', '28', '29', '32', '33', '35', '36', '37', '38', '44', '48', '53', '55', '58', '60', '64', '66', '71', '73', '74', '76', '77', '80', '83', '86', '87', '89', '90', '91', '96', '99', '101', '106', '107', '110', '112', '114', '117', '118']\n"
     ]
    }
   ],
   "source": [
    "print(dead_n_idx1) # Indices of neuron that are dead"
   ]
  },
  {
   "cell_type": "code",
   "execution_count": 24,
   "metadata": {
    "colab": {
     "base_uri": "https://localhost:8080/"
    },
    "id": "4VevEMdS9RAU",
    "outputId": "7e07f541-aacc-4466-8bd1-22ec7243c368"
   },
   "outputs": [
    {
     "name": "stdout",
     "output_type": "stream",
     "text": [
      "['5', '12', '14', '16', '18', '22', '23', '24', '32', '43', '45', '57', '65', '74', '77', '79']\n"
     ]
    }
   ],
   "source": [
    "print(dead_n_idx2) # Indices of neuron that are dead"
   ]
  },
  {
   "cell_type": "code",
   "execution_count": 25,
   "metadata": {
    "id": "yb8LRo2Q8XKt"
   },
   "outputs": [],
   "source": [
    "state_dict1 = state_dict"
   ]
  },
  {
   "cell_type": "code",
   "execution_count": 26,
   "metadata": {
    "colab": {
     "base_uri": "https://localhost:8080/"
    },
    "id": "Se4SLLRRJhWT",
    "outputId": "64f3bc09-b01a-41f6-aafb-9b7e1f8fe6c1"
   },
   "outputs": [
    {
     "data": {
      "text/plain": [
       "{'cnn1.bias': [-1.0, 0.0, 1.0],\n",
       " 'cnn1.weight': [-1.0, 0.0, 1.0],\n",
       " 'cnn2.bias': [-1.0, 0.0, 1.0],\n",
       " 'cnn2.weight': [-1.0, 0.0, 1.0],\n",
       " 'fc1.bias': [-1.0, 0.0, 1.0],\n",
       " 'fc1.weight': [-1.0, 0.0, 1.0],\n",
       " 'fc2.bias': [-1.0, 0.0, 1.0],\n",
       " 'fc2.weight': [-1.0, 0.0, 1.0],\n",
       " 'fc3.bias': [-1.0, 0.0, 1.0],\n",
       " 'fc3.weight': [-1.0, 0.0, 1.0]}"
      ]
     },
     "execution_count": 26,
     "metadata": {},
     "output_type": "execute_result"
    }
   ],
   "source": [
    "layer_distinct_weights"
   ]
  },
  {
   "cell_type": "code",
   "execution_count": 27,
   "metadata": {
    "colab": {
     "base_uri": "https://localhost:8080/"
    },
    "id": "DNXNxCFs8XKx",
    "outputId": "7b371aad-cb67-4cea-d6c2-6a5b5fa6b90b"
   },
   "outputs": [
    {
     "name": "stdout",
     "output_type": "stream",
     "text": [
      "fc1.weight\n",
      "-1.0 0.0 1.0\n",
      "fc2.weight\n",
      "-1.0 0.0 1.0\n",
      "fc3.weight\n",
      "-1.0 0.0 1.0\n",
      "Total dead transitions for the layer : 318\n"
     ]
    }
   ],
   "source": [
    "total_trans = 0\n",
    "layers_name = ['fc1.weight', 'fc2.weight', 'fc3.weight']\n",
    "\n",
    "n_idx = [dead_n_idx, dead_n_idx1, dead_n_idx2]\n",
    "\n",
    "for ix,l in enumerate(layers_name):\n",
    "  print(l)\n",
    "  z = state_dict1[l]\n",
    "\n",
    "  if len(layer_distinct_weights[l]) > 2 :\n",
    "    w_neg, w_0, w_pos =  layer_distinct_weights[l]\n",
    "    print(w_neg, w_0, w_pos)\n",
    "  else:\n",
    "    w_neg, w_pos = layer_distinct_weights[l]\n",
    "    print(w_neg, w_pos)\n",
    "\n",
    "  for idx in n_idx[ix]:\n",
    "      if 'bias' in l:\n",
    "        imd = z[eval(idx)]\n",
    "      else:\n",
    "        imd = z[:,eval(idx)]\n",
    "\n",
    "      trans = torch.where(imd == w_neg)[0].nelement() + torch.where(imd == w_pos)[0].nelement()\n",
    "      total_trans += trans *2\n",
    "    \n",
    "print(\"Total dead transitions for the layer :\", total_trans)"
   ]
  },
  {
   "cell_type": "code",
   "execution_count": null,
   "metadata": {
    "id": "E64pYeIW8XK0"
   },
   "outputs": [],
   "source": [
    "# Fault coverage that we have obtained from main file : 3070 / 3668"
   ]
  },
  {
   "cell_type": "code",
   "execution_count": 1,
   "metadata": {
    "colab": {
     "base_uri": "https://localhost:8080/"
    },
    "id": "xAK4Mddws52K",
    "outputId": "ef399948-7467-431e-d773-ecfbbb9798be"
   },
   "outputs": [
    {
     "data": {
      "text/plain": [
       "0.9236641221374046"
      ]
     },
     "execution_count": 1,
     "metadata": {},
     "output_type": "execute_result"
    }
   ],
   "source": [
    "# Adding more 318 transitions to the numerator will make the net fault coverage\n",
    "(3070 + 318)/3668"
   ]
  },
  {
   "cell_type": "code",
   "execution_count": null,
   "metadata": {
    "id": "RtzUQuw3QPpl"
   },
   "outputs": [],
   "source": []
  }
 ],
 "metadata": {
  "accelerator": "GPU",
  "colab": {
   "collapsed_sections": [],
   "name": "DeadNeurons.ipynb",
   "provenance": []
  },
  "kernelspec": {
   "display_name": "Python 3",
   "language": "python",
   "name": "python3"
  },
  "language_info": {
   "codemirror_mode": {
    "name": "ipython",
    "version": 3
   },
   "file_extension": ".py",
   "mimetype": "text/x-python",
   "name": "python",
   "nbconvert_exporter": "python",
   "pygments_lexer": "ipython3",
   "version": "3.7.3"
  }
 },
 "nbformat": 4,
 "nbformat_minor": 1
}
