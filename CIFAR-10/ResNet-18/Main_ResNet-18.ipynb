{
 "cells": [
  {
   "cell_type": "code",
   "execution_count": null,
   "metadata": {
    "id": "ZrX7qWiCiQOz"
   },
   "outputs": [],
   "source": [
    "cd CIFAR-10/ResNet-18"
   ]
  },
  {
   "cell_type": "code",
   "execution_count": 4,
   "metadata": {
    "executionInfo": {
     "elapsed": 6060,
     "status": "ok",
     "timestamp": 1650667202724,
     "user": {
      "displayName": "Abhishek kumar Mishra",
      "userId": "13515131134791977528"
     },
     "user_tz": 240
    },
    "id": "KXMJB6isiRyk"
   },
   "outputs": [],
   "source": [
    "import numpy as np, joblib\n",
    "import sys, os, random\n",
    "import matplotlib.pyplot as plt\n",
    "import pickle, gzip\n",
    "from tqdm import tqdm,tqdm_notebook\n",
    "import torch\n",
    "import torchvision\n",
    "from torch import nn\n",
    "from torch.autograd import Variable\n",
    "import torch.optim as optim\n",
    "import torch.nn.functional as F\n",
    "from torchvision import datasets, transforms\n",
    "from torch.utils.data import Dataset, DataLoader\n",
    "from torch.utils.data.sampler import SubsetRandomSampler"
   ]
  },
  {
   "cell_type": "code",
   "execution_count": 5,
   "metadata": {
    "executionInfo": {
     "elapsed": 13,
     "status": "ok",
     "timestamp": 1650667202726,
     "user": {
      "displayName": "Abhishek kumar Mishra",
      "userId": "13515131134791977528"
     },
     "user_tz": 240
    },
    "id": "0ok6X5PjkKFX"
   },
   "outputs": [],
   "source": [
    "batch_size = 128\n",
    "seed_num = 1000\n",
    "\n",
    "# For reproducibility when you run the file with .py\n",
    "torch.cuda.is_available()\n",
    "torch.manual_seed(seed_num)\n",
    "torch.cuda.manual_seed(seed_num)\n",
    "np.random.seed(seed_num)\n",
    "random.seed(seed_num)\n",
    "torch.backends.cudnn.benchmark = True\n",
    "\n",
    "torch.backends.cudnn.deterministic =True"
   ]
  },
  {
   "cell_type": "code",
   "execution_count": 6,
   "metadata": {
    "colab": {
     "base_uri": "https://localhost:8080/"
    },
    "executionInfo": {
     "elapsed": 6124,
     "status": "ok",
     "timestamp": 1650667208841,
     "user": {
      "displayName": "Abhishek kumar Mishra",
      "userId": "13515131134791977528"
     },
     "user_tz": 240
    },
    "id": "10agOYLDkidx",
    "outputId": "9f1d8a3f-bc0a-405a-8e0e-df9c83502a3e"
   },
   "outputs": [
    {
     "name": "stdout",
     "output_type": "stream",
     "text": [
      "Files already downloaded and verified\n",
      "Files already downloaded and verified\n"
     ]
    }
   ],
   "source": [
    "torch.manual_seed(seed_num)\n",
    "torch.cuda.manual_seed(seed_num)\n",
    "np.random.seed(seed_num)\n",
    "random.seed(seed_num)\n",
    "\n",
    "# Normalization\n",
    "train_transform = transforms.Compose([transforms.ToTensor(),transforms.Normalize((0.4914, 0.4822, 0.4465), (0.2023, 0.1994, 0.2010))]) \n",
    "test_transform = transforms.Compose([transforms.ToTensor(),transforms.Normalize((0.4914, 0.4822, 0.4465), (0.2023, 0.1994, 0.2010))])\n",
    "\n",
    "# Splitting the training and test datasets\n",
    "train_data = datasets.CIFAR10(os.getcwd(), train=True,\n",
    "                              download=True, transform=train_transform)\n",
    "test_data = datasets.CIFAR10(os.getcwd(), train=False,\n",
    "                             download=True, transform=test_transform)"
   ]
  },
  {
   "cell_type": "code",
   "execution_count": 7,
   "metadata": {
    "executionInfo": {
     "elapsed": 21,
     "status": "ok",
     "timestamp": 1650667208846,
     "user": {
      "displayName": "Abhishek kumar Mishra",
      "userId": "13515131134791977528"
     },
     "user_tz": 240
    },
    "id": "5GnCuQ91lCty"
   },
   "outputs": [],
   "source": [
    "# Split the training set indices into training and validation set indices using 80:20 ratio\n",
    "np.random.seed(seed_num)\n",
    "len_trainset = len(train_data)\n",
    "index_list = list(range(len_trainset))\n",
    "np.random.shuffle(index_list)\n",
    "split_index = 40000\n",
    "train_indices, valid_indices =  index_list[:split_index], index_list[split_index:]\n",
    "\n",
    "# Creating Samplers for training and validation set using the indices\n",
    "np.random.seed(seed_num)\n",
    "train_sampler = SubsetRandomSampler(train_indices)\n",
    "valid_sampler = SubsetRandomSampler(valid_indices)\n",
    "\n",
    "torch.manual_seed(seed_num)\n",
    "\n",
    "train_iterator = DataLoader(train_data, batch_size=batch_size, sampler=train_sampler)\n",
    "val_iterator = DataLoader(train_data, batch_size=batch_size, sampler=valid_sampler)\n",
    "test_iterator = DataLoader(test_data, batch_size=batch_size, shuffle=True)\n"
   ]
  },
  {
   "cell_type": "code",
   "execution_count": 8,
   "metadata": {
    "executionInfo": {
     "elapsed": 13,
     "status": "ok",
     "timestamp": 1650667209125,
     "user": {
      "displayName": "Abhishek kumar Mishra",
      "userId": "13515131134791977528"
     },
     "user_tz": 240
    },
    "id": "hNkLu8CWSUmj"
   },
   "outputs": [],
   "source": [
    "import torchvision.models as models"
   ]
  },
  {
   "cell_type": "code",
   "execution_count": 9,
   "metadata": {
    "colab": {
     "base_uri": "https://localhost:8080/",
     "height": 66,
     "referenced_widgets": [
      "b4d7a922ed604897a711c14096fcfd11",
      "f0cd7497e7a144aaa0dd2c4ea2ad0528",
      "d69b1c60dc5e47a8850c09b6db503019",
      "c87dfe6e32f34b87a711d86c0521f144",
      "6c015e9a63bb4cb5a0697b7360ab7517",
      "73a71a499dcb425e81c91667f1994795",
      "c2889b498e884a9fb500f6abcbf98cc9",
      "266e05cf1b7e4a4d8764db134c25ce0b",
      "20330c98549543df90f3244ae59b8d11",
      "ae90a4c94b304c779b5cd956594ea5dc",
      "a9359dfd33fe4cb2899735a81c348cbf"
     ]
    },
    "executionInfo": {
     "elapsed": 9765,
     "status": "ok",
     "timestamp": 1650667218881,
     "user": {
      "displayName": "Abhishek kumar Mishra",
      "userId": "13515131134791977528"
     },
     "user_tz": 240
    },
    "id": "4D-XvGNzlJn_",
    "outputId": "c3984409-9eeb-4ed4-eda0-67bb4b87a670"
   },
   "outputs": [
    {
     "name": "stderr",
     "output_type": "stream",
     "text": [
      "Downloading: \"https://download.pytorch.org/models/resnet18-f37072fd.pth\" to /root/.cache/torch/hub/checkpoints/resnet18-f37072fd.pth\n"
     ]
    },
    {
     "data": {
      "application/vnd.jupyter.widget-view+json": {
       "model_id": "b4d7a922ed604897a711c14096fcfd11",
       "version_major": 2,
       "version_minor": 0
      },
      "text/plain": [
       "  0%|          | 0.00/44.7M [00:00<?, ?B/s]"
      ]
     },
     "metadata": {},
     "output_type": "display_data"
    }
   ],
   "source": [
    "# ResNet-18 model\n",
    "\n",
    "class Model(nn.Module):\n",
    "    def __init__(self):\n",
    "        super().__init__()\n",
    "        base = models.resnet18(pretrained=True)\n",
    "        self.base = nn.Sequential(*list(base.children())[:-1])\n",
    "        in_features = base.fc.in_features\n",
    "        self.drop = nn.Dropout()\n",
    "        self.final = nn.Linear(in_features,10)\n",
    "    \n",
    "    def forward(self,x):\n",
    "        x = self.base(x)\n",
    "        x = self.drop(x.view(-1,self.final.in_features))\n",
    "        return self.final(x)\n",
    "    \n",
    "model = Model().cuda()"
   ]
  },
  {
   "cell_type": "code",
   "execution_count": 10,
   "metadata": {
    "colab": {
     "base_uri": "https://localhost:8080/"
    },
    "executionInfo": {
     "elapsed": 685,
     "status": "ok",
     "timestamp": 1650667224926,
     "user": {
      "displayName": "Abhishek kumar Mishra",
      "userId": "13515131134791977528"
     },
     "user_tz": 240
    },
    "id": "W-97MR9BlJrW",
    "outputId": "7b400d57-32d2-4721-f89f-fd28d2cacdba"
   },
   "outputs": [
    {
     "name": "stdout",
     "output_type": "stream",
     "text": [
      "Loading weights done !\n",
      "Model:\n",
      " Model(\n",
      "  (base): Sequential(\n",
      "    (0): Conv2d(3, 64, kernel_size=(7, 7), stride=(2, 2), padding=(3, 3), bias=False)\n",
      "    (1): BatchNorm2d(64, eps=1e-05, momentum=0.1, affine=True, track_running_stats=True)\n",
      "    (2): ReLU(inplace=True)\n",
      "    (3): MaxPool2d(kernel_size=3, stride=2, padding=1, dilation=1, ceil_mode=False)\n",
      "    (4): Sequential(\n",
      "      (0): BasicBlock(\n",
      "        (conv1): Conv2d(64, 64, kernel_size=(3, 3), stride=(1, 1), padding=(1, 1), bias=False)\n",
      "        (bn1): BatchNorm2d(64, eps=1e-05, momentum=0.1, affine=True, track_running_stats=True)\n",
      "        (relu): ReLU(inplace=True)\n",
      "        (conv2): Conv2d(64, 64, kernel_size=(3, 3), stride=(1, 1), padding=(1, 1), bias=False)\n",
      "        (bn2): BatchNorm2d(64, eps=1e-05, momentum=0.1, affine=True, track_running_stats=True)\n",
      "      )\n",
      "      (1): BasicBlock(\n",
      "        (conv1): Conv2d(64, 64, kernel_size=(3, 3), stride=(1, 1), padding=(1, 1), bias=False)\n",
      "        (bn1): BatchNorm2d(64, eps=1e-05, momentum=0.1, affine=True, track_running_stats=True)\n",
      "        (relu): ReLU(inplace=True)\n",
      "        (conv2): Conv2d(64, 64, kernel_size=(3, 3), stride=(1, 1), padding=(1, 1), bias=False)\n",
      "        (bn2): BatchNorm2d(64, eps=1e-05, momentum=0.1, affine=True, track_running_stats=True)\n",
      "      )\n",
      "    )\n",
      "    (5): Sequential(\n",
      "      (0): BasicBlock(\n",
      "        (conv1): Conv2d(64, 128, kernel_size=(3, 3), stride=(2, 2), padding=(1, 1), bias=False)\n",
      "        (bn1): BatchNorm2d(128, eps=1e-05, momentum=0.1, affine=True, track_running_stats=True)\n",
      "        (relu): ReLU(inplace=True)\n",
      "        (conv2): Conv2d(128, 128, kernel_size=(3, 3), stride=(1, 1), padding=(1, 1), bias=False)\n",
      "        (bn2): BatchNorm2d(128, eps=1e-05, momentum=0.1, affine=True, track_running_stats=True)\n",
      "        (downsample): Sequential(\n",
      "          (0): Conv2d(64, 128, kernel_size=(1, 1), stride=(2, 2), bias=False)\n",
      "          (1): BatchNorm2d(128, eps=1e-05, momentum=0.1, affine=True, track_running_stats=True)\n",
      "        )\n",
      "      )\n",
      "      (1): BasicBlock(\n",
      "        (conv1): Conv2d(128, 128, kernel_size=(3, 3), stride=(1, 1), padding=(1, 1), bias=False)\n",
      "        (bn1): BatchNorm2d(128, eps=1e-05, momentum=0.1, affine=True, track_running_stats=True)\n",
      "        (relu): ReLU(inplace=True)\n",
      "        (conv2): Conv2d(128, 128, kernel_size=(3, 3), stride=(1, 1), padding=(1, 1), bias=False)\n",
      "        (bn2): BatchNorm2d(128, eps=1e-05, momentum=0.1, affine=True, track_running_stats=True)\n",
      "      )\n",
      "    )\n",
      "    (6): Sequential(\n",
      "      (0): BasicBlock(\n",
      "        (conv1): Conv2d(128, 256, kernel_size=(3, 3), stride=(2, 2), padding=(1, 1), bias=False)\n",
      "        (bn1): BatchNorm2d(256, eps=1e-05, momentum=0.1, affine=True, track_running_stats=True)\n",
      "        (relu): ReLU(inplace=True)\n",
      "        (conv2): Conv2d(256, 256, kernel_size=(3, 3), stride=(1, 1), padding=(1, 1), bias=False)\n",
      "        (bn2): BatchNorm2d(256, eps=1e-05, momentum=0.1, affine=True, track_running_stats=True)\n",
      "        (downsample): Sequential(\n",
      "          (0): Conv2d(128, 256, kernel_size=(1, 1), stride=(2, 2), bias=False)\n",
      "          (1): BatchNorm2d(256, eps=1e-05, momentum=0.1, affine=True, track_running_stats=True)\n",
      "        )\n",
      "      )\n",
      "      (1): BasicBlock(\n",
      "        (conv1): Conv2d(256, 256, kernel_size=(3, 3), stride=(1, 1), padding=(1, 1), bias=False)\n",
      "        (bn1): BatchNorm2d(256, eps=1e-05, momentum=0.1, affine=True, track_running_stats=True)\n",
      "        (relu): ReLU(inplace=True)\n",
      "        (conv2): Conv2d(256, 256, kernel_size=(3, 3), stride=(1, 1), padding=(1, 1), bias=False)\n",
      "        (bn2): BatchNorm2d(256, eps=1e-05, momentum=0.1, affine=True, track_running_stats=True)\n",
      "      )\n",
      "    )\n",
      "    (7): Sequential(\n",
      "      (0): BasicBlock(\n",
      "        (conv1): Conv2d(256, 512, kernel_size=(3, 3), stride=(2, 2), padding=(1, 1), bias=False)\n",
      "        (bn1): BatchNorm2d(512, eps=1e-05, momentum=0.1, affine=True, track_running_stats=True)\n",
      "        (relu): ReLU(inplace=True)\n",
      "        (conv2): Conv2d(512, 512, kernel_size=(3, 3), stride=(1, 1), padding=(1, 1), bias=False)\n",
      "        (bn2): BatchNorm2d(512, eps=1e-05, momentum=0.1, affine=True, track_running_stats=True)\n",
      "        (downsample): Sequential(\n",
      "          (0): Conv2d(256, 512, kernel_size=(1, 1), stride=(2, 2), bias=False)\n",
      "          (1): BatchNorm2d(512, eps=1e-05, momentum=0.1, affine=True, track_running_stats=True)\n",
      "        )\n",
      "      )\n",
      "      (1): BasicBlock(\n",
      "        (conv1): Conv2d(512, 512, kernel_size=(3, 3), stride=(1, 1), padding=(1, 1), bias=False)\n",
      "        (bn1): BatchNorm2d(512, eps=1e-05, momentum=0.1, affine=True, track_running_stats=True)\n",
      "        (relu): ReLU(inplace=True)\n",
      "        (conv2): Conv2d(512, 512, kernel_size=(3, 3), stride=(1, 1), padding=(1, 1), bias=False)\n",
      "        (bn2): BatchNorm2d(512, eps=1e-05, momentum=0.1, affine=True, track_running_stats=True)\n",
      "      )\n",
      "    )\n",
      "    (8): AdaptiveAvgPool2d(output_size=(1, 1))\n",
      "  )\n",
      "  (drop): Dropout(p=0.5, inplace=False)\n",
      "  (final): Linear(in_features=512, out_features=10, bias=True)\n",
      ")\n"
     ]
    }
   ],
   "source": [
    "# Loading the weights of ternary model \n",
    "model = torch.load(\"Main_ResNet18_cifar10_Quant.pt\").cuda()\n",
    "print(\"Loading weights done !\")\n",
    "\n",
    "# Summary\n",
    "print(\"Model:\\n\",model)"
   ]
  },
  {
   "cell_type": "code",
   "execution_count": 11,
   "metadata": {
    "colab": {
     "base_uri": "https://localhost:8080/"
    },
    "executionInfo": {
     "elapsed": 231,
     "status": "ok",
     "timestamp": 1650667285017,
     "user": {
      "displayName": "Abhishek kumar Mishra",
      "userId": "13515131134791977528"
     },
     "user_tz": 240
    },
    "id": "A8PBc3NYlJuX",
    "outputId": "8c3728c6-5f91-4159-af64-844f20a21926"
   },
   "outputs": [
    {
     "name": "stdout",
     "output_type": "stream",
     "text": [
      "['base.0.weight', 'base.1.bias', 'base.1.weight', 'base.4.0.conv1.weight', 'base.4.0.bn1.bias', 'base.4.0.bn1.weight', 'base.4.0.conv2.weight', 'base.4.0.bn2.bias', 'base.4.0.bn2.weight', 'base.4.1.conv1.weight', 'base.4.1.bn1.bias', 'base.4.1.bn1.weight', 'base.4.1.conv2.weight', 'base.4.1.bn2.bias', 'base.4.1.bn2.weight', 'base.5.0.conv1.weight', 'base.5.0.bn1.bias', 'base.5.0.bn1.weight', 'base.5.0.conv2.weight', 'base.5.0.bn2.bias', 'base.5.0.bn2.weight', 'base.5.0.downsample.0.weight', 'base.5.0.downsample.1.bias', 'base.5.0.downsample.1.weight', 'base.5.1.conv1.weight', 'base.5.1.bn1.bias', 'base.5.1.bn1.weight', 'base.5.1.conv2.weight', 'base.5.1.bn2.bias', 'base.5.1.bn2.weight', 'base.6.0.conv1.weight', 'base.6.0.bn1.bias', 'base.6.0.bn1.weight', 'base.6.0.conv2.weight', 'base.6.0.bn2.bias', 'base.6.0.bn2.weight', 'base.6.0.downsample.0.weight', 'base.6.0.downsample.1.bias', 'base.6.0.downsample.1.weight', 'base.6.1.conv1.weight', 'base.6.1.bn1.bias', 'base.6.1.bn1.weight', 'base.6.1.conv2.weight', 'base.6.1.bn2.bias', 'base.6.1.bn2.weight', 'base.7.0.conv1.weight', 'base.7.0.bn1.bias', 'base.7.0.bn1.weight', 'base.7.0.conv2.weight', 'base.7.0.bn2.bias', 'base.7.0.bn2.weight', 'base.7.0.downsample.0.weight', 'base.7.0.downsample.1.bias', 'base.7.0.downsample.1.weight', 'base.7.1.conv1.weight', 'base.7.1.bn1.bias', 'base.7.1.bn1.weight', 'base.7.1.conv2.weight', 'base.7.1.bn2.bias', 'base.7.1.bn2.weight', 'final.bias', 'final.weight']\n"
     ]
    }
   ],
   "source": [
    "# Layer names\n",
    "layer_name = [n for n, p in model.named_parameters()]\n",
    "print(layer_name)"
   ]
  },
  {
   "cell_type": "code",
   "execution_count": 12,
   "metadata": {
    "colab": {
     "base_uri": "https://localhost:8080/"
    },
    "executionInfo": {
     "elapsed": 302,
     "status": "ok",
     "timestamp": 1650667286107,
     "user": {
      "displayName": "Abhishek kumar Mishra",
      "userId": "13515131134791977528"
     },
     "user_tz": 240
    },
    "id": "7V_swsrplJxP",
    "outputId": "6af103af-f393-4cf0-bed4-60d0905aca5e"
   },
   "outputs": [
    {
     "name": "stdout",
     "output_type": "stream",
     "text": [
      "base.0.weight tensor(1599, device='cuda:0')\n",
      "base.1.bias tensor(52, device='cuda:0')\n",
      "base.1.weight tensor(52, device='cuda:0')\n",
      "base.4.0.conv1.weight tensor(2397, device='cuda:0')\n",
      "base.4.0.bn1.bias tensor(52, device='cuda:0')\n",
      "base.4.0.bn1.weight tensor(52, device='cuda:0')\n",
      "base.4.0.conv2.weight tensor(2456, device='cuda:0')\n",
      "base.4.0.bn2.bias tensor(53, device='cuda:0')\n",
      "base.4.0.bn2.weight tensor(53, device='cuda:0')\n",
      "base.4.1.conv1.weight tensor(2401, device='cuda:0')\n",
      "base.4.1.bn1.bias tensor(52, device='cuda:0')\n",
      "base.4.1.bn1.weight tensor(52, device='cuda:0')\n",
      "base.4.1.conv2.weight tensor(2619, device='cuda:0')\n",
      "base.4.1.bn2.bias tensor(53, device='cuda:0')\n",
      "base.4.1.bn2.weight tensor(52, device='cuda:0')\n",
      "base.5.0.conv1.weight tensor(1545, device='cuda:0')\n",
      "base.5.0.bn1.bias tensor(104, device='cuda:0')\n",
      "base.5.0.bn1.weight tensor(104, device='cuda:0')\n",
      "base.5.0.conv2.weight tensor(1737, device='cuda:0')\n",
      "base.5.0.bn2.bias tensor(107, device='cuda:0')\n",
      "base.5.0.bn2.weight tensor(105, device='cuda:0')\n",
      "base.5.0.downsample.0.weight tensor(1475, device='cuda:0')\n",
      "base.5.0.downsample.1.bias tensor(107, device='cuda:0')\n",
      "base.5.0.downsample.1.weight tensor(104, device='cuda:0')\n",
      "base.5.1.conv1.weight tensor(1592, device='cuda:0')\n",
      "base.5.1.bn1.bias tensor(104, device='cuda:0')\n",
      "base.5.1.bn1.weight tensor(104, device='cuda:0')\n",
      "base.5.1.conv2.weight tensor(2021, device='cuda:0')\n",
      "base.5.1.bn2.bias tensor(104, device='cuda:0')\n",
      "base.5.1.bn2.weight tensor(104, device='cuda:0')\n",
      "base.6.0.conv1.weight tensor(3349, device='cuda:0')\n",
      "base.6.0.bn1.bias tensor(206, device='cuda:0')\n",
      "base.6.0.bn1.weight tensor(207, device='cuda:0')\n",
      "base.6.0.conv2.weight tensor(4063, device='cuda:0')\n",
      "base.6.0.bn2.bias tensor(212, device='cuda:0')\n",
      "base.6.0.bn2.weight tensor(207, device='cuda:0')\n",
      "base.6.0.downsample.0.weight tensor(2652, device='cuda:0')\n",
      "base.6.0.downsample.1.bias tensor(212, device='cuda:0')\n",
      "base.6.0.downsample.1.weight tensor(208, device='cuda:0')\n",
      "base.6.1.conv1.weight tensor(3493, device='cuda:0')\n",
      "base.6.1.bn1.bias tensor(207, device='cuda:0')\n",
      "base.6.1.bn1.weight tensor(207, device='cuda:0')\n",
      "base.6.1.conv2.weight tensor(3380, device='cuda:0')\n",
      "base.6.1.bn2.bias tensor(208, device='cuda:0')\n",
      "base.6.1.bn2.weight tensor(207, device='cuda:0')\n",
      "base.7.0.conv1.weight tensor(5572, device='cuda:0')\n",
      "base.7.0.bn1.bias tensor(425, device='cuda:0')\n",
      "base.7.0.bn1.weight tensor(415, device='cuda:0')\n",
      "base.7.0.conv2.weight tensor(8672, device='cuda:0')\n",
      "base.7.0.bn2.bias tensor(468, device='cuda:0')\n",
      "base.7.0.bn2.weight tensor(415, device='cuda:0')\n",
      "base.7.0.downsample.0.weight tensor(2667, device='cuda:0')\n",
      "base.7.0.downsample.1.bias tensor(468, device='cuda:0')\n",
      "base.7.0.downsample.1.weight tensor(417, device='cuda:0')\n",
      "base.7.1.conv1.weight tensor(8712, device='cuda:0')\n",
      "base.7.1.bn1.bias tensor(422, device='cuda:0')\n",
      "base.7.1.bn1.weight tensor(415, device='cuda:0')\n",
      "base.7.1.conv2.weight tensor(8479, device='cuda:0')\n",
      "base.7.1.bn2.bias tensor(451, device='cuda:0')\n",
      "base.7.1.bn2.weight tensor(415, device='cuda:0')\n",
      "final.bias tensor(10, device='cuda:0')\n",
      "final.weight tensor(3757, device='cuda:0')\n",
      "Total Parameters: tensor(82610, device='cuda:0') \n",
      "\n"
     ]
    }
   ],
   "source": [
    "# Total number of ternary weights (+w, -w)\n",
    "totalParams = 0\n",
    "for i in layer_name:\n",
    "  print(i,(model.state_dict()[i] !=0).sum())\n",
    "  totalParams +=  (model.state_dict()[i] !=0).sum()\n",
    "    \n",
    "print(\"Total Parameters:\",totalParams, '\\n')"
   ]
  },
  {
   "cell_type": "code",
   "execution_count": 16,
   "metadata": {
    "colab": {
     "base_uri": "https://localhost:8080/"
    },
    "executionInfo": {
     "elapsed": 27045,
     "status": "ok",
     "timestamp": 1650667634675,
     "user": {
      "displayName": "Abhishek kumar Mishra",
      "userId": "13515131134791977528"
     },
     "user_tz": 240
    },
    "id": "0uPbBVUKlJ0X",
    "outputId": "123d5efc-74a3-409e-caa8-d4b3f8ea8f17"
   },
   "outputs": [
    {
     "name": "stdout",
     "output_type": "stream",
     "text": [
      "Number Of Images Tested = 10000\n",
      "\n",
      "Model Test Accuracy = 0.544\n"
     ]
    }
   ],
   "source": [
    "# Model's performance on test set\n",
    "\n",
    "correct_count, all_count = 0, 0\n",
    "model.eval()\n",
    "for images,labels in test_iterator:\n",
    "      for image,label in zip(images,labels):\n",
    "\n",
    "        if torch.cuda.is_available():\n",
    "            img = image.cuda()\n",
    "            lab = label.cuda()\n",
    "            img = img[None,].type('torch.cuda.FloatTensor')\n",
    "\n",
    "        with torch.no_grad():\n",
    "            output_ = model(img) \n",
    "\n",
    "        pred_label = output_.argmax()\n",
    "\n",
    "        if(pred_label.item()==lab.item()):\n",
    "          correct_count += 1\n",
    "        all_count += 1\n",
    "\n",
    "print(\"Number Of Images Tested =\", all_count)\n",
    "print(\"\\nModel Test Accuracy =\", (correct_count/(all_count)))\n"
   ]
  },
  {
   "cell_type": "code",
   "execution_count": 14,
   "metadata": {
    "colab": {
     "base_uri": "https://localhost:8080/"
    },
    "executionInfo": {
     "elapsed": 339,
     "status": "ok",
     "timestamp": 1650667452935,
     "user": {
      "displayName": "Abhishek kumar Mishra",
      "userId": "13515131134791977528"
     },
     "user_tz": 240
    },
    "id": "RvZCWE-QlJ6U",
    "outputId": "53404ff0-f19e-4651-f3fb-60fb8b998d95"
   },
   "outputs": [
    {
     "name": "stdout",
     "output_type": "stream",
     "text": [
      "base.0.weight hidden layer dimension torch.Size([64, 3, 7, 7])\n",
      "Unique values of weight in base.0.weight th hidden layer :  tensor([-0.9980,  0.0000,  0.9980], device='cuda:0')\n",
      "\n",
      "base.1.bias hidden layer dimension torch.Size([64])\n",
      "Unique values of weight in base.1.bias th hidden layer :  tensor([-1.0023,  0.0000,  1.0049], device='cuda:0')\n",
      "\n",
      "base.1.weight hidden layer dimension torch.Size([64])\n",
      "Unique values of weight in base.1.weight th hidden layer :  tensor([0.0000, 1.0063], device='cuda:0')\n",
      "\n",
      "base.4.0.conv1.weight hidden layer dimension torch.Size([64, 64, 3, 3])\n",
      "Unique values of weight in base.4.0.conv1.weight th hidden layer :  tensor([-0.9993,  0.0000,  0.9993], device='cuda:0')\n",
      "\n",
      "base.4.0.bn1.bias hidden layer dimension torch.Size([64])\n",
      "Unique values of weight in base.4.0.bn1.bias th hidden layer :  tensor([-1.0043,  0.0000,  1.0005], device='cuda:0')\n",
      "\n",
      "base.4.0.bn1.weight hidden layer dimension torch.Size([64])\n",
      "Unique values of weight in base.4.0.bn1.weight th hidden layer :  tensor([0.0000, 1.0030], device='cuda:0')\n",
      "\n",
      "base.4.0.conv2.weight hidden layer dimension torch.Size([64, 64, 3, 3])\n",
      "Unique values of weight in base.4.0.conv2.weight th hidden layer :  tensor([-0.9980,  0.0000,  0.9980], device='cuda:0')\n",
      "\n",
      "base.4.0.bn2.bias hidden layer dimension torch.Size([64])\n",
      "Unique values of weight in base.4.0.bn2.bias th hidden layer :  tensor([-1.0084,  0.0000,  1.0035], device='cuda:0')\n",
      "\n",
      "base.4.0.bn2.weight hidden layer dimension torch.Size([64])\n",
      "Unique values of weight in base.4.0.bn2.weight th hidden layer :  tensor([0.0000, 0.9990], device='cuda:0')\n",
      "\n",
      "base.4.1.conv1.weight hidden layer dimension torch.Size([64, 64, 3, 3])\n",
      "Unique values of weight in base.4.1.conv1.weight th hidden layer :  tensor([-0.9982,  0.0000,  0.9982], device='cuda:0')\n",
      "\n",
      "base.4.1.bn1.bias hidden layer dimension torch.Size([64])\n",
      "Unique values of weight in base.4.1.bn1.bias th hidden layer :  tensor([-1.0036,  0.0000,  1.0017], device='cuda:0')\n",
      "\n",
      "base.4.1.bn1.weight hidden layer dimension torch.Size([64])\n",
      "Unique values of weight in base.4.1.bn1.weight th hidden layer :  tensor([0.0000, 1.0017], device='cuda:0')\n",
      "\n",
      "base.4.1.conv2.weight hidden layer dimension torch.Size([64, 64, 3, 3])\n",
      "Unique values of weight in base.4.1.conv2.weight th hidden layer :  tensor([-1.0003,  0.0000,  1.0003], device='cuda:0')\n",
      "\n",
      "base.4.1.bn2.bias hidden layer dimension torch.Size([64])\n",
      "Unique values of weight in base.4.1.bn2.bias th hidden layer :  tensor([-1.0087,  0.0000,  0.9983], device='cuda:0')\n",
      "\n",
      "base.4.1.bn2.weight hidden layer dimension torch.Size([64])\n",
      "Unique values of weight in base.4.1.bn2.weight th hidden layer :  tensor([0.0000, 0.9972], device='cuda:0')\n",
      "\n",
      "base.5.0.conv1.weight hidden layer dimension torch.Size([128, 64, 3, 3])\n",
      "Unique values of weight in base.5.0.conv1.weight th hidden layer :  tensor([-1.0036,  0.0000,  1.0036], device='cuda:0')\n",
      "\n",
      "base.5.0.bn1.bias hidden layer dimension torch.Size([128])\n",
      "Unique values of weight in base.5.0.bn1.bias th hidden layer :  tensor([-1.0057,  0.0000,  1.0006], device='cuda:0')\n",
      "\n",
      "base.5.0.bn1.weight hidden layer dimension torch.Size([128])\n",
      "Unique values of weight in base.5.0.bn1.weight th hidden layer :  tensor([0.0000, 1.0038], device='cuda:0')\n",
      "\n",
      "base.5.0.conv2.weight hidden layer dimension torch.Size([128, 128, 3, 3])\n",
      "Unique values of weight in base.5.0.conv2.weight th hidden layer :  tensor([-1.0007,  0.0000,  1.0007], device='cuda:0')\n",
      "\n",
      "base.5.0.bn2.bias hidden layer dimension torch.Size([128])\n",
      "Unique values of weight in base.5.0.bn2.bias th hidden layer :  tensor([-1.0034,  0.0000,  1.0027], device='cuda:0')\n",
      "\n",
      "base.5.0.bn2.weight hidden layer dimension torch.Size([128])\n",
      "Unique values of weight in base.5.0.bn2.weight th hidden layer :  tensor([0.0000, 0.9999], device='cuda:0')\n",
      "\n",
      "base.5.0.downsample.0.weight hidden layer dimension torch.Size([128, 64, 1, 1])\n",
      "Unique values of weight in base.5.0.downsample.0.weight th hidden layer :  tensor([-0.9982,  0.0000,  0.9982], device='cuda:0')\n",
      "\n",
      "base.5.0.downsample.1.bias hidden layer dimension torch.Size([128])\n",
      "Unique values of weight in base.5.0.downsample.1.bias th hidden layer :  tensor([-1.0034,  0.0000,  1.0027], device='cuda:0')\n",
      "\n",
      "base.5.0.downsample.1.weight hidden layer dimension torch.Size([128])\n",
      "Unique values of weight in base.5.0.downsample.1.weight th hidden layer :  tensor([0.0000, 1.0067], device='cuda:0')\n",
      "\n",
      "base.5.1.conv1.weight hidden layer dimension torch.Size([128, 128, 3, 3])\n",
      "Unique values of weight in base.5.1.conv1.weight th hidden layer :  tensor([-1.0008,  0.0000,  1.0008], device='cuda:0')\n",
      "\n",
      "base.5.1.bn1.bias hidden layer dimension torch.Size([128])\n",
      "Unique values of weight in base.5.1.bn1.bias th hidden layer :  tensor([-1.0060,  0.0000], device='cuda:0')\n",
      "\n",
      "base.5.1.bn1.weight hidden layer dimension torch.Size([128])\n",
      "Unique values of weight in base.5.1.bn1.weight th hidden layer :  tensor([0.0000, 1.0060], device='cuda:0')\n",
      "\n",
      "base.5.1.conv2.weight hidden layer dimension torch.Size([128, 128, 3, 3])\n",
      "Unique values of weight in base.5.1.conv2.weight th hidden layer :  tensor([-0.9999,  0.0000,  0.9999], device='cuda:0')\n",
      "\n",
      "base.5.1.bn2.bias hidden layer dimension torch.Size([128])\n",
      "Unique values of weight in base.5.1.bn2.bias th hidden layer :  tensor([-1.0100,  0.0000,  1.0002], device='cuda:0')\n",
      "\n",
      "base.5.1.bn2.weight hidden layer dimension torch.Size([128])\n",
      "Unique values of weight in base.5.1.bn2.weight th hidden layer :  tensor([0.0000, 0.9948], device='cuda:0')\n",
      "\n",
      "base.6.0.conv1.weight hidden layer dimension torch.Size([256, 128, 3, 3])\n",
      "Unique values of weight in base.6.0.conv1.weight th hidden layer :  tensor([-0.9990,  0.0000,  0.9990], device='cuda:0')\n",
      "\n",
      "base.6.0.bn1.bias hidden layer dimension torch.Size([256])\n",
      "Unique values of weight in base.6.0.bn1.bias th hidden layer :  tensor([-1.0127,  0.0000,  0.9936], device='cuda:0')\n",
      "\n",
      "base.6.0.bn1.weight hidden layer dimension torch.Size([256])\n",
      "Unique values of weight in base.6.0.bn1.weight th hidden layer :  tensor([0.0000, 1.0134], device='cuda:0')\n",
      "\n",
      "base.6.0.conv2.weight hidden layer dimension torch.Size([256, 256, 3, 3])\n",
      "Unique values of weight in base.6.0.conv2.weight th hidden layer :  tensor([-1.0042,  0.0000,  1.0041], device='cuda:0')\n",
      "\n",
      "base.6.0.bn2.bias hidden layer dimension torch.Size([256])\n",
      "Unique values of weight in base.6.0.bn2.bias th hidden layer :  tensor([-1.0014,  0.0000,  1.0028], device='cuda:0')\n",
      "\n",
      "base.6.0.bn2.weight hidden layer dimension torch.Size([256])\n",
      "Unique values of weight in base.6.0.bn2.weight th hidden layer :  tensor([0.0000, 1.0063], device='cuda:0')\n",
      "\n",
      "base.6.0.downsample.0.weight hidden layer dimension torch.Size([256, 128, 1, 1])\n",
      "Unique values of weight in base.6.0.downsample.0.weight th hidden layer :  tensor([-0.9986,  0.0000,  0.9986], device='cuda:0')\n",
      "\n",
      "base.6.0.downsample.1.bias hidden layer dimension torch.Size([256])\n",
      "Unique values of weight in base.6.0.downsample.1.bias th hidden layer :  tensor([-1.0014,  0.0000,  1.0028], device='cuda:0')\n",
      "\n",
      "base.6.0.downsample.1.weight hidden layer dimension torch.Size([256])\n",
      "Unique values of weight in base.6.0.downsample.1.weight th hidden layer :  tensor([-1.0047,  0.0000,  0.9975], device='cuda:0')\n",
      "\n",
      "base.6.1.conv1.weight hidden layer dimension torch.Size([256, 256, 3, 3])\n",
      "Unique values of weight in base.6.1.conv1.weight th hidden layer :  tensor([-0.9996,  0.0000,  0.9996], device='cuda:0')\n",
      "\n",
      "base.6.1.bn1.bias hidden layer dimension torch.Size([256])\n",
      "Unique values of weight in base.6.1.bn1.bias th hidden layer :  tensor([-1.0039,  0.0000], device='cuda:0')\n",
      "\n",
      "base.6.1.bn1.weight hidden layer dimension torch.Size([256])\n",
      "Unique values of weight in base.6.1.bn1.weight th hidden layer :  tensor([0.0000, 1.0039], device='cuda:0')\n",
      "\n",
      "base.6.1.conv2.weight hidden layer dimension torch.Size([256, 256, 3, 3])\n",
      "Unique values of weight in base.6.1.conv2.weight th hidden layer :  tensor([-1.0011,  0.0000,  1.0010], device='cuda:0')\n",
      "\n",
      "base.6.1.bn2.bias hidden layer dimension torch.Size([256])\n",
      "Unique values of weight in base.6.1.bn2.bias th hidden layer :  tensor([-1.0052,  0.0000,  1.0001], device='cuda:0')\n",
      "\n",
      "base.6.1.bn2.weight hidden layer dimension torch.Size([256])\n",
      "Unique values of weight in base.6.1.bn2.weight th hidden layer :  tensor([0.0000, 0.9972], device='cuda:0')\n",
      "\n",
      "base.7.0.conv1.weight hidden layer dimension torch.Size([512, 256, 3, 3])\n",
      "Unique values of weight in base.7.0.conv1.weight th hidden layer :  tensor([-0.9972,  0.0000,  0.9971], device='cuda:0')\n",
      "\n",
      "base.7.0.bn1.bias hidden layer dimension torch.Size([512])\n",
      "Unique values of weight in base.7.0.bn1.bias th hidden layer :  tensor([-1.0133,  0.0000,  1.0029], device='cuda:0')\n",
      "\n",
      "base.7.0.bn1.weight hidden layer dimension torch.Size([512])\n",
      "Unique values of weight in base.7.0.bn1.weight th hidden layer :  tensor([0.0000, 1.0119], device='cuda:0')\n",
      "\n",
      "base.7.0.conv2.weight hidden layer dimension torch.Size([512, 512, 3, 3])\n",
      "Unique values of weight in base.7.0.conv2.weight th hidden layer :  tensor([-0.9794,  0.0000,  0.9794], device='cuda:0')\n",
      "\n",
      "base.7.0.bn2.bias hidden layer dimension torch.Size([512])\n",
      "Unique values of weight in base.7.0.bn2.bias th hidden layer :  tensor([-0.9647,  0.0000,  0.9783], device='cuda:0')\n",
      "\n",
      "base.7.0.bn2.weight hidden layer dimension torch.Size([512])\n",
      "Unique values of weight in base.7.0.bn2.weight th hidden layer :  tensor([0.0000, 0.9599], device='cuda:0')\n",
      "\n",
      "base.7.0.downsample.0.weight hidden layer dimension torch.Size([512, 256, 1, 1])\n",
      "Unique values of weight in base.7.0.downsample.0.weight th hidden layer :  tensor([-0.9850,  0.0000,  0.9849], device='cuda:0')\n",
      "\n",
      "base.7.0.downsample.1.bias hidden layer dimension torch.Size([512])\n",
      "Unique values of weight in base.7.0.downsample.1.bias th hidden layer :  tensor([-0.9647,  0.0000,  0.9783], device='cuda:0')\n",
      "\n",
      "base.7.0.downsample.1.weight hidden layer dimension torch.Size([512])\n",
      "Unique values of weight in base.7.0.downsample.1.weight th hidden layer :  tensor([-1.0000,  0.0000,  0.9638], device='cuda:0')\n",
      "\n",
      "base.7.1.conv1.weight hidden layer dimension torch.Size([512, 512, 3, 3])\n",
      "Unique values of weight in base.7.1.conv1.weight th hidden layer :  tensor([-1.0019,  0.0000,  1.0019], device='cuda:0')\n",
      "\n",
      "base.7.1.bn1.bias hidden layer dimension torch.Size([512])\n",
      "Unique values of weight in base.7.1.bn1.bias th hidden layer :  tensor([-1.0207,  0.0000,  0.9879], device='cuda:0')\n",
      "\n",
      "base.7.1.bn1.weight hidden layer dimension torch.Size([512])\n",
      "Unique values of weight in base.7.1.bn1.weight th hidden layer :  tensor([0.0000, 1.0216], device='cuda:0')\n",
      "\n",
      "base.7.1.conv2.weight hidden layer dimension torch.Size([512, 512, 3, 3])\n",
      "Unique values of weight in base.7.1.conv2.weight th hidden layer :  tensor([-1.0151,  0.0000,  1.0143], device='cuda:0')\n",
      "\n",
      "base.7.1.bn2.bias hidden layer dimension torch.Size([512])\n",
      "Unique values of weight in base.7.1.bn2.bias th hidden layer :  tensor([-0.9805,  0.0000,  0.9251], device='cuda:0')\n",
      "\n",
      "base.7.1.bn2.weight hidden layer dimension torch.Size([512])\n",
      "Unique values of weight in base.7.1.bn2.weight th hidden layer :  tensor([0.0000, 0.9946], device='cuda:0')\n",
      "\n",
      "final.bias hidden layer dimension torch.Size([10])\n",
      "Unique values of weight in final.bias th hidden layer :  tensor([-1.0001,  1.0003], device='cuda:0')\n",
      "\n",
      "final.weight hidden layer dimension torch.Size([10, 512])\n",
      "Unique values of weight in final.weight th hidden layer :  tensor([-1.0668,  0.0000,  0.9294], device='cuda:0')\n",
      "\n"
     ]
    }
   ],
   "source": [
    "# For each layer, model's ternary weights\n",
    "state_dict = model.state_dict()\n",
    "\n",
    "layer_distinct_weights = {}\n",
    "\n",
    "for i in layer_name:\n",
    "  imd = torch.unique(model.state_dict()[i])\n",
    "  print(i+ ' hidden layer dimension', model.state_dict()[i].shape)\n",
    "  print(\"Unique values of weight in \"+ i+ \" th hidden layer : \", imd)\n",
    "  layer_distinct_weights[i] = imd.cpu().numpy().tolist()\n",
    "  print()\n"
   ]
  },
  {
   "cell_type": "code",
   "execution_count": 17,
   "metadata": {
    "executionInfo": {
     "elapsed": 150,
     "status": "ok",
     "timestamp": 1650667648415,
     "user": {
      "displayName": "Abhishek kumar Mishra",
      "userId": "13515131134791977528"
     },
     "user_tz": 240
    },
    "id": "brS36Az4gOPe"
   },
   "outputs": [],
   "source": [
    "img_0 = []; var_0 = 0\n",
    "img_1 = []; var_1 = 0\n",
    "img_2 = []; var_2 = 0\n",
    "img_3 = []; var_3 = 0\n",
    "img_4 = []; var_4 = 0\n",
    "img_5 = []; var_5 = 0\n",
    "img_6 = []; var_6 = 0\n",
    "img_7 = []; var_7 = 0\n",
    "img_8 = []; var_8 = 0\n",
    "img_9 = []; var_9 = 0"
   ]
  },
  {
   "cell_type": "code",
   "execution_count": 18,
   "metadata": {
    "colab": {
     "base_uri": "https://localhost:8080/"
    },
    "executionInfo": {
     "elapsed": 119760,
     "status": "ok",
     "timestamp": 1650667827094,
     "user": {
      "displayName": "Abhishek kumar Mishra",
      "userId": "13515131134791977528"
     },
     "user_tz": 240
    },
    "id": "YISVfn0RgOSB",
    "outputId": "e7cf4be4-5c10-4343-e956-1a7cb442dbcb"
   },
   "outputs": [
    {
     "name": "stdout",
     "output_type": "stream",
     "text": [
      "Number Of Images Tested = 40000\n",
      "\n",
      "Model Train Accuracy = 0.5474\n"
     ]
    }
   ],
   "source": [
    "correct_count, all_count = 0, 0\n",
    "np.random.seed(seed_num)\n",
    "\n",
    "num = 5000\n",
    "\n",
    "model.eval()\n",
    "for images,labels in train_iterator:\n",
    "      for image,label in zip(images,labels):\n",
    "\n",
    "        if label == 0:\n",
    "          if var_0 == num:\n",
    "            continue\n",
    "          img_0.append(image.numpy())\n",
    "          var_0 +=1\n",
    "\n",
    "        elif label == 1:\n",
    "          if var_1 == num:\n",
    "            continue\n",
    "          img_1.append(image.numpy())\n",
    "          var_1 +=1\n",
    "\n",
    "        elif label == 2:\n",
    "          if var_2 == num:\n",
    "            continue\n",
    "          img_2.append(image.numpy())\n",
    "          var_2 +=1\n",
    "\n",
    "        elif label == 3:\n",
    "          if var_3 == num:\n",
    "            continue\n",
    "          img_3.append(image.numpy())\n",
    "          var_3 +=1\n",
    "\n",
    "        elif label == 4:\n",
    "          if var_4 == num:\n",
    "            continue\n",
    "          img_4.append(image.numpy())\n",
    "          var_4 +=1\n",
    "\n",
    "        elif label == 5:\n",
    "          if var_5 == num:\n",
    "            continue\n",
    "          img_5.append(image.numpy())\n",
    "          var_5 +=1\n",
    "\n",
    "        elif label == 6:\n",
    "          if var_6 == num:\n",
    "            continue\n",
    "          img_6.append(image.numpy())\n",
    "          var_6 +=1\n",
    "\n",
    "        elif label == 7:\n",
    "          if var_7 == num:\n",
    "            continue\n",
    "          img_7.append(image.numpy())\n",
    "          var_7 +=1\n",
    "\n",
    "        elif label == 8:\n",
    "          if var_8 == num:\n",
    "            continue\n",
    "          img_8.append(image.numpy())\n",
    "          var_8 +=1\n",
    "\n",
    "        elif label == 9:\n",
    "          if var_9 == num:\n",
    "            continue\n",
    "          img_9.append(image.numpy())\n",
    "          var_9 +=1\n",
    "\n",
    "        if torch.cuda.is_available():\n",
    "            img = image.cuda()\n",
    "            lab = label.cuda()\n",
    "            img = img[None,].type('torch.cuda.FloatTensor')\n",
    "\n",
    "        with torch.no_grad():\n",
    "            output_ = model(img) \n",
    "\n",
    "        pred_label = output_.argmax()\n",
    "\n",
    "        if(pred_label.item()==lab.item()):\n",
    "          correct_count += 1\n",
    "        all_count += 1\n",
    "\n",
    "print(\"Number Of Images Tested =\", all_count)\n",
    "print(\"\\nModel Train Accuracy =\", (correct_count/(all_count)))"
   ]
  },
  {
   "cell_type": "code",
   "execution_count": 19,
   "metadata": {
    "executionInfo": {
     "elapsed": 155,
     "status": "ok",
     "timestamp": 1650667905899,
     "user": {
      "displayName": "Abhishek kumar Mishra",
      "userId": "13515131134791977528"
     },
     "user_tz": 240
    },
    "id": "xG1SzTn8gOXE"
   },
   "outputs": [],
   "source": [
    "def getTemplates(imgs):\n",
    "  np.random.seed(seed_num)\n",
    "  corr_images2_1 = []\n",
    "  for img in imgs:\n",
    "    for angle in range(5,360,25):\n",
    "        transform_st = transforms.Compose([transforms.ToTensor(), transforms.RandomRotation(angle), \\\n",
    "                                              transforms.RandomHorizontalFlip(),]) \n",
    "        corr_images2_1.append(transform_st(img).permute(1,2,0).numpy())\n",
    "      \n",
    "        transform_st1 = transforms.Compose([transforms.ToTensor(), transforms.RandomRotation(angle),]) \n",
    "        corr_images2_1.append(transform_st1(img).permute(1,2,0).numpy())\n",
    "      \n",
    "        transform_st2 = transforms.Compose([transforms.ToTensor(),transforms.RandomHorizontalFlip(), ]) \n",
    "        corr_images2_1.append(transform_st2(img).permute(1,2,0).numpy())\n",
    "  \n",
    "  return np.array(corr_images2_1)[np.random.permutation(len(corr_images2_1))[:1000]]"
   ]
  },
  {
   "cell_type": "code",
   "execution_count": 27,
   "metadata": {
    "executionInfo": {
     "elapsed": 14722,
     "status": "ok",
     "timestamp": 1650668095668,
     "user": {
      "displayName": "Abhishek kumar Mishra",
      "userId": "13515131134791977528"
     },
     "user_tz": 240
    },
    "id": "C9zVFUZngOZ-"
   },
   "outputs": [],
   "source": [
    "corr_images_ = []\n",
    "for im in img_0, img_1, img_2, img_3, img_4, img_5, img_6, img_7, img_8, img_9:\n",
    "  corr_images_.append(getTemplates(np.array(im)[np.random.permutation(len(im))[:100]]))"
   ]
  },
  {
   "cell_type": "code",
   "execution_count": 28,
   "metadata": {
    "colab": {
     "base_uri": "https://localhost:8080/"
    },
    "executionInfo": {
     "elapsed": 234,
     "status": "ok",
     "timestamp": 1650668109066,
     "user": {
      "displayName": "Abhishek kumar Mishra",
      "userId": "13515131134791977528"
     },
     "user_tz": 240
    },
    "id": "gDc63tH8h0W_",
    "outputId": "2c1b25a4-e542-4fc9-b24d-8b38048e39b2"
   },
   "outputs": [
    {
     "data": {
      "text/plain": [
       "(10000, 3, 32, 32)"
      ]
     },
     "execution_count": 28,
     "metadata": {},
     "output_type": "execute_result"
    }
   ],
   "source": [
    "corr_images = np.vstack(corr_images_)\n",
    "corr_images.shape"
   ]
  },
  {
   "cell_type": "code",
   "execution_count": 29,
   "metadata": {
    "colab": {
     "base_uri": "https://localhost:8080/"
    },
    "executionInfo": {
     "elapsed": 25008,
     "status": "ok",
     "timestamp": 1650668151124,
     "user": {
      "displayName": "Abhishek kumar Mishra",
      "userId": "13515131134791977528"
     },
     "user_tz": 240
    },
    "id": "3zyNkvo5o2WB",
    "outputId": "3ea2d075-f130-4d49-ab4c-0db8c0ac0d39"
   },
   "outputs": [
    {
     "name": "stdout",
     "output_type": "stream",
     "text": [
      "\n",
      "Unique digits :  [0 1 2 3 4 5 6 7 8 9]\n",
      "\n",
      " counts :  [5325  444 1820  359  185  375  532  160  416  384]\n"
     ]
    }
   ],
   "source": [
    "corr_images = torch.tensor(corr_images).type(torch.FloatTensor).to('cuda')\n",
    "\n",
    "corr_label = []\n",
    "check_label = []\n",
    "\n",
    "model.eval()\n",
    "for img in corr_images:\n",
    "  img = img[None,].type('torch.cuda.FloatTensor')\n",
    "  with torch.no_grad():\n",
    "    pred = model(img).argmax()\n",
    "  corr_label.append(pred)\n",
    "  check_label.append(pred.item())\n",
    "\n",
    "digit,count = np.unique(check_label, return_counts=True)\n",
    "\n",
    "# Model's prediction on pseudorandom images\n",
    "print(\"\\nUnique digits : \",digit)\n",
    "\n",
    "print(\"\\n counts : \",count)"
   ]
  },
  {
   "cell_type": "code",
   "execution_count": 30,
   "metadata": {
    "executionInfo": {
     "elapsed": 164,
     "status": "ok",
     "timestamp": 1650668189382,
     "user": {
      "displayName": "Abhishek kumar Mishra",
      "userId": "13515131134791977528"
     },
     "user_tz": 240
    },
    "id": "uG1i7FSwo2Y5"
   },
   "outputs": [],
   "source": [
    "pos_neg_layerwise = {}\n",
    "\n",
    "for i in layer_name:\n",
    "  b = layer_distinct_weights[i]\n",
    "\n",
    "  if len(b) == 3:\n",
    "    neg, zero, pos = b\n",
    "    pos_neg_layerwise[i] = {}\n",
    "    pos_neg_layerwise[i]['pos'] = pos\n",
    "    pos_neg_layerwise[i]['neg'] = neg\n",
    "    \n",
    "  elif len(b) == 2:\n",
    "    un1, un2 = b\n",
    "\n",
    "    if un2 == 0:\n",
    "      neg, zero = b\n",
    "      pos_neg_layerwise[i] = {}\n",
    "      pos_neg_layerwise[i]['neg'] = neg\n",
    "      \n",
    "    elif un1 == 0:\n",
    "      zero, pos = b\n",
    "      pos_neg_layerwise[i] = {}\n",
    "      pos_neg_layerwise[i]['pos'] = pos\n",
    "\n",
    "    else:\n",
    "      neg, pos = b\n",
    "      pos_neg_layerwise[i] = {}\n",
    "      pos_neg_layerwise[i]['pos'] = pos\n",
    "      pos_neg_layerwise[i]['neg'] = neg\n",
    "\n",
    "  else:\n",
    "     un = b[0] \n",
    "\n",
    "     if un > 0:\n",
    "       pos_neg_layerwise[i] = {}\n",
    "       pos_neg_layerwise[i]['pos'] = un\n",
    "\n",
    "     elif un < 0:\n",
    "       pos_neg_layerwise[i] = {}\n",
    "       pos_neg_layerwise[i]['neg'] = un\n",
    "\n",
    "     else:\n",
    "       pos_neg_layerwise[i] = {}\n",
    "       pos_neg_layerwise[i]['zero'] = 0\n"
   ]
  },
  {
   "cell_type": "code",
   "execution_count": 31,
   "metadata": {
    "colab": {
     "base_uri": "https://localhost:8080/"
    },
    "executionInfo": {
     "elapsed": 161,
     "status": "ok",
     "timestamp": 1650668191891,
     "user": {
      "displayName": "Abhishek kumar Mishra",
      "userId": "13515131134791977528"
     },
     "user_tz": 240
    },
    "id": "JZ4zH-VAo2bH",
    "outputId": "8b828f63-c00e-423a-f0a8-bf3e3d3c5fe0"
   },
   "outputs": [
    {
     "data": {
      "text/plain": [
       "{'base.0.weight': [-0.997970700263977, 0.0, 0.997970700263977],\n",
       " 'base.1.bias': [-1.002286434173584, 0.0, 1.0049375295639038],\n",
       " 'base.1.weight': [0.0, 1.0062828063964844],\n",
       " 'base.4.0.bn1.bias': [-1.0043219327926636, 0.0, 1.000535011291504],\n",
       " 'base.4.0.bn1.weight': [0.0, 1.0029528141021729],\n",
       " 'base.4.0.bn2.bias': [-1.0083696842193604, 0.0, 1.0035288333892822],\n",
       " 'base.4.0.bn2.weight': [0.0, 0.9989628195762634],\n",
       " 'base.4.0.conv1.weight': [-0.9992982745170593, 0.0, 0.9992982149124146],\n",
       " 'base.4.0.conv2.weight': [-0.9979877471923828, 0.0, 0.9979877471923828],\n",
       " 'base.4.1.bn1.bias': [-1.0035675764083862, 0.0, 1.0016995668411255],\n",
       " 'base.4.1.bn1.weight': [0.0, 1.001746654510498],\n",
       " 'base.4.1.bn2.bias': [-1.008662223815918, 0.0, 0.998275637626648],\n",
       " 'base.4.1.bn2.weight': [0.0, 0.9972245097160339],\n",
       " 'base.4.1.conv1.weight': [-0.9981896281242371, 0.0, 0.9981896281242371],\n",
       " 'base.4.1.conv2.weight': [-1.0003037452697754, 0.0, 1.0003037452697754],\n",
       " 'base.5.0.bn1.bias': [-1.0056942701339722, 0.0, 1.0005754232406616],\n",
       " 'base.5.0.bn1.weight': [0.0, 1.0037789344787598],\n",
       " 'base.5.0.bn2.bias': [-1.0034257173538208, 0.0, 1.002722144126892],\n",
       " 'base.5.0.bn2.weight': [0.0, 0.9999319314956665],\n",
       " 'base.5.0.conv1.weight': [-1.0036280155181885, 0.0, 1.0036280155181885],\n",
       " 'base.5.0.conv2.weight': [-1.0006707906723022, 0.0, 1.0006706714630127],\n",
       " 'base.5.0.downsample.0.weight': [-0.9982104897499084,\n",
       "  0.0,\n",
       "  0.9982104897499084],\n",
       " 'base.5.0.downsample.1.bias': [-1.0034257173538208, 0.0, 1.002722144126892],\n",
       " 'base.5.0.downsample.1.weight': [0.0, 1.0066616535186768],\n",
       " 'base.5.1.bn1.bias': [-1.0059788227081299, 0.0],\n",
       " 'base.5.1.bn1.weight': [0.0, 1.0059787034988403],\n",
       " 'base.5.1.bn2.bias': [-1.0099973678588867, 0.0, 1.0002497434616089],\n",
       " 'base.5.1.bn2.weight': [0.0, 0.9948470592498779],\n",
       " 'base.5.1.conv1.weight': [-1.000842809677124, 0.0, 1.0008429288864136],\n",
       " 'base.5.1.conv2.weight': [-0.9999493360519409, 0.0, 0.9999484419822693],\n",
       " 'base.6.0.bn1.bias': [-1.0127111673355103, 0.0, 0.993628203868866],\n",
       " 'base.6.0.bn1.weight': [0.0, 1.013394832611084],\n",
       " 'base.6.0.bn2.bias': [-1.0013892650604248, 0.0, 1.002809762954712],\n",
       " 'base.6.0.bn2.weight': [0.0, 1.0063414573669434],\n",
       " 'base.6.0.conv1.weight': [-0.9990434050559998, 0.0, 0.9990435838699341],\n",
       " 'base.6.0.conv2.weight': [-1.0041515827178955, 0.0, 1.0041072368621826],\n",
       " 'base.6.0.downsample.0.weight': [-0.9986178874969482,\n",
       "  0.0,\n",
       "  0.9986178874969482],\n",
       " 'base.6.0.downsample.1.bias': [-1.0013892650604248, 0.0, 1.002809762954712],\n",
       " 'base.6.0.downsample.1.weight': [-1.0046577453613281,\n",
       "  0.0,\n",
       "  0.9974761605262756],\n",
       " 'base.6.1.bn1.bias': [-1.0039376020431519, 0.0],\n",
       " 'base.6.1.bn1.weight': [0.0, 1.0038793087005615],\n",
       " 'base.6.1.bn2.bias': [-1.0051746368408203, 0.0, 1.0001323223114014],\n",
       " 'base.6.1.bn2.weight': [0.0, 0.997181236743927],\n",
       " 'base.6.1.conv1.weight': [-0.9996164441108704, 0.0, 0.9996131658554077],\n",
       " 'base.6.1.conv2.weight': [-1.0010912418365479, 0.0, 1.0010483264923096],\n",
       " 'base.7.0.bn1.bias': [-1.0132701396942139, 0.0, 1.0029336214065552],\n",
       " 'base.7.0.bn1.weight': [0.0, 1.0118685960769653],\n",
       " 'base.7.0.bn2.bias': [-0.9646565914154053, 0.0, 0.9782690405845642],\n",
       " 'base.7.0.bn2.weight': [0.0, 0.959900438785553],\n",
       " 'base.7.0.conv1.weight': [-0.9971515536308289, 0.0, 0.9971283078193665],\n",
       " 'base.7.0.conv2.weight': [-0.9794412851333618, 0.0, 0.9794382452964783],\n",
       " 'base.7.0.downsample.0.weight': [-0.9849801063537598,\n",
       "  0.0,\n",
       "  0.9849342107772827],\n",
       " 'base.7.0.downsample.1.bias': [-0.9646565914154053, 0.0, 0.9782690405845642],\n",
       " 'base.7.0.downsample.1.weight': [-0.9999861717224121,\n",
       "  0.0,\n",
       "  0.9638087749481201],\n",
       " 'base.7.1.bn1.bias': [-1.0207003355026245, 0.0, 0.9878734350204468],\n",
       " 'base.7.1.bn1.weight': [0.0, 1.021633267402649],\n",
       " 'base.7.1.bn2.bias': [-0.9805426001548767, 0.0, 0.9250654578208923],\n",
       " 'base.7.1.bn2.weight': [0.0, 0.9945676326751709],\n",
       " 'base.7.1.conv1.weight': [-1.0018998384475708, 0.0, 1.0018991231918335],\n",
       " 'base.7.1.conv2.weight': [-1.0150518417358398, 0.0, 1.014282464981079],\n",
       " 'final.bias': [-1.0000823736190796, 1.000348687171936],\n",
       " 'final.weight': [-1.0667845010757446, 0.0, 0.929437518119812]}"
      ]
     },
     "execution_count": 31,
     "metadata": {},
     "output_type": "execute_result"
    }
   ],
   "source": [
    "layer_distinct_weights"
   ]
  },
  {
   "cell_type": "code",
   "execution_count": 32,
   "metadata": {
    "executionInfo": {
     "elapsed": 185,
     "status": "ok",
     "timestamp": 1650668195525,
     "user": {
      "displayName": "Abhishek kumar Mishra",
      "userId": "13515131134791977528"
     },
     "user_tz": 240
    },
    "id": "cCfKOm8no2du"
   },
   "outputs": [],
   "source": [
    "class PseudoData(Dataset):\n",
    "    \n",
    "    def __init__(self, data, label):\n",
    "        \n",
    "        self.data = data\n",
    "        self.label = label\n",
    "\n",
    "    def __getitem__(self, index):\n",
    "        \n",
    "        return self.data[index], self.label[index]\n",
    "\n",
    "    def __len__(self):\n",
    "        return len(self.data)\n",
    "\n",
    "corr_label = torch.tensor(corr_label).type(torch.FloatTensor).to('cuda')\n",
    "pseudo_dataLoader = DataLoader(dataset = PseudoData(corr_images, corr_label), batch_size = 1000, shuffle=False) "
   ]
  },
  {
   "cell_type": "code",
   "execution_count": 33,
   "metadata": {
    "executionInfo": {
     "elapsed": 7,
     "status": "ok",
     "timestamp": 1650668195978,
     "user": {
      "displayName": "Abhishek kumar Mishra",
      "userId": "13515131134791977528"
     },
     "user_tz": 240
    },
    "id": "uAf424TSo2gc"
   },
   "outputs": [],
   "source": [
    "def getResult(test_example, test_label, model, st):\n",
    "    model.load_state_dict(st)\n",
    "    model.eval()\n",
    "    with torch.no_grad():\n",
    "        output_ = model(test_example.float()) \n",
    "        pred = output_.data.max(1, keepdim=True)[1]\n",
    "        z = pred.eq(test_label.data.view_as(pred)).flatten()\n",
    "        return torch.where(z == False)[0]"
   ]
  },
  {
   "cell_type": "code",
   "execution_count": 34,
   "metadata": {
    "executionInfo": {
     "elapsed": 5,
     "status": "ok",
     "timestamp": 1650668196471,
     "user": {
      "displayName": "Abhishek kumar Mishra",
      "userId": "13515131134791977528"
     },
     "user_tz": 240
    },
    "id": "qQkUUItGo2j2"
   },
   "outputs": [],
   "source": [
    "def populateResults(idx, batch_id, old_state, new_state, w_images, n_ic, n_oc, row, column, weight_name):\n",
    "  key = 'img_id'+str(idx)+'_batch_'+str(batch_id)\n",
    "  if key not in w_images:\n",
    "    w_images[key] = {}\n",
    "    w_images[key]['location'] = []\n",
    "    w_images[key]['location'].append((weight_name, n_ic, n_oc, row, column, old_state, new_state))\n",
    "    w_images[key]['weight_states'] = []\n",
    "    w_images[key]['weight_states'].append(weight_name + ' : ' + str(old_state) + ' --> ' + str(new_state))\n",
    "\n",
    "  else:\n",
    "    w_images[key]['location'].append((weight_name, n_ic, n_oc, row, column, old_state, new_state))\n",
    "    w_images[key]['weight_states'].append(weight_name + ' : ' + str(old_state) + ' --> ' + str(new_state))"
   ]
  },
  {
   "cell_type": "code",
   "execution_count": 35,
   "metadata": {
    "executionInfo": {
     "elapsed": 7,
     "status": "ok",
     "timestamp": 1650668196891,
     "user": {
      "displayName": "Abhishek kumar Mishra",
      "userId": "13515131134791977528"
     },
     "user_tz": 240
    },
    "id": "jCBF5EBvo2lz"
   },
   "outputs": [],
   "source": [
    "def populateResults1(idx, batch_id, old_state, new_state, w_images, row, column, weight_name):\n",
    "  key = 'img_id'+str(idx)+'_batch_'+str(batch_id)\n",
    "  if key not in w_images:\n",
    "    w_images[key] = {}\n",
    "    w_images[key]['location'] = []\n",
    "    w_images[key]['location'].append((weight_name, row, column, old_state, new_state))\n",
    "    w_images[key]['weight_states'] = []\n",
    "    w_images[key]['weight_states'].append(weight_name + ' : ' + str(old_state) + ' --> ' + str(new_state))\n",
    "\n",
    "  else:\n",
    "    w_images[key]['location'].append((weight_name, row, column, old_state, new_state))\n",
    "    w_images[key]['weight_states'].append(weight_name + ' : ' + str(old_state) + ' --> ' + str(new_state))"
   ]
  },
  {
   "cell_type": "code",
   "execution_count": 36,
   "metadata": {
    "executionInfo": {
     "elapsed": 175,
     "status": "ok",
     "timestamp": 1650668197663,
     "user": {
      "displayName": "Abhishek kumar Mishra",
      "userId": "13515131134791977528"
     },
     "user_tz": 240
    },
    "id": "Tb0jVhzUo2oX"
   },
   "outputs": [],
   "source": [
    "# For bias weight mutation\n",
    "\n",
    "def bias_mutation(st, superSet, w_images, img,label, batch_id, weight_name):\n",
    "\n",
    "  if ('pos' in pos_neg_layerwise[weight_name]) and ('neg' in pos_neg_layerwise[weight_name]):\n",
    "    un = pos_neg_layerwise[weight_name]['pos'], pos_neg_layerwise[weight_name]['neg']\n",
    "\n",
    "    var_neg1 = torch.where(st==un[1])[0]\n",
    "    var_1 = torch.where(st==un[0])[0]\n",
    "\n",
    "  else:\n",
    "    try:\n",
    "      un = pos_neg_layerwise[weight_name]['pos']\n",
    "\n",
    "      var_neg1 = torch.where(st==un*1000)[0]\n",
    "      var_1 = torch.where(st==un)[0]\n",
    "\n",
    "    except KeyError:\n",
    "      un = pos_neg_layerwise[weight_name]['neg']\n",
    "\n",
    "      var_neg1 = torch.where(st==un)[0]\n",
    "      var_1 = torch.where(st==un*1000)[0]\n",
    "\n",
    "\n",
    "  if (var_neg1.nelement() == 0.) and (var_1.nelement() == 0.):\n",
    "    pass\n",
    "  else:\n",
    "    for column in torch.cat((var_neg1, var_1), 0):\n",
    "      row = 0\n",
    "      column = column.item()\n",
    "\n",
    "      org_val_real = st[column].item() # For bias part\n",
    "\n",
    "      if type(un) == tuple:\n",
    "          pos, neg = un   # Positive, Negative \n",
    "          if (org_val_real < 0.) and (org_val_real == neg):\n",
    "            org_val = neg\n",
    "\n",
    "            old_state = neg\n",
    "            new_state = 0.\n",
    "            superSet.add((weight_name, row, column, -1, 0))\n",
    "\n",
    "            st[column] = new_state\n",
    "\n",
    "            \"\"\"getResult() will tell whether the passed test example is classified to other class\n",
    "            or not after mutation, if it is classified to other class, then it returns True else False and \n",
    "            populateResults() will maintain the record of test examples which has been misclassified\n",
    "            like location(row(which neuron), column(indices)), old_state(old_value of weight element), \n",
    "            new_state (mutated value of weight element), images\"\"\"\n",
    "\n",
    "            \n",
    "            [populateResults1(idx.item(), batch_id, -1, 0, w_images, row, column, weight_name) \\\n",
    "             for idx in getResult(img, label, model, state_dict)]\n",
    "          \n",
    "            new_state = pos\n",
    "            superSet.add((weight_name, row, column, -1, 1))\n",
    "\n",
    "            st[column] = new_state\n",
    "\n",
    "            [populateResults1(idx.item(), batch_id, -1, 1, w_images, row, column, weight_name) \\\n",
    "             for idx in getResult(img, label, model, state_dict)]\n",
    "            \n",
    "            st[column] = org_val\n",
    "\n",
    "          elif (org_val_real > 0.) and (org_val_real == pos):\n",
    "\n",
    "            org_val = pos\n",
    "            old_state = pos\n",
    "            new_state = 0.\n",
    "            superSet.add((weight_name, row, column, 1, 0))\n",
    "            st[column] = new_state\n",
    "\n",
    "            [populateResults1(idx.item(), batch_id, 1, 0, w_images, row, column, weight_name) \\\n",
    "             for idx in getResult(img, label, model, state_dict)]\n",
    "          \n",
    "            new_state = neg\n",
    "            superSet.add((weight_name, row, column, 1, -1))\n",
    "\n",
    "            st[column] = new_state\n",
    "            \n",
    "            [populateResults1(idx.item(), batch_id, 1, -1, w_images, row, column, weight_name) \\\n",
    "             for idx in getResult(img, label, model, state_dict)]\n",
    "            \n",
    "            st[column] = org_val\n",
    "\n",
    "\n",
    "      \n",
    "      ############# Negative ################################\n",
    "      elif (un < 0) and (org_val_real == un):\n",
    "          org_val = un\n",
    "          old_state = un\n",
    "          new_state = 0.\n",
    "          superSet.add((weight_name, row, column, -1, 0))\n",
    "          st[column] = new_state\n",
    "            \n",
    "          [populateResults1(idx.item(), batch_id, -1, 0, w_images, row, column, weight_name) \\\n",
    "           for idx in getResult(img, label, model, state_dict)]\n",
    "          \n",
    "          st[column] = org_val\n",
    "\n",
    "\n",
    "      elif (un > 0) and (org_val_real == un):  ############# Positive  ################################\n",
    "          org_val = un\n",
    "          old_state = un\n",
    "          new_state = 0.\n",
    "          superSet.add((weight_name, row, column, 1, 0))\n",
    "          st[column] = new_state\n",
    "          [populateResults1(idx.item(), batch_id, 1, 0, w_images, row, column, weight_name) \\\n",
    "           for idx in getResult(img, label, model, state_dict)]\n",
    "\n",
    "          st[column] = org_val\n",
    "\n",
    "\n",
    "      #################################################################################################################"
   ]
  },
  {
   "cell_type": "code",
   "execution_count": 37,
   "metadata": {
    "executionInfo": {
     "elapsed": 4,
     "status": "ok",
     "timestamp": 1650668198215,
     "user": {
      "displayName": "Abhishek kumar Mishra",
      "userId": "13515131134791977528"
     },
     "user_tz": 240
    },
    "id": "oaZX0ddzo2rG"
   },
   "outputs": [],
   "source": [
    "# Saving length of shape for each layer\n",
    "layers_shape = {}\n",
    "\n",
    "for i in layer_name:\n",
    "  layers_shape[i] = len(state_dict[i].shape)"
   ]
  },
  {
   "cell_type": "code",
   "execution_count": 38,
   "metadata": {
    "colab": {
     "base_uri": "https://localhost:8080/"
    },
    "executionInfo": {
     "elapsed": 7,
     "status": "ok",
     "timestamp": 1650668199665,
     "user": {
      "displayName": "Abhishek kumar Mishra",
      "userId": "13515131134791977528"
     },
     "user_tz": 240
    },
    "id": "PFbz-pOzo2tw",
    "outputId": "e7f16963-093f-413b-ffdd-540b5b92c3a8"
   },
   "outputs": [
    {
     "name": "stdout",
     "output_type": "stream",
     "text": [
      "{'base.0.weight': 4, 'base.1.bias': 1, 'base.1.weight': 1, 'base.4.0.conv1.weight': 4, 'base.4.0.bn1.bias': 1, 'base.4.0.bn1.weight': 1, 'base.4.0.conv2.weight': 4, 'base.4.0.bn2.bias': 1, 'base.4.0.bn2.weight': 1, 'base.4.1.conv1.weight': 4, 'base.4.1.bn1.bias': 1, 'base.4.1.bn1.weight': 1, 'base.4.1.conv2.weight': 4, 'base.4.1.bn2.bias': 1, 'base.4.1.bn2.weight': 1, 'base.5.0.conv1.weight': 4, 'base.5.0.bn1.bias': 1, 'base.5.0.bn1.weight': 1, 'base.5.0.conv2.weight': 4, 'base.5.0.bn2.bias': 1, 'base.5.0.bn2.weight': 1, 'base.5.0.downsample.0.weight': 4, 'base.5.0.downsample.1.bias': 1, 'base.5.0.downsample.1.weight': 1, 'base.5.1.conv1.weight': 4, 'base.5.1.bn1.bias': 1, 'base.5.1.bn1.weight': 1, 'base.5.1.conv2.weight': 4, 'base.5.1.bn2.bias': 1, 'base.5.1.bn2.weight': 1, 'base.6.0.conv1.weight': 4, 'base.6.0.bn1.bias': 1, 'base.6.0.bn1.weight': 1, 'base.6.0.conv2.weight': 4, 'base.6.0.bn2.bias': 1, 'base.6.0.bn2.weight': 1, 'base.6.0.downsample.0.weight': 4, 'base.6.0.downsample.1.bias': 1, 'base.6.0.downsample.1.weight': 1, 'base.6.1.conv1.weight': 4, 'base.6.1.bn1.bias': 1, 'base.6.1.bn1.weight': 1, 'base.6.1.conv2.weight': 4, 'base.6.1.bn2.bias': 1, 'base.6.1.bn2.weight': 1, 'base.7.0.conv1.weight': 4, 'base.7.0.bn1.bias': 1, 'base.7.0.bn1.weight': 1, 'base.7.0.conv2.weight': 4, 'base.7.0.bn2.bias': 1, 'base.7.0.bn2.weight': 1, 'base.7.0.downsample.0.weight': 4, 'base.7.0.downsample.1.bias': 1, 'base.7.0.downsample.1.weight': 1, 'base.7.1.conv1.weight': 4, 'base.7.1.bn1.bias': 1, 'base.7.1.bn1.weight': 1, 'base.7.1.conv2.weight': 4, 'base.7.1.bn2.bias': 1, 'base.7.1.bn2.weight': 1, 'final.bias': 1, 'final.weight': 2}\n"
     ]
    }
   ],
   "source": [
    "print(layers_shape)"
   ]
  },
  {
   "cell_type": "code",
   "execution_count": 39,
   "metadata": {
    "colab": {
     "base_uri": "https://localhost:8080/"
    },
    "executionInfo": {
     "elapsed": 48383257,
     "status": "ok",
     "timestamp": 1650716584950,
     "user": {
      "displayName": "Abhishek kumar Mishra",
      "userId": "13515131134791977528"
     },
     "user_tz": 240
    },
    "id": "NuNNlCH0o2wG",
    "outputId": "ff81ea96-534c-4b61-d4d8-daaabb6b3c91"
   },
   "outputs": [
    {
     "name": "stderr",
     "output_type": "stream",
     "text": [
      "\r",
      "  0%|          | 0/10 [00:00<?, ?it/s]"
     ]
    },
    {
     "name": "stdout",
     "output_type": "stream",
     "text": [
      "Total number of elements in superSet is : 161639. \n",
      "\n"
     ]
    },
    {
     "name": "stderr",
     "output_type": "stream",
     "text": [
      "\r",
      " 10%|█         | 1/10 [1:19:29<11:55:27, 4769.74s/it]"
     ]
    },
    {
     "name": "stdout",
     "output_type": "stream",
     "text": [
      "There are 104040 locations that did not match.\n",
      "\n",
      "Total number of locations 57599 are encompassed out of 161639.\n",
      "Total number of elements in a weight matrix is  161639\n",
      "Total number of images fetched  91 \n",
      "\n",
      "Output \n",
      "\n",
      "[(91, 57599, 161639)]\n",
      "Total number of elements in superSet is : 161639. \n",
      "\n"
     ]
    },
    {
     "name": "stderr",
     "output_type": "stream",
     "text": [
      "\r",
      " 20%|██        | 2/10 [2:39:06<10:36:33, 4774.14s/it]"
     ]
    },
    {
     "name": "stdout",
     "output_type": "stream",
     "text": [
      "There are 92137 locations that did not match.\n",
      "\n",
      "Total number of locations 69502 are encompassed out of 161639.\n",
      "Total number of elements in a weight matrix is  161639\n",
      "Total number of images fetched  141 \n",
      "\n",
      "Output \n",
      "\n",
      "[(91, 57599, 161639), (141, 69502, 161639)]\n",
      "Total number of elements in superSet is : 161639. \n",
      "\n"
     ]
    },
    {
     "name": "stderr",
     "output_type": "stream",
     "text": [
      "\r",
      " 30%|███       | 3/10 [3:58:52<9:17:36, 4779.55s/it] "
     ]
    },
    {
     "name": "stdout",
     "output_type": "stream",
     "text": [
      "There are 88445 locations that did not match.\n",
      "\n",
      "Total number of locations 73194 are encompassed out of 161639.\n",
      "Total number of elements in a weight matrix is  161639\n",
      "Total number of images fetched  177 \n",
      "\n",
      "Output \n",
      "\n",
      "[(91, 57599, 161639), (141, 69502, 161639), (177, 73194, 161639)]\n",
      "Total number of elements in superSet is : 161639. \n",
      "\n"
     ]
    },
    {
     "name": "stderr",
     "output_type": "stream",
     "text": [
      "\r",
      " 40%|████      | 4/10 [5:18:55<7:58:50, 4788.46s/it]"
     ]
    },
    {
     "name": "stdout",
     "output_type": "stream",
     "text": [
      "There are 85724 locations that did not match.\n",
      "\n",
      "Total number of locations 75915 are encompassed out of 161639.\n",
      "Total number of elements in a weight matrix is  161639\n",
      "Total number of images fetched  224 \n",
      "\n",
      "Output \n",
      "\n",
      "[(91, 57599, 161639), (141, 69502, 161639), (177, 73194, 161639), (224, 75915, 161639)]\n",
      "Total number of elements in superSet is : 161639. \n",
      "\n"
     ]
    },
    {
     "name": "stderr",
     "output_type": "stream",
     "text": [
      "\r",
      " 50%|█████     | 5/10 [6:39:10<6:39:50, 4798.01s/it]"
     ]
    },
    {
     "name": "stdout",
     "output_type": "stream",
     "text": [
      "There are 84199 locations that did not match.\n",
      "\n",
      "Total number of locations 77440 are encompassed out of 161639.\n",
      "Total number of elements in a weight matrix is  161639\n",
      "Total number of images fetched  241 \n",
      "\n",
      "Output \n",
      "\n",
      "[(91, 57599, 161639), (141, 69502, 161639), (177, 73194, 161639), (224, 75915, 161639), (241, 77440, 161639)]\n",
      "Total number of elements in superSet is : 161639. \n",
      "\n"
     ]
    },
    {
     "name": "stderr",
     "output_type": "stream",
     "text": [
      "\r",
      " 60%|██████    | 6/10 [7:59:38<5:20:33, 4808.33s/it]"
     ]
    },
    {
     "name": "stdout",
     "output_type": "stream",
     "text": [
      "There are 83219 locations that did not match.\n",
      "\n",
      "Total number of locations 78420 are encompassed out of 161639.\n",
      "Total number of elements in a weight matrix is  161639\n",
      "Total number of images fetched  266 \n",
      "\n",
      "Output \n",
      "\n",
      "[(91, 57599, 161639), (141, 69502, 161639), (177, 73194, 161639), (224, 75915, 161639), (241, 77440, 161639), (266, 78420, 161639)]\n",
      "Total number of elements in superSet is : 161639. \n",
      "\n"
     ]
    },
    {
     "name": "stderr",
     "output_type": "stream",
     "text": [
      "\r",
      " 70%|███████   | 7/10 [9:20:24<4:01:02, 4820.76s/it]"
     ]
    },
    {
     "name": "stdout",
     "output_type": "stream",
     "text": [
      "There are 82476 locations that did not match.\n",
      "\n",
      "Total number of locations 79163 are encompassed out of 161639.\n",
      "Total number of elements in a weight matrix is  161639\n",
      "Total number of images fetched  285 \n",
      "\n",
      "Output \n",
      "\n",
      "[(91, 57599, 161639), (141, 69502, 161639), (177, 73194, 161639), (224, 75915, 161639), (241, 77440, 161639), (266, 78420, 161639), (285, 79163, 161639)]\n",
      "Total number of elements in superSet is : 161639. \n",
      "\n"
     ]
    },
    {
     "name": "stderr",
     "output_type": "stream",
     "text": [
      "\r",
      " 80%|████████  | 8/10 [10:42:03<2:41:31, 4845.73s/it]"
     ]
    },
    {
     "name": "stdout",
     "output_type": "stream",
     "text": [
      "There are 80709 locations that did not match.\n",
      "\n",
      "Total number of locations 80930 are encompassed out of 161639.\n",
      "Total number of elements in a weight matrix is  161639\n",
      "Total number of images fetched  310 \n",
      "\n",
      "Output \n",
      "\n",
      "[(91, 57599, 161639), (141, 69502, 161639), (177, 73194, 161639), (224, 75915, 161639), (241, 77440, 161639), (266, 78420, 161639), (285, 79163, 161639), (310, 80930, 161639)]\n",
      "Total number of elements in superSet is : 161639. \n",
      "\n"
     ]
    },
    {
     "name": "stderr",
     "output_type": "stream",
     "text": [
      "\r",
      " 90%|█████████ | 9/10 [12:04:01<1:21:08, 4868.08s/it]"
     ]
    },
    {
     "name": "stdout",
     "output_type": "stream",
     "text": [
      "There are 80014 locations that did not match.\n",
      "\n",
      "Total number of locations 81625 are encompassed out of 161639.\n",
      "Total number of elements in a weight matrix is  161639\n",
      "Total number of images fetched  324 \n",
      "\n",
      "Output \n",
      "\n",
      "[(91, 57599, 161639), (141, 69502, 161639), (177, 73194, 161639), (224, 75915, 161639), (241, 77440, 161639), (266, 78420, 161639), (285, 79163, 161639), (310, 80930, 161639), (324, 81625, 161639)]\n",
      "Total number of elements in superSet is : 161639. \n",
      "\n"
     ]
    },
    {
     "name": "stderr",
     "output_type": "stream",
     "text": [
      "100%|██████████| 10/10 [13:26:22<00:00, 4838.23s/it]"
     ]
    },
    {
     "name": "stdout",
     "output_type": "stream",
     "text": [
      "There are 79307 locations that did not match.\n",
      "\n",
      "Total number of locations 82332 are encompassed out of 161639.\n",
      "Total number of elements in a weight matrix is  161639\n",
      "Total number of images fetched  351 \n",
      "\n",
      "Output \n",
      "\n",
      "[(91, 57599, 161639), (141, 69502, 161639), (177, 73194, 161639), (224, 75915, 161639), (241, 77440, 161639), (266, 78420, 161639), (285, 79163, 161639), (310, 80930, 161639), (324, 81625, 161639), (351, 82332, 161639)]\n"
     ]
    },
    {
     "name": "stderr",
     "output_type": "stream",
     "text": [
      "\n"
     ]
    }
   ],
   "source": [
    "# Injecting fault by mutating the ternary weight and check whether it is classified to other class than before by the model. \n",
    "\n",
    "fetchimg_totImg_coverage_totCov = []\n",
    "\n",
    "w_images = {}\n",
    "superSet = set()\n",
    "\n",
    "\n",
    "batch_id = 0\n",
    "for img,label  in tqdm(pseudo_dataLoader):\n",
    "\n",
    "    for weight_name in layer_name:\n",
    "\n",
    "        # Selecting hidden layer to iterate its weight elements\n",
    "        st = state_dict[weight_name]\n",
    "\n",
    "\n",
    "        if ('bias' in weight_name) or (layers_shape[weight_name] == 1):\n",
    "          bias_mutation(st, superSet, w_images, img,label, batch_id, weight_name)\n",
    "          continue\n",
    "\n",
    "        if ('conv' in weight_name) or (layers_shape[weight_name] == 4):\n",
    "\n",
    "          ic, oc, k,k1 = st.shape # ic = in_channel, oc= out_channel, k and k1 is the number of rows and columns of a kernel\n",
    "\n",
    "          for n_ic in range(ic):\n",
    "            for n_oc in range(oc):\n",
    "              kt =  st[n_ic][n_oc] # Fetching Kernel matrix or tensor\n",
    "\n",
    "              # Iterating number of neurons for the selected hidden layer\n",
    "              for row in range(k):\n",
    "\n",
    "                # Fetching indices for -w and w weight value for the selected kernel\n",
    "                \"\"\"Since each kernel has weight vector, so by fetching indices\n",
    "                we will come to know, which indices of the kernel contains weights -w or w weight\"\"\"\n",
    "\n",
    "                ###########################################################################################\n",
    "\n",
    "                if ('pos' in pos_neg_layerwise[weight_name]) and ('neg' in pos_neg_layerwise[weight_name]):\n",
    "                  un = pos_neg_layerwise[weight_name]['pos'], pos_neg_layerwise[weight_name]['neg']\n",
    "\n",
    "                  var_neg1 = torch.where(kt[row]==un[1])[0]\n",
    "                  var_1 = torch.where(kt[row]==un[0])[0]\n",
    "\n",
    "                else:\n",
    "                  try:\n",
    "                    un = pos_neg_layerwise[weight_name]['pos']\n",
    "\n",
    "                    var_neg1 = torch.where(kt[row]==un*1000)[0]\n",
    "                    var_1 = torch.where(kt[row]==un)[0]\n",
    "\n",
    "                  except KeyError:\n",
    "                    un = pos_neg_layerwise[weight_name]['neg']\n",
    "\n",
    "                    var_neg1 = torch.where(kt[row]==un)[0]\n",
    "                    var_1 = torch.where(kt[row]==un*1000)[0]\n",
    "\n",
    "                ##########################################################################################\n",
    "\n",
    "                if (var_neg1.nelement() == 0.) and (var_1.nelement() == 0.):\n",
    "                  continue\n",
    "                else:\n",
    "                  for column in torch.cat((var_neg1, var_1), 0):\n",
    "\n",
    "                    column = column.item()\n",
    "\n",
    "                    org_val_real = kt[row][column].item()\n",
    "\n",
    "                    ##################################################################################################################\n",
    "\n",
    "                    if type(un) == tuple:\n",
    "                      pos, neg = un  # Positive, Negative\n",
    "\n",
    "                      if (org_val_real < 0.) and (org_val_real == neg):\n",
    "                        org_val = neg\n",
    "                        old_state = neg\n",
    "                        new_state = 0.\n",
    "                        superSet.add((weight_name, n_ic, n_oc, row, column, -1, 0))\n",
    "\n",
    "                        st[n_ic][n_oc][row][column] = new_state\n",
    "                        \n",
    "                        \"\"\"getResult() will tell whether the passed test example is classified to other class\n",
    "                        or not after mutation, if it is classified to other class, then it returns True else False and \n",
    "                        populateResults() will maintain the record of test examples which has been misclassified\n",
    "                        like location(row(which neuron), column(indices)), old_state(old_value of weight element), \n",
    "                        new_state (mutated value of weight element), images\"\"\"\n",
    "\n",
    "                        \n",
    "                        [populateResults(idx.item(), batch_id, -1, 0, w_images, n_ic, n_oc, row, column, weight_name) \\\n",
    "                         for idx in getResult(img, label, model, state_dict)]\n",
    "                        \n",
    "                        new_state = pos\n",
    "                        superSet.add((weight_name, n_ic, n_oc, row, column, -1, 1))\n",
    "                        st[n_ic][n_oc][row][column] = new_state\n",
    "\n",
    "                            \n",
    "                        [populateResults(idx.item(), batch_id, -1, 1, w_images, n_ic, n_oc, row, column, weight_name) \\\n",
    "                         for idx in getResult(img, label, model, state_dict)]\n",
    "                        st[n_ic][n_oc][row][column] = org_val # Setting back to original value\n",
    "\n",
    "                    \n",
    "                      elif (org_val_real > 0.) and (org_val_real == pos):\n",
    "                        org_val = pos\n",
    "                        old_state = pos\n",
    "                        new_state = 0.\n",
    "                        superSet.add((weight_name, n_ic, n_oc, row, column, 1, 0))\n",
    "\n",
    "                        st[n_ic][n_oc][row][column] = new_state\n",
    "                        \n",
    "                        [populateResults(idx.item(), batch_id, 1, 0, w_images, n_ic, n_oc, row, column, weight_name) \\\n",
    "                         for idx in getResult(img, label, model, state_dict)]\n",
    "                        \n",
    "                        new_state = neg\n",
    "                        superSet.add((weight_name, n_ic, n_oc, row, column, 1, -1))\n",
    "                        st[n_ic][n_oc][row][column] = new_state\n",
    "\n",
    "                            \n",
    "                        [populateResults(idx.item(), batch_id, 1, -1, w_images, n_ic, n_oc, row, column, weight_name) \\\n",
    "                         for idx in getResult(img, label, model, state_dict)]\n",
    "                        \n",
    "                        st[n_ic][n_oc][row][column] = org_val # Setting back to original value\n",
    "\n",
    "\n",
    "\n",
    "\n",
    "                    elif (un < 0) and (org_val_real == un): ########################## Negative ###########################################\n",
    "                      org_val = un\n",
    "                      old_state = un\n",
    "                      new_state = 0.\n",
    "                      superSet.add((weight_name,  n_ic, n_oc, row, column, -1, 0))\n",
    "                      st[n_ic][n_oc][row][column] = new_state\n",
    "                        \n",
    "                      [populateResults(idx.item(), batch_id, -1, 0, w_images, n_ic, n_oc, row, column, weight_name) \\\n",
    "                       for idx in getResult(img, label, model, state_dict)]\n",
    "                      \n",
    "                      st[row][column] = org_val\n",
    "\n",
    "\n",
    "                    elif (un > 0) and (org_val_real == un): ########################## Positive ###########################################\n",
    "                      org_val = un\n",
    "                      old_state = un\n",
    "                      new_state = 0.\n",
    "                      superSet.add((weight_name, n_ic, n_oc, row, column, 1, 0))\n",
    "                      st[n_ic][n_oc][row][column] = new_state\n",
    "                        \n",
    "                      [populateResults(idx.item(), batch_id, 1, 0, w_images, n_ic, n_oc, row, column, weight_name) \\\n",
    "                       for idx in getResult(img, label, model, state_dict)]\n",
    "                      st[row][column] = org_val\n",
    "\n",
    "\n",
    "    \n",
    "            \n",
    "        \n",
    "        # For fully connected layers\n",
    "        elif layers_shape[weight_name] == 2:\n",
    "          rows = state_dict[weight_name].shape[0]\n",
    "\n",
    "          # Iterating number of neurons for the selected hidden layer\n",
    "          for row in range(rows):\n",
    "\n",
    "            # Fetching indices for -w and w weight value for the selected neuron\n",
    "            \"\"\"Since each neuron has weight vector, so by fetching indices\n",
    "            we will come to know, which indices of the neuron contains weights -w or w weight\"\"\"\n",
    "\n",
    "            #########################################################################################\n",
    "\n",
    "            if ('pos' in pos_neg_layerwise[weight_name]) and ('neg' in pos_neg_layerwise[weight_name]):\n",
    "              un = pos_neg_layerwise[weight_name]['pos'], pos_neg_layerwise[weight_name]['neg']\n",
    "\n",
    "              var_neg1 = torch.where(st[row]==un[1])[0]\n",
    "              var_1 = torch.where(st[row]==un[0])[0]\n",
    "\n",
    "            else:\n",
    "              try:\n",
    "                un = pos_neg_layerwise[weight_name]['pos']\n",
    "\n",
    "                var_neg1 = torch.where(st[row]==un*1000)[0]\n",
    "                var_1 = torch.where(st[row]==un)[0]\n",
    "\n",
    "              except KeyError:\n",
    "                un = pos_neg_layerwise[weight_name]['neg']\n",
    "\n",
    "                var_neg1 = torch.where(st[row]==un)[0]\n",
    "                var_1 = torch.where(st[row]==un*1000)[0]\n",
    "\n",
    "\n",
    "            #########################################################################################\n",
    "\n",
    "\n",
    "            if (var_neg1.nelement() == 0.) and (var_1.nelement() == 0.):\n",
    "              continue\n",
    "            else:\n",
    "              for column in torch.cat((var_neg1, var_1), 0):\n",
    "\n",
    "                column = column.item()\n",
    "\n",
    "                org_val_v1 = st[row][column].item()\n",
    "\n",
    "\n",
    "                #########################################################################################\n",
    "\n",
    "                if type(un) == tuple:\n",
    "                  pos, neg = un  # Positive, Negative\n",
    "\n",
    "                  if (org_val_v1 < 0.) and (neg == org_val_v1):\n",
    "\n",
    "                    org_val = neg\n",
    "                    old_state = neg\n",
    "                    new_state = 0.\n",
    "                    superSet.add((weight_name, row, column, -1, 0))\n",
    "\n",
    "                    st[row][column] = new_state\n",
    "                    \n",
    "                    [populateResults1(idx.item(), batch_id, -1, 0, w_images, row, column, weight_name) \\\n",
    "                     for idx in getResult(img, label, model, state_dict)]\n",
    "                    \n",
    "                    new_state = pos\n",
    "                    superSet.add((weight_name, row, column, -1, 1))\n",
    "                    st[row][column] = new_state\n",
    "                        \n",
    "                    [populateResults1(idx.item(), batch_id, -1, 1, w_images, row, column, weight_name) \\\n",
    "                     for idx in getResult(img, label, model, state_dict)]\n",
    "                    st[row][column] = org_val\n",
    "\n",
    "\n",
    "                  elif (org_val_v1 > 0.) and (pos == org_val_v1):\n",
    "\n",
    "                    org_val = pos\n",
    "                    old_state = pos\n",
    "                    new_state = 0.\n",
    "                    superSet.add((weight_name, row, column, 1, 0))\n",
    "\n",
    "                    st[row][column] = new_state\n",
    "                    \n",
    "                    [populateResults1(idx.item(), batch_id, 1, 0, w_images, row, column, weight_name) \\\n",
    "                     for idx in getResult(img, label, model, state_dict)]\n",
    "                    \n",
    "                    new_state = neg\n",
    "                    superSet.add((weight_name, row, column, 1, -1))\n",
    "                    st[row][column] = new_state\n",
    "                        \n",
    "                    [populateResults1(idx.item(), batch_id, 1, -1, w_images, row, column, weight_name) \\\n",
    "                     for idx in getResult(img, label, model, state_dict)]\n",
    "                    st[row][column] = org_val\n",
    "\n",
    "\n",
    " \n",
    "                elif (un < 0) and (un == org_val_v1):  ################# Negative ###############################################################\n",
    "                  org_val = un  \n",
    "                  old_state = un\n",
    "                  new_state = 0.\n",
    "                  superSet.add((weight_name, row, column, -1, 0))\n",
    "                  st[row][column] = new_state\n",
    "                    \n",
    "                  [populateResults1(idx.item(), batch_id, -1, 0, w_images, row, column, weight_name) \\\n",
    "                   for idx in getResult(img, label, model, state_dict)]\n",
    "\n",
    "                  st[row][column] = org_val\n",
    "\n",
    "\n",
    "                elif (un > 0) and (un == org_val_v1):  ################# Positive ###############################################################\n",
    "                  org_val = un\n",
    "                  old_state = un\n",
    "                  new_state = 0.\n",
    "                  superSet.add((weight_name, row, column, 1, 0))\n",
    "                  st[row][column] = new_state\n",
    "                    \n",
    "                  [populateResults1(idx.item(), batch_id, 1, 0, w_images, row, column, weight_name) \\\n",
    "                   for idx in getResult(img, label, model, state_dict)]\n",
    "                  \n",
    "                  st[row][column] = org_val\n",
    "\n",
    "\n",
    "    batch_id += 1\n",
    "\n",
    "\n",
    "    # Fetching locations and total number of images\n",
    "    ################################################\n",
    "\n",
    "    print(f\"Total number of elements in superSet is : {len(superSet)}.\",'\\n')\n",
    "\n",
    "    # joblib.dump(w_images, open('w_images_'+str(batch_id)+'.pkl','wb')) \n",
    "\n",
    "    image_locCounts = [] # (image_id,locationCounts)\n",
    "\n",
    "    for img in w_images.keys():\n",
    "        locCounts = len(w_images[img]['location'])\n",
    "        image_locCounts.append((locCounts,img))\n",
    "            \n",
    "    image_locCounts.sort(reverse=True)\n",
    "\n",
    "\n",
    "    netSetOfImages = []\n",
    "    progressingSet = []\n",
    "    max_locCounts_img = image_locCounts[0][1] # An image that has encompassed maximum locations.\n",
    "\n",
    "    netSetOfImages.append(max_locCounts_img)\n",
    "    progressingSet += set(w_images[max_locCounts_img]['location'])\n",
    "\n",
    "\n",
    "    for i in range(1,len(image_locCounts)):\n",
    "        img = image_locCounts[i][1]\n",
    "        locs = w_images[img]['location']\n",
    "\n",
    "        if set(locs).issubset(progressingSet):\n",
    "            pass\n",
    "        else:\n",
    "            progressingSet += list(set(locs) - set(progressingSet))\n",
    "            netSetOfImages.append(img)\n",
    "\n",
    "\n",
    "    if set(superSet).issubset(progressingSet):\n",
    "        print(\"All match done!\")\n",
    "    else:\n",
    "        print(\"There are {} locations that did not match.\".format(len(set(superSet) - set(progressingSet))))\n",
    "\n",
    "    print()\n",
    "    print(\"Total number of locations {} are encompassed out of {}.\".format(len(set(progressingSet)), len(superSet)))\n",
    "\n",
    "\n",
    "    print(\"Total number of elements in a weight matrix is \", len(superSet))\n",
    "\n",
    "    print(\"Total number of images fetched \",len(netSetOfImages),'\\n')\n",
    "\n",
    "    fetchimg_totImg_coverage_totCov.append(( len(netSetOfImages), len(set(progressingSet)), len(superSet) ))\n",
    "\n",
    "    # joblib.dump(fetchimg_totImg_coverage_totCov, open('res'+str(numImgs)+'.pkl','wb')) \n",
    "\n",
    "    # Superset \n",
    "    # joblib.dump(superSet, open('superSet.pkl','wb'))    \n",
    "\n",
    "                \n",
    "      \n",
    "    print(\"Output \\n\")\n",
    "    print(fetchimg_totImg_coverage_totCov)\n",
    "\n",
    "    #joblib.dump(fetchimg_totImg_coverage_totCov, open('op_128.pkl', 'wb'))\n"
   ]
  },
  {
   "cell_type": "code",
   "execution_count": 40,
   "metadata": {
    "colab": {
     "base_uri": "https://localhost:8080/"
    },
    "executionInfo": {
     "elapsed": 14,
     "status": "ok",
     "timestamp": 1650716586100,
     "user": {
      "displayName": "Abhishek kumar Mishra",
      "userId": "13515131134791977528"
     },
     "user_tz": 240
    },
    "id": "8gVS777-o2yv",
    "outputId": "361c0e7e-0d67-449c-ea54-b1aab00769d8"
   },
   "outputs": [
    {
     "data": {
      "text/plain": [
       "0.5093572714505782"
      ]
     },
     "execution_count": 40,
     "metadata": {},
     "output_type": "execute_result"
    }
   ],
   "source": [
    "# Fault coverage\n",
    "fetchimg_totImg_coverage_totCov[-1][1]/fetchimg_totImg_coverage_totCov[-1][2]"
   ]
  },
  {
   "cell_type": "code",
   "execution_count": null,
   "metadata": {
    "id": "oZcIdBX9ttol"
   },
   "outputs": [],
   "source": [
    "# We also have to consider dead neurons in the model that we will get from another notebook. Then we will have total fault coverage. "
   ]
  },
  {
   "cell_type": "code",
   "execution_count": null,
   "metadata": {
    "id": "iZh-TmJjKULD"
   },
   "outputs": [],
   "source": []
  }
 ],
 "metadata": {
  "accelerator": "GPU",
  "colab": {
   "authorship_tag": "ABX9TyM3AuUmH/8sEuGmG1+OGTkV",
   "collapsed_sections": [],
   "mount_file_id": "1grm5b8hZdyb7iq-ptiWyVMq32j19q4BW",
   "name": "Main_ResNet-18.ipynb",
   "provenance": []
  },
  "kernelspec": {
   "display_name": "Python 3",
   "language": "python",
   "name": "python3"
  },
  "language_info": {
   "codemirror_mode": {
    "name": "ipython",
    "version": 3
   },
   "file_extension": ".py",
   "mimetype": "text/x-python",
   "name": "python",
   "nbconvert_exporter": "python",
   "pygments_lexer": "ipython3",
   "version": "3.7.3"
  },
  "widgets": {
   "application/vnd.jupyter.widget-state+json": {
    "20330c98549543df90f3244ae59b8d11": {
     "model_module": "@jupyter-widgets/controls",
     "model_module_version": "1.5.0",
     "model_name": "ProgressStyleModel",
     "state": {
      "_model_module": "@jupyter-widgets/controls",
      "_model_module_version": "1.5.0",
      "_model_name": "ProgressStyleModel",
      "_view_count": null,
      "_view_module": "@jupyter-widgets/base",
      "_view_module_version": "1.2.0",
      "_view_name": "StyleView",
      "bar_color": null,
      "description_width": ""
     }
    },
    "266e05cf1b7e4a4d8764db134c25ce0b": {
     "model_module": "@jupyter-widgets/base",
     "model_module_version": "1.2.0",
     "model_name": "LayoutModel",
     "state": {
      "_model_module": "@jupyter-widgets/base",
      "_model_module_version": "1.2.0",
      "_model_name": "LayoutModel",
      "_view_count": null,
      "_view_module": "@jupyter-widgets/base",
      "_view_module_version": "1.2.0",
      "_view_name": "LayoutView",
      "align_content": null,
      "align_items": null,
      "align_self": null,
      "border": null,
      "bottom": null,
      "display": null,
      "flex": null,
      "flex_flow": null,
      "grid_area": null,
      "grid_auto_columns": null,
      "grid_auto_flow": null,
      "grid_auto_rows": null,
      "grid_column": null,
      "grid_gap": null,
      "grid_row": null,
      "grid_template_areas": null,
      "grid_template_columns": null,
      "grid_template_rows": null,
      "height": null,
      "justify_content": null,
      "justify_items": null,
      "left": null,
      "margin": null,
      "max_height": null,
      "max_width": null,
      "min_height": null,
      "min_width": null,
      "object_fit": null,
      "object_position": null,
      "order": null,
      "overflow": null,
      "overflow_x": null,
      "overflow_y": null,
      "padding": null,
      "right": null,
      "top": null,
      "visibility": null,
      "width": null
     }
    },
    "6c015e9a63bb4cb5a0697b7360ab7517": {
     "model_module": "@jupyter-widgets/base",
     "model_module_version": "1.2.0",
     "model_name": "LayoutModel",
     "state": {
      "_model_module": "@jupyter-widgets/base",
      "_model_module_version": "1.2.0",
      "_model_name": "LayoutModel",
      "_view_count": null,
      "_view_module": "@jupyter-widgets/base",
      "_view_module_version": "1.2.0",
      "_view_name": "LayoutView",
      "align_content": null,
      "align_items": null,
      "align_self": null,
      "border": null,
      "bottom": null,
      "display": null,
      "flex": null,
      "flex_flow": null,
      "grid_area": null,
      "grid_auto_columns": null,
      "grid_auto_flow": null,
      "grid_auto_rows": null,
      "grid_column": null,
      "grid_gap": null,
      "grid_row": null,
      "grid_template_areas": null,
      "grid_template_columns": null,
      "grid_template_rows": null,
      "height": null,
      "justify_content": null,
      "justify_items": null,
      "left": null,
      "margin": null,
      "max_height": null,
      "max_width": null,
      "min_height": null,
      "min_width": null,
      "object_fit": null,
      "object_position": null,
      "order": null,
      "overflow": null,
      "overflow_x": null,
      "overflow_y": null,
      "padding": null,
      "right": null,
      "top": null,
      "visibility": null,
      "width": null
     }
    },
    "73a71a499dcb425e81c91667f1994795": {
     "model_module": "@jupyter-widgets/base",
     "model_module_version": "1.2.0",
     "model_name": "LayoutModel",
     "state": {
      "_model_module": "@jupyter-widgets/base",
      "_model_module_version": "1.2.0",
      "_model_name": "LayoutModel",
      "_view_count": null,
      "_view_module": "@jupyter-widgets/base",
      "_view_module_version": "1.2.0",
      "_view_name": "LayoutView",
      "align_content": null,
      "align_items": null,
      "align_self": null,
      "border": null,
      "bottom": null,
      "display": null,
      "flex": null,
      "flex_flow": null,
      "grid_area": null,
      "grid_auto_columns": null,
      "grid_auto_flow": null,
      "grid_auto_rows": null,
      "grid_column": null,
      "grid_gap": null,
      "grid_row": null,
      "grid_template_areas": null,
      "grid_template_columns": null,
      "grid_template_rows": null,
      "height": null,
      "justify_content": null,
      "justify_items": null,
      "left": null,
      "margin": null,
      "max_height": null,
      "max_width": null,
      "min_height": null,
      "min_width": null,
      "object_fit": null,
      "object_position": null,
      "order": null,
      "overflow": null,
      "overflow_x": null,
      "overflow_y": null,
      "padding": null,
      "right": null,
      "top": null,
      "visibility": null,
      "width": null
     }
    },
    "a9359dfd33fe4cb2899735a81c348cbf": {
     "model_module": "@jupyter-widgets/controls",
     "model_module_version": "1.5.0",
     "model_name": "DescriptionStyleModel",
     "state": {
      "_model_module": "@jupyter-widgets/controls",
      "_model_module_version": "1.5.0",
      "_model_name": "DescriptionStyleModel",
      "_view_count": null,
      "_view_module": "@jupyter-widgets/base",
      "_view_module_version": "1.2.0",
      "_view_name": "StyleView",
      "description_width": ""
     }
    },
    "ae90a4c94b304c779b5cd956594ea5dc": {
     "model_module": "@jupyter-widgets/base",
     "model_module_version": "1.2.0",
     "model_name": "LayoutModel",
     "state": {
      "_model_module": "@jupyter-widgets/base",
      "_model_module_version": "1.2.0",
      "_model_name": "LayoutModel",
      "_view_count": null,
      "_view_module": "@jupyter-widgets/base",
      "_view_module_version": "1.2.0",
      "_view_name": "LayoutView",
      "align_content": null,
      "align_items": null,
      "align_self": null,
      "border": null,
      "bottom": null,
      "display": null,
      "flex": null,
      "flex_flow": null,
      "grid_area": null,
      "grid_auto_columns": null,
      "grid_auto_flow": null,
      "grid_auto_rows": null,
      "grid_column": null,
      "grid_gap": null,
      "grid_row": null,
      "grid_template_areas": null,
      "grid_template_columns": null,
      "grid_template_rows": null,
      "height": null,
      "justify_content": null,
      "justify_items": null,
      "left": null,
      "margin": null,
      "max_height": null,
      "max_width": null,
      "min_height": null,
      "min_width": null,
      "object_fit": null,
      "object_position": null,
      "order": null,
      "overflow": null,
      "overflow_x": null,
      "overflow_y": null,
      "padding": null,
      "right": null,
      "top": null,
      "visibility": null,
      "width": null
     }
    },
    "b4d7a922ed604897a711c14096fcfd11": {
     "model_module": "@jupyter-widgets/controls",
     "model_module_version": "1.5.0",
     "model_name": "HBoxModel",
     "state": {
      "_dom_classes": [],
      "_model_module": "@jupyter-widgets/controls",
      "_model_module_version": "1.5.0",
      "_model_name": "HBoxModel",
      "_view_count": null,
      "_view_module": "@jupyter-widgets/controls",
      "_view_module_version": "1.5.0",
      "_view_name": "HBoxView",
      "box_style": "",
      "children": [
       "IPY_MODEL_f0cd7497e7a144aaa0dd2c4ea2ad0528",
       "IPY_MODEL_d69b1c60dc5e47a8850c09b6db503019",
       "IPY_MODEL_c87dfe6e32f34b87a711d86c0521f144"
      ],
      "layout": "IPY_MODEL_6c015e9a63bb4cb5a0697b7360ab7517"
     }
    },
    "c2889b498e884a9fb500f6abcbf98cc9": {
     "model_module": "@jupyter-widgets/controls",
     "model_module_version": "1.5.0",
     "model_name": "DescriptionStyleModel",
     "state": {
      "_model_module": "@jupyter-widgets/controls",
      "_model_module_version": "1.5.0",
      "_model_name": "DescriptionStyleModel",
      "_view_count": null,
      "_view_module": "@jupyter-widgets/base",
      "_view_module_version": "1.2.0",
      "_view_name": "StyleView",
      "description_width": ""
     }
    },
    "c87dfe6e32f34b87a711d86c0521f144": {
     "model_module": "@jupyter-widgets/controls",
     "model_module_version": "1.5.0",
     "model_name": "HTMLModel",
     "state": {
      "_dom_classes": [],
      "_model_module": "@jupyter-widgets/controls",
      "_model_module_version": "1.5.0",
      "_model_name": "HTMLModel",
      "_view_count": null,
      "_view_module": "@jupyter-widgets/controls",
      "_view_module_version": "1.5.0",
      "_view_name": "HTMLView",
      "description": "",
      "description_tooltip": null,
      "layout": "IPY_MODEL_ae90a4c94b304c779b5cd956594ea5dc",
      "placeholder": "​",
      "style": "IPY_MODEL_a9359dfd33fe4cb2899735a81c348cbf",
      "value": " 44.7M/44.7M [00:00&lt;00:00, 184MB/s]"
     }
    },
    "d69b1c60dc5e47a8850c09b6db503019": {
     "model_module": "@jupyter-widgets/controls",
     "model_module_version": "1.5.0",
     "model_name": "FloatProgressModel",
     "state": {
      "_dom_classes": [],
      "_model_module": "@jupyter-widgets/controls",
      "_model_module_version": "1.5.0",
      "_model_name": "FloatProgressModel",
      "_view_count": null,
      "_view_module": "@jupyter-widgets/controls",
      "_view_module_version": "1.5.0",
      "_view_name": "ProgressView",
      "bar_style": "success",
      "description": "",
      "description_tooltip": null,
      "layout": "IPY_MODEL_266e05cf1b7e4a4d8764db134c25ce0b",
      "max": 46830571,
      "min": 0,
      "orientation": "horizontal",
      "style": "IPY_MODEL_20330c98549543df90f3244ae59b8d11",
      "value": 46830571
     }
    },
    "f0cd7497e7a144aaa0dd2c4ea2ad0528": {
     "model_module": "@jupyter-widgets/controls",
     "model_module_version": "1.5.0",
     "model_name": "HTMLModel",
     "state": {
      "_dom_classes": [],
      "_model_module": "@jupyter-widgets/controls",
      "_model_module_version": "1.5.0",
      "_model_name": "HTMLModel",
      "_view_count": null,
      "_view_module": "@jupyter-widgets/controls",
      "_view_module_version": "1.5.0",
      "_view_name": "HTMLView",
      "description": "",
      "description_tooltip": null,
      "layout": "IPY_MODEL_73a71a499dcb425e81c91667f1994795",
      "placeholder": "​",
      "style": "IPY_MODEL_c2889b498e884a9fb500f6abcbf98cc9",
      "value": "100%"
     }
    }
   }
  }
 },
 "nbformat": 4,
 "nbformat_minor": 1
}
