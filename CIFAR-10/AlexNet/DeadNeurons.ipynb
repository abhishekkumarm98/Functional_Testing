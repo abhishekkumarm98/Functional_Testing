{
 "cells": [
  {
   "cell_type": "code",
   "execution_count": null,
   "metadata": {},
   "outputs": [],
   "source": [
    "cd CIFAR-10/AlexNet"
   ]
  },
  {
   "cell_type": "code",
   "execution_count": 4,
   "metadata": {
    "id": "7GjZ6db0s6sS"
   },
   "outputs": [],
   "source": [
    "import numpy as np\n",
    "import sys, os, random\n",
    "import matplotlib.pyplot as plt\n",
    "import pickle, gzip\n",
    "from tqdm import tqdm,tqdm_notebook\n",
    "import torch\n",
    "import torchvision\n",
    "from torch import nn\n",
    "from torch.autograd import Variable\n",
    "import torch.optim as optim\n",
    "import torch.nn.functional as F\n",
    "from torchvision import datasets, transforms\n",
    "from torch.utils.data import Dataset, DataLoader\n",
    "from torch.utils.data.sampler import SubsetRandomSampler"
   ]
  },
  {
   "cell_type": "code",
   "execution_count": 5,
   "metadata": {
    "id": "KRVeJN-Ys517"
   },
   "outputs": [],
   "source": [
    "batch_size = 128\n",
    "seed_num = 1001\n",
    "\n",
    "# For reproducibility when you run the file with .py\n",
    "torch.cuda.is_available()\n",
    "torch.manual_seed(seed_num)\n",
    "torch.cuda.manual_seed(seed_num)\n",
    "np.random.seed(seed_num)\n",
    "random.seed(seed_num)\n",
    "torch.backends.cudnn.benchmark = True\n",
    "\n",
    "torch.backends.cudnn.deterministic =True"
   ]
  },
  {
   "cell_type": "code",
   "execution_count": 6,
   "metadata": {
    "colab": {
     "base_uri": "https://localhost:8080/"
    },
    "id": "OU064Mmps517",
    "outputId": "b3ece4d4-4848-4dcb-8598-aae74b2f4eb2"
   },
   "outputs": [
    {
     "name": "stdout",
     "output_type": "stream",
     "text": [
      "Files already downloaded and verified\n",
      "Files already downloaded and verified\n"
     ]
    }
   ],
   "source": [
    "# Normalization\n",
    "train_transform = transforms.Compose([transforms.ToTensor(),transforms.Normalize((0.4914, 0.4822, 0.4465), (0.2023, 0.1994, 0.2010))]) \n",
    "test_transform = transforms.Compose([transforms.ToTensor(),transforms.Normalize((0.4914, 0.4822, 0.4465), (0.2023, 0.1994, 0.2010))])\n",
    "\n",
    "# Splitting the training and test datasets\n",
    "train_data = datasets.CIFAR10(os.getcwd(), train=True,\n",
    "                              download=True, transform=train_transform)\n",
    "test_data = datasets.CIFAR10(os.getcwd(), train=False,\n",
    "                             download=True, transform=test_transform)"
   ]
  },
  {
   "cell_type": "code",
   "execution_count": 7,
   "metadata": {
    "id": "u2Hj49-n_Ks9"
   },
   "outputs": [],
   "source": [
    "# Split the training set indices into training and validation set indices using 80:20 ratio\n",
    "np.random.seed(seed_num)\n",
    "len_trainset = len(train_data)\n",
    "index_list = list(range(len_trainset))\n",
    "np.random.shuffle(index_list)\n",
    "split_index = 40000\n",
    "train_indices, valid_indices =  index_list[:split_index], index_list[split_index:]\n",
    "\n",
    "# Creating Samplers for training and validation set using the indices\n",
    "np.random.seed(seed_num)\n",
    "train_sampler = SubsetRandomSampler(train_indices)\n",
    "valid_sampler = SubsetRandomSampler(valid_indices)\n",
    "\n",
    "torch.manual_seed(seed_num)\n",
    "\n",
    "train_iterator = DataLoader(train_data, batch_size=batch_size, sampler=train_sampler)\n",
    "val_iterator = DataLoader(train_data, batch_size=batch_size, sampler=valid_sampler)\n",
    "test_iterator = DataLoader(test_data, batch_size=batch_size, shuffle=True)"
   ]
  },
  {
   "cell_type": "code",
   "execution_count": 8,
   "metadata": {
    "id": "ZefivYB7-SV7"
   },
   "outputs": [],
   "source": [
    "# AlexNet Model\n",
    "\n",
    "class AlexNet(nn.Module):\n",
    "    def __init__(self, output_dim):\n",
    "        super().__init__()\n",
    "        \n",
    "        self.features = nn.Sequential(\n",
    "            nn.Conv2d(3, 32, 3, 1),     # in_channels, out_channels, kernel_size, stride, padding\n",
    "            nn.BatchNorm2d(32),\n",
    "            nn.ReLU(inplace = True),\n",
    "            nn.Conv2d(32, 64, 3, padding = 1),\n",
    "            nn.MaxPool2d(kernel_size=2, stride=2),\n",
    "            nn.ReLU(inplace = True),\n",
    "\n",
    "            nn.Conv2d(64, 128, 3, padding = 1),\n",
    "            nn.BatchNorm2d(128),\n",
    "            nn.ReLU(inplace = True),\n",
    "            nn.Conv2d(128, 256, 3, padding = 1),\n",
    "            nn.ReLU(inplace = True),\n",
    "            nn.Conv2d(256, 256, 3, padding = 1),\n",
    "            nn.ReLU(inplace = True),\n",
    "            nn.MaxPool2d(kernel_size=2, stride=2),\n",
    "            \n",
    "        )\n",
    "        \n",
    "        self.classifier = nn.Sequential(\n",
    "            nn.Dropout(0.1),\n",
    "            nn.Linear(256 * 7 * 7, 256),\n",
    "            nn.ReLU(inplace = True),\n",
    "            nn.Linear(256,256),\n",
    "            nn.ReLU(inplace = True),\n",
    "            nn.Linear(256, output_dim),\n",
    "        )\n",
    "\n",
    "\n",
    "    def forward(self, x):\n",
    "        x = self.features(x)\n",
    "        h = x.view(x.size(0), -1)\n",
    "        x = self.classifier(h)\n",
    "        \n",
    "        return x"
   ]
  },
  {
   "cell_type": "code",
   "execution_count": 9,
   "metadata": {
    "colab": {
     "base_uri": "https://localhost:8080/"
    },
    "id": "hXXfGnBe-SWA",
    "outputId": "37b6c61b-3001-4ba4-966d-9b2f779ae02a"
   },
   "outputs": [
    {
     "name": "stdout",
     "output_type": "stream",
     "text": [
      "Model:\n",
      " AlexNet(\n",
      "  (features): Sequential(\n",
      "    (0): Conv2d(3, 32, kernel_size=(3, 3), stride=(1, 1))\n",
      "    (1): BatchNorm2d(32, eps=1e-05, momentum=0.1, affine=True, track_running_stats=True)\n",
      "    (2): ReLU(inplace=True)\n",
      "    (3): Conv2d(32, 64, kernel_size=(3, 3), stride=(1, 1), padding=(1, 1))\n",
      "    (4): MaxPool2d(kernel_size=2, stride=2, padding=0, dilation=1, ceil_mode=False)\n",
      "    (5): ReLU(inplace=True)\n",
      "    (6): Conv2d(64, 128, kernel_size=(3, 3), stride=(1, 1), padding=(1, 1))\n",
      "    (7): BatchNorm2d(128, eps=1e-05, momentum=0.1, affine=True, track_running_stats=True)\n",
      "    (8): ReLU(inplace=True)\n",
      "    (9): Conv2d(128, 256, kernel_size=(3, 3), stride=(1, 1), padding=(1, 1))\n",
      "    (10): ReLU(inplace=True)\n",
      "    (11): Conv2d(256, 256, kernel_size=(3, 3), stride=(1, 1), padding=(1, 1))\n",
      "    (12): ReLU(inplace=True)\n",
      "    (13): MaxPool2d(kernel_size=2, stride=2, padding=0, dilation=1, ceil_mode=False)\n",
      "  )\n",
      "  (classifier): Sequential(\n",
      "    (0): Dropout(p=0.1, inplace=False)\n",
      "    (1): Linear(in_features=12544, out_features=256, bias=True)\n",
      "    (2): ReLU(inplace=True)\n",
      "    (3): Linear(in_features=256, out_features=256, bias=True)\n",
      "    (4): ReLU(inplace=True)\n",
      "    (5): Linear(in_features=256, out_features=10, bias=True)\n",
      "  )\n",
      ")\n"
     ]
    }
   ],
   "source": [
    "torch.manual_seed(seed_num)\n",
    "unit=128\n",
    "\n",
    "# Summary\n",
    "model = AlexNet(10)\n",
    "print(\"Model:\\n\",model)"
   ]
  },
  {
   "cell_type": "code",
   "execution_count": 10,
   "metadata": {
    "colab": {
     "base_uri": "https://localhost:8080/"
    },
    "id": "EDONLqRh-SWE",
    "outputId": "0d572dc2-cd40-4b94-e09a-1a98a383c96d"
   },
   "outputs": [
    {
     "name": "stdout",
     "output_type": "stream",
     "text": [
      "['features.0.weight', 'features.0.bias', 'features.1.weight', 'features.1.bias', 'features.3.weight', 'features.3.bias', 'features.6.weight', 'features.6.bias', 'features.7.weight', 'features.7.bias', 'features.9.weight', 'features.9.bias', 'features.11.weight', 'features.11.bias', 'classifier.1.weight', 'classifier.1.bias', 'classifier.3.weight', 'classifier.3.bias', 'classifier.5.weight', 'classifier.5.bias']\n"
     ]
    }
   ],
   "source": [
    "# Layer names\n",
    "layer_name = [n for n, p in model.named_parameters()]\n",
    "print(layer_name)"
   ]
  },
  {
   "cell_type": "code",
   "execution_count": 11,
   "metadata": {
    "colab": {
     "base_uri": "https://localhost:8080/"
    },
    "id": "7XzsdBoU_nCo",
    "outputId": "b81730b5-78a1-426c-ba32-9d35d8dba886"
   },
   "outputs": [
    {
     "name": "stdout",
     "output_type": "stream",
     "text": [
      "Loading weights done !\n",
      "features.0.weight tensor(528, device='cuda:0')\n",
      "features.0.bias tensor(29, device='cuda:0')\n",
      "features.1.weight tensor(32, device='cuda:0')\n",
      "features.1.bias tensor(13, device='cuda:0')\n",
      "features.3.weight tensor(683, device='cuda:0')\n",
      "features.3.bias tensor(37, device='cuda:0')\n",
      "features.6.weight tensor(467, device='cuda:0')\n",
      "features.6.bias tensor(115, device='cuda:0')\n",
      "features.7.weight tensor(64, device='cuda:0')\n",
      "features.7.bias tensor(48, device='cuda:0')\n",
      "features.9.weight tensor(1001, device='cuda:0')\n",
      "features.9.bias tensor(52, device='cuda:0')\n",
      "features.11.weight tensor(1510, device='cuda:0')\n",
      "features.11.bias tensor(143, device='cuda:0')\n",
      "classifier.1.weight tensor(8254, device='cuda:0')\n",
      "classifier.1.bias tensor(96, device='cuda:0')\n",
      "classifier.3.weight tensor(839, device='cuda:0')\n",
      "classifier.3.bias tensor(142, device='cuda:0')\n",
      "classifier.5.weight tensor(948, device='cuda:0')\n",
      "classifier.5.bias tensor(8, device='cuda:0')\n",
      "Total Parameters: tensor(15009, device='cuda:0') \n",
      "\n"
     ]
    }
   ],
   "source": [
    "# Loading the weights of ternary model \n",
    "model = torch.load(\"AlexNet_cifar10_Quant.pt\")\n",
    "model = model.cuda()\n",
    "print(\"Loading weights done !\")\n",
    "\n",
    "# Total number of ternary weights (+w, -w)\n",
    "totalParams = 0\n",
    "for i in layer_name:\n",
    "  print(i,(model.state_dict()[i] !=0).sum())\n",
    "  totalParams +=  (model.state_dict()[i] !=0).sum()\n",
    "    \n",
    "print(\"Total Parameters:\",totalParams, '\\n')"
   ]
  },
  {
   "cell_type": "code",
   "execution_count": 12,
   "metadata": {
    "colab": {
     "base_uri": "https://localhost:8080/"
    },
    "id": "1rWhB6O2-SWF",
    "outputId": "c0477772-5150-4061-ac88-4fccdd40c837"
   },
   "outputs": [
    {
     "name": "stdout",
     "output_type": "stream",
     "text": [
      "Number Of Images Tested = 10000\n",
      "\n",
      "Model Test Accuracy = 0.5374\n"
     ]
    }
   ],
   "source": [
    "# Model's performance on test set\n",
    "\n",
    "correct_count, all_count = 0, 0\n",
    "model.eval()\n",
    "for images,labels in test_iterator:\n",
    "      for image,label in zip(images,labels):\n",
    "\n",
    "        if torch.cuda.is_available():\n",
    "            img = image.cuda()\n",
    "            lab = label.cuda()\n",
    "            img = img[None,].type('torch.cuda.FloatTensor')\n",
    "\n",
    "        with torch.no_grad():\n",
    "            output_ = model(img) \n",
    "\n",
    "        pred_label = output_.argmax()\n",
    "\n",
    "        if(pred_label.item()==lab.item()):\n",
    "          correct_count += 1\n",
    "        all_count += 1\n",
    "\n",
    "print(\"Number Of Images Tested =\", all_count)\n",
    "print(\"\\nModel Test Accuracy =\", (correct_count/(all_count)))\n"
   ]
  },
  {
   "cell_type": "code",
   "execution_count": 13,
   "metadata": {
    "id": "iBPItSwJ-SWK"
   },
   "outputs": [],
   "source": [
    "# Duplicate architecture of AlexNet Model\n",
    "\n",
    "class AlexNet1(nn.Module):\n",
    "    def __init__(self, output_dim, dn_info, dn_info1):\n",
    "        super().__init__()\n",
    "        \n",
    "        self.dn_info = dn_info       # Dead Neuron info\n",
    "        self.dn_info1 = dn_info1       # Dead Neuron info\n",
    "        \n",
    "        self.features = nn.Sequential(\n",
    "            nn.Conv2d(3, 32, 3, 1), #in_channels, out_channels, kernel_size, stride, padding\n",
    "            nn.BatchNorm2d(32),\n",
    "            nn.ReLU(inplace = True),\n",
    "            nn.Conv2d(32, 64, 3, padding = 1),\n",
    "            nn.MaxPool2d(kernel_size=2, stride=2),\n",
    "            nn.ReLU(inplace = True),\n",
    "            nn.Conv2d(64, 128, 3, padding = 1),\n",
    "            nn.BatchNorm2d(128),\n",
    "            nn.ReLU(inplace = True),\n",
    "            nn.Conv2d(128, 256, 3, padding = 1),\n",
    "            nn.ReLU(inplace = True),\n",
    "            nn.Conv2d(256, 256, 3, padding = 1),\n",
    "            nn.ReLU(inplace = True),\n",
    "            nn.MaxPool2d(kernel_size=2, stride=2),)\n",
    "        \n",
    "        \n",
    "        self.relu = nn.ReLU(inplace = True)\n",
    "        \n",
    "        self.dp = nn.Dropout(0.1)\n",
    "        \n",
    "        self.fc1 = nn.Linear(256 * 7 * 7, 256, bias= True)\n",
    "        \n",
    "        # Fully connected 2\n",
    "        self.fc3 = nn.Linear(256, 256,bias= True) \n",
    "\n",
    "        # Fully connected 3\n",
    "        self.fc5 = nn.Linear(256,output_dim, bias= True) \n",
    "        \n",
    "\n",
    "    def forward(self, x):\n",
    "        x = self.features(x)\n",
    "        h = x.view(x.size(0), -1)\n",
    "        h = self.dp(h)\n",
    "        x = self.fc1(h)\n",
    "        \n",
    "        x = self.relu(x)\n",
    "        \n",
    "        ###################################\n",
    "        \n",
    "        # Storing dead neurons indices\n",
    "        idx = torch.where(x.cpu() == 0.)[1]\n",
    "        \n",
    "        for i in idx:\n",
    "            self.dn_info[str(i.item())] += 1\n",
    "            \n",
    "        #####################################\n",
    "        \n",
    "        x = self.fc3(x)\n",
    "        x = self.relu(x)\n",
    "        \n",
    "        ####################################\n",
    "        # Storing dead neurons indices\n",
    "        idx1 = torch.where(x.cpu() == 0.)[1]\n",
    "        \n",
    "        for j in idx1:\n",
    "            self.dn_info1[str(j.item())] += 1\n",
    "            \n",
    "        #####################################\n",
    "        \n",
    "        x =  self.fc5(x)\n",
    "        \n",
    "        return x\n"
   ]
  },
  {
   "cell_type": "code",
   "execution_count": 14,
   "metadata": {
    "colab": {
     "base_uri": "https://localhost:8080/"
    },
    "id": "kln07LPsEfHJ",
    "outputId": "205e1ca5-b193-4c0a-90e0-3ea8a0bbf975"
   },
   "outputs": [
    {
     "name": "stdout",
     "output_type": "stream",
     "text": [
      "['features.0.weight', 'features.0.bias', 'features.1.weight', 'features.1.bias', 'features.1.running_mean', 'features.1.running_var', 'features.1.num_batches_tracked', 'features.3.weight', 'features.3.bias', 'features.6.weight', 'features.6.bias', 'features.7.weight', 'features.7.bias', 'features.7.running_mean', 'features.7.running_var', 'features.7.num_batches_tracked', 'features.9.weight', 'features.9.bias', 'features.11.weight', 'features.11.bias', 'fc1.weight', 'fc1.bias', 'fc3.weight', 'fc3.bias', 'fc5.weight', 'fc5.bias']\n"
     ]
    }
   ],
   "source": [
    "keys = list(AlexNet1(10, {}, {}).state_dict().keys())\n",
    "print(keys)"
   ]
  },
  {
   "cell_type": "code",
   "execution_count": 15,
   "metadata": {
    "id": "F1yJLAePErZ6"
   },
   "outputs": [],
   "source": [
    "from collections import OrderedDict\n",
    "\n",
    "weights_q = OrderedDict()\n",
    "\n",
    "for n in model.state_dict().keys():\n",
    "    if n in keys:\n",
    "        weights_q[n] = model.state_dict()[n].clone()\n",
    "        weights_q[n].requires_grad=False\n",
    "    \n",
    "    elif n.startswith(\"classifier\"):\n",
    "        weights_q['fc' + n[11:]] = model.state_dict()[n].clone()\n",
    "        weights_q['fc' + n[11:]].requires_grad=False\n",
    "\n",
    "state_dict = weights_q"
   ]
  },
  {
   "cell_type": "code",
   "execution_count": 16,
   "metadata": {
    "colab": {
     "base_uri": "https://localhost:8080/"
    },
    "id": "Ck3A_UAXFMvA",
    "outputId": "f72ee20f-c706-41c9-ed02-0498157c8eec"
   },
   "outputs": [
    {
     "name": "stdout",
     "output_type": "stream",
     "text": [
      "odict_keys(['features.0.bias', 'features.0.weight', 'features.1.bias', 'features.1.weight', 'features.1.running_mean', 'features.1.running_var', 'features.1.num_batches_tracked', 'features.3.bias', 'features.3.weight', 'features.6.bias', 'features.6.weight', 'features.7.bias', 'features.7.weight', 'features.7.running_mean', 'features.7.running_var', 'features.7.num_batches_tracked', 'features.9.bias', 'features.9.weight', 'features.11.bias', 'features.11.weight', 'fc1.bias', 'fc1.weight', 'fc3.bias', 'fc3.weight', 'fc5.bias', 'fc5.weight'])\n"
     ]
    }
   ],
   "source": [
    "print(state_dict.keys())"
   ]
  },
  {
   "cell_type": "code",
   "execution_count": 19,
   "metadata": {
    "id": "Dm34tLz5A646"
   },
   "outputs": [],
   "source": [
    "def getDeadN_info(dn_info, dn_info1, unit, state_dict, ds, nameOftheSet):\n",
    "\n",
    "  for i in range(unit):\n",
    "      dn_info[str(i)] = 0\n",
    "      dn_info1[str(i)] = 0\n",
    "\n",
    "      \n",
    "  model1 = AlexNet1(10, dn_info, dn_info1)\n",
    "  model1 = model1.cuda()\n",
    "\n",
    "  model1.load_state_dict(state_dict)\n",
    "\n",
    "  correct_count, all_count = 0, 0\n",
    "  model1.eval()\n",
    "\n",
    "  for images,labels in ds:\n",
    "        for image,label in zip(images,labels):\n",
    "\n",
    "          if torch.cuda.is_available():\n",
    "              img = image.cuda()\n",
    "              lab = label.cuda()\n",
    "              img = img[None,].type('torch.cuda.FloatTensor')\n",
    "\n",
    "          with torch.no_grad():\n",
    "              output_ = model1(img) \n",
    "\n",
    "          pred_label = output_.argmax()\n",
    "\n",
    "          if(pred_label.item()==lab.item()):\n",
    "            correct_count += 1\n",
    "          all_count += 1\n",
    "\n",
    "  print(\"Number Of Images =\", all_count)\n",
    "  print(f\"Model {nameOftheSet} Accuracy =\", (correct_count/(all_count)))"
   ]
  },
  {
   "cell_type": "code",
   "execution_count": 20,
   "metadata": {
    "colab": {
     "base_uri": "https://localhost:8080/"
    },
    "id": "U6xfQZTf-SWN",
    "outputId": "86985260-2115-47ae-81dc-d0c2b8bf898c"
   },
   "outputs": [
    {
     "name": "stdout",
     "output_type": "stream",
     "text": [
      "Number Of Images = 40000\n",
      "Model Training Accuracy = 0.551775\n",
      "Number Of Images = 10000\n",
      "Model Validation Accuracy = 0.5457\n",
      "Number Of Images = 10000\n",
      "Model Test Accuracy = 0.5374\n"
     ]
    }
   ],
   "source": [
    "dn_info_train = {}\n",
    "dn_info_val = {}\n",
    "dn_info_test = {}\n",
    "\n",
    "dn_info_train1 = {}\n",
    "dn_info_val1 = {}\n",
    "dn_info_test1 = {}\n",
    "\n",
    "getDeadN_info(dn_info= dn_info_train, dn_info1= dn_info_train1, unit = 256, state_dict = state_dict, ds= train_iterator, nameOftheSet = \"Training\")\n",
    "getDeadN_info(dn_info= dn_info_val, dn_info1= dn_info_val1, unit = 256, state_dict = state_dict, ds= val_iterator, nameOftheSet = \"Validation\")\n",
    "getDeadN_info(dn_info= dn_info_test, dn_info1= dn_info_test1, unit = 256, state_dict = state_dict, ds= test_iterator, nameOftheSet = \"Test\")"
   ]
  },
  {
   "cell_type": "code",
   "execution_count": 21,
   "metadata": {
    "colab": {
     "base_uri": "https://localhost:8080/"
    },
    "id": "Cw3CPbID7U2O",
    "outputId": "ae746c4d-f8af-49e8-e13a-355d1a23a387"
   },
   "outputs": [
    {
     "data": {
      "text/plain": [
       "(40000, 10000, 10000, 40000, 10000, 10000)"
      ]
     },
     "execution_count": 21,
     "metadata": {},
     "output_type": "execute_result"
    }
   ],
   "source": [
    "max_dn_val = max(dn_info_val.values())\n",
    "max_dn_test = max(dn_info_test.values())\n",
    "max_dn_train = max(dn_info_train.values())\n",
    "\n",
    "max_dn_val1 = max(dn_info_val1.values())\n",
    "max_dn_test1 = max(dn_info_test1.values())\n",
    "max_dn_train1 = max(dn_info_train1.values())\n",
    "\n",
    "max_dn_train, max_dn_val, max_dn_test, max_dn_train1, max_dn_val1, max_dn_test1"
   ]
  },
  {
   "cell_type": "code",
   "execution_count": 22,
   "metadata": {
    "id": "8L6YTZxX-SWu"
   },
   "outputs": [],
   "source": [
    "dead_n_idx = [] \n",
    "\n",
    "for i, j in dn_info_test.items():\n",
    "  if j == max_dn_test:\n",
    "    dead_n_idx.append(i)\n",
    "\n",
    "dead_n_idx1 = [] \n",
    "\n",
    "for i, j in dn_info_test1.items():\n",
    "  if j == max_dn_test1:\n",
    "    dead_n_idx1.append(i)"
   ]
  },
  {
   "cell_type": "code",
   "execution_count": 23,
   "metadata": {
    "colab": {
     "base_uri": "https://localhost:8080/"
    },
    "id": "-K_DTcbG-SWu",
    "outputId": "ff6e79d2-4277-4c83-f6d5-5c0e520533b9"
   },
   "outputs": [
    {
     "name": "stdout",
     "output_type": "stream",
     "text": [
      "Penultimate Layer : 163\n",
      "Output Layer : 89\n"
     ]
    }
   ],
   "source": [
    "print(\"Penultimate Layer :\",len(dead_n_idx)) # Number of neurons that are dead\n",
    "print(\"Output Layer :\",len(dead_n_idx1)) # Number of neurons that are dead"
   ]
  },
  {
   "cell_type": "code",
   "execution_count": 24,
   "metadata": {
    "colab": {
     "base_uri": "https://localhost:8080/"
    },
    "id": "xAK4Mddws52K",
    "outputId": "0eabfbca-ce7a-4271-e423-62fcbe4d0b64"
   },
   "outputs": [
    {
     "name": "stdout",
     "output_type": "stream",
     "text": [
      "['1', '3', '4', '5', '7', '8', '9', '13', '15', '16', '17', '18', '20', '21', '22', '23', '24', '26', '27', '29', '30', '32', '33', '34', '35', '36', '40', '42', '44', '45', '46', '47', '50', '51', '54', '55', '57', '58', '59', '60', '61', '62', '63', '64', '67', '68', '69', '70', '73', '75', '76', '77', '78', '81', '85', '86', '88', '89', '90', '91', '94', '95', '96', '97', '98', '102', '104', '106', '107', '108', '109', '110', '112', '114', '116', '117', '118', '121', '122', '123', '124', '125', '126', '128', '131', '132', '134', '135', '136', '137', '139', '140', '142', '145', '146', '147', '149', '151', '152', '153', '154', '157', '160', '161', '162', '163', '164', '165', '166', '168', '169', '172', '178', '179', '180', '183', '185', '186', '188', '189', '191', '194', '195', '198', '199', '200', '203', '204', '206', '207', '208', '209', '211', '213', '214', '215', '216', '217', '218', '219', '220', '221', '223', '225', '227', '228', '229', '230', '233', '234', '235', '239', '240', '241', '244', '246', '247', '248', '249', '250', '251', '252', '253']\n"
     ]
    }
   ],
   "source": [
    "print(dead_n_idx) # Indices of neuron that are dead"
   ]
  },
  {
   "cell_type": "code",
   "execution_count": 25,
   "metadata": {
    "colab": {
     "base_uri": "https://localhost:8080/"
    },
    "id": "i_NqP9mgGqBz",
    "outputId": "840b283b-a764-4107-a283-0a1b7c68135e"
   },
   "outputs": [
    {
     "name": "stdout",
     "output_type": "stream",
     "text": [
      "['9', '11', '12', '14', '15', '16', '18', '21', '24', '25', '26', '27', '31', '34', '35', '36', '38', '40', '45', '50', '52', '54', '57', '59', '61', '65', '69', '72', '74', '75', '78', '79', '80', '84', '87', '90', '91', '92', '93', '94', '97', '98', '99', '107', '109', '110', '113', '115', '117', '121', '122', '127', '132', '138', '139', '141', '144', '147', '154', '158', '163', '170', '174', '175', '177', '180', '181', '183', '187', '188', '189', '191', '193', '202', '209', '212', '214', '216', '225', '226', '230', '235', '238', '242', '243', '245', '247', '250', '253']\n"
     ]
    }
   ],
   "source": [
    "print(dead_n_idx1) # Indices of neuron that are dead"
   ]
  },
  {
   "cell_type": "code",
   "execution_count": 26,
   "metadata": {
    "id": "PmmQ5GdzGsL4"
   },
   "outputs": [],
   "source": [
    "state_dict1 = state_dict"
   ]
  },
  {
   "cell_type": "code",
   "execution_count": 27,
   "metadata": {
    "colab": {
     "base_uri": "https://localhost:8080/"
    },
    "id": "xph88z2uGvUY",
    "outputId": "8bc63a96-207b-4c85-a5fb-ca8e2bc65e67"
   },
   "outputs": [
    {
     "name": "stdout",
     "output_type": "stream",
     "text": [
      "features.0.weight hidden layer dimension torch.Size([32, 3, 3, 3])\n",
      "Unique values of weight in features.0.weight the hidden layer :  tensor([-1.,  0.,  1.], device='cuda:0')\n",
      "\n",
      "features.0.bias hidden layer dimension torch.Size([32])\n",
      "Unique values of weight in features.0.bias the hidden layer :  tensor([-1.,  0.,  1.], device='cuda:0')\n",
      "\n",
      "features.1.weight hidden layer dimension torch.Size([32])\n",
      "Unique values of weight in features.1.weight the hidden layer :  tensor([1.], device='cuda:0')\n",
      "\n",
      "features.1.bias hidden layer dimension torch.Size([32])\n",
      "Unique values of weight in features.1.bias the hidden layer :  tensor([-1.,  0.,  1.], device='cuda:0')\n",
      "\n",
      "features.3.weight hidden layer dimension torch.Size([64, 32, 3, 3])\n",
      "Unique values of weight in features.3.weight the hidden layer :  tensor([-1.,  0.,  1.], device='cuda:0')\n",
      "\n",
      "features.3.bias hidden layer dimension torch.Size([64])\n",
      "Unique values of weight in features.3.bias the hidden layer :  tensor([-1.,  0.,  1.], device='cuda:0')\n",
      "\n",
      "features.6.weight hidden layer dimension torch.Size([128, 64, 3, 3])\n",
      "Unique values of weight in features.6.weight the hidden layer :  tensor([-1.,  0.,  1.], device='cuda:0')\n",
      "\n",
      "features.6.bias hidden layer dimension torch.Size([128])\n",
      "Unique values of weight in features.6.bias the hidden layer :  tensor([-1.,  0.,  1.], device='cuda:0')\n",
      "\n",
      "features.7.weight hidden layer dimension torch.Size([128])\n",
      "Unique values of weight in features.7.weight the hidden layer :  tensor([0., 1.], device='cuda:0')\n",
      "\n",
      "features.7.bias hidden layer dimension torch.Size([128])\n",
      "Unique values of weight in features.7.bias the hidden layer :  tensor([-1.,  0.,  1.], device='cuda:0')\n",
      "\n",
      "features.9.weight hidden layer dimension torch.Size([256, 128, 3, 3])\n",
      "Unique values of weight in features.9.weight the hidden layer :  tensor([-1.,  0.,  1.], device='cuda:0')\n",
      "\n",
      "features.9.bias hidden layer dimension torch.Size([256])\n",
      "Unique values of weight in features.9.bias the hidden layer :  tensor([-1.,  0.,  1.], device='cuda:0')\n",
      "\n",
      "features.11.weight hidden layer dimension torch.Size([256, 256, 3, 3])\n",
      "Unique values of weight in features.11.weight the hidden layer :  tensor([-1.,  0.,  1.], device='cuda:0')\n",
      "\n",
      "features.11.bias hidden layer dimension torch.Size([256])\n",
      "Unique values of weight in features.11.bias the hidden layer :  tensor([-1.,  0.,  1.], device='cuda:0')\n",
      "\n",
      "fc1.weight hidden layer dimension torch.Size([256, 12544])\n",
      "Unique values of weight in fc1.weight the hidden layer :  tensor([-1.,  0.,  1.], device='cuda:0')\n",
      "\n",
      "fc1.bias hidden layer dimension torch.Size([256])\n",
      "Unique values of weight in fc1.bias the hidden layer :  tensor([-1.,  0.,  1.], device='cuda:0')\n",
      "\n",
      "fc3.weight hidden layer dimension torch.Size([256, 256])\n",
      "Unique values of weight in fc3.weight the hidden layer :  tensor([-1.,  0.,  1.], device='cuda:0')\n",
      "\n",
      "fc3.bias hidden layer dimension torch.Size([256])\n",
      "Unique values of weight in fc3.bias the hidden layer :  tensor([-1.,  0.,  1.], device='cuda:0')\n",
      "\n",
      "fc5.weight hidden layer dimension torch.Size([10, 256])\n",
      "Unique values of weight in fc5.weight the hidden layer :  tensor([-1.,  0.,  1.], device='cuda:0')\n",
      "\n",
      "fc5.bias hidden layer dimension torch.Size([10])\n",
      "Unique values of weight in fc5.bias the hidden layer :  tensor([-1.,  0.,  1.], device='cuda:0')\n",
      "\n"
     ]
    }
   ],
   "source": [
    "# For each layer, model's ternary weights\n",
    "\n",
    "layer_distinct_weights = {}\n",
    "\n",
    "for i in keys:\n",
    "  if (\"mean\" in i) | (\"var\" in i) | ('batches' in i):\n",
    "    continue\n",
    "  else:\n",
    "    imd = torch.unique(state_dict[i])\n",
    "    print(i+ ' hidden layer dimension', state_dict[i].shape)\n",
    "    print(\"Unique values of weight in \"+ i+ \" the hidden layer : \", imd)\n",
    "    layer_distinct_weights[i] = imd.cpu().numpy().tolist()\n",
    "    print()"
   ]
  },
  {
   "cell_type": "code",
   "execution_count": 28,
   "metadata": {
    "colab": {
     "base_uri": "https://localhost:8080/"
    },
    "id": "x7M72cWcUMtr",
    "outputId": "9955ce96-d2c2-442d-f81e-eb2e4fed5dd3"
   },
   "outputs": [
    {
     "name": "stdout",
     "output_type": "stream",
     "text": [
      "features.0.weight torch.Size([32, 3, 3, 3])\n",
      "features.0.bias torch.Size([32])\n",
      "features.1.weight torch.Size([32])\n",
      "features.1.bias torch.Size([32])\n",
      "features.1.running_mean torch.Size([32])\n",
      "features.1.running_var torch.Size([32])\n",
      "features.1.num_batches_tracked torch.Size([])\n",
      "features.3.weight torch.Size([64, 32, 3, 3])\n",
      "features.3.bias torch.Size([64])\n",
      "features.6.weight torch.Size([128, 64, 3, 3])\n",
      "features.6.bias torch.Size([128])\n",
      "features.7.weight torch.Size([128])\n",
      "features.7.bias torch.Size([128])\n",
      "features.7.running_mean torch.Size([128])\n",
      "features.7.running_var torch.Size([128])\n",
      "features.7.num_batches_tracked torch.Size([])\n",
      "features.9.weight torch.Size([256, 128, 3, 3])\n",
      "features.9.bias torch.Size([256])\n",
      "features.11.weight torch.Size([256, 256, 3, 3])\n",
      "features.11.bias torch.Size([256])\n",
      "fc1.weight torch.Size([256, 12544])\n",
      "fc1.bias torch.Size([256])\n",
      "fc3.weight torch.Size([256, 256])\n",
      "fc3.bias torch.Size([256])\n",
      "fc5.weight torch.Size([10, 256])\n",
      "fc5.bias torch.Size([10])\n"
     ]
    }
   ],
   "source": [
    "for i in keys:\n",
    "  print(i, state_dict[i].shape)"
   ]
  },
  {
   "cell_type": "code",
   "execution_count": 29,
   "metadata": {
    "colab": {
     "base_uri": "https://localhost:8080/"
    },
    "id": "PpWoItoXGzW_",
    "outputId": "355792a1-0aee-4439-b56b-318007bf308e"
   },
   "outputs": [
    {
     "name": "stdout",
     "output_type": "stream",
     "text": [
      "fc3.weight\n",
      "-1.0 0.0 1.0\n",
      "fc5.weight\n",
      "-1.0 0.0 1.0\n",
      "Total dead transitions for the layer : 36\n"
     ]
    }
   ],
   "source": [
    "total_trans = 0\n",
    "layers_name = ['fc3.weight', 'fc5.weight']\n",
    "\n",
    "n_idx = [dead_n_idx, dead_n_idx1]\n",
    "\n",
    "for ix,l in enumerate(layers_name):\n",
    "  print(l)\n",
    "  z = state_dict1[l]\n",
    "\n",
    "  if len(layer_distinct_weights[l]) > 2 :\n",
    "    w_neg, w_0, w_pos =  layer_distinct_weights[l]\n",
    "    print(w_neg, w_0, w_pos)\n",
    "  else:\n",
    "    w_neg, w_pos = layer_distinct_weights[l]\n",
    "    print(w_neg, w_pos)\n",
    "\n",
    "  for idx in n_idx[ix]:\n",
    "      if 'bias' in l:\n",
    "        imd = z[eval(idx)]\n",
    "      else:\n",
    "        imd = z[:,eval(idx)]\n",
    "\n",
    "      trans = torch.where(imd == w_neg)[0].nelement() + torch.where(imd == w_pos)[0].nelement()\n",
    "      total_trans += trans *2\n",
    "    \n",
    "print(\"Total dead transitions for the layer :\", total_trans)"
   ]
  },
  {
   "cell_type": "code",
   "execution_count": null,
   "metadata": {
    "id": "CmrFDwTBIa7a"
   },
   "outputs": [],
   "source": [
    "# Fault coverage that we have obtained from main file :  26400/ 29922"
   ]
  },
  {
   "cell_type": "code",
   "execution_count": 30,
   "metadata": {
    "colab": {
     "base_uri": "https://localhost:8080/"
    },
    "id": "M8IONyquIjmL",
    "outputId": "df94bb35-d863-4db5-9eef-691a47cb4d09"
   },
   "outputs": [
    {
     "data": {
      "text/plain": [
       "0.8834970924403449"
      ]
     },
     "execution_count": 30,
     "metadata": {},
     "output_type": "execute_result"
    }
   ],
   "source": [
    "# Adding more 36 transitions to the numerator will make the net fault coverage\n",
    "(26400 + 36)/29922"
   ]
  },
  {
   "cell_type": "code",
   "execution_count": null,
   "metadata": {
    "id": "0dC7_baVDt1T"
   },
   "outputs": [],
   "source": []
  },
  {
   "cell_type": "code",
   "execution_count": null,
   "metadata": {
    "id": "Rl_i6X4KMxHW"
   },
   "outputs": [],
   "source": []
  }
 ],
 "metadata": {
  "accelerator": "GPU",
  "colab": {
   "collapsed_sections": [],
   "name": "DeadNeurons.ipynb",
   "provenance": []
  },
  "kernelspec": {
   "display_name": "Python 3",
   "language": "python",
   "name": "python3"
  },
  "language_info": {
   "codemirror_mode": {
    "name": "ipython",
    "version": 3
   },
   "file_extension": ".py",
   "mimetype": "text/x-python",
   "name": "python",
   "nbconvert_exporter": "python",
   "pygments_lexer": "ipython3",
   "version": "3.7.3"
  }
 },
 "nbformat": 4,
 "nbformat_minor": 1
}
